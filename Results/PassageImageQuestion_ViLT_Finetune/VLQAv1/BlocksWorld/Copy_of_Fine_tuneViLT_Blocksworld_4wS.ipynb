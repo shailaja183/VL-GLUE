{
  "nbformat": 4,
  "nbformat_minor": 0,
  "metadata": {
    "colab": {
      "provenance": []
    },
    "kernelspec": {
      "name": "python3",
      "display_name": "Python 3"
    },
    "language_info": {
      "name": "python"
    },
    "widgets": {
      "application/vnd.jupyter.widget-state+json": {
        "b297f97aa1d94221a594a42226dae808": {
          "model_module": "@jupyter-widgets/controls",
          "model_name": "HBoxModel",
          "model_module_version": "1.5.0",
          "state": {
            "_dom_classes": [],
            "_model_module": "@jupyter-widgets/controls",
            "_model_module_version": "1.5.0",
            "_model_name": "HBoxModel",
            "_view_count": null,
            "_view_module": "@jupyter-widgets/controls",
            "_view_module_version": "1.5.0",
            "_view_name": "HBoxView",
            "box_style": "",
            "children": [
              "IPY_MODEL_240dbe3a8816493d8af2d7181a11398b",
              "IPY_MODEL_86c2d56a27d14c9b82a32b9513385b06",
              "IPY_MODEL_352f58d104f446819795cd57e5cb3457"
            ],
            "layout": "IPY_MODEL_e6769d426b004acd941964038f2cd5e1"
          }
        },
        "240dbe3a8816493d8af2d7181a11398b": {
          "model_module": "@jupyter-widgets/controls",
          "model_name": "HTMLModel",
          "model_module_version": "1.5.0",
          "state": {
            "_dom_classes": [],
            "_model_module": "@jupyter-widgets/controls",
            "_model_module_version": "1.5.0",
            "_model_name": "HTMLModel",
            "_view_count": null,
            "_view_module": "@jupyter-widgets/controls",
            "_view_module_version": "1.5.0",
            "_view_name": "HTMLView",
            "description": "",
            "description_tooltip": null,
            "layout": "IPY_MODEL_012c9bd71ca64ad0907cefe5616b1260",
            "placeholder": "​",
            "style": "IPY_MODEL_9414b64c89be4ed3b32fba45a7dd3953",
            "value": "100%"
          }
        },
        "86c2d56a27d14c9b82a32b9513385b06": {
          "model_module": "@jupyter-widgets/controls",
          "model_name": "FloatProgressModel",
          "model_module_version": "1.5.0",
          "state": {
            "_dom_classes": [],
            "_model_module": "@jupyter-widgets/controls",
            "_model_module_version": "1.5.0",
            "_model_name": "FloatProgressModel",
            "_view_count": null,
            "_view_module": "@jupyter-widgets/controls",
            "_view_module_version": "1.5.0",
            "_view_name": "ProgressView",
            "bar_style": "success",
            "description": "",
            "description_tooltip": null,
            "layout": "IPY_MODEL_91d55bb42b834facb350546f3634b839",
            "max": 50,
            "min": 0,
            "orientation": "horizontal",
            "style": "IPY_MODEL_333cd5cd059c411e931a595b84d0d62e",
            "value": 50
          }
        },
        "352f58d104f446819795cd57e5cb3457": {
          "model_module": "@jupyter-widgets/controls",
          "model_name": "HTMLModel",
          "model_module_version": "1.5.0",
          "state": {
            "_dom_classes": [],
            "_model_module": "@jupyter-widgets/controls",
            "_model_module_version": "1.5.0",
            "_model_name": "HTMLModel",
            "_view_count": null,
            "_view_module": "@jupyter-widgets/controls",
            "_view_module_version": "1.5.0",
            "_view_name": "HTMLView",
            "description": "",
            "description_tooltip": null,
            "layout": "IPY_MODEL_b149a9cb5cbd41859531bfea0da20a67",
            "placeholder": "​",
            "style": "IPY_MODEL_a33a3692d85f4089b6e973697637bb1c",
            "value": " 50/50 [01:58&lt;00:00,  2.36s/it]"
          }
        },
        "e6769d426b004acd941964038f2cd5e1": {
          "model_module": "@jupyter-widgets/base",
          "model_name": "LayoutModel",
          "model_module_version": "1.2.0",
          "state": {
            "_model_module": "@jupyter-widgets/base",
            "_model_module_version": "1.2.0",
            "_model_name": "LayoutModel",
            "_view_count": null,
            "_view_module": "@jupyter-widgets/base",
            "_view_module_version": "1.2.0",
            "_view_name": "LayoutView",
            "align_content": null,
            "align_items": null,
            "align_self": null,
            "border": null,
            "bottom": null,
            "display": null,
            "flex": null,
            "flex_flow": null,
            "grid_area": null,
            "grid_auto_columns": null,
            "grid_auto_flow": null,
            "grid_auto_rows": null,
            "grid_column": null,
            "grid_gap": null,
            "grid_row": null,
            "grid_template_areas": null,
            "grid_template_columns": null,
            "grid_template_rows": null,
            "height": null,
            "justify_content": null,
            "justify_items": null,
            "left": null,
            "margin": null,
            "max_height": null,
            "max_width": null,
            "min_height": null,
            "min_width": null,
            "object_fit": null,
            "object_position": null,
            "order": null,
            "overflow": null,
            "overflow_x": null,
            "overflow_y": null,
            "padding": null,
            "right": null,
            "top": null,
            "visibility": null,
            "width": null
          }
        },
        "012c9bd71ca64ad0907cefe5616b1260": {
          "model_module": "@jupyter-widgets/base",
          "model_name": "LayoutModel",
          "model_module_version": "1.2.0",
          "state": {
            "_model_module": "@jupyter-widgets/base",
            "_model_module_version": "1.2.0",
            "_model_name": "LayoutModel",
            "_view_count": null,
            "_view_module": "@jupyter-widgets/base",
            "_view_module_version": "1.2.0",
            "_view_name": "LayoutView",
            "align_content": null,
            "align_items": null,
            "align_self": null,
            "border": null,
            "bottom": null,
            "display": null,
            "flex": null,
            "flex_flow": null,
            "grid_area": null,
            "grid_auto_columns": null,
            "grid_auto_flow": null,
            "grid_auto_rows": null,
            "grid_column": null,
            "grid_gap": null,
            "grid_row": null,
            "grid_template_areas": null,
            "grid_template_columns": null,
            "grid_template_rows": null,
            "height": null,
            "justify_content": null,
            "justify_items": null,
            "left": null,
            "margin": null,
            "max_height": null,
            "max_width": null,
            "min_height": null,
            "min_width": null,
            "object_fit": null,
            "object_position": null,
            "order": null,
            "overflow": null,
            "overflow_x": null,
            "overflow_y": null,
            "padding": null,
            "right": null,
            "top": null,
            "visibility": null,
            "width": null
          }
        },
        "9414b64c89be4ed3b32fba45a7dd3953": {
          "model_module": "@jupyter-widgets/controls",
          "model_name": "DescriptionStyleModel",
          "model_module_version": "1.5.0",
          "state": {
            "_model_module": "@jupyter-widgets/controls",
            "_model_module_version": "1.5.0",
            "_model_name": "DescriptionStyleModel",
            "_view_count": null,
            "_view_module": "@jupyter-widgets/base",
            "_view_module_version": "1.2.0",
            "_view_name": "StyleView",
            "description_width": ""
          }
        },
        "91d55bb42b834facb350546f3634b839": {
          "model_module": "@jupyter-widgets/base",
          "model_name": "LayoutModel",
          "model_module_version": "1.2.0",
          "state": {
            "_model_module": "@jupyter-widgets/base",
            "_model_module_version": "1.2.0",
            "_model_name": "LayoutModel",
            "_view_count": null,
            "_view_module": "@jupyter-widgets/base",
            "_view_module_version": "1.2.0",
            "_view_name": "LayoutView",
            "align_content": null,
            "align_items": null,
            "align_self": null,
            "border": null,
            "bottom": null,
            "display": null,
            "flex": null,
            "flex_flow": null,
            "grid_area": null,
            "grid_auto_columns": null,
            "grid_auto_flow": null,
            "grid_auto_rows": null,
            "grid_column": null,
            "grid_gap": null,
            "grid_row": null,
            "grid_template_areas": null,
            "grid_template_columns": null,
            "grid_template_rows": null,
            "height": null,
            "justify_content": null,
            "justify_items": null,
            "left": null,
            "margin": null,
            "max_height": null,
            "max_width": null,
            "min_height": null,
            "min_width": null,
            "object_fit": null,
            "object_position": null,
            "order": null,
            "overflow": null,
            "overflow_x": null,
            "overflow_y": null,
            "padding": null,
            "right": null,
            "top": null,
            "visibility": null,
            "width": null
          }
        },
        "333cd5cd059c411e931a595b84d0d62e": {
          "model_module": "@jupyter-widgets/controls",
          "model_name": "ProgressStyleModel",
          "model_module_version": "1.5.0",
          "state": {
            "_model_module": "@jupyter-widgets/controls",
            "_model_module_version": "1.5.0",
            "_model_name": "ProgressStyleModel",
            "_view_count": null,
            "_view_module": "@jupyter-widgets/base",
            "_view_module_version": "1.2.0",
            "_view_name": "StyleView",
            "bar_color": null,
            "description_width": ""
          }
        },
        "b149a9cb5cbd41859531bfea0da20a67": {
          "model_module": "@jupyter-widgets/base",
          "model_name": "LayoutModel",
          "model_module_version": "1.2.0",
          "state": {
            "_model_module": "@jupyter-widgets/base",
            "_model_module_version": "1.2.0",
            "_model_name": "LayoutModel",
            "_view_count": null,
            "_view_module": "@jupyter-widgets/base",
            "_view_module_version": "1.2.0",
            "_view_name": "LayoutView",
            "align_content": null,
            "align_items": null,
            "align_self": null,
            "border": null,
            "bottom": null,
            "display": null,
            "flex": null,
            "flex_flow": null,
            "grid_area": null,
            "grid_auto_columns": null,
            "grid_auto_flow": null,
            "grid_auto_rows": null,
            "grid_column": null,
            "grid_gap": null,
            "grid_row": null,
            "grid_template_areas": null,
            "grid_template_columns": null,
            "grid_template_rows": null,
            "height": null,
            "justify_content": null,
            "justify_items": null,
            "left": null,
            "margin": null,
            "max_height": null,
            "max_width": null,
            "min_height": null,
            "min_width": null,
            "object_fit": null,
            "object_position": null,
            "order": null,
            "overflow": null,
            "overflow_x": null,
            "overflow_y": null,
            "padding": null,
            "right": null,
            "top": null,
            "visibility": null,
            "width": null
          }
        },
        "a33a3692d85f4089b6e973697637bb1c": {
          "model_module": "@jupyter-widgets/controls",
          "model_name": "DescriptionStyleModel",
          "model_module_version": "1.5.0",
          "state": {
            "_model_module": "@jupyter-widgets/controls",
            "_model_module_version": "1.5.0",
            "_model_name": "DescriptionStyleModel",
            "_view_count": null,
            "_view_module": "@jupyter-widgets/base",
            "_view_module_version": "1.2.0",
            "_view_name": "StyleView",
            "description_width": ""
          }
        },
        "5b840b25847c4f9cb3749dea0638226d": {
          "model_module": "@jupyter-widgets/controls",
          "model_name": "HBoxModel",
          "model_module_version": "1.5.0",
          "state": {
            "_dom_classes": [],
            "_model_module": "@jupyter-widgets/controls",
            "_model_module_version": "1.5.0",
            "_model_name": "HBoxModel",
            "_view_count": null,
            "_view_module": "@jupyter-widgets/controls",
            "_view_module_version": "1.5.0",
            "_view_name": "HBoxView",
            "box_style": "",
            "children": [
              "IPY_MODEL_75e2654053ba4d31a9beebaed092263a",
              "IPY_MODEL_b4c496992be4442cb1da418080edae79",
              "IPY_MODEL_42822ab3775242948935340a447247fd"
            ],
            "layout": "IPY_MODEL_4724708ae4a14003950c64e7235a0407"
          }
        },
        "75e2654053ba4d31a9beebaed092263a": {
          "model_module": "@jupyter-widgets/controls",
          "model_name": "HTMLModel",
          "model_module_version": "1.5.0",
          "state": {
            "_dom_classes": [],
            "_model_module": "@jupyter-widgets/controls",
            "_model_module_version": "1.5.0",
            "_model_name": "HTMLModel",
            "_view_count": null,
            "_view_module": "@jupyter-widgets/controls",
            "_view_module_version": "1.5.0",
            "_view_name": "HTMLView",
            "description": "",
            "description_tooltip": null,
            "layout": "IPY_MODEL_f1eeefc974954012bf643f67ec4cb03a",
            "placeholder": "​",
            "style": "IPY_MODEL_ad9e526714a44f01aec50169509f6daf",
            "value": "100%"
          }
        },
        "b4c496992be4442cb1da418080edae79": {
          "model_module": "@jupyter-widgets/controls",
          "model_name": "FloatProgressModel",
          "model_module_version": "1.5.0",
          "state": {
            "_dom_classes": [],
            "_model_module": "@jupyter-widgets/controls",
            "_model_module_version": "1.5.0",
            "_model_name": "FloatProgressModel",
            "_view_count": null,
            "_view_module": "@jupyter-widgets/controls",
            "_view_module_version": "1.5.0",
            "_view_name": "ProgressView",
            "bar_style": "success",
            "description": "",
            "description_tooltip": null,
            "layout": "IPY_MODEL_cbcae4cc78fa479e9a668eff1724230a",
            "max": 50,
            "min": 0,
            "orientation": "horizontal",
            "style": "IPY_MODEL_7e0763b0f5b94df291a233fe225f552b",
            "value": 50
          }
        },
        "42822ab3775242948935340a447247fd": {
          "model_module": "@jupyter-widgets/controls",
          "model_name": "HTMLModel",
          "model_module_version": "1.5.0",
          "state": {
            "_dom_classes": [],
            "_model_module": "@jupyter-widgets/controls",
            "_model_module_version": "1.5.0",
            "_model_name": "HTMLModel",
            "_view_count": null,
            "_view_module": "@jupyter-widgets/controls",
            "_view_module_version": "1.5.0",
            "_view_name": "HTMLView",
            "description": "",
            "description_tooltip": null,
            "layout": "IPY_MODEL_5bbf5b1cacf44b05bb0f675c14f055b3",
            "placeholder": "​",
            "style": "IPY_MODEL_de90daaffd5b4ea6a62c5471ac559784",
            "value": " 50/50 [01:54&lt;00:00,  2.38s/it]"
          }
        },
        "4724708ae4a14003950c64e7235a0407": {
          "model_module": "@jupyter-widgets/base",
          "model_name": "LayoutModel",
          "model_module_version": "1.2.0",
          "state": {
            "_model_module": "@jupyter-widgets/base",
            "_model_module_version": "1.2.0",
            "_model_name": "LayoutModel",
            "_view_count": null,
            "_view_module": "@jupyter-widgets/base",
            "_view_module_version": "1.2.0",
            "_view_name": "LayoutView",
            "align_content": null,
            "align_items": null,
            "align_self": null,
            "border": null,
            "bottom": null,
            "display": null,
            "flex": null,
            "flex_flow": null,
            "grid_area": null,
            "grid_auto_columns": null,
            "grid_auto_flow": null,
            "grid_auto_rows": null,
            "grid_column": null,
            "grid_gap": null,
            "grid_row": null,
            "grid_template_areas": null,
            "grid_template_columns": null,
            "grid_template_rows": null,
            "height": null,
            "justify_content": null,
            "justify_items": null,
            "left": null,
            "margin": null,
            "max_height": null,
            "max_width": null,
            "min_height": null,
            "min_width": null,
            "object_fit": null,
            "object_position": null,
            "order": null,
            "overflow": null,
            "overflow_x": null,
            "overflow_y": null,
            "padding": null,
            "right": null,
            "top": null,
            "visibility": null,
            "width": null
          }
        },
        "f1eeefc974954012bf643f67ec4cb03a": {
          "model_module": "@jupyter-widgets/base",
          "model_name": "LayoutModel",
          "model_module_version": "1.2.0",
          "state": {
            "_model_module": "@jupyter-widgets/base",
            "_model_module_version": "1.2.0",
            "_model_name": "LayoutModel",
            "_view_count": null,
            "_view_module": "@jupyter-widgets/base",
            "_view_module_version": "1.2.0",
            "_view_name": "LayoutView",
            "align_content": null,
            "align_items": null,
            "align_self": null,
            "border": null,
            "bottom": null,
            "display": null,
            "flex": null,
            "flex_flow": null,
            "grid_area": null,
            "grid_auto_columns": null,
            "grid_auto_flow": null,
            "grid_auto_rows": null,
            "grid_column": null,
            "grid_gap": null,
            "grid_row": null,
            "grid_template_areas": null,
            "grid_template_columns": null,
            "grid_template_rows": null,
            "height": null,
            "justify_content": null,
            "justify_items": null,
            "left": null,
            "margin": null,
            "max_height": null,
            "max_width": null,
            "min_height": null,
            "min_width": null,
            "object_fit": null,
            "object_position": null,
            "order": null,
            "overflow": null,
            "overflow_x": null,
            "overflow_y": null,
            "padding": null,
            "right": null,
            "top": null,
            "visibility": null,
            "width": null
          }
        },
        "ad9e526714a44f01aec50169509f6daf": {
          "model_module": "@jupyter-widgets/controls",
          "model_name": "DescriptionStyleModel",
          "model_module_version": "1.5.0",
          "state": {
            "_model_module": "@jupyter-widgets/controls",
            "_model_module_version": "1.5.0",
            "_model_name": "DescriptionStyleModel",
            "_view_count": null,
            "_view_module": "@jupyter-widgets/base",
            "_view_module_version": "1.2.0",
            "_view_name": "StyleView",
            "description_width": ""
          }
        },
        "cbcae4cc78fa479e9a668eff1724230a": {
          "model_module": "@jupyter-widgets/base",
          "model_name": "LayoutModel",
          "model_module_version": "1.2.0",
          "state": {
            "_model_module": "@jupyter-widgets/base",
            "_model_module_version": "1.2.0",
            "_model_name": "LayoutModel",
            "_view_count": null,
            "_view_module": "@jupyter-widgets/base",
            "_view_module_version": "1.2.0",
            "_view_name": "LayoutView",
            "align_content": null,
            "align_items": null,
            "align_self": null,
            "border": null,
            "bottom": null,
            "display": null,
            "flex": null,
            "flex_flow": null,
            "grid_area": null,
            "grid_auto_columns": null,
            "grid_auto_flow": null,
            "grid_auto_rows": null,
            "grid_column": null,
            "grid_gap": null,
            "grid_row": null,
            "grid_template_areas": null,
            "grid_template_columns": null,
            "grid_template_rows": null,
            "height": null,
            "justify_content": null,
            "justify_items": null,
            "left": null,
            "margin": null,
            "max_height": null,
            "max_width": null,
            "min_height": null,
            "min_width": null,
            "object_fit": null,
            "object_position": null,
            "order": null,
            "overflow": null,
            "overflow_x": null,
            "overflow_y": null,
            "padding": null,
            "right": null,
            "top": null,
            "visibility": null,
            "width": null
          }
        },
        "7e0763b0f5b94df291a233fe225f552b": {
          "model_module": "@jupyter-widgets/controls",
          "model_name": "ProgressStyleModel",
          "model_module_version": "1.5.0",
          "state": {
            "_model_module": "@jupyter-widgets/controls",
            "_model_module_version": "1.5.0",
            "_model_name": "ProgressStyleModel",
            "_view_count": null,
            "_view_module": "@jupyter-widgets/base",
            "_view_module_version": "1.2.0",
            "_view_name": "StyleView",
            "bar_color": null,
            "description_width": ""
          }
        },
        "5bbf5b1cacf44b05bb0f675c14f055b3": {
          "model_module": "@jupyter-widgets/base",
          "model_name": "LayoutModel",
          "model_module_version": "1.2.0",
          "state": {
            "_model_module": "@jupyter-widgets/base",
            "_model_module_version": "1.2.0",
            "_model_name": "LayoutModel",
            "_view_count": null,
            "_view_module": "@jupyter-widgets/base",
            "_view_module_version": "1.2.0",
            "_view_name": "LayoutView",
            "align_content": null,
            "align_items": null,
            "align_self": null,
            "border": null,
            "bottom": null,
            "display": null,
            "flex": null,
            "flex_flow": null,
            "grid_area": null,
            "grid_auto_columns": null,
            "grid_auto_flow": null,
            "grid_auto_rows": null,
            "grid_column": null,
            "grid_gap": null,
            "grid_row": null,
            "grid_template_areas": null,
            "grid_template_columns": null,
            "grid_template_rows": null,
            "height": null,
            "justify_content": null,
            "justify_items": null,
            "left": null,
            "margin": null,
            "max_height": null,
            "max_width": null,
            "min_height": null,
            "min_width": null,
            "object_fit": null,
            "object_position": null,
            "order": null,
            "overflow": null,
            "overflow_x": null,
            "overflow_y": null,
            "padding": null,
            "right": null,
            "top": null,
            "visibility": null,
            "width": null
          }
        },
        "de90daaffd5b4ea6a62c5471ac559784": {
          "model_module": "@jupyter-widgets/controls",
          "model_name": "DescriptionStyleModel",
          "model_module_version": "1.5.0",
          "state": {
            "_model_module": "@jupyter-widgets/controls",
            "_model_module_version": "1.5.0",
            "_model_name": "DescriptionStyleModel",
            "_view_count": null,
            "_view_module": "@jupyter-widgets/base",
            "_view_module_version": "1.2.0",
            "_view_name": "StyleView",
            "description_width": ""
          }
        },
        "31ab2bccd2a541cba6584782d1fd8741": {
          "model_module": "@jupyter-widgets/controls",
          "model_name": "HBoxModel",
          "model_module_version": "1.5.0",
          "state": {
            "_dom_classes": [],
            "_model_module": "@jupyter-widgets/controls",
            "_model_module_version": "1.5.0",
            "_model_name": "HBoxModel",
            "_view_count": null,
            "_view_module": "@jupyter-widgets/controls",
            "_view_module_version": "1.5.0",
            "_view_name": "HBoxView",
            "box_style": "",
            "children": [
              "IPY_MODEL_b1e009157c16448183db64f9d3d38e88",
              "IPY_MODEL_13df6c38e0ca4456adc516069e764527",
              "IPY_MODEL_78599ffa2aa048399fecf9ac60ae1c15"
            ],
            "layout": "IPY_MODEL_18cebd23323e4a0f962191988160babe"
          }
        },
        "b1e009157c16448183db64f9d3d38e88": {
          "model_module": "@jupyter-widgets/controls",
          "model_name": "HTMLModel",
          "model_module_version": "1.5.0",
          "state": {
            "_dom_classes": [],
            "_model_module": "@jupyter-widgets/controls",
            "_model_module_version": "1.5.0",
            "_model_name": "HTMLModel",
            "_view_count": null,
            "_view_module": "@jupyter-widgets/controls",
            "_view_module_version": "1.5.0",
            "_view_name": "HTMLView",
            "description": "",
            "description_tooltip": null,
            "layout": "IPY_MODEL_61d90e6d09d44617955b1fb36314e716",
            "placeholder": "​",
            "style": "IPY_MODEL_0aed6fac48394d6897fbfa83b8479c0e",
            "value": "100%"
          }
        },
        "13df6c38e0ca4456adc516069e764527": {
          "model_module": "@jupyter-widgets/controls",
          "model_name": "FloatProgressModel",
          "model_module_version": "1.5.0",
          "state": {
            "_dom_classes": [],
            "_model_module": "@jupyter-widgets/controls",
            "_model_module_version": "1.5.0",
            "_model_name": "FloatProgressModel",
            "_view_count": null,
            "_view_module": "@jupyter-widgets/controls",
            "_view_module_version": "1.5.0",
            "_view_name": "ProgressView",
            "bar_style": "success",
            "description": "",
            "description_tooltip": null,
            "layout": "IPY_MODEL_6afe7387392f40c0887973b785f4092c",
            "max": 50,
            "min": 0,
            "orientation": "horizontal",
            "style": "IPY_MODEL_60ebdeae1e7441c8a234b77f1ba74ebb",
            "value": 50
          }
        },
        "78599ffa2aa048399fecf9ac60ae1c15": {
          "model_module": "@jupyter-widgets/controls",
          "model_name": "HTMLModel",
          "model_module_version": "1.5.0",
          "state": {
            "_dom_classes": [],
            "_model_module": "@jupyter-widgets/controls",
            "_model_module_version": "1.5.0",
            "_model_name": "HTMLModel",
            "_view_count": null,
            "_view_module": "@jupyter-widgets/controls",
            "_view_module_version": "1.5.0",
            "_view_name": "HTMLView",
            "description": "",
            "description_tooltip": null,
            "layout": "IPY_MODEL_54f1e694967341b18c6e835a4dae8058",
            "placeholder": "​",
            "style": "IPY_MODEL_96fddaca54da4d6cb1b50d9b7e5ce9a4",
            "value": " 50/50 [01:55&lt;00:00,  2.38s/it]"
          }
        },
        "18cebd23323e4a0f962191988160babe": {
          "model_module": "@jupyter-widgets/base",
          "model_name": "LayoutModel",
          "model_module_version": "1.2.0",
          "state": {
            "_model_module": "@jupyter-widgets/base",
            "_model_module_version": "1.2.0",
            "_model_name": "LayoutModel",
            "_view_count": null,
            "_view_module": "@jupyter-widgets/base",
            "_view_module_version": "1.2.0",
            "_view_name": "LayoutView",
            "align_content": null,
            "align_items": null,
            "align_self": null,
            "border": null,
            "bottom": null,
            "display": null,
            "flex": null,
            "flex_flow": null,
            "grid_area": null,
            "grid_auto_columns": null,
            "grid_auto_flow": null,
            "grid_auto_rows": null,
            "grid_column": null,
            "grid_gap": null,
            "grid_row": null,
            "grid_template_areas": null,
            "grid_template_columns": null,
            "grid_template_rows": null,
            "height": null,
            "justify_content": null,
            "justify_items": null,
            "left": null,
            "margin": null,
            "max_height": null,
            "max_width": null,
            "min_height": null,
            "min_width": null,
            "object_fit": null,
            "object_position": null,
            "order": null,
            "overflow": null,
            "overflow_x": null,
            "overflow_y": null,
            "padding": null,
            "right": null,
            "top": null,
            "visibility": null,
            "width": null
          }
        },
        "61d90e6d09d44617955b1fb36314e716": {
          "model_module": "@jupyter-widgets/base",
          "model_name": "LayoutModel",
          "model_module_version": "1.2.0",
          "state": {
            "_model_module": "@jupyter-widgets/base",
            "_model_module_version": "1.2.0",
            "_model_name": "LayoutModel",
            "_view_count": null,
            "_view_module": "@jupyter-widgets/base",
            "_view_module_version": "1.2.0",
            "_view_name": "LayoutView",
            "align_content": null,
            "align_items": null,
            "align_self": null,
            "border": null,
            "bottom": null,
            "display": null,
            "flex": null,
            "flex_flow": null,
            "grid_area": null,
            "grid_auto_columns": null,
            "grid_auto_flow": null,
            "grid_auto_rows": null,
            "grid_column": null,
            "grid_gap": null,
            "grid_row": null,
            "grid_template_areas": null,
            "grid_template_columns": null,
            "grid_template_rows": null,
            "height": null,
            "justify_content": null,
            "justify_items": null,
            "left": null,
            "margin": null,
            "max_height": null,
            "max_width": null,
            "min_height": null,
            "min_width": null,
            "object_fit": null,
            "object_position": null,
            "order": null,
            "overflow": null,
            "overflow_x": null,
            "overflow_y": null,
            "padding": null,
            "right": null,
            "top": null,
            "visibility": null,
            "width": null
          }
        },
        "0aed6fac48394d6897fbfa83b8479c0e": {
          "model_module": "@jupyter-widgets/controls",
          "model_name": "DescriptionStyleModel",
          "model_module_version": "1.5.0",
          "state": {
            "_model_module": "@jupyter-widgets/controls",
            "_model_module_version": "1.5.0",
            "_model_name": "DescriptionStyleModel",
            "_view_count": null,
            "_view_module": "@jupyter-widgets/base",
            "_view_module_version": "1.2.0",
            "_view_name": "StyleView",
            "description_width": ""
          }
        },
        "6afe7387392f40c0887973b785f4092c": {
          "model_module": "@jupyter-widgets/base",
          "model_name": "LayoutModel",
          "model_module_version": "1.2.0",
          "state": {
            "_model_module": "@jupyter-widgets/base",
            "_model_module_version": "1.2.0",
            "_model_name": "LayoutModel",
            "_view_count": null,
            "_view_module": "@jupyter-widgets/base",
            "_view_module_version": "1.2.0",
            "_view_name": "LayoutView",
            "align_content": null,
            "align_items": null,
            "align_self": null,
            "border": null,
            "bottom": null,
            "display": null,
            "flex": null,
            "flex_flow": null,
            "grid_area": null,
            "grid_auto_columns": null,
            "grid_auto_flow": null,
            "grid_auto_rows": null,
            "grid_column": null,
            "grid_gap": null,
            "grid_row": null,
            "grid_template_areas": null,
            "grid_template_columns": null,
            "grid_template_rows": null,
            "height": null,
            "justify_content": null,
            "justify_items": null,
            "left": null,
            "margin": null,
            "max_height": null,
            "max_width": null,
            "min_height": null,
            "min_width": null,
            "object_fit": null,
            "object_position": null,
            "order": null,
            "overflow": null,
            "overflow_x": null,
            "overflow_y": null,
            "padding": null,
            "right": null,
            "top": null,
            "visibility": null,
            "width": null
          }
        },
        "60ebdeae1e7441c8a234b77f1ba74ebb": {
          "model_module": "@jupyter-widgets/controls",
          "model_name": "ProgressStyleModel",
          "model_module_version": "1.5.0",
          "state": {
            "_model_module": "@jupyter-widgets/controls",
            "_model_module_version": "1.5.0",
            "_model_name": "ProgressStyleModel",
            "_view_count": null,
            "_view_module": "@jupyter-widgets/base",
            "_view_module_version": "1.2.0",
            "_view_name": "StyleView",
            "bar_color": null,
            "description_width": ""
          }
        },
        "54f1e694967341b18c6e835a4dae8058": {
          "model_module": "@jupyter-widgets/base",
          "model_name": "LayoutModel",
          "model_module_version": "1.2.0",
          "state": {
            "_model_module": "@jupyter-widgets/base",
            "_model_module_version": "1.2.0",
            "_model_name": "LayoutModel",
            "_view_count": null,
            "_view_module": "@jupyter-widgets/base",
            "_view_module_version": "1.2.0",
            "_view_name": "LayoutView",
            "align_content": null,
            "align_items": null,
            "align_self": null,
            "border": null,
            "bottom": null,
            "display": null,
            "flex": null,
            "flex_flow": null,
            "grid_area": null,
            "grid_auto_columns": null,
            "grid_auto_flow": null,
            "grid_auto_rows": null,
            "grid_column": null,
            "grid_gap": null,
            "grid_row": null,
            "grid_template_areas": null,
            "grid_template_columns": null,
            "grid_template_rows": null,
            "height": null,
            "justify_content": null,
            "justify_items": null,
            "left": null,
            "margin": null,
            "max_height": null,
            "max_width": null,
            "min_height": null,
            "min_width": null,
            "object_fit": null,
            "object_position": null,
            "order": null,
            "overflow": null,
            "overflow_x": null,
            "overflow_y": null,
            "padding": null,
            "right": null,
            "top": null,
            "visibility": null,
            "width": null
          }
        },
        "96fddaca54da4d6cb1b50d9b7e5ce9a4": {
          "model_module": "@jupyter-widgets/controls",
          "model_name": "DescriptionStyleModel",
          "model_module_version": "1.5.0",
          "state": {
            "_model_module": "@jupyter-widgets/controls",
            "_model_module_version": "1.5.0",
            "_model_name": "DescriptionStyleModel",
            "_view_count": null,
            "_view_module": "@jupyter-widgets/base",
            "_view_module_version": "1.2.0",
            "_view_name": "StyleView",
            "description_width": ""
          }
        },
        "a232b452d9f749fb8cdab2349b439cc2": {
          "model_module": "@jupyter-widgets/controls",
          "model_name": "HBoxModel",
          "model_module_version": "1.5.0",
          "state": {
            "_dom_classes": [],
            "_model_module": "@jupyter-widgets/controls",
            "_model_module_version": "1.5.0",
            "_model_name": "HBoxModel",
            "_view_count": null,
            "_view_module": "@jupyter-widgets/controls",
            "_view_module_version": "1.5.0",
            "_view_name": "HBoxView",
            "box_style": "",
            "children": [
              "IPY_MODEL_c5d9c71ff1c74610a4f228cc85132442",
              "IPY_MODEL_44e5026f9f9545d18ee0ad72e5bfb5c9",
              "IPY_MODEL_e4814e01de0a49bcbb891345ff08b818"
            ],
            "layout": "IPY_MODEL_678d2b48521340a58cee41ea92a216b0"
          }
        },
        "c5d9c71ff1c74610a4f228cc85132442": {
          "model_module": "@jupyter-widgets/controls",
          "model_name": "HTMLModel",
          "model_module_version": "1.5.0",
          "state": {
            "_dom_classes": [],
            "_model_module": "@jupyter-widgets/controls",
            "_model_module_version": "1.5.0",
            "_model_name": "HTMLModel",
            "_view_count": null,
            "_view_module": "@jupyter-widgets/controls",
            "_view_module_version": "1.5.0",
            "_view_name": "HTMLView",
            "description": "",
            "description_tooltip": null,
            "layout": "IPY_MODEL_bce2512cac54462faf34b87866d66158",
            "placeholder": "​",
            "style": "IPY_MODEL_dac79b21861a42cf8dc3dab37b25df58",
            "value": "100%"
          }
        },
        "44e5026f9f9545d18ee0ad72e5bfb5c9": {
          "model_module": "@jupyter-widgets/controls",
          "model_name": "FloatProgressModel",
          "model_module_version": "1.5.0",
          "state": {
            "_dom_classes": [],
            "_model_module": "@jupyter-widgets/controls",
            "_model_module_version": "1.5.0",
            "_model_name": "FloatProgressModel",
            "_view_count": null,
            "_view_module": "@jupyter-widgets/controls",
            "_view_module_version": "1.5.0",
            "_view_name": "ProgressView",
            "bar_style": "success",
            "description": "",
            "description_tooltip": null,
            "layout": "IPY_MODEL_0910065023d84c2ba863f68427b6e9e6",
            "max": 50,
            "min": 0,
            "orientation": "horizontal",
            "style": "IPY_MODEL_aed202b4bc0c4d448c59cb8e1006fa18",
            "value": 50
          }
        },
        "e4814e01de0a49bcbb891345ff08b818": {
          "model_module": "@jupyter-widgets/controls",
          "model_name": "HTMLModel",
          "model_module_version": "1.5.0",
          "state": {
            "_dom_classes": [],
            "_model_module": "@jupyter-widgets/controls",
            "_model_module_version": "1.5.0",
            "_model_name": "HTMLModel",
            "_view_count": null,
            "_view_module": "@jupyter-widgets/controls",
            "_view_module_version": "1.5.0",
            "_view_name": "HTMLView",
            "description": "",
            "description_tooltip": null,
            "layout": "IPY_MODEL_07f9c8c4cd0745abb4e2af6e009a9062",
            "placeholder": "​",
            "style": "IPY_MODEL_fc9c79a878c34250903d421884aecdcb",
            "value": " 50/50 [01:54&lt;00:00,  2.38s/it]"
          }
        },
        "678d2b48521340a58cee41ea92a216b0": {
          "model_module": "@jupyter-widgets/base",
          "model_name": "LayoutModel",
          "model_module_version": "1.2.0",
          "state": {
            "_model_module": "@jupyter-widgets/base",
            "_model_module_version": "1.2.0",
            "_model_name": "LayoutModel",
            "_view_count": null,
            "_view_module": "@jupyter-widgets/base",
            "_view_module_version": "1.2.0",
            "_view_name": "LayoutView",
            "align_content": null,
            "align_items": null,
            "align_self": null,
            "border": null,
            "bottom": null,
            "display": null,
            "flex": null,
            "flex_flow": null,
            "grid_area": null,
            "grid_auto_columns": null,
            "grid_auto_flow": null,
            "grid_auto_rows": null,
            "grid_column": null,
            "grid_gap": null,
            "grid_row": null,
            "grid_template_areas": null,
            "grid_template_columns": null,
            "grid_template_rows": null,
            "height": null,
            "justify_content": null,
            "justify_items": null,
            "left": null,
            "margin": null,
            "max_height": null,
            "max_width": null,
            "min_height": null,
            "min_width": null,
            "object_fit": null,
            "object_position": null,
            "order": null,
            "overflow": null,
            "overflow_x": null,
            "overflow_y": null,
            "padding": null,
            "right": null,
            "top": null,
            "visibility": null,
            "width": null
          }
        },
        "bce2512cac54462faf34b87866d66158": {
          "model_module": "@jupyter-widgets/base",
          "model_name": "LayoutModel",
          "model_module_version": "1.2.0",
          "state": {
            "_model_module": "@jupyter-widgets/base",
            "_model_module_version": "1.2.0",
            "_model_name": "LayoutModel",
            "_view_count": null,
            "_view_module": "@jupyter-widgets/base",
            "_view_module_version": "1.2.0",
            "_view_name": "LayoutView",
            "align_content": null,
            "align_items": null,
            "align_self": null,
            "border": null,
            "bottom": null,
            "display": null,
            "flex": null,
            "flex_flow": null,
            "grid_area": null,
            "grid_auto_columns": null,
            "grid_auto_flow": null,
            "grid_auto_rows": null,
            "grid_column": null,
            "grid_gap": null,
            "grid_row": null,
            "grid_template_areas": null,
            "grid_template_columns": null,
            "grid_template_rows": null,
            "height": null,
            "justify_content": null,
            "justify_items": null,
            "left": null,
            "margin": null,
            "max_height": null,
            "max_width": null,
            "min_height": null,
            "min_width": null,
            "object_fit": null,
            "object_position": null,
            "order": null,
            "overflow": null,
            "overflow_x": null,
            "overflow_y": null,
            "padding": null,
            "right": null,
            "top": null,
            "visibility": null,
            "width": null
          }
        },
        "dac79b21861a42cf8dc3dab37b25df58": {
          "model_module": "@jupyter-widgets/controls",
          "model_name": "DescriptionStyleModel",
          "model_module_version": "1.5.0",
          "state": {
            "_model_module": "@jupyter-widgets/controls",
            "_model_module_version": "1.5.0",
            "_model_name": "DescriptionStyleModel",
            "_view_count": null,
            "_view_module": "@jupyter-widgets/base",
            "_view_module_version": "1.2.0",
            "_view_name": "StyleView",
            "description_width": ""
          }
        },
        "0910065023d84c2ba863f68427b6e9e6": {
          "model_module": "@jupyter-widgets/base",
          "model_name": "LayoutModel",
          "model_module_version": "1.2.0",
          "state": {
            "_model_module": "@jupyter-widgets/base",
            "_model_module_version": "1.2.0",
            "_model_name": "LayoutModel",
            "_view_count": null,
            "_view_module": "@jupyter-widgets/base",
            "_view_module_version": "1.2.0",
            "_view_name": "LayoutView",
            "align_content": null,
            "align_items": null,
            "align_self": null,
            "border": null,
            "bottom": null,
            "display": null,
            "flex": null,
            "flex_flow": null,
            "grid_area": null,
            "grid_auto_columns": null,
            "grid_auto_flow": null,
            "grid_auto_rows": null,
            "grid_column": null,
            "grid_gap": null,
            "grid_row": null,
            "grid_template_areas": null,
            "grid_template_columns": null,
            "grid_template_rows": null,
            "height": null,
            "justify_content": null,
            "justify_items": null,
            "left": null,
            "margin": null,
            "max_height": null,
            "max_width": null,
            "min_height": null,
            "min_width": null,
            "object_fit": null,
            "object_position": null,
            "order": null,
            "overflow": null,
            "overflow_x": null,
            "overflow_y": null,
            "padding": null,
            "right": null,
            "top": null,
            "visibility": null,
            "width": null
          }
        },
        "aed202b4bc0c4d448c59cb8e1006fa18": {
          "model_module": "@jupyter-widgets/controls",
          "model_name": "ProgressStyleModel",
          "model_module_version": "1.5.0",
          "state": {
            "_model_module": "@jupyter-widgets/controls",
            "_model_module_version": "1.5.0",
            "_model_name": "ProgressStyleModel",
            "_view_count": null,
            "_view_module": "@jupyter-widgets/base",
            "_view_module_version": "1.2.0",
            "_view_name": "StyleView",
            "bar_color": null,
            "description_width": ""
          }
        },
        "07f9c8c4cd0745abb4e2af6e009a9062": {
          "model_module": "@jupyter-widgets/base",
          "model_name": "LayoutModel",
          "model_module_version": "1.2.0",
          "state": {
            "_model_module": "@jupyter-widgets/base",
            "_model_module_version": "1.2.0",
            "_model_name": "LayoutModel",
            "_view_count": null,
            "_view_module": "@jupyter-widgets/base",
            "_view_module_version": "1.2.0",
            "_view_name": "LayoutView",
            "align_content": null,
            "align_items": null,
            "align_self": null,
            "border": null,
            "bottom": null,
            "display": null,
            "flex": null,
            "flex_flow": null,
            "grid_area": null,
            "grid_auto_columns": null,
            "grid_auto_flow": null,
            "grid_auto_rows": null,
            "grid_column": null,
            "grid_gap": null,
            "grid_row": null,
            "grid_template_areas": null,
            "grid_template_columns": null,
            "grid_template_rows": null,
            "height": null,
            "justify_content": null,
            "justify_items": null,
            "left": null,
            "margin": null,
            "max_height": null,
            "max_width": null,
            "min_height": null,
            "min_width": null,
            "object_fit": null,
            "object_position": null,
            "order": null,
            "overflow": null,
            "overflow_x": null,
            "overflow_y": null,
            "padding": null,
            "right": null,
            "top": null,
            "visibility": null,
            "width": null
          }
        },
        "fc9c79a878c34250903d421884aecdcb": {
          "model_module": "@jupyter-widgets/controls",
          "model_name": "DescriptionStyleModel",
          "model_module_version": "1.5.0",
          "state": {
            "_model_module": "@jupyter-widgets/controls",
            "_model_module_version": "1.5.0",
            "_model_name": "DescriptionStyleModel",
            "_view_count": null,
            "_view_module": "@jupyter-widgets/base",
            "_view_module_version": "1.2.0",
            "_view_name": "StyleView",
            "description_width": ""
          }
        },
        "c400086dca9e4423bb85d3cb4a7b4c7d": {
          "model_module": "@jupyter-widgets/controls",
          "model_name": "HBoxModel",
          "model_module_version": "1.5.0",
          "state": {
            "_dom_classes": [],
            "_model_module": "@jupyter-widgets/controls",
            "_model_module_version": "1.5.0",
            "_model_name": "HBoxModel",
            "_view_count": null,
            "_view_module": "@jupyter-widgets/controls",
            "_view_module_version": "1.5.0",
            "_view_name": "HBoxView",
            "box_style": "",
            "children": [
              "IPY_MODEL_368d238913b44a4fb5f13d36a664a843",
              "IPY_MODEL_50f8815d937b4e6283cc1b91c04a9a64",
              "IPY_MODEL_94f8e71b51bc4ea899f52a448742610b"
            ],
            "layout": "IPY_MODEL_f0abedf0785e47cc8b2d2e081962ed7b"
          }
        },
        "368d238913b44a4fb5f13d36a664a843": {
          "model_module": "@jupyter-widgets/controls",
          "model_name": "HTMLModel",
          "model_module_version": "1.5.0",
          "state": {
            "_dom_classes": [],
            "_model_module": "@jupyter-widgets/controls",
            "_model_module_version": "1.5.0",
            "_model_name": "HTMLModel",
            "_view_count": null,
            "_view_module": "@jupyter-widgets/controls",
            "_view_module_version": "1.5.0",
            "_view_name": "HTMLView",
            "description": "",
            "description_tooltip": null,
            "layout": "IPY_MODEL_9d40324060dd4bf9bcab247f3369b079",
            "placeholder": "​",
            "style": "IPY_MODEL_6da7d5cbf2c842f5aea7e9c985115368",
            "value": "100%"
          }
        },
        "50f8815d937b4e6283cc1b91c04a9a64": {
          "model_module": "@jupyter-widgets/controls",
          "model_name": "FloatProgressModel",
          "model_module_version": "1.5.0",
          "state": {
            "_dom_classes": [],
            "_model_module": "@jupyter-widgets/controls",
            "_model_module_version": "1.5.0",
            "_model_name": "FloatProgressModel",
            "_view_count": null,
            "_view_module": "@jupyter-widgets/controls",
            "_view_module_version": "1.5.0",
            "_view_name": "ProgressView",
            "bar_style": "success",
            "description": "",
            "description_tooltip": null,
            "layout": "IPY_MODEL_0a874921a2f74c66898564c35b991a84",
            "max": 50,
            "min": 0,
            "orientation": "horizontal",
            "style": "IPY_MODEL_e23cc6f2f482451ea50584afe1c5da60",
            "value": 50
          }
        },
        "94f8e71b51bc4ea899f52a448742610b": {
          "model_module": "@jupyter-widgets/controls",
          "model_name": "HTMLModel",
          "model_module_version": "1.5.0",
          "state": {
            "_dom_classes": [],
            "_model_module": "@jupyter-widgets/controls",
            "_model_module_version": "1.5.0",
            "_model_name": "HTMLModel",
            "_view_count": null,
            "_view_module": "@jupyter-widgets/controls",
            "_view_module_version": "1.5.0",
            "_view_name": "HTMLView",
            "description": "",
            "description_tooltip": null,
            "layout": "IPY_MODEL_81932d06db9b48d18cf99f2e2dbf3446",
            "placeholder": "​",
            "style": "IPY_MODEL_35f7a476e69348a89ec161d21fa41015",
            "value": " 50/50 [01:54&lt;00:00,  2.23s/it]"
          }
        },
        "f0abedf0785e47cc8b2d2e081962ed7b": {
          "model_module": "@jupyter-widgets/base",
          "model_name": "LayoutModel",
          "model_module_version": "1.2.0",
          "state": {
            "_model_module": "@jupyter-widgets/base",
            "_model_module_version": "1.2.0",
            "_model_name": "LayoutModel",
            "_view_count": null,
            "_view_module": "@jupyter-widgets/base",
            "_view_module_version": "1.2.0",
            "_view_name": "LayoutView",
            "align_content": null,
            "align_items": null,
            "align_self": null,
            "border": null,
            "bottom": null,
            "display": null,
            "flex": null,
            "flex_flow": null,
            "grid_area": null,
            "grid_auto_columns": null,
            "grid_auto_flow": null,
            "grid_auto_rows": null,
            "grid_column": null,
            "grid_gap": null,
            "grid_row": null,
            "grid_template_areas": null,
            "grid_template_columns": null,
            "grid_template_rows": null,
            "height": null,
            "justify_content": null,
            "justify_items": null,
            "left": null,
            "margin": null,
            "max_height": null,
            "max_width": null,
            "min_height": null,
            "min_width": null,
            "object_fit": null,
            "object_position": null,
            "order": null,
            "overflow": null,
            "overflow_x": null,
            "overflow_y": null,
            "padding": null,
            "right": null,
            "top": null,
            "visibility": null,
            "width": null
          }
        },
        "9d40324060dd4bf9bcab247f3369b079": {
          "model_module": "@jupyter-widgets/base",
          "model_name": "LayoutModel",
          "model_module_version": "1.2.0",
          "state": {
            "_model_module": "@jupyter-widgets/base",
            "_model_module_version": "1.2.0",
            "_model_name": "LayoutModel",
            "_view_count": null,
            "_view_module": "@jupyter-widgets/base",
            "_view_module_version": "1.2.0",
            "_view_name": "LayoutView",
            "align_content": null,
            "align_items": null,
            "align_self": null,
            "border": null,
            "bottom": null,
            "display": null,
            "flex": null,
            "flex_flow": null,
            "grid_area": null,
            "grid_auto_columns": null,
            "grid_auto_flow": null,
            "grid_auto_rows": null,
            "grid_column": null,
            "grid_gap": null,
            "grid_row": null,
            "grid_template_areas": null,
            "grid_template_columns": null,
            "grid_template_rows": null,
            "height": null,
            "justify_content": null,
            "justify_items": null,
            "left": null,
            "margin": null,
            "max_height": null,
            "max_width": null,
            "min_height": null,
            "min_width": null,
            "object_fit": null,
            "object_position": null,
            "order": null,
            "overflow": null,
            "overflow_x": null,
            "overflow_y": null,
            "padding": null,
            "right": null,
            "top": null,
            "visibility": null,
            "width": null
          }
        },
        "6da7d5cbf2c842f5aea7e9c985115368": {
          "model_module": "@jupyter-widgets/controls",
          "model_name": "DescriptionStyleModel",
          "model_module_version": "1.5.0",
          "state": {
            "_model_module": "@jupyter-widgets/controls",
            "_model_module_version": "1.5.0",
            "_model_name": "DescriptionStyleModel",
            "_view_count": null,
            "_view_module": "@jupyter-widgets/base",
            "_view_module_version": "1.2.0",
            "_view_name": "StyleView",
            "description_width": ""
          }
        },
        "0a874921a2f74c66898564c35b991a84": {
          "model_module": "@jupyter-widgets/base",
          "model_name": "LayoutModel",
          "model_module_version": "1.2.0",
          "state": {
            "_model_module": "@jupyter-widgets/base",
            "_model_module_version": "1.2.0",
            "_model_name": "LayoutModel",
            "_view_count": null,
            "_view_module": "@jupyter-widgets/base",
            "_view_module_version": "1.2.0",
            "_view_name": "LayoutView",
            "align_content": null,
            "align_items": null,
            "align_self": null,
            "border": null,
            "bottom": null,
            "display": null,
            "flex": null,
            "flex_flow": null,
            "grid_area": null,
            "grid_auto_columns": null,
            "grid_auto_flow": null,
            "grid_auto_rows": null,
            "grid_column": null,
            "grid_gap": null,
            "grid_row": null,
            "grid_template_areas": null,
            "grid_template_columns": null,
            "grid_template_rows": null,
            "height": null,
            "justify_content": null,
            "justify_items": null,
            "left": null,
            "margin": null,
            "max_height": null,
            "max_width": null,
            "min_height": null,
            "min_width": null,
            "object_fit": null,
            "object_position": null,
            "order": null,
            "overflow": null,
            "overflow_x": null,
            "overflow_y": null,
            "padding": null,
            "right": null,
            "top": null,
            "visibility": null,
            "width": null
          }
        },
        "e23cc6f2f482451ea50584afe1c5da60": {
          "model_module": "@jupyter-widgets/controls",
          "model_name": "ProgressStyleModel",
          "model_module_version": "1.5.0",
          "state": {
            "_model_module": "@jupyter-widgets/controls",
            "_model_module_version": "1.5.0",
            "_model_name": "ProgressStyleModel",
            "_view_count": null,
            "_view_module": "@jupyter-widgets/base",
            "_view_module_version": "1.2.0",
            "_view_name": "StyleView",
            "bar_color": null,
            "description_width": ""
          }
        },
        "81932d06db9b48d18cf99f2e2dbf3446": {
          "model_module": "@jupyter-widgets/base",
          "model_name": "LayoutModel",
          "model_module_version": "1.2.0",
          "state": {
            "_model_module": "@jupyter-widgets/base",
            "_model_module_version": "1.2.0",
            "_model_name": "LayoutModel",
            "_view_count": null,
            "_view_module": "@jupyter-widgets/base",
            "_view_module_version": "1.2.0",
            "_view_name": "LayoutView",
            "align_content": null,
            "align_items": null,
            "align_self": null,
            "border": null,
            "bottom": null,
            "display": null,
            "flex": null,
            "flex_flow": null,
            "grid_area": null,
            "grid_auto_columns": null,
            "grid_auto_flow": null,
            "grid_auto_rows": null,
            "grid_column": null,
            "grid_gap": null,
            "grid_row": null,
            "grid_template_areas": null,
            "grid_template_columns": null,
            "grid_template_rows": null,
            "height": null,
            "justify_content": null,
            "justify_items": null,
            "left": null,
            "margin": null,
            "max_height": null,
            "max_width": null,
            "min_height": null,
            "min_width": null,
            "object_fit": null,
            "object_position": null,
            "order": null,
            "overflow": null,
            "overflow_x": null,
            "overflow_y": null,
            "padding": null,
            "right": null,
            "top": null,
            "visibility": null,
            "width": null
          }
        },
        "35f7a476e69348a89ec161d21fa41015": {
          "model_module": "@jupyter-widgets/controls",
          "model_name": "DescriptionStyleModel",
          "model_module_version": "1.5.0",
          "state": {
            "_model_module": "@jupyter-widgets/controls",
            "_model_module_version": "1.5.0",
            "_model_name": "DescriptionStyleModel",
            "_view_count": null,
            "_view_module": "@jupyter-widgets/base",
            "_view_module_version": "1.2.0",
            "_view_name": "StyleView",
            "description_width": ""
          }
        }
      }
    }
  },
  "cells": [
    {
      "cell_type": "markdown",
      "source": [
        "This is a generic script for finetuning ViLT model for VQA tasks\n",
        "Simply format your data as per the requirements below and this should work."
      ],
      "metadata": {
        "id": "VBuK4zOLCrEi"
      }
    },
    {
      "cell_type": "markdown",
      "source": [
        "## Data format\n",
        "* the images (stored in a single folder)\n",
        "* the questions (stored in a JSON) -- with following\n",
        "* the annotations (stored in a JSON) a.k.a. the answers to the questions.\n",
        "\n",
        "Refer to https://github.com/multimodal/multimodal/blob/master/test/data/vqa2/val/v2_OpenEnded_mscoco_val2014_questions.json for a sample of how question json file should look like."
      ],
      "metadata": {
        "id": "boe1Duge6Jsa"
      }
    },
    {
      "cell_type": "code",
      "execution_count": null,
      "metadata": {
        "colab": {
          "base_uri": "https://localhost:8080/"
        },
        "id": "3CEYz9215-vH",
        "outputId": "406d2848-0217-4168-8825-3abef65b8861"
      },
      "outputs": [
        {
          "output_type": "stream",
          "name": "stdout",
          "text": [
            "  Installing build dependencies ... \u001b[?25l\u001b[?25hdone\n",
            "  Getting requirements to build wheel ... \u001b[?25l\u001b[?25hdone\n",
            "  Preparing metadata (pyproject.toml) ... \u001b[?25l\u001b[?25hdone\n",
            "\u001b[2K     \u001b[90m━━━━━━━━━━━━━━━━━━━━━━━━━━━━━━━━━━━━━━━\u001b[0m \u001b[32m268.8/268.8 kB\u001b[0m \u001b[31m6.8 MB/s\u001b[0m eta \u001b[36m0:00:00\u001b[0m\n",
            "\u001b[2K     \u001b[90m━━━━━━━━━━━━━━━━━━━━━━━━━━━━━━━━━━━━━━━━\u001b[0m \u001b[32m7.8/7.8 MB\u001b[0m \u001b[31m80.2 MB/s\u001b[0m eta \u001b[36m0:00:00\u001b[0m\n",
            "\u001b[2K     \u001b[90m━━━━━━━━━━━━━━━━━━━━━━━━━━━━━━━━━━━━━━━━\u001b[0m \u001b[32m1.3/1.3 MB\u001b[0m \u001b[31m74.5 MB/s\u001b[0m eta \u001b[36m0:00:00\u001b[0m\n",
            "\u001b[?25h  Building wheel for transformers (pyproject.toml) ... \u001b[?25l\u001b[?25hdone\n"
          ]
        }
      ],
      "source": [
        "!pip install -q git+https://github.com/huggingface/transformers.git"
      ]
    },
    {
      "cell_type": "markdown",
      "source": [
        "This piece of code converts data in VLQAv1 into desired format. If multiple images are there, it automatically merges them into one."
      ],
      "metadata": {
        "id": "rE7dk9JfLKvu"
      }
    },
    {
      "cell_type": "code",
      "source": [
        "prefix = 'blocksworld'"
      ],
      "metadata": {
        "id": "SEJyeCl-IjN-"
      },
      "execution_count": null,
      "outputs": []
    },
    {
      "cell_type": "code",
      "source": [
        "from PIL import Image\n",
        "import os\n",
        "\n",
        "os.chdir('/content')\n",
        "\n",
        "def mergeim(impath1,impath2):\n",
        "  if impath1.endswith(\".jpg\"):\n",
        "    postfix = \".jpg\"\n",
        "  elif impath1.endswith(\".png\"):\n",
        "    postfix = \".png\"\n",
        "  else:\n",
        "    print(\"no jpg or png file supplied\")\n",
        "  newname = 'Merged_'+impath1.split(\"/\")[-1].rstrip(postfix) + \"#\"+ impath2.split(\"/\")[-1].rstrip(postfix) + postfix\n",
        "  #print(newname)\n",
        "  image1 = Image.open(impath1)\n",
        "  image2 = Image.open(impath2)\n",
        "  image1_size = image1.size\n",
        "  image2_size = image2.size\n",
        "  new_image = Image.new('RGB',(2*image1_size[0], image1_size[1]), (250,250,250))\n",
        "  new_image.paste(image1,(0,0))\n",
        "  new_image.paste(image2,(image1_size[0],0))\n",
        "  new_image.save(\"./images/\"+newname)\n",
        "  #new_image.show()\n",
        "  return \"./images/\"+newname\n",
        "\n",
        "mergeim('./images/BW_1_0.jpg','./images/BW_1_1.jpg')"
      ],
      "metadata": {
        "colab": {
          "base_uri": "https://localhost:8080/",
          "height": 37
        },
        "id": "ZOsen1dnhnb-",
        "outputId": "83c43347-776b-4d1f-ff4b-1a8bf65577aa"
      },
      "execution_count": null,
      "outputs": [
        {
          "output_type": "execute_result",
          "data": {
            "text/plain": [
              "'./images/Merged_BW_1_0#BW_1_1.jpg'"
            ],
            "application/vnd.google.colaboratory.intrinsic+json": {
              "type": "string"
            }
          },
          "metadata": {},
          "execution_count": 278
        }
      ]
    },
    {
      "cell_type": "code",
      "source": [
        "#!rm /content/blocksworld_truncated_viltft.jsonl\n",
        "\n",
        "import json\n",
        "import ast\n",
        "\n",
        "dumpdict = { \"info\": {}, \"task_type\": \"Open-Ended\", \"data_type\": \"mscoco\", \"license\": {}, \"data_subtype\": prefix,\n",
        "    \"questions\": [] }\n",
        "\n",
        "with open('/content/'+prefix+'.jsonl') as f:\n",
        "  data = f.readlines()\n",
        "  print(len(data))\n",
        "  for i in data:\n",
        "    ijson = json.loads(i)\n",
        "    imlist = ast.literal_eval(ijson['images'])\n",
        "    anslist = [str(i) for i in ast.literal_eval(ijson['answer_choices'])]\n",
        "    if len(imlist) == 2:\n",
        "      mpath = mergeim(imlist[0], imlist[1])\n",
        "    dumpdict['questions'].append( { \"image_id\": mpath, \"question\": ijson['question']+\" \"+ijson['passage'], \"question_id\": ijson['qid'], \"answer_choices\": anslist, \"answer_id\": int(ijson['answer']) } )\n",
        "\n",
        "with open('/content/'+prefix+'_viltft.jsonl','w+') as w:\n",
        "  w.write(json.dumps(dumpdict,indent=4))\n",
        "\n",
        "print(dumpdict)"
      ],
      "metadata": {
        "colab": {
          "base_uri": "https://localhost:8080/"
        },
        "id": "bWWyIF0gEb3O",
        "outputId": "1dc3768d-517e-428f-a3d9-c3963b900d0f"
      },
      "execution_count": null,
      "outputs": [
        {
          "output_type": "stream",
          "name": "stdout",
          "text": [
            "250\n",
            "{'info': {}, 'task_type': 'Open-Ended', 'data_type': 'mscoco', 'license': {}, 'data_subtype': 'blocksworld_truncated', 'questions': [{'image_id': './images/Merged_BW_1_0#BW_1_1.jpg', 'question': 'In how many moves one can convert left image into right image? Blocks can be moved (i) if there is no other block on it (ii) only one block can be moved at a time (iii) block can be moved OnTable, OutOfTable or on any other block.', 'question_id': 0, 'answer_choices': ['1', '5', '2', '3'], 'answer_id': 0}, {'image_id': './images/Merged_BW_2_0#BW_2_1.jpg', 'question': 'In how many moves one can convert left image into right image? Blocks can be moved (i) if there is no other block on it (ii) only one block can be moved at a time (iii) block can be moved OnTable, OutOfTable or on any other block.', 'question_id': 1, 'answer_choices': ['4', '5', '2', '1'], 'answer_id': 3}, {'image_id': './images/Merged_BW_3_0#BW_3_1.jpg', 'question': 'In how many moves one can convert left image into right image? Blocks can be moved (i) if there is no other block on it (ii) only one block can be moved at a time (iii) block can be moved OnTable, OutOfTable or on any other block.', 'question_id': 2, 'answer_choices': ['1', '3', '7', '2'], 'answer_id': 0}, {'image_id': './images/Merged_BW_4_0#BW_4_1.jpg', 'question': 'In how many moves one can convert left image into right image? Blocks can be moved (i) if there is no other block on it (ii) only one block can be moved at a time (iii) block can be moved OnTable, OutOfTable or on any other block.', 'question_id': 3, 'answer_choices': ['1', '5', '2', '7'], 'answer_id': 0}, {'image_id': './images/Merged_BW_5_0#BW_5_1.jpg', 'question': 'In how many moves one can convert left image into right image? Blocks can be moved (i) if there is no other block on it (ii) only one block can be moved at a time (iii) block can be moved OnTable, OutOfTable or on any other block.', 'question_id': 4, 'answer_choices': ['1', '7', '0', '3'], 'answer_id': 0}, {'image_id': './images/Merged_BW_6_0#BW_6_1.jpg', 'question': 'In how many moves one can convert left image into right image? Blocks can be moved (i) if there is no other block on it (ii) only one block can be moved at a time (iii) block can be moved OnTable, OutOfTable or on any other block.', 'question_id': 5, 'answer_choices': ['1', '0', '2', '7'], 'answer_id': 0}, {'image_id': './images/Merged_BW_7_0#BW_7_1.jpg', 'question': 'In how many moves one can convert left image into right image? Blocks can be moved (i) if there is no other block on it (ii) only one block can be moved at a time (iii) block can be moved OnTable, OutOfTable or on any other block.', 'question_id': 6, 'answer_choices': ['1', '3', '7', '4'], 'answer_id': 0}, {'image_id': './images/Merged_BW_8_0#BW_8_1.jpg', 'question': 'In how many moves one can convert left image into right image? Blocks can be moved (i) if there is no other block on it (ii) only one block can be moved at a time (iii) block can be moved OnTable, OutOfTable or on any other block.', 'question_id': 7, 'answer_choices': ['3', '4', '1', '6'], 'answer_id': 2}, {'image_id': './images/Merged_BW_9_0#BW_9_1.jpg', 'question': 'In how many moves one can convert left image into right image? Blocks can be moved (i) if there is no other block on it (ii) only one block can be moved at a time (iii) block can be moved OnTable, OutOfTable or on any other block.', 'question_id': 8, 'answer_choices': ['4', '7', '6', '1'], 'answer_id': 3}, {'image_id': './images/Merged_BW_10_0#BW_10_1.jpg', 'question': 'In how many moves one can convert left image into right image? Blocks can be moved (i) if there is no other block on it (ii) only one block can be moved at a time (iii) block can be moved OnTable, OutOfTable or on any other block.', 'question_id': 9, 'answer_choices': ['5', '6', '2', '1'], 'answer_id': 3}, {'image_id': './images/Merged_BW_11_0#BW_11_1.jpg', 'question': 'In how many moves one can convert left image into right image? Blocks can be moved (i) if there is no other block on it (ii) only one block can be moved at a time (iii) block can be moved OnTable, OutOfTable or on any other block.', 'question_id': 10, 'answer_choices': ['2', '4', '0', '5'], 'answer_id': 0}, {'image_id': './images/Merged_BW_12_0#BW_12_1.jpg', 'question': 'In how many moves one can convert left image into right image? Blocks can be moved (i) if there is no other block on it (ii) only one block can be moved at a time (iii) block can be moved OnTable, OutOfTable or on any other block.', 'question_id': 11, 'answer_choices': ['4', '7', '2', '5'], 'answer_id': 2}, {'image_id': './images/Merged_BW_13_0#BW_13_1.jpg', 'question': 'In how many moves one can convert left image into right image? Blocks can be moved (i) if there is no other block on it (ii) only one block can be moved at a time (iii) block can be moved OnTable, OutOfTable or on any other block.', 'question_id': 12, 'answer_choices': ['5', '6', '1', '2'], 'answer_id': 3}, {'image_id': './images/Merged_BW_14_0#BW_14_1.jpg', 'question': 'In how many moves one can convert left image into right image? Blocks can be moved (i) if there is no other block on it (ii) only one block can be moved at a time (iii) block can be moved OnTable, OutOfTable or on any other block.', 'question_id': 13, 'answer_choices': ['1', '2', '6', '3'], 'answer_id': 1}, {'image_id': './images/Merged_BW_15_0#BW_15_1.jpg', 'question': 'In how many moves one can convert left image into right image? Blocks can be moved (i) if there is no other block on it (ii) only one block can be moved at a time (iii) block can be moved OnTable, OutOfTable or on any other block.', 'question_id': 14, 'answer_choices': ['4', '2', '3', '5'], 'answer_id': 1}, {'image_id': './images/Merged_BW_16_0#BW_16_1.jpg', 'question': 'In how many moves one can convert left image into right image? Blocks can be moved (i) if there is no other block on it (ii) only one block can be moved at a time (iii) block can be moved OnTable, OutOfTable or on any other block.', 'question_id': 15, 'answer_choices': ['6', '2', '0', '3'], 'answer_id': 1}, {'image_id': './images/Merged_BW_17_0#BW_17_1.jpg', 'question': 'In how many moves one can convert left image into right image? Blocks can be moved (i) if there is no other block on it (ii) only one block can be moved at a time (iii) block can be moved OnTable, OutOfTable or on any other block.', 'question_id': 16, 'answer_choices': ['4', '5', '2', '1'], 'answer_id': 2}, {'image_id': './images/Merged_BW_18_0#BW_18_1.jpg', 'question': 'In how many moves one can convert left image into right image? Blocks can be moved (i) if there is no other block on it (ii) only one block can be moved at a time (iii) block can be moved OnTable, OutOfTable or on any other block.', 'question_id': 17, 'answer_choices': ['2', '3', '4', '6'], 'answer_id': 0}, {'image_id': './images/Merged_BW_19_0#BW_19_1.jpg', 'question': 'In how many moves one can convert left image into right image? Blocks can be moved (i) if there is no other block on it (ii) only one block can be moved at a time (iii) block can be moved OnTable, OutOfTable or on any other block.', 'question_id': 18, 'answer_choices': ['0', '4', '2', '3'], 'answer_id': 2}, {'image_id': './images/Merged_BW_20_0#BW_20_1.jpg', 'question': 'In how many moves one can convert left image into right image? Blocks can be moved (i) if there is no other block on it (ii) only one block can be moved at a time (iii) block can be moved OnTable, OutOfTable or on any other block.', 'question_id': 19, 'answer_choices': ['0', '6', '3', '2'], 'answer_id': 3}, {'image_id': './images/Merged_BW_21_0#BW_21_1.jpg', 'question': 'In how many moves one can convert left image into right image? Blocks can be moved (i) if there is no other block on it (ii) only one block can be moved at a time (iii) block can be moved OnTable, OutOfTable or on any other block.', 'question_id': 20, 'answer_choices': ['5', '3', '0', '7'], 'answer_id': 1}, {'image_id': './images/Merged_BW_22_0#BW_22_1.jpg', 'question': 'In how many moves one can convert left image into right image? Blocks can be moved (i) if there is no other block on it (ii) only one block can be moved at a time (iii) block can be moved OnTable, OutOfTable or on any other block.', 'question_id': 21, 'answer_choices': ['3', '7', '6', '0'], 'answer_id': 0}, {'image_id': './images/Merged_BW_23_0#BW_23_1.jpg', 'question': 'In how many moves one can convert left image into right image? Blocks can be moved (i) if there is no other block on it (ii) only one block can be moved at a time (iii) block can be moved OnTable, OutOfTable or on any other block.', 'question_id': 22, 'answer_choices': ['3', '6', '7', '5'], 'answer_id': 0}, {'image_id': './images/Merged_BW_24_0#BW_24_1.jpg', 'question': 'In how many moves one can convert left image into right image? Blocks can be moved (i) if there is no other block on it (ii) only one block can be moved at a time (iii) block can be moved OnTable, OutOfTable or on any other block.', 'question_id': 23, 'answer_choices': ['0', '1', '5', '3'], 'answer_id': 3}, {'image_id': './images/Merged_BW_25_0#BW_25_1.jpg', 'question': 'In how many moves one can convert left image into right image? Blocks can be moved (i) if there is no other block on it (ii) only one block can be moved at a time (iii) block can be moved OnTable, OutOfTable or on any other block.', 'question_id': 24, 'answer_choices': ['6', '2', '3', '0'], 'answer_id': 2}, {'image_id': './images/Merged_BW_26_0#BW_26_1.jpg', 'question': 'In how many moves one can convert left image into right image? Blocks can be moved (i) if there is no other block on it (ii) only one block can be moved at a time (iii) block can be moved OnTable, OutOfTable or on any other block.', 'question_id': 25, 'answer_choices': ['4', '6', '3', '2'], 'answer_id': 2}, {'image_id': './images/Merged_BW_27_0#BW_27_1.jpg', 'question': 'In how many moves one can convert left image into right image? Blocks can be moved (i) if there is no other block on it (ii) only one block can be moved at a time (iii) block can be moved OnTable, OutOfTable or on any other block.', 'question_id': 26, 'answer_choices': ['7', '3', '4', '5'], 'answer_id': 1}, {'image_id': './images/Merged_BW_28_0#BW_28_1.jpg', 'question': 'In how many moves one can convert left image into right image? Blocks can be moved (i) if there is no other block on it (ii) only one block can be moved at a time (iii) block can be moved OnTable, OutOfTable or on any other block.', 'question_id': 27, 'answer_choices': ['5', '6', '0', '3'], 'answer_id': 3}, {'image_id': './images/Merged_BW_29_0#BW_29_1.jpg', 'question': 'In how many moves one can convert left image into right image? Blocks can be moved (i) if there is no other block on it (ii) only one block can be moved at a time (iii) block can be moved OnTable, OutOfTable or on any other block.', 'question_id': 28, 'answer_choices': ['7', '2', '6', '3'], 'answer_id': 3}, {'image_id': './images/Merged_BW_30_0#BW_30_1.jpg', 'question': 'In how many moves one can convert left image into right image? Blocks can be moved (i) if there is no other block on it (ii) only one block can be moved at a time (iii) block can be moved OnTable, OutOfTable or on any other block.', 'question_id': 29, 'answer_choices': ['6', '4', '3', '5'], 'answer_id': 2}, {'image_id': './images/Merged_BW_31_0#BW_31_1.jpg', 'question': 'In how many moves one can convert left image into right image? Blocks can be moved (i) if there is no other block on it (ii) only one block can be moved at a time (iii) block can be moved OnTable, OutOfTable or on any other block.', 'question_id': 30, 'answer_choices': ['4', '2', '5', '0'], 'answer_id': 0}, {'image_id': './images/Merged_BW_32_0#BW_32_1.jpg', 'question': 'In how many moves one can convert left image into right image? Blocks can be moved (i) if there is no other block on it (ii) only one block can be moved at a time (iii) block can be moved OnTable, OutOfTable or on any other block.', 'question_id': 31, 'answer_choices': ['7', '0', '1', '4'], 'answer_id': 3}, {'image_id': './images/Merged_BW_33_0#BW_33_1.jpg', 'question': 'In how many moves one can convert left image into right image? Blocks can be moved (i) if there is no other block on it (ii) only one block can be moved at a time (iii) block can be moved OnTable, OutOfTable or on any other block.', 'question_id': 32, 'answer_choices': ['7', '0', '4', '1'], 'answer_id': 2}, {'image_id': './images/Merged_BW_34_0#BW_34_1.jpg', 'question': 'In how many moves one can convert left image into right image? Blocks can be moved (i) if there is no other block on it (ii) only one block can be moved at a time (iii) block can be moved OnTable, OutOfTable or on any other block.', 'question_id': 33, 'answer_choices': ['4', '3', '6', '7'], 'answer_id': 0}, {'image_id': './images/Merged_BW_35_0#BW_35_1.jpg', 'question': 'In how many moves one can convert left image into right image? Blocks can be moved (i) if there is no other block on it (ii) only one block can be moved at a time (iii) block can be moved OnTable, OutOfTable or on any other block.', 'question_id': 34, 'answer_choices': ['7', '4', '6', '0'], 'answer_id': 1}, {'image_id': './images/Merged_BW_36_0#BW_36_1.jpg', 'question': 'In how many moves one can convert left image into right image? Blocks can be moved (i) if there is no other block on it (ii) only one block can be moved at a time (iii) block can be moved OnTable, OutOfTable or on any other block.', 'question_id': 35, 'answer_choices': ['4', '3', '0', '5'], 'answer_id': 0}, {'image_id': './images/Merged_BW_37_0#BW_37_1.jpg', 'question': 'In how many moves one can convert left image into right image? Blocks can be moved (i) if there is no other block on it (ii) only one block can be moved at a time (iii) block can be moved OnTable, OutOfTable or on any other block.', 'question_id': 36, 'answer_choices': ['1', '5', '4', '7'], 'answer_id': 2}, {'image_id': './images/Merged_BW_38_0#BW_38_1.jpg', 'question': 'In how many moves one can convert left image into right image? Blocks can be moved (i) if there is no other block on it (ii) only one block can be moved at a time (iii) block can be moved OnTable, OutOfTable or on any other block.', 'question_id': 37, 'answer_choices': ['4', '5', '1', '7'], 'answer_id': 0}, {'image_id': './images/Merged_BW_39_0#BW_39_1.jpg', 'question': 'In how many moves one can convert left image into right image? Blocks can be moved (i) if there is no other block on it (ii) only one block can be moved at a time (iii) block can be moved OnTable, OutOfTable or on any other block.', 'question_id': 38, 'answer_choices': ['7', '0', '1', '4'], 'answer_id': 3}, {'image_id': './images/Merged_BW_40_0#BW_40_1.jpg', 'question': 'In how many moves one can convert left image into right image? Blocks can be moved (i) if there is no other block on it (ii) only one block can be moved at a time (iii) block can be moved OnTable, OutOfTable or on any other block.', 'question_id': 39, 'answer_choices': ['3', '4', '0', '5'], 'answer_id': 1}, {'image_id': './images/Merged_BW_1_0#BW_1_1.jpg', 'question': 'How many times the Green block should be moved to convert left image into right image? Blocks can be moved (i) if there is no other block on it (ii) only one block can be moved at a time (iii) block can be moved OnTable, OutOfTable or on any other block.', 'question_id': 40, 'answer_choices': ['3', '1', '2', '0'], 'answer_id': 1}, {'image_id': './images/Merged_BW_2_0#BW_2_1.jpg', 'question': 'How many times the Purple block should be moved to convert left image into right image? Blocks can be moved (i) if there is no other block on it (ii) only one block can be moved at a time (iii) block can be moved OnTable, OutOfTable or on any other block.', 'question_id': 41, 'answer_choices': ['0', '2', '1', '3'], 'answer_id': 2}, {'image_id': './images/Merged_BW_3_0#BW_3_1.jpg', 'question': 'How many times the Orange block should be moved to convert left image into right image? Blocks can be moved (i) if there is no other block on it (ii) only one block can be moved at a time (iii) block can be moved OnTable, OutOfTable or on any other block.', 'question_id': 42, 'answer_choices': ['3', '2', '1', '0'], 'answer_id': 2}, {'image_id': './images/Merged_BW_4_0#BW_4_1.jpg', 'question': 'How many times the Purple block should be moved to convert left image into right image? Blocks can be moved (i) if there is no other block on it (ii) only one block can be moved at a time (iii) block can be moved OnTable, OutOfTable or on any other block.', 'question_id': 43, 'answer_choices': ['3', '2', '0', '1'], 'answer_id': 3}, {'image_id': './images/Merged_BW_5_0#BW_5_1.jpg', 'question': 'How many times the Yellow block should be moved to convert left image into right image? Blocks can be moved (i) if there is no other block on it (ii) only one block can be moved at a time (iii) block can be moved OnTable, OutOfTable or on any other block.', 'question_id': 44, 'answer_choices': ['1', '0', '3', '2'], 'answer_id': 0}, {'image_id': './images/Merged_BW_6_0#BW_6_1.jpg', 'question': 'How many times the Orange block should be moved to convert left image into right image? Blocks can be moved (i) if there is no other block on it (ii) only one block can be moved at a time (iii) block can be moved OnTable, OutOfTable or on any other block.', 'question_id': 45, 'answer_choices': ['2', '0', '1', '3'], 'answer_id': 2}, {'image_id': './images/Merged_BW_7_0#BW_7_1.jpg', 'question': 'How many times the Purple block should be moved to convert left image into right image? Blocks can be moved (i) if there is no other block on it (ii) only one block can be moved at a time (iii) block can be moved OnTable, OutOfTable or on any other block.', 'question_id': 46, 'answer_choices': ['2', '3', '1', '0'], 'answer_id': 2}, {'image_id': './images/Merged_BW_8_0#BW_8_1.jpg', 'question': 'How many times the Blue block should be moved to convert left image into right image? Blocks can be moved (i) if there is no other block on it (ii) only one block can be moved at a time (iii) block can be moved OnTable, OutOfTable or on any other block.', 'question_id': 47, 'answer_choices': ['0', '1', '2', '3'], 'answer_id': 1}, {'image_id': './images/Merged_BW_9_0#BW_9_1.jpg', 'question': 'How many times the Yellow block should be moved to convert left image into right image? Blocks can be moved (i) if there is no other block on it (ii) only one block can be moved at a time (iii) block can be moved OnTable, OutOfTable or on any other block.', 'question_id': 48, 'answer_choices': ['3', '2', '1', '0'], 'answer_id': 2}, {'image_id': './images/Merged_BW_10_0#BW_10_1.jpg', 'question': 'How many times the Yellow block should be moved to convert left image into right image? Blocks can be moved (i) if there is no other block on it (ii) only one block can be moved at a time (iii) block can be moved OnTable, OutOfTable or on any other block.', 'question_id': 49, 'answer_choices': ['0', '1', '3', '2'], 'answer_id': 1}, {'image_id': './images/Merged_BW_11_0#BW_11_1.jpg', 'question': 'How many times the Yellow block should be moved to convert left image into right image? Blocks can be moved (i) if there is no other block on it (ii) only one block can be moved at a time (iii) block can be moved OnTable, OutOfTable or on any other block.', 'question_id': 50, 'answer_choices': ['2', '3', '1', '0'], 'answer_id': 2}, {'image_id': './images/Merged_BW_12_0#BW_12_1.jpg', 'question': 'How many times the Blue block should be moved to convert left image into right image? Blocks can be moved (i) if there is no other block on it (ii) only one block can be moved at a time (iii) block can be moved OnTable, OutOfTable or on any other block.', 'question_id': 51, 'answer_choices': ['0', '2', '3', '1'], 'answer_id': 3}, {'image_id': './images/Merged_BW_13_0#BW_13_1.jpg', 'question': 'How many times the Blue block should be moved to convert left image into right image? Blocks can be moved (i) if there is no other block on it (ii) only one block can be moved at a time (iii) block can be moved OnTable, OutOfTable or on any other block.', 'question_id': 52, 'answer_choices': ['2', '1', '0', '3'], 'answer_id': 1}, {'image_id': './images/Merged_BW_14_0#BW_14_1.jpg', 'question': 'How many times the Yellow block should be moved to convert left image into right image? Blocks can be moved (i) if there is no other block on it (ii) only one block can be moved at a time (iii) block can be moved OnTable, OutOfTable or on any other block.', 'question_id': 53, 'answer_choices': ['3', '0', '1', '2'], 'answer_id': 2}, {'image_id': './images/Merged_BW_15_0#BW_15_1.jpg', 'question': 'How many times the Yellow block should be moved to convert left image into right image? Blocks can be moved (i) if there is no other block on it (ii) only one block can be moved at a time (iii) block can be moved OnTable, OutOfTable or on any other block.', 'question_id': 54, 'answer_choices': ['1', '0', '3', '2'], 'answer_id': 0}, {'image_id': './images/Merged_BW_16_0#BW_16_1.jpg', 'question': 'How many times the Purple block should be moved to convert left image into right image? Blocks can be moved (i) if there is no other block on it (ii) only one block can be moved at a time (iii) block can be moved OnTable, OutOfTable or on any other block.', 'question_id': 55, 'answer_choices': ['2', '0', '3', '1'], 'answer_id': 3}, {'image_id': './images/Merged_BW_17_0#BW_17_1.jpg', 'question': 'How many times the Purple block should be moved to convert left image into right image? Blocks can be moved (i) if there is no other block on it (ii) only one block can be moved at a time (iii) block can be moved OnTable, OutOfTable or on any other block.', 'question_id': 56, 'answer_choices': ['1', '0', '2', '3'], 'answer_id': 0}, {'image_id': './images/Merged_BW_18_0#BW_18_1.jpg', 'question': 'How many times the Yellow block should be moved to convert left image into right image? Blocks can be moved (i) if there is no other block on it (ii) only one block can be moved at a time (iii) block can be moved OnTable, OutOfTable or on any other block.', 'question_id': 57, 'answer_choices': ['2', '0', '3', '1'], 'answer_id': 3}, {'image_id': './images/Merged_BW_19_0#BW_19_1.jpg', 'question': 'How many times the Purple block should be moved to convert left image into right image? Blocks can be moved (i) if there is no other block on it (ii) only one block can be moved at a time (iii) block can be moved OnTable, OutOfTable or on any other block.', 'question_id': 58, 'answer_choices': ['1', '0', '2', '3'], 'answer_id': 0}, {'image_id': './images/Merged_BW_20_0#BW_20_1.jpg', 'question': 'How many times the Orange block should be moved to convert left image into right image? Blocks can be moved (i) if there is no other block on it (ii) only one block can be moved at a time (iii) block can be moved OnTable, OutOfTable or on any other block.', 'question_id': 59, 'answer_choices': ['2', '0', '1', '3'], 'answer_id': 2}, {'image_id': './images/Merged_BW_21_0#BW_21_1.jpg', 'question': 'How many times the Purple block should be moved to convert left image into right image? Blocks can be moved (i) if there is no other block on it (ii) only one block can be moved at a time (iii) block can be moved OnTable, OutOfTable or on any other block.', 'question_id': 60, 'answer_choices': ['2', '3', '1', '0'], 'answer_id': 2}, {'image_id': './images/Merged_BW_22_0#BW_22_1.jpg', 'question': 'How many times the Purple block should be moved to convert left image into right image? Blocks can be moved (i) if there is no other block on it (ii) only one block can be moved at a time (iii) block can be moved OnTable, OutOfTable or on any other block.', 'question_id': 61, 'answer_choices': ['1', '3', '0', '2'], 'answer_id': 0}, {'image_id': './images/Merged_BW_23_0#BW_23_1.jpg', 'question': 'How many times the Blue block should be moved to convert left image into right image? Blocks can be moved (i) if there is no other block on it (ii) only one block can be moved at a time (iii) block can be moved OnTable, OutOfTable or on any other block.', 'question_id': 62, 'answer_choices': ['2', '3', '0', '1'], 'answer_id': 3}, {'image_id': './images/Merged_BW_24_0#BW_24_1.jpg', 'question': 'How many times the Orange block should be moved to convert left image into right image? Blocks can be moved (i) if there is no other block on it (ii) only one block can be moved at a time (iii) block can be moved OnTable, OutOfTable or on any other block.', 'question_id': 63, 'answer_choices': ['1', '0', '3', '2'], 'answer_id': 0}, {'image_id': './images/Merged_BW_25_0#BW_25_1.jpg', 'question': 'How many times the Red block should be moved to convert left image into right image? Blocks can be moved (i) if there is no other block on it (ii) only one block can be moved at a time (iii) block can be moved OnTable, OutOfTable or on any other block.', 'question_id': 64, 'answer_choices': ['0', '1', '3', '2'], 'answer_id': 1}, {'image_id': './images/Merged_BW_26_0#BW_26_1.jpg', 'question': 'How many times the Blue block should be moved to convert left image into right image? Blocks can be moved (i) if there is no other block on it (ii) only one block can be moved at a time (iii) block can be moved OnTable, OutOfTable or on any other block.', 'question_id': 65, 'answer_choices': ['3', '1', '2', '0'], 'answer_id': 2}, {'image_id': './images/Merged_BW_27_0#BW_27_1.jpg', 'question': 'How many times the Green block should be moved to convert left image into right image? Blocks can be moved (i) if there is no other block on it (ii) only one block can be moved at a time (iii) block can be moved OnTable, OutOfTable or on any other block.', 'question_id': 66, 'answer_choices': ['1', '3', '0', '2'], 'answer_id': 0}, {'image_id': './images/Merged_BW_28_0#BW_28_1.jpg', 'question': 'How many times the Blue block should be moved to convert left image into right image? Blocks can be moved (i) if there is no other block on it (ii) only one block can be moved at a time (iii) block can be moved OnTable, OutOfTable or on any other block.', 'question_id': 67, 'answer_choices': ['3', '2', '0', '1'], 'answer_id': 3}, {'image_id': './images/Merged_BW_29_0#BW_29_1.jpg', 'question': 'How many times the Green block should be moved to convert left image into right image? Blocks can be moved (i) if there is no other block on it (ii) only one block can be moved at a time (iii) block can be moved OnTable, OutOfTable or on any other block.', 'question_id': 68, 'answer_choices': ['1', '0', '3', '2'], 'answer_id': 0}, {'image_id': './images/Merged_BW_30_0#BW_30_1.jpg', 'question': 'How many times the Yellow block should be moved to convert left image into right image? Blocks can be moved (i) if there is no other block on it (ii) only one block can be moved at a time (iii) block can be moved OnTable, OutOfTable or on any other block.', 'question_id': 69, 'answer_choices': ['3', '1', '2', '0'], 'answer_id': 1}, {'image_id': './images/Merged_BW_31_0#BW_31_1.jpg', 'question': 'How many times the Yellow block should be moved to convert left image into right image? Blocks can be moved (i) if there is no other block on it (ii) only one block can be moved at a time (iii) block can be moved OnTable, OutOfTable or on any other block.', 'question_id': 70, 'answer_choices': ['0', '3', '2', '1'], 'answer_id': 3}, {'image_id': './images/Merged_BW_32_0#BW_32_1.jpg', 'question': 'How many times the Red block should be moved to convert left image into right image? Blocks can be moved (i) if there is no other block on it (ii) only one block can be moved at a time (iii) block can be moved OnTable, OutOfTable or on any other block.', 'question_id': 71, 'answer_choices': ['3', '1', '0', '2'], 'answer_id': 3}, {'image_id': './images/Merged_BW_33_0#BW_33_1.jpg', 'question': 'How many times the Orange block should be moved to convert left image into right image? Blocks can be moved (i) if there is no other block on it (ii) only one block can be moved at a time (iii) block can be moved OnTable, OutOfTable or on any other block.', 'question_id': 72, 'answer_choices': ['3', '1', '0', '2'], 'answer_id': 1}, {'image_id': './images/Merged_BW_34_0#BW_34_1.jpg', 'question': 'How many times the Orange block should be moved to convert left image into right image? Blocks can be moved (i) if there is no other block on it (ii) only one block can be moved at a time (iii) block can be moved OnTable, OutOfTable or on any other block.', 'question_id': 73, 'answer_choices': ['0', '1', '3', '2'], 'answer_id': 1}, {'image_id': './images/Merged_BW_35_0#BW_35_1.jpg', 'question': 'How many times the Red block should be moved to convert left image into right image? Blocks can be moved (i) if there is no other block on it (ii) only one block can be moved at a time (iii) block can be moved OnTable, OutOfTable or on any other block.', 'question_id': 74, 'answer_choices': ['3', '1', '0', '2'], 'answer_id': 1}, {'image_id': './images/Merged_BW_36_0#BW_36_1.jpg', 'question': 'How many times the Yellow block should be moved to convert left image into right image? Blocks can be moved (i) if there is no other block on it (ii) only one block can be moved at a time (iii) block can be moved OnTable, OutOfTable or on any other block.', 'question_id': 75, 'answer_choices': ['3', '0', '2', '1'], 'answer_id': 3}, {'image_id': './images/Merged_BW_37_0#BW_37_1.jpg', 'question': 'How many times the Red block should be moved to convert left image into right image? Blocks can be moved (i) if there is no other block on it (ii) only one block can be moved at a time (iii) block can be moved OnTable, OutOfTable or on any other block.', 'question_id': 76, 'answer_choices': ['0', '3', '1', '2'], 'answer_id': 2}, {'image_id': './images/Merged_BW_38_0#BW_38_1.jpg', 'question': 'How many times the Orange block should be moved to convert left image into right image? Blocks can be moved (i) if there is no other block on it (ii) only one block can be moved at a time (iii) block can be moved OnTable, OutOfTable or on any other block.', 'question_id': 77, 'answer_choices': ['3', '0', '2', '1'], 'answer_id': 3}, {'image_id': './images/Merged_BW_39_0#BW_39_1.jpg', 'question': 'How many times the Green block should be moved to convert left image into right image? Blocks can be moved (i) if there is no other block on it (ii) only one block can be moved at a time (iii) block can be moved OnTable, OutOfTable or on any other block.', 'question_id': 78, 'answer_choices': ['1', '2', '0', '3'], 'answer_id': 0}, {'image_id': './images/Merged_BW_40_0#BW_40_1.jpg', 'question': 'How many times the Yellow block should be moved to convert left image into right image? Blocks can be moved (i) if there is no other block on it (ii) only one block can be moved at a time (iii) block can be moved OnTable, OutOfTable or on any other block.', 'question_id': 79, 'answer_choices': ['2', '0', '3', '1'], 'answer_id': 3}, {'image_id': './images/Merged_BW_41_0#BW_41_1.jpg', 'question': 'In how many moves one can convert left image into right image? Blocks can be moved (i) if there is no other block on it (ii) only one block can be moved at a time (iii) block can be moved OnTable, OutOfTable or on any other block.', 'question_id': 80, 'answer_choices': ['1', '6', '4', '5'], 'answer_id': 3}, {'image_id': './images/Merged_BW_42_0#BW_42_1.jpg', 'question': 'In how many moves one can convert left image into right image? Blocks can be moved (i) if there is no other block on it (ii) only one block can be moved at a time (iii) block can be moved OnTable, OutOfTable or on any other block.', 'question_id': 81, 'answer_choices': ['5', '2', '0', '3'], 'answer_id': 0}, {'image_id': './images/Merged_BW_43_0#BW_43_1.jpg', 'question': 'In how many moves one can convert left image into right image? Blocks can be moved (i) if there is no other block on it (ii) only one block can be moved at a time (iii) block can be moved OnTable, OutOfTable or on any other block.', 'question_id': 82, 'answer_choices': ['4', '1', '0', '5'], 'answer_id': 3}, {'image_id': './images/Merged_BW_44_0#BW_44_1.jpg', 'question': 'In how many moves one can convert left image into right image? Blocks can be moved (i) if there is no other block on it (ii) only one block can be moved at a time (iii) block can be moved OnTable, OutOfTable or on any other block.', 'question_id': 83, 'answer_choices': ['3', '2', '5', '0'], 'answer_id': 2}, {'image_id': './images/Merged_BW_45_0#BW_45_1.jpg', 'question': 'In how many moves one can convert left image into right image? Blocks can be moved (i) if there is no other block on it (ii) only one block can be moved at a time (iii) block can be moved OnTable, OutOfTable or on any other block.', 'question_id': 84, 'answer_choices': ['5', '3', '0', '2'], 'answer_id': 0}, {'image_id': './images/Merged_BW_41_0#BW_41_1.jpg', 'question': 'How many times the Orange block should be moved to convert left image into right image? Blocks can be moved (i) if there is no other block on it (ii) only one block can be moved at a time (iii) block can be moved OnTable, OutOfTable or on any other block.', 'question_id': 85, 'answer_choices': ['3', '0', '1', '2'], 'answer_id': 2}, {'image_id': './images/Merged_BW_42_0#BW_42_1.jpg', 'question': 'How many times the Yellow block should be moved to convert left image into right image? Blocks can be moved (i) if there is no other block on it (ii) only one block can be moved at a time (iii) block can be moved OnTable, OutOfTable or on any other block.', 'question_id': 86, 'answer_choices': ['2', '3', '0', '1'], 'answer_id': 3}, {'image_id': './images/Merged_BW_43_0#BW_43_1.jpg', 'question': 'How many times the Green block should be moved to convert left image into right image? Blocks can be moved (i) if there is no other block on it (ii) only one block can be moved at a time (iii) block can be moved OnTable, OutOfTable or on any other block.', 'question_id': 87, 'answer_choices': ['0', '3', '2', '1'], 'answer_id': 3}, {'image_id': './images/Merged_BW_44_0#BW_44_1.jpg', 'question': 'How many times the Yellow block should be moved to convert left image into right image? Blocks can be moved (i) if there is no other block on it (ii) only one block can be moved at a time (iii) block can be moved OnTable, OutOfTable or on any other block.', 'question_id': 88, 'answer_choices': ['0', '2', '3', '1'], 'answer_id': 1}, {'image_id': './images/Merged_BW_45_0#BW_45_1.jpg', 'question': 'How many times the Yellow block should be moved to convert left image into right image? Blocks can be moved (i) if there is no other block on it (ii) only one block can be moved at a time (iii) block can be moved OnTable, OutOfTable or on any other block.', 'question_id': 89, 'answer_choices': ['3', '0', '2', '1'], 'answer_id': 3}, {'image_id': './images/Merged_BW_46_0#BW_46_1.jpg', 'question': 'In how many moves one can convert left image into right image? Blocks can be moved (i) if there is no other block on it (ii) only one block can be moved at a time (iii) block can be moved OnTable, OutOfTable or on any other block.', 'question_id': 90, 'answer_choices': ['7', '0', '5', '6'], 'answer_id': 2}, {'image_id': './images/Merged_BW_47_0#BW_47_1.jpg', 'question': 'In how many moves one can convert left image into right image? Blocks can be moved (i) if there is no other block on it (ii) only one block can be moved at a time (iii) block can be moved OnTable, OutOfTable or on any other block.', 'question_id': 91, 'answer_choices': ['7', '2', '6', '5'], 'answer_id': 3}, {'image_id': './images/Merged_BW_48_0#BW_48_1.jpg', 'question': 'In how many moves one can convert left image into right image? Blocks can be moved (i) if there is no other block on it (ii) only one block can be moved at a time (iii) block can be moved OnTable, OutOfTable or on any other block.', 'question_id': 92, 'answer_choices': ['1', '5', '2', '6'], 'answer_id': 1}, {'image_id': './images/Merged_BW_49_0#BW_49_1.jpg', 'question': 'In how many moves one can convert left image into right image? Blocks can be moved (i) if there is no other block on it (ii) only one block can be moved at a time (iii) block can be moved OnTable, OutOfTable or on any other block.', 'question_id': 93, 'answer_choices': ['1', '5', '3', '6'], 'answer_id': 1}, {'image_id': './images/Merged_BW_50_0#BW_50_1.jpg', 'question': 'In how many moves one can convert left image into right image? Blocks can be moved (i) if there is no other block on it (ii) only one block can be moved at a time (iii) block can be moved OnTable, OutOfTable or on any other block.', 'question_id': 94, 'answer_choices': ['6', '5', '2', '1'], 'answer_id': 1}, {'image_id': './images/Merged_BW_46_0#BW_46_1.jpg', 'question': 'How many times the Green block should be moved to convert left image into right image? Blocks can be moved (i) if there is no other block on it (ii) only one block can be moved at a time (iii) block can be moved OnTable, OutOfTable or on any other block.', 'question_id': 95, 'answer_choices': ['0', '1', '2', '3'], 'answer_id': 1}, {'image_id': './images/Merged_BW_47_0#BW_47_1.jpg', 'question': 'How many times the Red block should be moved to convert left image into right image? Blocks can be moved (i) if there is no other block on it (ii) only one block can be moved at a time (iii) block can be moved OnTable, OutOfTable or on any other block.', 'question_id': 96, 'answer_choices': ['2', '3', '1', '0'], 'answer_id': 2}, {'image_id': './images/Merged_BW_48_0#BW_48_1.jpg', 'question': 'How many times the Orange block should be moved to convert left image into right image? Blocks can be moved (i) if there is no other block on it (ii) only one block can be moved at a time (iii) block can be moved OnTable, OutOfTable or on any other block.', 'question_id': 97, 'answer_choices': ['1', '0', '3', '2'], 'answer_id': 0}, {'image_id': './images/Merged_BW_49_0#BW_49_1.jpg', 'question': 'How many times the Purple block should be moved to convert left image into right image? Blocks can be moved (i) if there is no other block on it (ii) only one block can be moved at a time (iii) block can be moved OnTable, OutOfTable or on any other block.', 'question_id': 98, 'answer_choices': ['0', '3', '2', '1'], 'answer_id': 3}, {'image_id': './images/Merged_BW_50_0#BW_50_1.jpg', 'question': 'How many times the Blue block should be moved to convert left image into right image? Blocks can be moved (i) if there is no other block on it (ii) only one block can be moved at a time (iii) block can be moved OnTable, OutOfTable or on any other block.', 'question_id': 99, 'answer_choices': ['3', '2', '1', '0'], 'answer_id': 2}, {'image_id': './images/Merged_BW_51_0#BW_51_1.jpg', 'question': 'Choose the correct order of moves I-IV to convert left image into right image. Consider following 4 moves for the given pair of images: I. move(Red,OutOfTable) II. move(Purple,Yellow) III. move(Green,Purple) IV. move(Orange,Green)', 'question_id': 100, 'answer_choices': ['I-II-IV-III', 'I-IV-III-II', 'II-III-I-IV', 'II-I-IV-III'], 'answer_id': 2}, {'image_id': './images/Merged_BW_52_0#BW_52_1.jpg', 'question': 'Choose the correct order of moves I-IV to convert left image into right image. Consider following 4 moves for the given pair of images:   I. move(Green,Orange) II. move(Purple,OutOfTable) III. move(Blue,OutOfTable) IV. move(Yellow,OutOfTable)', 'question_id': 101, 'answer_choices': ['I-II-IV-III', 'I-IV-III-II', 'II-III-I-IV', 'II-I-IV-III'], 'answer_id': 3}, {'image_id': './images/Merged_BW_53_0#BW_53_1.jpg', 'question': 'Choose the correct order of moves I-IV to convert left image into right image. Consider following 4 moves for the given pair of images:   I. move(Red,Table) II. move(Orange,Table) III. move(Purple,Red) IV. move(Yellow,OutOfTable)', 'question_id': 102, 'answer_choices': ['I-II-IV-III', 'I-IV-III-II', 'II-III-I-IV', 'II-I-IV-III'], 'answer_id': 0}, {'image_id': './images/Merged_BW_54_0#BW_54_1.jpg', 'question': 'Choose the correct order of moves I-IV to convert left image into right image. Consider following 4 moves for the given pair of images:   I. move(Green,Table) II. move(Purple,Table) III. move(Yellow,Table) IV. move(Red,Green)', 'question_id': 103, 'answer_choices': ['I-II-IV-III', 'I-IV-III-II', 'II-III-I-IV', 'II-I-IV-III'], 'answer_id': 1}, {'image_id': './images/Merged_BW_55_0#BW_55_1.jpg', 'question': 'Choose the correct order of moves I-IV to convert left image into right image. Consider following 4 moves for the given pair of images:   I. move(Yellow,OutOfTable) II. move(Orange,OutOfTable) III. move(Blue,Table) IV. move(Purple,OutOfTable)', 'question_id': 104, 'answer_choices': ['I-II-IV-III', 'I-IV-III-II', 'II-III-I-IV', 'II-I-IV-III'], 'answer_id': 1}, {'image_id': './images/Merged_BW_56_0#BW_56_1.jpg', 'question': 'Choose the correct order of moves I-IV to convert left image into right image. Consider following 4 moves for the given pair of images:   I. move(Green,OutOfTable) II. move(Yellow,OutOfTable) III. move(Blue,OutOfTable) IV. move(Orange,OutOfTable)', 'question_id': 105, 'answer_choices': ['I-II-IV-III', 'I-IV-III-II', 'II-III-I-IV', 'II-I-IV-III'], 'answer_id': 0}, {'image_id': './images/Merged_BW_57_0#BW_57_1.jpg', 'question': 'Choose the correct order of moves I-IV to convert left image into right image. Consider following 4 moves for the given pair of images:   I. move(Orange,Table) II. move(Green,Blue) III. move(Purple,Green) IV. move(Red,Table)', 'question_id': 106, 'answer_choices': ['I-II-IV-III', 'I-IV-III-II', 'II-III-I-IV', 'II-I-IV-III'], 'answer_id': 0}, {'image_id': './images/Merged_BW_58_0#BW_58_1.jpg', 'question': 'Choose the correct order of moves I-IV to convert left image into right image. Consider following 4 moves for the given pair of images:   I. move(Orange,Table) II. move(Red,OutOfTable) III. move(Yellow,OutOfTable) IV. move(Green,Purple)', 'question_id': 107, 'answer_choices': ['I-II-IV-III', 'I-IV-III-II', 'II-III-I-IV', 'II-I-IV-III'], 'answer_id': 1}, {'image_id': './images/Merged_BW_59_0#BW_59_1.jpg', 'question': 'Choose the correct order of moves I-IV to convert left image into right image. Consider following 4 moves for the given pair of images:   I. move(Green,OutOfTable) II. move(Blue,Yellow) III. move(Purple,Blue) IV. move(Orange,OutOfTable)', 'question_id': 108, 'answer_choices': ['I-II-IV-III', 'I-IV-III-II', 'II-III-I-IV', 'II-I-IV-III'], 'answer_id': 2}, {'image_id': './images/Merged_BW_60_0#BW_60_1.jpg', 'question': 'Choose the correct order of moves I-IV to convert left image into right image. Consider following 4 moves for the given pair of images:   I. move(Purple,OutOfTable) II. move(Green,OutOfTable) III. move(Orange,OutOfTable) IV. move(Blue,OutOfTable)', 'question_id': 109, 'answer_choices': ['I-II-IV-III', 'I-IV-III-II', 'II-III-I-IV', 'II-I-IV-III'], 'answer_id': 3}, {'image_id': './images/Merged_BW_61_0#BW_61_1.jpg', 'question': 'Choose the correct order of moves I-IV to convert left image into right image. Consider following 4 moves for the given pair of images:   I. move(Green,Table) II. move(Orange,Purple) III. move(Blue,Red) IV. move(Red,Green)', 'question_id': 110, 'answer_choices': ['I-II-IV-III', 'I-IV-III-II', 'II-III-I-IV', 'II-I-IV-III'], 'answer_id': 1}, {'image_id': './images/Merged_BW_62_0#BW_62_1.jpg', 'question': 'Choose the correct order of moves I-IV to convert left image into right image. Consider following 4 moves for the given pair of images:   I. move(Orange,Red) II. move(Purple,OutOfTable) III. move(Blue,Table) IV. move(Yellow,Blue)', 'question_id': 111, 'answer_choices': ['I-II-IV-III', 'I-IV-III-II', 'II-III-I-IV', 'II-I-IV-III'], 'answer_id': 2}, {'image_id': './images/Merged_BW_63_0#BW_63_1.jpg', 'question': 'Choose the correct order of moves I-IV to convert left image into right image. Consider following 4 moves for the given pair of images:   I. move(Purple,Table) II. move(Purple,Yellow) III. move(Yellow,Blue) IV. move(Red,OutOfTable)', 'question_id': 112, 'answer_choices': ['I-II-IV-III', 'I-IV-III-II', 'II-III-I-IV', 'II-I-IV-III'], 'answer_id': 1}, {'image_id': './images/Merged_BW_64_0#BW_64_1.jpg', 'question': 'Choose the correct order of moves I-IV to convert left image into right image. Consider following 4 moves for the given pair of images:   I. move(Green,Table) II. move(Yellow,OutOfTable) III. move(Blue,Orange) IV. move(Red,Table)', 'question_id': 113, 'answer_choices': ['I-II-IV-III', 'I-IV-III-II', 'II-III-I-IV', 'II-I-IV-III'], 'answer_id': 1}, {'image_id': './images/Merged_BW_65_0#BW_65_1.jpg', 'question': 'Choose the correct order of moves I-IV to convert left image into right image. Consider following 4 moves for the given pair of images:   I. move(Red,OutOfTable) II. move(Green,OutOfTable) III. move(Purple,Orange) IV. move(Yellow,Table)', 'question_id': 114, 'answer_choices': ['I-II-IV-III', 'I-IV-III-II', 'II-III-I-IV', 'II-I-IV-III'], 'answer_id': 0}, {'image_id': './images/Merged_BW_66_0#BW_66_1.jpg', 'question': 'Choose the correct order of moves I-IV to convert left image into right image. Consider following 4 moves for the given pair of images:   I. move(Green,Table) II. move(Blue,Table) III. move(Yellow,OutOfTable) IV. move(Red,OutOfTable)', 'question_id': 115, 'answer_choices': ['I-II-IV-III', 'I-IV-III-II', 'II-III-I-IV', 'II-I-IV-III'], 'answer_id': 3}, {'image_id': './images/Merged_BW_67_0#BW_67_1.jpg', 'question': 'Choose the correct order of moves I-IV to convert left image into right image. Consider following 4 moves for the given pair of images:   I. move(Blue,OutOfTable) II. move(Purple,OutOfTable) III. move(Yellow,Table) IV. move(Red,Green)', 'question_id': 116, 'answer_choices': ['I-II-IV-III', 'I-IV-III-II', 'II-III-I-IV', 'II-I-IV-III'], 'answer_id': 2}, {'image_id': './images/Merged_BW_68_0#BW_68_1.jpg', 'question': 'Choose the correct order of moves I-IV to convert left image into right image. Consider following 4 moves for the given pair of images:   I. move(Green,Table) II. move(Purple,OutOfTable) III. move(Yellow,OutOfTable) IV. move(Red,Table)', 'question_id': 117, 'answer_choices': ['I-II-IV-III', 'I-IV-III-II', 'II-III-I-IV', 'II-I-IV-III'], 'answer_id': 3}, {'image_id': './images/Merged_BW_69_0#BW_69_1.jpg', 'question': 'Choose the correct order of moves I-IV to convert left image into right image. Consider following 4 moves for the given pair of images:   I. move(Red,OutOfTable) II. move(Blue,Green) III. move(Yellow,Purple) IV. move(Purple,Table)', 'question_id': 118, 'answer_choices': ['I-II-IV-III', 'I-IV-III-II', 'II-III-I-IV', 'II-I-IV-III'], 'answer_id': 0}, {'image_id': './images/Merged_BW_70_0#BW_70_1.jpg', 'question': 'Choose the correct order of moves I-IV to convert left image into right image. Consider following 4 moves for the given pair of images:   I. move(Orange,Green) II. move(Purple,Yellow) III. move(Yellow,Orange) IV. move(Red,OutOfTable)', 'question_id': 119, 'answer_choices': ['I-II-IV-III', 'I-IV-III-II', 'II-III-I-IV', 'II-I-IV-III'], 'answer_id': 1}, {'image_id': './images/Merged_BW_71_0#BW_71_1.jpg', 'question': 'Choose the correct order of moves I-IV to convert left image into right image. Consider following 4 moves for the given pair of images:   I. move(Green,Table) II. move(Blue,OutOfTable) III. move(Yellow,OutOfTable) IV. move(Red,Table)', 'question_id': 120, 'answer_choices': ['I-II-IV-III', 'I-IV-III-II', 'II-III-I-IV', 'II-I-IV-III'], 'answer_id': 0}, {'image_id': './images/Merged_BW_72_0#BW_72_1.jpg', 'question': 'Choose the correct order of moves I-IV to convert left image into right image. Consider following 4 moves for the given pair of images:   I. move(Yellow,Green) II. move(Purple,OutOfTable) III. move(Green,Blue) IV. move(Red,Yellow)', 'question_id': 121, 'answer_choices': ['I-II-IV-III', 'I-IV-III-II', 'II-III-I-IV', 'II-I-IV-III'], 'answer_id': 2}, {'image_id': './images/Merged_BW_73_0#BW_73_1.jpg', 'question': 'Choose the correct order of moves I-IV to convert left image into right image. Consider following 4 moves for the given pair of images:   I. move(Yellow,Green) II. move(Blue,OutOfTable) III. move(Red,OutOfTable) IV. move(Orange,OutOfTable)', 'question_id': 122, 'answer_choices': ['I-II-IV-III', 'I-IV-III-II', 'II-III-I-IV', 'II-I-IV-III'], 'answer_id': 0}, {'image_id': './images/Merged_BW_74_0#BW_74_1.jpg', 'question': 'Choose the correct order of moves I-IV to convert left image into right image. Consider following 4 moves for the given pair of images:   I. move(Yellow,Green) II. move(Orange,Table) III. move(Blue,OutOfTable) IV. move(Purple,Table)', 'question_id': 123, 'answer_choices': ['I-II-IV-III', 'I-IV-III-II', 'II-III-I-IV', 'II-I-IV-III'], 'answer_id': 3}, {'image_id': './images/Merged_BW_75_0#BW_75_1.jpg', 'question': 'Choose the correct order of moves I-IV to convert left image into right image. Consider following 4 moves for the given pair of images:   I. move(Orange,OutOfTable) II. move(Yellow,OutOfTable) III. move(Blue,OutOfTable) IV. move(Green,OutOfTable)', 'question_id': 124, 'answer_choices': ['I-II-IV-III', 'I-IV-III-II', 'II-III-I-IV', 'II-I-IV-III'], 'answer_id': 3}, {'image_id': './images/Merged_BW_76_0#BW_76_1.jpg', 'question': 'Choose the correct order of moves I-IV to convert left image into right image. Consider following 4 moves for the given pair of images:   I. move(Green,Yellow) II. move(Blue,OutOfTable) III. move(Purple,OutOfTable) IV. move(Red,Green)', 'question_id': 125, 'answer_choices': ['I-II-IV-III', 'I-IV-III-II', 'II-III-I-IV', 'II-I-IV-III'], 'answer_id': 3}, {'image_id': './images/Merged_BW_77_0#BW_77_1.jpg', 'question': 'Choose the correct order of moves I-IV to convert left image into right image. Consider following 4 moves for the given pair of images:   I. move(Yellow,Red) II. move(Blue,Table) III. move(Green,OutOfTable) IV. move(Purple,OutOfTable)', 'question_id': 126, 'answer_choices': ['I-II-IV-III', 'I-IV-III-II', 'II-III-I-IV', 'II-I-IV-III'], 'answer_id': 3}, {'image_id': './images/Merged_BW_78_0#BW_78_1.jpg', 'question': 'Choose the correct order of moves I-IV to convert left image into right image. Consider following 4 moves for the given pair of images:   I. move(Orange,Green) II. move(Purple,OutOfTable) III. move(Yellow,Table) IV. move(Yellow,Orange)', 'question_id': 127, 'answer_choices': ['I-II-IV-III', 'I-IV-III-II', 'II-III-I-IV', 'II-I-IV-III'], 'answer_id': 2}, {'image_id': './images/Merged_BW_79_0#BW_79_1.jpg', 'question': 'Choose the correct order of moves I-IV to convert left image into right image. Consider following 4 moves for the given pair of images:   I. move(Red,Table) II. move(Blue,Table) III. move(Green,Purple) IV. move(Orange,Blue)', 'question_id': 128, 'answer_choices': ['I-II-IV-III', 'I-IV-III-II', 'II-III-I-IV', 'II-I-IV-III'], 'answer_id': 0}, {'image_id': './images/Merged_BW_80_0#BW_80_1.jpg', 'question': 'Choose the correct order of moves I-IV to convert left image into right image. Consider following 4 moves for the given pair of images:   I. move(Green,Orange) II. move(Yellow,Green) III. move(Blue,OutOfTable) IV. move(Purple,Yellow)', 'question_id': 129, 'answer_choices': ['I-II-IV-III', 'I-IV-III-II', 'II-III-I-IV', 'II-I-IV-III'], 'answer_id': 0}, {'image_id': './images/Merged_BW_81_0#BW_81_1.jpg', 'question': 'Choose the correct order of moves I-IV to convert left image into right image. Consider following 4 moves for the given pair of images:   I. move(Red,Table) II. move(Purple,OutOfTable) III. move(Blue,Table) IV. move(Orange,Table)', 'question_id': 130, 'answer_choices': ['I-II-IV-III', 'I-IV-III-II', 'II-III-I-IV', 'II-I-IV-III'], 'answer_id': 1}, {'image_id': './images/Merged_BW_82_0#BW_82_1.jpg', 'question': 'Choose the correct order of moves I-IV to convert left image into right image. Consider following 4 moves for the given pair of images:   I. move(Orange,Yellow) II. move(Green,Red) III. move(Yellow,Green) IV. move(Purple,OutOfTable)', 'question_id': 131, 'answer_choices': ['I-II-IV-III', 'I-IV-III-II', 'II-III-I-IV', 'II-I-IV-III'], 'answer_id': 2}, {'image_id': './images/Merged_BW_83_0#BW_83_1.jpg', 'question': 'Choose the correct order of moves I-IV to convert left image into right image. Consider following 4 moves for the given pair of images:   I. move(Orange,Red) II. move(Green,Table) III. move(Yellow,OutOfTable) IV. move(Purple,Green)', 'question_id': 132, 'answer_choices': ['I-II-IV-III', 'I-IV-III-II', 'II-III-I-IV', 'II-I-IV-III'], 'answer_id': 0}, {'image_id': './images/Merged_BW_84_0#BW_84_1.jpg', 'question': 'Choose the correct order of moves I-IV to convert left image into right image. Consider following 4 moves for the given pair of images:   I. move(Green,Table) II. move(Yellow,OutOfTable) III. move(Orange,OutOfTable) IV. move(Red,Table)', 'question_id': 133, 'answer_choices': ['I-II-IV-III', 'I-IV-III-II', 'II-III-I-IV', 'II-I-IV-III'], 'answer_id': 0}, {'image_id': './images/Merged_BW_85_0#BW_85_1.jpg', 'question': 'Choose the correct order of moves I-IV to convert left image into right image. Consider following 4 moves for the given pair of images:   I. move(Yellow,Table) II. move(Orange,OutOfTable) III. move(Purple,OutOfTable) IV. move(Red,Table)', 'question_id': 134, 'answer_choices': ['I-II-IV-III', 'I-IV-III-II', 'II-III-I-IV', 'II-I-IV-III'], 'answer_id': 0}, {'image_id': './images/Merged_BW_86_0#BW_86_1.jpg', 'question': 'Choose the correct order of moves I-IV to convert left image into right image. Consider following 4 moves for the given pair of images:   I. move(Orange,Blue) II. move(Orange,Yellow) III. move(Blue,Table) IV. move(Green,OutOfTable)', 'question_id': 135, 'answer_choices': ['I-II-IV-III', 'I-IV-III-II', 'II-III-I-IV', 'II-I-IV-III'], 'answer_id': 2}, {'image_id': './images/Merged_BW_87_0#BW_87_1.jpg', 'question': 'Choose the correct order of moves I-IV to convert left image into right image. Consider following 4 moves for the given pair of images:   I. move(Red,Table) II. move(Yellow,Table) III. move(Purple,Table) IV. move(Green,OutOfTable)', 'question_id': 136, 'answer_choices': ['I-II-IV-III', 'I-IV-III-II', 'II-III-I-IV', 'II-I-IV-III'], 'answer_id': 1}, {'image_id': './images/Merged_BW_88_0#BW_88_1.jpg', 'question': 'Choose the correct order of moves I-IV to convert left image into right image. Consider following 4 moves for the given pair of images:   I. move(Purple,Table) II. move(Green,Red) III. move(Yellow,Orange) IV. move(Orange,Purple)', 'question_id': 137, 'answer_choices': ['I-II-IV-III', 'I-IV-III-II', 'II-III-I-IV', 'II-I-IV-III'], 'answer_id': 0}, {'image_id': './images/Merged_BW_89_0#BW_89_1.jpg', 'question': 'Choose the correct order of moves I-IV to convert left image into right image. Consider following 4 moves for the given pair of images:   I. move(Purple,OutOfTable) II. move(Yellow,Table) III. move(Blue,Yellow) IV. move(Red,Orange)', 'question_id': 138, 'answer_choices': ['I-II-IV-III', 'I-IV-III-II', 'II-III-I-IV', 'II-I-IV-III'], 'answer_id': 3}, {'image_id': './images/Merged_BW_90_0#BW_90_1.jpg', 'question': 'Choose the correct order of moves I-IV to convert left image into right image. Consider following 4 moves for the given pair of images:   I. move(Orange,Table) II. move(Green,OutOfTable) III. move(Blue,Orange) IV. move(Red,OutOfTable)', 'question_id': 139, 'answer_choices': ['I-II-IV-III', 'I-IV-III-II', 'II-III-I-IV', 'II-I-IV-III'], 'answer_id': 0}, {'image_id': './images/Merged_BW_91_0#BW_91_1.jpg', 'question': 'Choose the correct order of moves I-IV to convert left image into right image. Consider following 4 moves for the given pair of images:   I. move(Green,Table) II. move(Blue,Table) III. move(Red,Table) IV. move(Purple,OutOfTable)', 'question_id': 140, 'answer_choices': ['I-II-IV-III', 'I-IV-III-II', 'II-III-I-IV', 'II-I-IV-III'], 'answer_id': 2}, {'image_id': './images/Merged_BW_92_0#BW_92_1.jpg', 'question': 'Choose the correct order of moves I-IV to convert left image into right image. Consider following 4 moves for the given pair of images:   I. move(Yellow,OutOfTable) II. move(Blue,OutOfTable) III. move(Red,OutOfTable) IV. move(Orange,OutOfTable)', 'question_id': 141, 'answer_choices': ['I-II-IV-III', 'I-IV-III-II', 'II-III-I-IV', 'II-I-IV-III'], 'answer_id': 3}, {'image_id': './images/Merged_BW_93_0#BW_93_1.jpg', 'question': 'Choose the correct order of moves I-IV to convert left image into right image. Consider following 4 moves for the given pair of images:   I. move(Yellow,OutOfTable) II. move(Red,OutOfTable) III. move(Green,Orange) IV. move(Orange,Purple)', 'question_id': 142, 'answer_choices': ['I-II-IV-III', 'I-IV-III-II', 'II-III-I-IV', 'II-I-IV-III'], 'answer_id': 1}, {'image_id': './images/Merged_BW_94_0#BW_94_1.jpg', 'question': 'Choose the correct order of moves I-IV to convert left image into right image. Consider following 4 moves for the given pair of images:   I. move(Orange,Table) II. move(Purple,Green) III. move(Blue,Orange) IV. move(Green,Table)', 'question_id': 143, 'answer_choices': ['I-II-IV-III', 'I-IV-III-II', 'II-III-I-IV', 'II-I-IV-III'], 'answer_id': 1}, {'image_id': './images/Merged_BW_95_0#BW_95_1.jpg', 'question': 'Choose the correct order of moves I-IV to convert left image into right image. Consider following 4 moves for the given pair of images:   I. move(Red,Table) II. move(Yellow,Blue) III. move(Orange,OutOfTable) IV. move(Purple,Yellow)', 'question_id': 144, 'answer_choices': ['I-II-IV-III', 'I-IV-III-II', 'II-III-I-IV', 'II-I-IV-III'], 'answer_id': 2}, {'image_id': './images/Merged_BW_96_0#BW_96_1.jpg', 'question': 'Choose the correct order of moves I-IV to convert left image into right image. Consider following 4 moves for the given pair of images:   I. move(Purple,OutOfTable) II. move(Blue,Table) III. move(Yellow,Green) IV. move(Green,Table)', 'question_id': 145, 'answer_choices': ['I-II-IV-III', 'I-IV-III-II', 'II-III-I-IV', 'II-I-IV-III'], 'answer_id': 1}, {'image_id': './images/Merged_BW_97_0#BW_97_1.jpg', 'question': 'Choose the correct order of moves I-IV to convert left image into right image. Consider following 4 moves for the given pair of images:   I. move(Red,Yellow) II. move(Orange,Table) III. move(Yellow,Orange) IV. move(Purple,OutOfTable)', 'question_id': 146, 'answer_choices': ['I-II-IV-III', 'I-IV-III-II', 'II-III-I-IV', 'II-I-IV-III'], 'answer_id': 2}, {'image_id': './images/Merged_BW_98_0#BW_98_1.jpg', 'question': 'Choose the correct order of moves I-IV to convert left image into right image. Consider following 4 moves for the given pair of images:   I. move(Orange,Table) II. move(Yellow,Orange) III. move(Green,Purple) IV. move(Purple,Blue)', 'question_id': 147, 'answer_choices': ['I-II-IV-III', 'I-IV-III-II', 'II-III-I-IV', 'II-I-IV-III'], 'answer_id': 0}, {'image_id': './images/Merged_BW_99_0#BW_99_1.jpg', 'question': 'Choose the correct order of moves I-IV to convert left image into right image. Consider following 4 moves for the given pair of images:   I. move(Red,OutOfTable) II. move(Green,OutOfTable) III. move(Orange,OutOfTable) IV. move(Blue,OutOfTable)', 'question_id': 148, 'answer_choices': ['I-II-IV-III', 'I-IV-III-II', 'II-III-I-IV', 'II-I-IV-III'], 'answer_id': 1}, {'image_id': './images/Merged_BW_100_0#BW_100_1.jpg', 'question': 'Choose the correct order of moves I-IV to convert left image into right image. Consider following 4 moves for the given pair of images:   I. move(Green,Purple) II. move(Red,OutOfTable) III. move(Yellow,Green) IV. move(Orange,OutOfTable)', 'question_id': 149, 'answer_choices': ['I-II-IV-III', 'I-IV-III-II', 'II-III-I-IV', 'II-I-IV-III'], 'answer_id': 3}, {'image_id': './images/Merged_BW_1_0#BW_1_1.jpg', 'question': 'There are 1 moves required convert left image into right image. Blocks can be moved (i) if there is no other block on it (ii) only one block can be moved at a time (iii) block can be moved OnTable, OutOfTable or on any other block.', 'question_id': 150, 'answer_choices': ['True', 'False'], 'answer_id': 0}, {'image_id': './images/Merged_BW_2_0#BW_2_1.jpg', 'question': 'There are 1 moves required convert left image into right image. Blocks can be moved (i) if there is no other block on it (ii) only one block can be moved at a time (iii) block can be moved OnTable, OutOfTable or on any other block.', 'question_id': 151, 'answer_choices': ['True', 'False'], 'answer_id': 0}, {'image_id': './images/Merged_BW_3_0#BW_3_1.jpg', 'question': 'There are 3 moves required convert left image into right image. Blocks can be moved (i) if there is no other block on it (ii) only one block can be moved at a time (iii) block can be moved OnTable, OutOfTable or on any other block.', 'question_id': 152, 'answer_choices': ['True', 'False'], 'answer_id': 1}, {'image_id': './images/Merged_BW_4_0#BW_4_1.jpg', 'question': 'There are 6 moves required convert left image into right image. Blocks can be moved (i) if there is no other block on it (ii) only one block can be moved at a time (iii) block can be moved OnTable, OutOfTable or on any other block.', 'question_id': 153, 'answer_choices': ['True', 'False'], 'answer_id': 1}, {'image_id': './images/Merged_BW_5_0#BW_5_1.jpg', 'question': 'There are 2 moves required convert left image into right image. Blocks can be moved (i) if there is no other block on it (ii) only one block can be moved at a time (iii) block can be moved OnTable, OutOfTable or on any other block.', 'question_id': 154, 'answer_choices': ['True', 'False'], 'answer_id': 1}, {'image_id': './images/Merged_BW_6_0#BW_6_1.jpg', 'question': 'There are 1 moves required convert left image into right image. Blocks can be moved (i) if there is no other block on it (ii) only one block can be moved at a time (iii) block can be moved OnTable, OutOfTable or on any other block.', 'question_id': 155, 'answer_choices': ['True', 'False'], 'answer_id': 0}, {'image_id': './images/Merged_BW_7_0#BW_7_1.jpg', 'question': 'There are 5 moves required convert left image into right image. Blocks can be moved (i) if there is no other block on it (ii) only one block can be moved at a time (iii) block can be moved OnTable, OutOfTable or on any other block.', 'question_id': 156, 'answer_choices': ['True', 'False'], 'answer_id': 1}, {'image_id': './images/Merged_BW_8_0#BW_8_1.jpg', 'question': 'There are 1 moves required convert left image into right image. Blocks can be moved (i) if there is no other block on it (ii) only one block can be moved at a time (iii) block can be moved OnTable, OutOfTable or on any other block.', 'question_id': 157, 'answer_choices': ['True', 'False'], 'answer_id': 0}, {'image_id': './images/Merged_BW_9_0#BW_9_1.jpg', 'question': 'There are 1 moves required convert left image into right image. Blocks can be moved (i) if there is no other block on it (ii) only one block can be moved at a time (iii) block can be moved OnTable, OutOfTable or on any other block.', 'question_id': 158, 'answer_choices': ['True', 'False'], 'answer_id': 0}, {'image_id': './images/Merged_BW_10_0#BW_10_1.jpg', 'question': 'There are 1 moves required convert left image into right image. Blocks can be moved (i) if there is no other block on it (ii) only one block can be moved at a time (iii) block can be moved OnTable, OutOfTable or on any other block.', 'question_id': 159, 'answer_choices': ['True', 'False'], 'answer_id': 0}, {'image_id': './images/Merged_BW_11_0#BW_11_1.jpg', 'question': 'There are 2 moves required convert left image into right image. Blocks can be moved (i) if there is no other block on it (ii) only one block can be moved at a time (iii) block can be moved OnTable, OutOfTable or on any other block.', 'question_id': 160, 'answer_choices': ['True', 'False'], 'answer_id': 0}, {'image_id': './images/Merged_BW_12_0#BW_12_1.jpg', 'question': 'There are 2 moves required convert left image into right image. Blocks can be moved (i) if there is no other block on it (ii) only one block can be moved at a time (iii) block can be moved OnTable, OutOfTable or on any other block.', 'question_id': 161, 'answer_choices': ['True', 'False'], 'answer_id': 0}, {'image_id': './images/Merged_BW_13_0#BW_13_1.jpg', 'question': 'There are 2 moves required convert left image into right image. Blocks can be moved (i) if there is no other block on it (ii) only one block can be moved at a time (iii) block can be moved OnTable, OutOfTable or on any other block.', 'question_id': 162, 'answer_choices': ['True', 'False'], 'answer_id': 0}, {'image_id': './images/Merged_BW_14_0#BW_14_1.jpg', 'question': 'There are 2 moves required convert left image into right image. Blocks can be moved (i) if there is no other block on it (ii) only one block can be moved at a time (iii) block can be moved OnTable, OutOfTable or on any other block.', 'question_id': 163, 'answer_choices': ['True', 'False'], 'answer_id': 0}, {'image_id': './images/Merged_BW_15_0#BW_15_1.jpg', 'question': 'There are 0 moves required convert left image into right image. Blocks can be moved (i) if there is no other block on it (ii) only one block can be moved at a time (iii) block can be moved OnTable, OutOfTable or on any other block.', 'question_id': 164, 'answer_choices': ['True', 'False'], 'answer_id': 1}, {'image_id': './images/Merged_BW_16_0#BW_16_1.jpg', 'question': 'There are 0 moves required convert left image into right image. Blocks can be moved (i) if there is no other block on it (ii) only one block can be moved at a time (iii) block can be moved OnTable, OutOfTable or on any other block.', 'question_id': 165, 'answer_choices': ['True', 'False'], 'answer_id': 1}, {'image_id': './images/Merged_BW_17_0#BW_17_1.jpg', 'question': 'There are 6 moves required convert left image into right image. Blocks can be moved (i) if there is no other block on it (ii) only one block can be moved at a time (iii) block can be moved OnTable, OutOfTable or on any other block.', 'question_id': 166, 'answer_choices': ['True', 'False'], 'answer_id': 1}, {'image_id': './images/Merged_BW_18_0#BW_18_1.jpg', 'question': 'There are 1 moves required convert left image into right image. Blocks can be moved (i) if there is no other block on it (ii) only one block can be moved at a time (iii) block can be moved OnTable, OutOfTable or on any other block.', 'question_id': 167, 'answer_choices': ['True', 'False'], 'answer_id': 1}, {'image_id': './images/Merged_BW_19_0#BW_19_1.jpg', 'question': 'There are 5 moves required convert left image into right image. Blocks can be moved (i) if there is no other block on it (ii) only one block can be moved at a time (iii) block can be moved OnTable, OutOfTable or on any other block.', 'question_id': 168, 'answer_choices': ['True', 'False'], 'answer_id': 1}, {'image_id': './images/Merged_BW_20_0#BW_20_1.jpg', 'question': 'There are 0 moves required convert left image into right image. Blocks can be moved (i) if there is no other block on it (ii) only one block can be moved at a time (iii) block can be moved OnTable, OutOfTable or on any other block.', 'question_id': 169, 'answer_choices': ['True', 'False'], 'answer_id': 1}, {'image_id': './images/Merged_BW_21_0#BW_21_1.jpg', 'question': 'There are 7 moves required convert left image into right image. Blocks can be moved (i) if there is no other block on it (ii) only one block can be moved at a time (iii) block can be moved OnTable, OutOfTable or on any other block.', 'question_id': 170, 'answer_choices': ['True', 'False'], 'answer_id': 1}, {'image_id': './images/Merged_BW_22_0#BW_22_1.jpg', 'question': 'There are 4 moves required convert left image into right image. Blocks can be moved (i) if there is no other block on it (ii) only one block can be moved at a time (iii) block can be moved OnTable, OutOfTable or on any other block.', 'question_id': 171, 'answer_choices': ['True', 'False'], 'answer_id': 1}, {'image_id': './images/Merged_BW_23_0#BW_23_1.jpg', 'question': 'There are 3 moves required convert left image into right image. Blocks can be moved (i) if there is no other block on it (ii) only one block can be moved at a time (iii) block can be moved OnTable, OutOfTable or on any other block.', 'question_id': 172, 'answer_choices': ['True', 'False'], 'answer_id': 0}, {'image_id': './images/Merged_BW_24_0#BW_24_1.jpg', 'question': 'There are 3 moves required convert left image into right image. Blocks can be moved (i) if there is no other block on it (ii) only one block can be moved at a time (iii) block can be moved OnTable, OutOfTable or on any other block.', 'question_id': 173, 'answer_choices': ['True', 'False'], 'answer_id': 0}, {'image_id': './images/Merged_BW_25_0#BW_25_1.jpg', 'question': 'There are 3 moves required convert left image into right image. Blocks can be moved (i) if there is no other block on it (ii) only one block can be moved at a time (iii) block can be moved OnTable, OutOfTable or on any other block.', 'question_id': 174, 'answer_choices': ['True', 'False'], 'answer_id': 0}, {'image_id': './images/Merged_BW_26_0#BW_26_1.jpg', 'question': 'There are 3 moves required convert left image into right image. Blocks can be moved (i) if there is no other block on it (ii) only one block can be moved at a time (iii) block can be moved OnTable, OutOfTable or on any other block.', 'question_id': 175, 'answer_choices': ['True', 'False'], 'answer_id': 0}, {'image_id': './images/Merged_BW_27_0#BW_27_1.jpg', 'question': 'There are 0 moves required convert left image into right image. Blocks can be moved (i) if there is no other block on it (ii) only one block can be moved at a time (iii) block can be moved OnTable, OutOfTable or on any other block.', 'question_id': 176, 'answer_choices': ['True', 'False'], 'answer_id': 1}, {'image_id': './images/Merged_BW_28_0#BW_28_1.jpg', 'question': 'There are 3 moves required convert left image into right image. Blocks can be moved (i) if there is no other block on it (ii) only one block can be moved at a time (iii) block can be moved OnTable, OutOfTable or on any other block.', 'question_id': 177, 'answer_choices': ['True', 'False'], 'answer_id': 0}, {'image_id': './images/Merged_BW_29_0#BW_29_1.jpg', 'question': 'There are 2 moves required convert left image into right image. Blocks can be moved (i) if there is no other block on it (ii) only one block can be moved at a time (iii) block can be moved OnTable, OutOfTable or on any other block.', 'question_id': 178, 'answer_choices': ['True', 'False'], 'answer_id': 1}, {'image_id': './images/Merged_BW_30_0#BW_30_1.jpg', 'question': 'There are 3 moves required convert left image into right image. Blocks can be moved (i) if there is no other block on it (ii) only one block can be moved at a time (iii) block can be moved OnTable, OutOfTable or on any other block.', 'question_id': 179, 'answer_choices': ['True', 'False'], 'answer_id': 0}, {'image_id': './images/Merged_BW_31_0#BW_31_1.jpg', 'question': 'There are 4 moves required convert left image into right image. Blocks can be moved (i) if there is no other block on it (ii) only one block can be moved at a time (iii) block can be moved OnTable, OutOfTable or on any other block.', 'question_id': 180, 'answer_choices': ['True', 'False'], 'answer_id': 0}, {'image_id': './images/Merged_BW_32_0#BW_32_1.jpg', 'question': 'There are 4 moves required convert left image into right image. Blocks can be moved (i) if there is no other block on it (ii) only one block can be moved at a time (iii) block can be moved OnTable, OutOfTable or on any other block.', 'question_id': 181, 'answer_choices': ['True', 'False'], 'answer_id': 0}, {'image_id': './images/Merged_BW_33_0#BW_33_1.jpg', 'question': 'There are 4 moves required convert left image into right image. Blocks can be moved (i) if there is no other block on it (ii) only one block can be moved at a time (iii) block can be moved OnTable, OutOfTable or on any other block.', 'question_id': 182, 'answer_choices': ['True', 'False'], 'answer_id': 0}, {'image_id': './images/Merged_BW_34_0#BW_34_1.jpg', 'question': 'There are 3 moves required convert left image into right image. Blocks can be moved (i) if there is no other block on it (ii) only one block can be moved at a time (iii) block can be moved OnTable, OutOfTable or on any other block.', 'question_id': 183, 'answer_choices': ['True', 'False'], 'answer_id': 1}, {'image_id': './images/Merged_BW_35_0#BW_35_1.jpg', 'question': 'There are 4 moves required convert left image into right image. Blocks can be moved (i) if there is no other block on it (ii) only one block can be moved at a time (iii) block can be moved OnTable, OutOfTable or on any other block.', 'question_id': 184, 'answer_choices': ['True', 'False'], 'answer_id': 0}, {'image_id': './images/Merged_BW_36_0#BW_36_1.jpg', 'question': 'There are 4 moves required convert left image into right image. Blocks can be moved (i) if there is no other block on it (ii) only one block can be moved at a time (iii) block can be moved OnTable, OutOfTable or on any other block.', 'question_id': 185, 'answer_choices': ['True', 'False'], 'answer_id': 0}, {'image_id': './images/Merged_BW_37_0#BW_37_1.jpg', 'question': 'There are 4 moves required convert left image into right image. Blocks can be moved (i) if there is no other block on it (ii) only one block can be moved at a time (iii) block can be moved OnTable, OutOfTable or on any other block.', 'question_id': 186, 'answer_choices': ['True', 'False'], 'answer_id': 0}, {'image_id': './images/Merged_BW_38_0#BW_38_1.jpg', 'question': 'There are 4 moves required convert left image into right image. Blocks can be moved (i) if there is no other block on it (ii) only one block can be moved at a time (iii) block can be moved OnTable, OutOfTable or on any other block.', 'question_id': 187, 'answer_choices': ['True', 'False'], 'answer_id': 0}, {'image_id': './images/Merged_BW_39_0#BW_39_1.jpg', 'question': 'There are 4 moves required convert left image into right image. Blocks can be moved (i) if there is no other block on it (ii) only one block can be moved at a time (iii) block can be moved OnTable, OutOfTable or on any other block.', 'question_id': 188, 'answer_choices': ['True', 'False'], 'answer_id': 0}, {'image_id': './images/Merged_BW_40_0#BW_40_1.jpg', 'question': 'There are 4 moves required convert left image into right image. Blocks can be moved (i) if there is no other block on it (ii) only one block can be moved at a time (iii) block can be moved OnTable, OutOfTable or on any other block.', 'question_id': 189, 'answer_choices': ['True', 'False'], 'answer_id': 0}, {'image_id': './images/Merged_BW_1_0#BW_1_1.jpg', 'question': 'The Green block is moved 0 times if one wants to convert left image into right image. Blocks can be moved (i) if there is no other block on it (ii) only one block can be moved at a time (iii) block can be moved OnTable, OutOfTable or on any other block.', 'question_id': 190, 'answer_choices': ['True', 'False'], 'answer_id': 1}, {'image_id': './images/Merged_BW_2_0#BW_2_1.jpg', 'question': 'The Purple block is moved 2 times if one wants to convert left image into right image. Blocks can be moved (i) if there is no other block on it (ii) only one block can be moved at a time (iii) block can be moved OnTable, OutOfTable or on any other block.', 'question_id': 191, 'answer_choices': ['True', 'False'], 'answer_id': 1}, {'image_id': './images/Merged_BW_3_0#BW_3_1.jpg', 'question': 'The Orange block is moved 1 times if one wants to convert left image into right image. Blocks can be moved (i) if there is no other block on it (ii) only one block can be moved at a time (iii) block can be moved OnTable, OutOfTable or on any other block.', 'question_id': 192, 'answer_choices': ['True', 'False'], 'answer_id': 0}, {'image_id': './images/Merged_BW_4_0#BW_4_1.jpg', 'question': 'The Purple block is moved 1 times if one wants to convert left image into right image. Blocks can be moved (i) if there is no other block on it (ii) only one block can be moved at a time (iii) block can be moved OnTable, OutOfTable or on any other block.', 'question_id': 193, 'answer_choices': ['True', 'False'], 'answer_id': 0}, {'image_id': './images/Merged_BW_5_0#BW_5_1.jpg', 'question': 'The Yellow block is moved 0 times if one wants to convert left image into right image. Blocks can be moved (i) if there is no other block on it (ii) only one block can be moved at a time (iii) block can be moved OnTable, OutOfTable or on any other block.', 'question_id': 194, 'answer_choices': ['True', 'False'], 'answer_id': 1}, {'image_id': './images/Merged_BW_6_0#BW_6_1.jpg', 'question': 'The Orange block is moved 0 times if one wants to convert left image into right image. Blocks can be moved (i) if there is no other block on it (ii) only one block can be moved at a time (iii) block can be moved OnTable, OutOfTable or on any other block.', 'question_id': 195, 'answer_choices': ['True', 'False'], 'answer_id': 1}, {'image_id': './images/Merged_BW_7_0#BW_7_1.jpg', 'question': 'The Purple block is moved 3 times if one wants to convert left image into right image. Blocks can be moved (i) if there is no other block on it (ii) only one block can be moved at a time (iii) block can be moved OnTable, OutOfTable or on any other block.', 'question_id': 196, 'answer_choices': ['True', 'False'], 'answer_id': 1}, {'image_id': './images/Merged_BW_8_0#BW_8_1.jpg', 'question': 'The Blue block is moved 1 times if one wants to convert left image into right image. Blocks can be moved (i) if there is no other block on it (ii) only one block can be moved at a time (iii) block can be moved OnTable, OutOfTable or on any other block.', 'question_id': 197, 'answer_choices': ['True', 'False'], 'answer_id': 0}, {'image_id': './images/Merged_BW_9_0#BW_9_1.jpg', 'question': 'The Yellow block is moved 1 times if one wants to convert left image into right image. Blocks can be moved (i) if there is no other block on it (ii) only one block can be moved at a time (iii) block can be moved OnTable, OutOfTable or on any other block.', 'question_id': 198, 'answer_choices': ['True', 'False'], 'answer_id': 0}, {'image_id': './images/Merged_BW_10_0#BW_10_1.jpg', 'question': 'The Yellow block is moved 1 times if one wants to convert left image into right image. Blocks can be moved (i) if there is no other block on it (ii) only one block can be moved at a time (iii) block can be moved OnTable, OutOfTable or on any other block.', 'question_id': 199, 'answer_choices': ['True', 'False'], 'answer_id': 0}, {'image_id': './images/Merged_BW_11_0#BW_11_1.jpg', 'question': 'The Yellow block is moved 3 times if one wants to convert left image into right image. Blocks can be moved (i) if there is no other block on it (ii) only one block can be moved at a time (iii) block can be moved OnTable, OutOfTable or on any other block.', 'question_id': 200, 'answer_choices': ['True', 'False'], 'answer_id': 1}, {'image_id': './images/Merged_BW_12_0#BW_12_1.jpg', 'question': 'The Blue block is moved 2 times if one wants to convert left image into right image. Blocks can be moved (i) if there is no other block on it (ii) only one block can be moved at a time (iii) block can be moved OnTable, OutOfTable or on any other block.', 'question_id': 201, 'answer_choices': ['True', 'False'], 'answer_id': 1}, {'image_id': './images/Merged_BW_13_0#BW_13_1.jpg', 'question': 'The Blue block is moved 1 times if one wants to convert left image into right image. Blocks can be moved (i) if there is no other block on it (ii) only one block can be moved at a time (iii) block can be moved OnTable, OutOfTable or on any other block.', 'question_id': 202, 'answer_choices': ['True', 'False'], 'answer_id': 0}, {'image_id': './images/Merged_BW_14_0#BW_14_1.jpg', 'question': 'The Yellow block is moved 1 times if one wants to convert left image into right image. Blocks can be moved (i) if there is no other block on it (ii) only one block can be moved at a time (iii) block can be moved OnTable, OutOfTable or on any other block.', 'question_id': 203, 'answer_choices': ['True', 'False'], 'answer_id': 0}, {'image_id': './images/Merged_BW_15_0#BW_15_1.jpg', 'question': 'The Yellow block is moved 1 times if one wants to convert left image into right image. Blocks can be moved (i) if there is no other block on it (ii) only one block can be moved at a time (iii) block can be moved OnTable, OutOfTable or on any other block.', 'question_id': 204, 'answer_choices': ['True', 'False'], 'answer_id': 0}, {'image_id': './images/Merged_BW_16_0#BW_16_1.jpg', 'question': 'The Red block is moved 1 times if one wants to convert left image into right image. Blocks can be moved (i) if there is no other block on it (ii) only one block can be moved at a time (iii) block can be moved OnTable, OutOfTable or on any other block.', 'question_id': 205, 'answer_choices': ['True', 'False'], 'answer_id': 0}, {'image_id': './images/Merged_BW_17_0#BW_17_1.jpg', 'question': 'The Purple block is moved 3 times if one wants to convert left image into right image. Blocks can be moved (i) if there is no other block on it (ii) only one block can be moved at a time (iii) block can be moved OnTable, OutOfTable or on any other block.', 'question_id': 206, 'answer_choices': ['True', 'False'], 'answer_id': 1}, {'image_id': './images/Merged_BW_18_0#BW_18_1.jpg', 'question': 'The Yellow block is moved 1 times if one wants to convert left image into right image. Blocks can be moved (i) if there is no other block on it (ii) only one block can be moved at a time (iii) block can be moved OnTable, OutOfTable or on any other block.', 'question_id': 207, 'answer_choices': ['True', 'False'], 'answer_id': 0}, {'image_id': './images/Merged_BW_19_0#BW_19_1.jpg', 'question': 'The Purple block is moved 3 times if one wants to convert left image into right image. Blocks can be moved (i) if there is no other block on it (ii) only one block can be moved at a time (iii) block can be moved OnTable, OutOfTable or on any other block.', 'question_id': 208, 'answer_choices': ['True', 'False'], 'answer_id': 1}, {'image_id': './images/Merged_BW_20_0#BW_20_1.jpg', 'question': 'The Yellow block is moved 1 times if one wants to convert left image into right image. Blocks can be moved (i) if there is no other block on it (ii) only one block can be moved at a time (iii) block can be moved OnTable, OutOfTable or on any other block.', 'question_id': 209, 'answer_choices': ['True', 'False'], 'answer_id': 0}, {'image_id': './images/Merged_BW_21_0#BW_21_1.jpg', 'question': 'The Blue block is moved 1 times if one wants to convert left image into right image. Blocks can be moved (i) if there is no other block on it (ii) only one block can be moved at a time (iii) block can be moved OnTable, OutOfTable or on any other block.', 'question_id': 210, 'answer_choices': ['True', 'False'], 'answer_id': 0}, {'image_id': './images/Merged_BW_22_0#BW_22_1.jpg', 'question': 'The Yellow block is moved 2 times if one wants to convert left image into right image. Blocks can be moved (i) if there is no other block on it (ii) only one block can be moved at a time (iii) block can be moved OnTable, OutOfTable or on any other block.', 'question_id': 211, 'answer_choices': ['True', 'False'], 'answer_id': 1}, {'image_id': './images/Merged_BW_23_0#BW_23_1.jpg', 'question': 'The Yellow block is moved 0 times if one wants to convert left image into right image. Blocks can be moved (i) if there is no other block on it (ii) only one block can be moved at a time (iii) block can be moved OnTable, OutOfTable or on any other block.', 'question_id': 212, 'answer_choices': ['True', 'False'], 'answer_id': 1}, {'image_id': './images/Merged_BW_24_0#BW_24_1.jpg', 'question': 'The Orange block is moved 2 times if one wants to convert left image into right image. Blocks can be moved (i) if there is no other block on it (ii) only one block can be moved at a time (iii) block can be moved OnTable, OutOfTable or on any other block.', 'question_id': 213, 'answer_choices': ['True', 'False'], 'answer_id': 1}, {'image_id': './images/Merged_BW_25_0#BW_25_1.jpg', 'question': 'The Red block is moved 1 times if one wants to convert left image into right image. Blocks can be moved (i) if there is no other block on it (ii) only one block can be moved at a time (iii) block can be moved OnTable, OutOfTable or on any other block.', 'question_id': 214, 'answer_choices': ['True', 'False'], 'answer_id': 0}, {'image_id': './images/Merged_BW_26_0#BW_26_1.jpg', 'question': 'The Orange block is moved 1 times if one wants to convert left image into right image. Blocks can be moved (i) if there is no other block on it (ii) only one block can be moved at a time (iii) block can be moved OnTable, OutOfTable or on any other block.', 'question_id': 215, 'answer_choices': ['True', 'False'], 'answer_id': 0}, {'image_id': './images/Merged_BW_27_0#BW_27_1.jpg', 'question': 'The Green block is moved 1 times if one wants to convert left image into right image. Blocks can be moved (i) if there is no other block on it (ii) only one block can be moved at a time (iii) block can be moved OnTable, OutOfTable or on any other block.', 'question_id': 216, 'answer_choices': ['True', 'False'], 'answer_id': 0}, {'image_id': './images/Merged_BW_28_0#BW_28_1.jpg', 'question': 'The Red block is moved 3 times if one wants to convert left image into right image. Blocks can be moved (i) if there is no other block on it (ii) only one block can be moved at a time (iii) block can be moved OnTable, OutOfTable or on any other block.', 'question_id': 217, 'answer_choices': ['True', 'False'], 'answer_id': 1}, {'image_id': './images/Merged_BW_29_0#BW_29_1.jpg', 'question': 'The Yellow block is moved 2 times if one wants to convert left image into right image. Blocks can be moved (i) if there is no other block on it (ii) only one block can be moved at a time (iii) block can be moved OnTable, OutOfTable or on any other block.', 'question_id': 218, 'answer_choices': ['True', 'False'], 'answer_id': 1}, {'image_id': './images/Merged_BW_30_0#BW_30_1.jpg', 'question': 'The Orange block is moved 1 times if one wants to convert left image into right image. Blocks can be moved (i) if there is no other block on it (ii) only one block can be moved at a time (iii) block can be moved OnTable, OutOfTable or on any other block.', 'question_id': 219, 'answer_choices': ['True', 'False'], 'answer_id': 0}, {'image_id': './images/Merged_BW_31_0#BW_31_1.jpg', 'question': 'The Yellow block is moved 1 times if one wants to convert left image into right image. Blocks can be moved (i) if there is no other block on it (ii) only one block can be moved at a time (iii) block can be moved OnTable, OutOfTable or on any other block.', 'question_id': 220, 'answer_choices': ['True', 'False'], 'answer_id': 0}, {'image_id': './images/Merged_BW_32_0#BW_32_1.jpg', 'question': 'The Green block is moved 1 times if one wants to convert left image into right image. Blocks can be moved (i) if there is no other block on it (ii) only one block can be moved at a time (iii) block can be moved OnTable, OutOfTable or on any other block.', 'question_id': 221, 'answer_choices': ['True', 'False'], 'answer_id': 0}, {'image_id': './images/Merged_BW_33_0#BW_33_1.jpg', 'question': 'The Purple block is moved 1 times if one wants to convert left image into right image. Blocks can be moved (i) if there is no other block on it (ii) only one block can be moved at a time (iii) block can be moved OnTable, OutOfTable or on any other block.', 'question_id': 222, 'answer_choices': ['True', 'False'], 'answer_id': 0}, {'image_id': './images/Merged_BW_34_0#BW_34_1.jpg', 'question': 'The Red block is moved 1 times if one wants to convert left image into right image. Blocks can be moved (i) if there is no other block on it (ii) only one block can be moved at a time (iii) block can be moved OnTable, OutOfTable or on any other block.', 'question_id': 223, 'answer_choices': ['True', 'False'], 'answer_id': 0}, {'image_id': './images/Merged_BW_35_0#BW_35_1.jpg', 'question': 'The Red block is moved 2 times if one wants to convert left image into right image. Blocks can be moved (i) if there is no other block on it (ii) only one block can be moved at a time (iii) block can be moved OnTable, OutOfTable or on any other block.', 'question_id': 224, 'answer_choices': ['True', 'False'], 'answer_id': 1}, {'image_id': './images/Merged_BW_36_0#BW_36_1.jpg', 'question': 'The Purple block is moved 1 times if one wants to convert left image into right image. Blocks can be moved (i) if there is no other block on it (ii) only one block can be moved at a time (iii) block can be moved OnTable, OutOfTable or on any other block.', 'question_id': 225, 'answer_choices': ['True', 'False'], 'answer_id': 0}, {'image_id': './images/Merged_BW_37_0#BW_37_1.jpg', 'question': 'The Blue block is moved 2 times if one wants to convert left image into right image. Blocks can be moved (i) if there is no other block on it (ii) only one block can be moved at a time (iii) block can be moved OnTable, OutOfTable or on any other block.', 'question_id': 226, 'answer_choices': ['True', 'False'], 'answer_id': 1}, {'image_id': './images/Merged_BW_38_0#BW_38_1.jpg', 'question': 'The Blue block is moved 3 times if one wants to convert left image into right image. Blocks can be moved (i) if there is no other block on it (ii) only one block can be moved at a time (iii) block can be moved OnTable, OutOfTable or on any other block.', 'question_id': 227, 'answer_choices': ['True', 'False'], 'answer_id': 1}, {'image_id': './images/Merged_BW_39_0#BW_39_1.jpg', 'question': 'The Orange block is moved 2 times if one wants to convert left image into right image. Blocks can be moved (i) if there is no other block on it (ii) only one block can be moved at a time (iii) block can be moved OnTable, OutOfTable or on any other block.', 'question_id': 228, 'answer_choices': ['True', 'False'], 'answer_id': 1}, {'image_id': './images/Merged_BW_40_0#BW_40_1.jpg', 'question': 'The Purple block is moved 1 times if one wants to convert left image into right image. Blocks can be moved (i) if there is no other block on it (ii) only one block can be moved at a time (iii) block can be moved OnTable, OutOfTable or on any other block.', 'question_id': 229, 'answer_choices': ['True', 'False'], 'answer_id': 0}, {'image_id': './images/Merged_BW_41_0#BW_41_1.jpg', 'question': 'There are 5 moves required convert left image into right image. Blocks can be moved (i) if there is no other block on it (ii) only one block can be moved at a time (iii) block can be moved OnTable, OutOfTable or on any other block.', 'question_id': 230, 'answer_choices': ['True', 'False'], 'answer_id': 0}, {'image_id': './images/Merged_BW_42_0#BW_42_1.jpg', 'question': 'There are 5 moves required convert left image into right image. Blocks can be moved (i) if there is no other block on it (ii) only one block can be moved at a time (iii) block can be moved OnTable, OutOfTable or on any other block.', 'question_id': 231, 'answer_choices': ['True', 'False'], 'answer_id': 0}, {'image_id': './images/Merged_BW_43_0#BW_43_1.jpg', 'question': 'There are 4 moves required convert left image into right image. Blocks can be moved (i) if there is no other block on it (ii) only one block can be moved at a time (iii) block can be moved OnTable, OutOfTable or on any other block.', 'question_id': 232, 'answer_choices': ['True', 'False'], 'answer_id': 1}, {'image_id': './images/Merged_BW_44_0#BW_44_1.jpg', 'question': 'There are 2 moves required convert left image into right image. Blocks can be moved (i) if there is no other block on it (ii) only one block can be moved at a time (iii) block can be moved OnTable, OutOfTable or on any other block.', 'question_id': 233, 'answer_choices': ['True', 'False'], 'answer_id': 1}, {'image_id': './images/Merged_BW_45_0#BW_45_1.jpg', 'question': 'There are 5 moves required convert left image into right image. Blocks can be moved (i) if there is no other block on it (ii) only one block can be moved at a time (iii) block can be moved OnTable, OutOfTable or on any other block.', 'question_id': 234, 'answer_choices': ['True', 'False'], 'answer_id': 0}, {'image_id': './images/Merged_BW_41_0#BW_41_1.jpg', 'question': 'The Orange block is moved 1 times if one wants to convert left image into right image. Blocks can be moved (i) if there is no other block on it (ii) only one block can be moved at a time (iii) block can be moved OnTable, OutOfTable or on any other block.', 'question_id': 235, 'answer_choices': ['True', 'False'], 'answer_id': 0}, {'image_id': './images/Merged_BW_42_0#BW_42_1.jpg', 'question': 'The Yellow block is moved 1 times if one wants to convert left image into right image. Blocks can be moved (i) if there is no other block on it (ii) only one block can be moved at a time (iii) block can be moved OnTable, OutOfTable or on any other block.', 'question_id': 236, 'answer_choices': ['True', 'False'], 'answer_id': 0}, {'image_id': './images/Merged_BW_43_0#BW_43_1.jpg', 'question': 'The Blue block is moved 0 times if one wants to convert left image into right image. Blocks can be moved (i) if there is no other block on it (ii) only one block can be moved at a time (iii) block can be moved OnTable, OutOfTable or on any other block.', 'question_id': 237, 'answer_choices': ['True', 'False'], 'answer_id': 1}, {'image_id': './images/Merged_BW_44_0#BW_44_1.jpg', 'question': 'The Yellow block is moved 0 times if one wants to convert left image into right image. Blocks can be moved (i) if there is no other block on it (ii) only one block can be moved at a time (iii) block can be moved OnTable, OutOfTable or on any other block.', 'question_id': 238, 'answer_choices': ['True', 'False'], 'answer_id': 1}, {'image_id': './images/Merged_BW_45_0#BW_45_1.jpg', 'question': 'The Orange block is moved 2 times if one wants to convert left image into right image. Blocks can be moved (i) if there is no other block on it (ii) only one block can be moved at a time (iii) block can be moved OnTable, OutOfTable or on any other block.', 'question_id': 239, 'answer_choices': ['True', 'False'], 'answer_id': 1}, {'image_id': './images/Merged_BW_46_0#BW_46_1.jpg', 'question': 'There are 5 moves required convert left image into right image. Blocks can be moved (i) if there is no other block on it (ii) only one block can be moved at a time (iii) block can be moved OnTable, OutOfTable or on any other block.', 'question_id': 240, 'answer_choices': ['True', 'False'], 'answer_id': 0}, {'image_id': './images/Merged_BW_47_0#BW_47_1.jpg', 'question': 'There are 1 moves required convert left image into right image. Blocks can be moved (i) if there is no other block on it (ii) only one block can be moved at a time (iii) block can be moved OnTable, OutOfTable or on any other block.', 'question_id': 241, 'answer_choices': ['True', 'False'], 'answer_id': 1}, {'image_id': './images/Merged_BW_48_0#BW_48_1.jpg', 'question': 'There are 5 moves required convert left image into right image. Blocks can be moved (i) if there is no other block on it (ii) only one block can be moved at a time (iii) block can be moved OnTable, OutOfTable or on any other block.', 'question_id': 242, 'answer_choices': ['True', 'False'], 'answer_id': 0}, {'image_id': './images/Merged_BW_49_0#BW_49_1.jpg', 'question': 'There are 4 moves required convert left image into right image. Blocks can be moved (i) if there is no other block on it (ii) only one block can be moved at a time (iii) block can be moved OnTable, OutOfTable or on any other block.', 'question_id': 243, 'answer_choices': ['True', 'False'], 'answer_id': 1}, {'image_id': './images/Merged_BW_50_0#BW_50_1.jpg', 'question': 'There are 4 moves required convert left image into right image. Blocks can be moved (i) if there is no other block on it (ii) only one block can be moved at a time (iii) block can be moved OnTable, OutOfTable or on any other block.', 'question_id': 244, 'answer_choices': ['True', 'False'], 'answer_id': 1}, {'image_id': './images/Merged_BW_46_0#BW_46_1.jpg', 'question': 'The Blue block is moved 1 times if one wants to convert left image into right image. Blocks can be moved (i) if there is no other block on it (ii) only one block can be moved at a time (iii) block can be moved OnTable, OutOfTable or on any other block.', 'question_id': 245, 'answer_choices': ['True', 'False'], 'answer_id': 0}, {'image_id': './images/Merged_BW_47_0#BW_47_1.jpg', 'question': 'The Red block is moved 2 times if one wants to convert left image into right image. Blocks can be moved (i) if there is no other block on it (ii) only one block can be moved at a time (iii) block can be moved OnTable, OutOfTable or on any other block.', 'question_id': 246, 'answer_choices': ['True', 'False'], 'answer_id': 1}, {'image_id': './images/Merged_BW_48_0#BW_48_1.jpg', 'question': 'The Yellow block is moved 2 times if one wants to convert left image into right image. Blocks can be moved (i) if there is no other block on it (ii) only one block can be moved at a time (iii) block can be moved OnTable, OutOfTable or on any other block.', 'question_id': 247, 'answer_choices': ['True', 'False'], 'answer_id': 1}, {'image_id': './images/Merged_BW_49_0#BW_49_1.jpg', 'question': 'The Red block is moved 0 times if one wants to convert left image into right image. Blocks can be moved (i) if there is no other block on it (ii) only one block can be moved at a time (iii) block can be moved OnTable, OutOfTable or on any other block.', 'question_id': 248, 'answer_choices': ['True', 'False'], 'answer_id': 1}, {'image_id': './images/Merged_BW_50_0#BW_50_1.jpg', 'question': 'The Blue block is moved 2 times if one wants to convert left image into right image. Blocks can be moved (i) if there is no other block on it (ii) only one block can be moved at a time (iii) block can be moved OnTable, OutOfTable or on any other block.', 'question_id': 249, 'answer_choices': ['True', 'False'], 'answer_id': 1}]}\n"
          ]
        }
      ]
    },
    {
      "cell_type": "markdown",
      "source": [
        "### Read questions\n",
        "\n",
        "First, we read the questions."
      ],
      "metadata": {
        "id": "QgTMR9H5kkHw"
      }
    },
    {
      "cell_type": "code",
      "source": [
        "import json\n",
        "f = open('/content/'+prefix+'_viltft.jsonl','r')\n",
        "data_questions = json.load(f)\n",
        "questions = data_questions['questions']\n",
        "\n",
        "print(data_questions.keys())\n",
        "print(\"Number of questions:\", len(questions))"
      ],
      "metadata": {
        "id": "XKAWRzGk7mPe",
        "colab": {
          "base_uri": "https://localhost:8080/"
        },
        "outputId": "8bc8434b-8355-4baf-9dc9-b43fd3643a5f"
      },
      "execution_count": null,
      "outputs": [
        {
          "output_type": "stream",
          "name": "stdout",
          "text": [
            "dict_keys(['info', 'task_type', 'data_type', 'license', 'data_subtype', 'questions'])\n",
            "Number of questions: 250\n"
          ]
        }
      ]
    },
    {
      "cell_type": "markdown",
      "source": [
        "That's quite a lot! Let's take a look at the first one:"
      ],
      "metadata": {
        "id": "Uigy071flj4h"
      }
    },
    {
      "cell_type": "code",
      "source": [
        "questions[0]"
      ],
      "metadata": {
        "colab": {
          "base_uri": "https://localhost:8080/"
        },
        "id": "6xKiXtLz75co",
        "outputId": "ac46de81-380c-41ae-8a53-16bdf1661362"
      },
      "execution_count": null,
      "outputs": [
        {
          "output_type": "execute_result",
          "data": {
            "text/plain": [
              "{'image_id': './images/Merged_BW_1_0#BW_1_1.jpg',\n",
              " 'question': 'In how many moves one can convert left image into right image? Blocks can be moved (i) if there is no other block on it (ii) only one block can be moved at a time (iii) block can be moved OnTable, OutOfTable or on any other block.',\n",
              " 'question_id': 0,\n",
              " 'answer_choices': ['1', '5', '2', '3'],\n",
              " 'answer_id': 0}"
            ]
          },
          "metadata": {},
          "execution_count": 281
        }
      ]
    },
    {
      "cell_type": "code",
      "source": [
        "from os import listdir\n",
        "from os.path import isfile, join\n",
        "\n",
        "# -- CHANGE THIS BASED ON WHERE IMAGES ARE STORED --\n",
        "root = '/content/images'\n",
        "\n",
        "file_names = [f for f in listdir(root) if isfile(join(root, f))]\n",
        "print(file_names)\n",
        "print(len(file_names))"
      ],
      "metadata": {
        "id": "LxBw6v-V9Zx0",
        "colab": {
          "base_uri": "https://localhost:8080/"
        },
        "outputId": "02da42b6-694e-408e-aaaa-4ea165803d16"
      },
      "execution_count": null,
      "outputs": [
        {
          "output_type": "stream",
          "name": "stdout",
          "text": [
            "['BW_33_1.jpg', 'BW_90_0.jpg', 'BW_75_1.jpg', 'BW_69_1.jpg', 'BW_91_1.jpg', 'BW_76_1.jpg', 'BW_61_1.jpg', 'BW_44_1.jpg', 'BW_48_1.jpg', 'BW_26_0.jpg', 'Merged_BW_69_0#BW_69_1.jpg', 'Merged_BW_86_0#BW_86_1.jpg', 'BW_87_0.jpg', 'Merged_BW_38_0#BW_38_1.jpg', 'BW_11_1.jpg', 'Merged_BW_96_0#BW_96_1.jpg', 'BW_91_0.jpg', 'Merged_BW_30_0#BW_30_1.jpg', 'BW_49_1.jpg', 'Merged_BW_99_0#BW_99_1.jpg', 'Merged_BW_10_0#BW_10_1.jpg', 'BW_24_1.jpg', 'BW_79_0.jpg', 'BW_57_0.jpg', 'BW_74_0.jpg', 'Merged_BW_91_0#BW_91_1.jpg', 'BW_44_0.jpg', 'BW_54_1.jpg', 'BW_68_1.jpg', 'BW_70_0.jpg', 'BW_93_1.jpg', 'Merged_BW_88_0#BW_88_1.jpg', 'Merged_BW_3_0#BW_3_1.jpg', 'Merged_BW_34_0#BW_34_1.jpg', 'Merged_BW_68_0#BW_68_1.jpg', 'Merged_BW_42_0#BW_42_1.jpg', 'BW_80_0.jpg', 'Merged_BW_67_0#BW_67_1.jpg', 'Merged_BW_80_0#BW_80_1.jpg', 'BW_89_1.jpg', 'BW_9_1.jpg', 'Merged_BW_56_0#BW_56_1.jpg', 'BW_65_1.jpg', 'BW_25_1.jpg', 'BW_43_0.jpg', 'BW_33_0.jpg', 'BW_6_0.jpg', 'BW_34_1.jpg', 'Merged_BW_20_0#BW_20_1.jpg', 'BW_10_1.jpg', 'Merged_BW_36_0#BW_36_1.jpg', 'BW_52_0.jpg', 'BW_38_1.jpg', 'BW_40_1.jpg', 'BW_82_0.jpg', 'BW_5_1.jpg', 'Merged_BW_76_0#BW_76_1.jpg', 'BW_17_1.jpg', 'BW_8_1.jpg', 'BW_27_0.jpg', 'BW_3_0.jpg', 'BW_18_1.jpg', 'BW_21_1.jpg', 'BW_7_0.jpg', 'BW_93_0.jpg', 'BW_34_0.jpg', 'BW_96_1.jpg', 'BW_39_1.jpg', 'BW_82_1.jpg', 'BW_1_1.jpg', 'BW_88_1.jpg', 'Merged_BW_75_0#BW_75_1.jpg', 'BW_72_0.jpg', 'Merged_BW_47_0#BW_47_1.jpg', 'BW_77_0.jpg', 'Merged_BW_98_0#BW_98_1.jpg', 'BW_64_1.jpg', 'BW_22_0.jpg', 'BW_72_1.jpg', 'Merged_BW_25_0#BW_25_1.jpg', 'BW_19_1.jpg', 'BW_47_0.jpg', 'BW_76_0.jpg', 'BW_51_0.jpg', 'Merged_BW_84_0#BW_84_1.jpg', 'BW_46_0.jpg', 'BW_84_0.jpg', 'BW_46_1.jpg', 'BW_56_0.jpg', 'BW_51_1.jpg', 'BW_99_1.jpg', 'Merged_BW_61_0#BW_61_1.jpg', 'Merged_BW_41_0#BW_41_1.jpg', 'Merged_BW_93_0#BW_93_1.jpg', 'Merged_BW_51_0#BW_51_1.jpg', 'BW_58_1.jpg', 'Merged_BW_85_0#BW_85_1.jpg', 'BW_81_0.jpg', 'BW_65_0.jpg', 'Merged_BW_6_0#BW_6_1.jpg', 'BW_47_1.jpg', 'BW_62_0.jpg', 'BW_9_0.jpg', 'BW_23_1.jpg', 'BW_45_1.jpg', 'BW_6_1.jpg', 'Merged_BW_26_0#BW_26_1.jpg', 'Merged_BW_72_0#BW_72_1.jpg', 'Merged_BW_45_0#BW_45_1.jpg', 'BW_98_1.jpg', 'BW_10_0.jpg', 'BW_36_0.jpg', 'BW_41_0.jpg', 'BW_59_0.jpg', 'BW_42_1.jpg', 'BW_85_1.jpg', 'BW_97_0.jpg', 'BW_18_0.jpg', 'Merged_BW_83_0#BW_83_1.jpg', 'Merged_BW_24_0#BW_24_1.jpg', 'BW_2_0.jpg', 'BW_30_1.jpg', 'BW_83_0.jpg', 'Merged_BW_90_0#BW_90_1.jpg', 'BW_78_1.jpg', 'BW_27_1.jpg', 'Merged_BW_49_0#BW_49_1.jpg', 'Merged_BW_81_0#BW_81_1.jpg', 'BW_64_0.jpg', 'BW_53_0.jpg', 'BW_100_0.jpg', 'Merged_BW_92_0#BW_92_1.jpg', 'BW_69_0.jpg', 'Merged_BW_16_0#BW_16_1.jpg', 'Merged_BW_7_0#BW_7_1.jpg', 'BW_15_0.jpg', 'Merged_BW_97_0#BW_97_1.jpg', 'BW_4_0.jpg', 'BW_66_0.jpg', 'Merged_BW_35_0#BW_35_1.jpg', 'BW_83_1.jpg', 'Merged_BW_43_0#BW_43_1.jpg', 'Merged_BW_46_0#BW_46_1.jpg', 'BW_59_1.jpg', 'BW_54_0.jpg', 'BW_56_1.jpg', 'BW_89_0.jpg', 'BW_63_1.jpg', 'Merged_BW_13_0#BW_13_1.jpg', 'BW_12_1.jpg', 'BW_31_0.jpg', 'Merged_BW_44_0#BW_44_1.jpg', 'Merged_BW_60_0#BW_60_1.jpg', 'BW_88_0.jpg', 'Merged_BW_12_0#BW_12_1.jpg', 'BW_25_0.jpg', 'BW_38_0.jpg', 'BW_13_1.jpg', 'BW_55_1.jpg', 'Merged_BW_29_0#BW_29_1.jpg', 'BW_74_1.jpg', 'Merged_BW_48_0#BW_48_1.jpg', 'BW_7_1.jpg', 'Merged_BW_18_0#BW_18_1.jpg', 'Merged_BW_62_0#BW_62_1.jpg', 'Merged_BW_27_0#BW_27_1.jpg', 'BW_23_0.jpg', 'BW_62_1.jpg', 'BW_68_0.jpg', 'BW_13_0.jpg', 'BW_21_0.jpg', 'Merged_BW_23_0#BW_23_1.jpg', 'Merged_BW_8_0#BW_8_1.jpg', 'Merged_BW_71_0#BW_71_1.jpg', 'BW_95_0.jpg', 'Merged_BW_17_0#BW_17_1.jpg', 'BW_20_1.jpg', 'BW_50_0.jpg', 'BW_12_0.jpg', 'BW_37_1.jpg', 'BW_57_1.jpg', 'BW_75_0.jpg', 'BW_40_0.jpg', 'BW_61_0.jpg', 'Merged_BW_57_0#BW_57_1.jpg', 'Merged_BW_82_0#BW_82_1.jpg', 'BW_86_0.jpg', 'BW_14_1.jpg', 'BW_94_0.jpg', 'BW_1_0.jpg', 'BW_37_0.jpg', 'BW_77_1.jpg', 'Merged_BW_9_0#BW_9_1.jpg', 'BW_8_0.jpg', 'BW_86_1.jpg', 'BW_22_1.jpg', 'BW_48_0.jpg', 'BW_67_1.jpg', 'Merged_BW_37_0#BW_37_1.jpg', 'BW_58_0.jpg', 'BW_36_1.jpg', 'BW_100_1.jpg', 'BW_19_0.jpg', 'BW_3_1.jpg', 'Merged_BW_15_0#BW_15_1.jpg', 'BW_49_0.jpg', 'BW_79_1.jpg', 'Merged_BW_66_0#BW_66_1.jpg', 'Merged_BW_78_0#BW_78_1.jpg', 'Merged_BW_58_0#BW_58_1.jpg', 'BW_35_0.jpg', 'Merged_BW_87_0#BW_87_1.jpg', 'Merged_BW_70_0#BW_70_1.jpg', 'BW_53_1.jpg', 'Merged_BW_63_0#BW_63_1.jpg', 'BW_17_0.jpg', 'BW_39_0.jpg', 'BW_98_0.jpg', 'BW_16_0.jpg', 'BW_60_1.jpg', 'BW_78_0.jpg', 'BW_97_1.jpg', 'BW_31_1.jpg', 'BW_50_1.jpg', 'Merged_BW_74_0#BW_74_1.jpg', 'BW_92_0.jpg', 'BW_15_1.jpg', 'Merged_BW_32_0#BW_32_1.jpg', 'BW_66_1.jpg', 'Merged_BW_21_0#BW_21_1.jpg', 'Merged_BW_73_0#BW_73_1.jpg', 'Merged_BW_94_0#BW_94_1.jpg', 'BW_29_0.jpg', 'Merged_BW_54_0#BW_54_1.jpg', 'Merged_BW_11_0#BW_11_1.jpg', 'BW_73_1.jpg', 'BW_70_1.jpg', 'BW_2_1.jpg', 'BW_30_0.jpg', 'Merged_BW_89_0#BW_89_1.jpg', 'BW_52_1.jpg', 'BW_29_1.jpg', 'BW_55_0.jpg', 'BW_45_0.jpg', 'Merged_BW_5_0#BW_5_1.jpg', 'BW_63_0.jpg', 'Merged_BW_2_0#BW_2_1.jpg', 'BW_87_1.jpg', 'BW_5_0.jpg', 'BW_73_0.jpg', 'Merged_BW_59_0#BW_59_1.jpg', 'Merged_BW_55_0#BW_55_1.jpg', 'Merged_BW_1_0#BW_1_1.jpg', 'BW_71_1.jpg', 'BW_92_1.jpg', 'BW_11_0.jpg', 'Merged_BW_95_0#BW_95_1.jpg', 'BW_67_0.jpg', 'BW_94_1.jpg', 'BW_80_1.jpg', 'BW_16_1.jpg', 'BW_28_1.jpg', 'BW_42_0.jpg', 'Merged_BW_39_0#BW_39_1.jpg', 'Merged_BW_79_0#BW_79_1.jpg', 'BW_43_1.jpg', 'BW_81_1.jpg', 'Merged_BW_65_0#BW_65_1.jpg', 'Merged_BW_14_0#BW_14_1.jpg', 'Merged_BW_31_0#BW_31_1.jpg', 'BW_96_0.jpg', 'BW_24_0.jpg', 'Merged_BW_100_0#BW_100_1.jpg', 'Merged_BW_40_0#BW_40_1.jpg', 'BW_90_1.jpg', 'BW_60_0.jpg', 'BW_35_1.jpg', 'Merged_BW_50_0#BW_50_1.jpg', 'BW_84_1.jpg', 'Merged_BW_33_0#BW_33_1.jpg', 'BW_99_0.jpg', 'Merged_BW_53_0#BW_53_1.jpg', 'BW_95_1.jpg', 'BW_41_1.jpg', 'BW_4_1.jpg', 'BW_14_0.jpg', 'BW_32_0.jpg', 'Merged_BW_28_0#BW_28_1.jpg', 'BW_28_0.jpg', 'Merged_BW_19_0#BW_19_1.jpg', 'BW_20_0.jpg', 'BW_85_0.jpg', 'BW_71_0.jpg', 'Merged_BW_52_0#BW_52_1.jpg', 'Merged_BW_4_0#BW_4_1.jpg', 'Merged_BW_64_0#BW_64_1.jpg', 'Merged_BW_77_0#BW_77_1.jpg', 'BW_32_1.jpg', 'Merged_BW_22_0#BW_22_1.jpg', 'BW_26_1.jpg']\n",
            "300\n"
          ]
        }
      ]
    },
    {
      "cell_type": "code",
      "source": [
        "from PIL import Image\n",
        "\n",
        "path = questions[0]['image_id']\n",
        "image = Image.open(path)\n",
        "image"
      ],
      "metadata": {
        "colab": {
          "base_uri": "https://localhost:8080/",
          "height": 273
        },
        "id": "ZeW4M0yU-boe",
        "outputId": "bfe254fb-42b6-46d3-d9d2-3faf268e6ae0"
      },
      "execution_count": null,
      "outputs": [
        {
          "output_type": "execute_result",
          "data": {
            "text/plain": [
              "<PIL.JpegImagePlugin.JpegImageFile image mode=RGB size=512x256 at 0x7FF3A444FD90>"
            ],
            "image/png": "[encoded data removed]"
          },
          "metadata": {},
          "execution_count": 283
        }
      ]
    },
    {
      "cell_type": "code",
      "source": [
        "from transformers import ViltConfig\n",
        "\n",
        "config = ViltConfig.from_pretrained(\"dandelin/vilt-b32-finetuned-vqa\")"
      ],
      "metadata": {
        "id": "qQK-4nIa_6SX"
      },
      "execution_count": null,
      "outputs": []
    },
    {
      "cell_type": "markdown",
      "source": [
        "## Create PyTorch dataset\n",
        "\n",
        "Next, we create a regular [PyTorch dataset](https://pytorch.org/tutorials/beginner/basics/data_tutorial.html). We leverage `ViltProcessor` to prepare each image + text pair for the model, which will automatically:\n",
        "* leverage `BertTokenizerFast` to tokenize the text and create `input_ids`, `attention_mask` and `token_type_ids`\n",
        "* leverage `ViltFeatureExtractor` to resize + normalize the image and create `pixel_values` and `pixel_mask`.\n",
        "\n",
        "Note that the docs of `ViltProcessor` can be found [here](https://huggingface.co/docs/transformers/master/en/model_doc/vilt#transformers.ViltProcessor).\n",
        "\n",
        "We also add the labels. This is a PyTorch tensor of shape `(num_labels,)` that contains the soft encoded vector."
      ],
      "metadata": {
        "id": "0A7kE6HYGET9"
      }
    },
    {
      "cell_type": "code",
      "source": [
        "import torch\n",
        "from PIL import Image\n",
        "\n",
        "class VQADataset(torch.utils.data.Dataset):\n",
        "\n",
        "    def __init__(self, questions, processor): #annotations\n",
        "        self.questions = questions\n",
        "        #self.annotations = annotations\n",
        "        self.processor = processor\n",
        "\n",
        "    def __len__(self):\n",
        "        return len(self.questions)\n",
        "\n",
        "    def __getitem__(self, idx):\n",
        "        # get image + text\n",
        "        #annotation = self.annotations[idx]\n",
        "        questions = self.questions[idx]\n",
        "        #image = Image.open(id_to_filename[annotation['image_id']])\n",
        "        image = Image.open(questions['image_id'])\n",
        "        text = questions['question']\n",
        "        #print(image)\n",
        "        #print(text)\n",
        "        encoding = self.processor(image, text, padding=\"max_length\", truncation=True, return_tensors=\"pt\")\n",
        "        # remove batch dimension\n",
        "        for k,v in encoding.items():\n",
        "          encoding[k] = v.squeeze()\n",
        "        # add labels\n",
        "        #labels = questions['answer_choices'][questions['answer_id']] #annotation['labels']\n",
        "        #scores = [1.0] #annotation['scores']\n",
        "        # based on: https://github.com/dandelin/ViLT/blob/762fd3975c180db6fc88f577cf39549983fa373a/vilt/modules/objectives.py#L301\n",
        "        #print(len(questions['answer_choices']))\n",
        "        targets = torch.zeros(len(questions['answer_choices']))\n",
        "        targets[questions['answer_id']] = 1.0\n",
        "        #print(targets)\n",
        "        #for label, score in zip(labels, scores):\n",
        "        #      targets[label] = score\n",
        "        encoding[\"labels\"] = targets\n",
        "        #print(encoding)\n",
        "        #print(labels)\n",
        "        #print(scores)\n",
        "\n",
        "        return encoding"
      ],
      "metadata": {
        "id": "kJ3sm7qGAyab"
      },
      "execution_count": null,
      "outputs": []
    },
    {
      "cell_type": "code",
      "source": [
        "from transformers import ViltProcessor\n",
        "\n",
        "processor = ViltProcessor.from_pretrained(\"dandelin/vilt-b32-mlm\")"
      ],
      "metadata": {
        "id": "Dl2UsPrTHbtu"
      },
      "execution_count": null,
      "outputs": []
    },
    {
      "cell_type": "code",
      "source": [
        "# 4wT\n",
        "#dataset = VQADataset(questions=questions[:100],processor=processor) ##annotations=annotations[:10],\n",
        "# 4wS\n",
        "dataset = VQADataset(questions=questions[100:150],processor=processor) ##annotations=annotations[:10],\n",
        "# Bin"
      ],
      "metadata": {
        "id": "EagfM_HDRTLT"
      },
      "execution_count": null,
      "outputs": []
    },
    {
      "cell_type": "code",
      "source": [
        "dataset[1].keys()"
      ],
      "metadata": {
        "colab": {
          "base_uri": "https://localhost:8080/"
        },
        "id": "bKFd8ozdIY_q",
        "outputId": "996828b0-3086-4473-8f79-8b6b2a449567"
      },
      "execution_count": null,
      "outputs": [
        {
          "output_type": "execute_result",
          "data": {
            "text/plain": [
              "dict_keys(['input_ids', 'token_type_ids', 'attention_mask', 'pixel_values', 'pixel_mask', 'labels'])"
            ]
          },
          "metadata": {},
          "execution_count": 288
        }
      ]
    },
    {
      "cell_type": "code",
      "source": [
        "processor.decode(dataset[0]['input_ids'])"
      ],
      "metadata": {
        "colab": {
          "base_uri": "https://localhost:8080/",
          "height": 54
        },
        "id": "F0xtCsxr2B4S",
        "outputId": "010af129-bb71-4557-dd5c-a4135064d015"
      },
      "execution_count": null,
      "outputs": [
        {
          "output_type": "execute_result",
          "data": {
            "text/plain": [
              "'[CLS] choose the correct order of moves i - iv to convert left image into right image. consider following 4 moves for the given pair of images : i. move ( red, outoftable ) [SEP]'"
            ],
            "application/vnd.google.colaboratory.intrinsic+json": {
              "type": "string"
            }
          },
          "metadata": {},
          "execution_count": 289
        }
      ]
    },
    {
      "cell_type": "code",
      "source": [
        "labels = torch.nonzero(dataset[0]['labels']).squeeze().tolist()"
      ],
      "metadata": {
        "id": "AGxYDVSve-O6"
      },
      "execution_count": null,
      "outputs": []
    },
    {
      "cell_type": "markdown",
      "source": [
        "## Define model\n",
        "\n",
        "Here we define a `ViltForQuestionAnswering` model, with the weights of the body initialized from dandelin/vilt-b32-mlm, and a randomly initialized classification head. We also move it to the GPU, if it's available."
      ],
      "metadata": {
        "id": "tThbn-ilfmYi"
      }
    },
    {
      "cell_type": "code",
      "source": [
        "from transformers import ViltForQuestionAnswering\n",
        "\n",
        "device = torch.device(\"cuda\" if torch.cuda.is_available() else \"cpu\")\n",
        "\n",
        "model = ViltForQuestionAnswering.from_pretrained(\"dandelin/vilt-b32-mlm\", num_labels=4)\n",
        "                                                 #len(config.id2label))\n",
        "                                                 #id2label=config.id2label,\n",
        "                                                 #label2id=config.label2id)\n",
        "model.to(device)"
      ],
      "metadata": {
        "colab": {
          "base_uri": "https://localhost:8080/"
        },
        "id": "sjOH0jYcfkAk",
        "outputId": "5b82dc34-01be-49f8-975b-60f4bcc280d4"
      },
      "execution_count": null,
      "outputs": [
        {
          "output_type": "stream",
          "name": "stderr",
          "text": [
            "Some weights of ViltForQuestionAnswering were not initialized from the model checkpoint at dandelin/vilt-b32-mlm and are newly initialized: ['classifier.0.bias', 'classifier.3.bias', 'classifier.1.weight', 'classifier.0.weight', 'classifier.1.bias', 'classifier.3.weight']\n",
            "You should probably TRAIN this model on a down-stream task to be able to use it for predictions and inference.\n"
          ]
        },
        {
          "output_type": "execute_result",
          "data": {
            "text/plain": [
              "ViltForQuestionAnswering(\n",
              "  (vilt): ViltModel(\n",
              "    (embeddings): ViltEmbeddings(\n",
              "      (text_embeddings): TextEmbeddings(\n",
              "        (word_embeddings): Embedding(30522, 768)\n",
              "        (position_embeddings): Embedding(40, 768)\n",
              "        (token_type_embeddings): Embedding(2, 768)\n",
              "        (LayerNorm): LayerNorm((768,), eps=1e-12, elementwise_affine=True)\n",
              "        (dropout): Dropout(p=0.0, inplace=False)\n",
              "      )\n",
              "      (patch_embeddings): ViltPatchEmbeddings(\n",
              "        (projection): Conv2d(3, 768, kernel_size=(32, 32), stride=(32, 32))\n",
              "      )\n",
              "      (token_type_embeddings): Embedding(2, 768)\n",
              "      (dropout): Dropout(p=0.0, inplace=False)\n",
              "    )\n",
              "    (encoder): ViltEncoder(\n",
              "      (layer): ModuleList(\n",
              "        (0-11): 12 x ViltLayer(\n",
              "          (attention): ViltAttention(\n",
              "            (attention): ViltSelfAttention(\n",
              "              (query): Linear(in_features=768, out_features=768, bias=True)\n",
              "              (key): Linear(in_features=768, out_features=768, bias=True)\n",
              "              (value): Linear(in_features=768, out_features=768, bias=True)\n",
              "              (dropout): Dropout(p=0.0, inplace=False)\n",
              "            )\n",
              "            (output): ViltSelfOutput(\n",
              "              (dense): Linear(in_features=768, out_features=768, bias=True)\n",
              "              (dropout): Dropout(p=0.0, inplace=False)\n",
              "            )\n",
              "          )\n",
              "          (intermediate): ViltIntermediate(\n",
              "            (dense): Linear(in_features=768, out_features=3072, bias=True)\n",
              "            (intermediate_act_fn): GELUActivation()\n",
              "          )\n",
              "          (output): ViltOutput(\n",
              "            (dense): Linear(in_features=3072, out_features=768, bias=True)\n",
              "            (dropout): Dropout(p=0.0, inplace=False)\n",
              "          )\n",
              "          (layernorm_before): LayerNorm((768,), eps=1e-12, elementwise_affine=True)\n",
              "          (layernorm_after): LayerNorm((768,), eps=1e-12, elementwise_affine=True)\n",
              "        )\n",
              "      )\n",
              "    )\n",
              "    (layernorm): LayerNorm((768,), eps=1e-12, elementwise_affine=True)\n",
              "    (pooler): ViltPooler(\n",
              "      (dense): Linear(in_features=768, out_features=768, bias=True)\n",
              "      (activation): Tanh()\n",
              "    )\n",
              "  )\n",
              "  (classifier): Sequential(\n",
              "    (0): Linear(in_features=768, out_features=1536, bias=True)\n",
              "    (1): LayerNorm((1536,), eps=1e-05, elementwise_affine=True)\n",
              "    (2): GELU(approximate='none')\n",
              "    (3): Linear(in_features=1536, out_features=4, bias=True)\n",
              "  )\n",
              ")"
            ]
          },
          "metadata": {},
          "execution_count": 291
        }
      ]
    },
    {
      "cell_type": "code",
      "source": [
        "from torch.utils.data import DataLoader\n",
        "\n",
        "def collate_fn(batch):\n",
        "  input_ids = [item['input_ids'] for item in batch]\n",
        "  pixel_values = [item['pixel_values'] for item in batch]\n",
        "  #print(pixel_values)\n",
        "  attention_mask = [item['attention_mask'] for item in batch]\n",
        "  token_type_ids = [item['token_type_ids'] for item in batch]\n",
        "  labels = [item['labels'] for item in batch]\n",
        "\n",
        "  # create padded pixel values and corresponding pixel mask\n",
        "  #encoding = processor.feature_extractor.pad_and_create_pixel_mask(pixel_values, return_tensors=\"pt\")\n",
        "\n",
        "  # create new batch\n",
        "  batch = {}\n",
        "  batch['input_ids'] = torch.stack(input_ids)\n",
        "  batch['attention_mask'] = torch.stack(attention_mask)\n",
        "  batch['token_type_ids'] = torch.stack(token_type_ids)\n",
        "  batch['pixel_values'] = torch.stack(pixel_values) #encoding['pixel_values']\n",
        "  #batch['pixel_mask'] = encoding['pixel_mask']\n",
        "  batch['labels'] = torch.stack(labels)\n",
        "\n",
        "  return batch\n",
        "\n",
        "train_dataloader = DataLoader(dataset, collate_fn=collate_fn, batch_size=1, shuffle=True)"
      ],
      "metadata": {
        "id": "9C4gCxrbgjqh"
      },
      "execution_count": null,
      "outputs": []
    },
    {
      "cell_type": "markdown",
      "source": [
        "Let's verify a batch:"
      ],
      "metadata": {
        "id": "bvOs133CxoP-"
      }
    },
    {
      "cell_type": "code",
      "source": [
        "batch = next(iter(train_dataloader))"
      ],
      "metadata": {
        "id": "yKBOBxq1gqzy"
      },
      "execution_count": null,
      "outputs": []
    },
    {
      "cell_type": "code",
      "source": [
        "for k,v in batch.items():\n",
        "  print(k, v.shape)"
      ],
      "metadata": {
        "colab": {
          "base_uri": "https://localhost:8080/"
        },
        "id": "lZkar-taiq1r",
        "outputId": "b1efc0d1-99e9-43b4-c093-b29287931011"
      },
      "execution_count": null,
      "outputs": [
        {
          "output_type": "stream",
          "name": "stdout",
          "text": [
            "input_ids torch.Size([1, 40])\n",
            "attention_mask torch.Size([1, 40])\n",
            "token_type_ids torch.Size([1, 40])\n",
            "pixel_values torch.Size([1, 3, 320, 608])\n",
            "labels torch.Size([1, 4])\n"
          ]
        }
      ]
    },
    {
      "cell_type": "markdown",
      "source": [
        "## Train a model\n",
        "\n",
        "Finally, let's train a model!"
      ],
      "metadata": {
        "id": "uN8Grgg0gK2x"
      }
    },
    {
      "cell_type": "code",
      "source": [
        "from tqdm.notebook import tqdm\n",
        "optimizer = torch.optim.AdamW(model.parameters(), lr=5e-5)\n",
        "\n",
        "# -- CHANGE BASED ON HOW MANY EPOCHS YOU WANT TO RUN FOR\n",
        "e = 5\n",
        "\n",
        "model.train()\n",
        "for epoch in range(e):  # loop over the dataset multiple times\n",
        "   print(f\"Epoch: {epoch}\")\n",
        "   for batch in tqdm(train_dataloader):\n",
        "        # get the inputs;\n",
        "        batch = {k:v.to(device) for k,v in batch.items()}\n",
        "\n",
        "        # zero the parameter gradients\n",
        "        optimizer.zero_grad()\n",
        "\n",
        "        # forward + backward + optimize\n",
        "        outputs = model(**batch)\n",
        "        loss = outputs.loss\n",
        "        print(\"Loss:\", loss.item())\n",
        "        loss.backward()\n",
        "        optimizer.step()"
      ],
      "metadata": {
        "colab": {
          "base_uri": "https://localhost:8080/",
          "height": 1000,
          "referenced_widgets": [
            "b297f97aa1d94221a594a42226dae808",
            "240dbe3a8816493d8af2d7181a11398b",
            "86c2d56a27d14c9b82a32b9513385b06",
            "352f58d104f446819795cd57e5cb3457",
            "e6769d426b004acd941964038f2cd5e1",
            "012c9bd71ca64ad0907cefe5616b1260",
            "9414b64c89be4ed3b32fba45a7dd3953",
            "91d55bb42b834facb350546f3634b839",
            "333cd5cd059c411e931a595b84d0d62e",
            "b149a9cb5cbd41859531bfea0da20a67",
            "a33a3692d85f4089b6e973697637bb1c",
            "5b840b25847c4f9cb3749dea0638226d",
            "75e2654053ba4d31a9beebaed092263a",
            "b4c496992be4442cb1da418080edae79",
            "42822ab3775242948935340a447247fd",
            "4724708ae4a14003950c64e7235a0407",
            "f1eeefc974954012bf643f67ec4cb03a",
            "ad9e526714a44f01aec50169509f6daf",
            "cbcae4cc78fa479e9a668eff1724230a",
            "7e0763b0f5b94df291a233fe225f552b",
            "5bbf5b1cacf44b05bb0f675c14f055b3",
            "de90daaffd5b4ea6a62c5471ac559784",
            "31ab2bccd2a541cba6584782d1fd8741",
            "b1e009157c16448183db64f9d3d38e88",
            "13df6c38e0ca4456adc516069e764527",
            "78599ffa2aa048399fecf9ac60ae1c15",
            "18cebd23323e4a0f962191988160babe",
            "61d90e6d09d44617955b1fb36314e716",
            "0aed6fac48394d6897fbfa83b8479c0e",
            "6afe7387392f40c0887973b785f4092c",
            "60ebdeae1e7441c8a234b77f1ba74ebb",
            "54f1e694967341b18c6e835a4dae8058",
            "96fddaca54da4d6cb1b50d9b7e5ce9a4",
            "a232b452d9f749fb8cdab2349b439cc2",
            "c5d9c71ff1c74610a4f228cc85132442",
            "44e5026f9f9545d18ee0ad72e5bfb5c9",
            "e4814e01de0a49bcbb891345ff08b818",
            "678d2b48521340a58cee41ea92a216b0",
            "bce2512cac54462faf34b87866d66158",
            "dac79b21861a42cf8dc3dab37b25df58",
            "0910065023d84c2ba863f68427b6e9e6",
            "aed202b4bc0c4d448c59cb8e1006fa18",
            "07f9c8c4cd0745abb4e2af6e009a9062",
            "fc9c79a878c34250903d421884aecdcb",
            "c400086dca9e4423bb85d3cb4a7b4c7d",
            "368d238913b44a4fb5f13d36a664a843",
            "50f8815d937b4e6283cc1b91c04a9a64",
            "94f8e71b51bc4ea899f52a448742610b",
            "f0abedf0785e47cc8b2d2e081962ed7b",
            "9d40324060dd4bf9bcab247f3369b079",
            "6da7d5cbf2c842f5aea7e9c985115368",
            "0a874921a2f74c66898564c35b991a84",
            "e23cc6f2f482451ea50584afe1c5da60",
            "81932d06db9b48d18cf99f2e2dbf3446",
            "35f7a476e69348a89ec161d21fa41015"
          ]
        },
        "id": "57PlqyxXf6L4",
        "outputId": "8543c4b9-0a14-462a-ee9b-cde4b1edb0e9"
      },
      "execution_count": null,
      "outputs": [
        {
          "output_type": "stream",
          "name": "stdout",
          "text": [
            "Epoch: 0\n"
          ]
        },
        {
          "output_type": "display_data",
          "data": {
            "text/plain": [
              "  0%|          | 0/50 [00:00<?, ?it/s]"
            ],
            "application/vnd.jupyter.widget-view+json": {
              "version_major": 2,
              "version_minor": 0,
              "model_id": "b297f97aa1d94221a594a42226dae808"
            }
          },
          "metadata": {}
        },
        {
          "output_type": "stream",
          "name": "stdout",
          "text": [
            "Loss: 3.0689620971679688\n",
            "Loss: 3.1118829250335693\n",
            "Loss: 3.089102029800415\n",
            "Loss: 2.6297624111175537\n",
            "Loss: 2.6895055770874023\n",
            "Loss: 2.51857852935791\n",
            "Loss: 1.6954190731048584\n",
            "Loss: 1.53492271900177\n",
            "Loss: 1.3417366743087769\n",
            "Loss: 3.4047164916992188\n",
            "Loss: 2.359750747680664\n",
            "Loss: 4.330535411834717\n",
            "Loss: 2.277982234954834\n",
            "Loss: 4.103263854980469\n",
            "Loss: 3.8282504081726074\n",
            "Loss: 3.482673168182373\n",
            "Loss: 1.9048981666564941\n",
            "Loss: 1.8055903911590576\n",
            "Loss: 1.7269744873046875\n",
            "Loss: 3.355116844177246\n",
            "Loss: 3.1287267208099365\n",
            "Loss: 2.892899513244629\n",
            "Loss: 2.6846115589141846\n",
            "Loss: 2.586251735687256\n",
            "Loss: 2.4359707832336426\n",
            "Loss: 1.5749385356903076\n",
            "Loss: 3.5125155448913574\n",
            "Loss: 2.4474434852600098\n",
            "Loss: 1.8314117193222046\n",
            "Loss: 3.575417995452881\n",
            "Loss: 3.479635238647461\n",
            "Loss: 2.2734031677246094\n",
            "Loss: 3.187363624572754\n",
            "Loss: 2.0157957077026367\n",
            "Loss: 2.9856626987457275\n",
            "Loss: 3.0618937015533447\n",
            "Loss: 2.0607595443725586\n",
            "Loss: 2.4785304069519043\n",
            "Loss: 2.1646320819854736\n",
            "Loss: 2.844784736633301\n",
            "Loss: 2.8347694873809814\n",
            "Loss: 2.64979887008667\n",
            "Loss: 2.3673131465911865\n",
            "Loss: 2.1894290447235107\n",
            "Loss: 2.537529945373535\n",
            "Loss: 1.936467170715332\n",
            "Loss: 2.7212562561035156\n",
            "Loss: 2.4942831993103027\n",
            "Loss: 2.4619102478027344\n",
            "Loss: 1.7077211141586304\n",
            "Epoch: 1\n"
          ]
        },
        {
          "output_type": "display_data",
          "data": {
            "text/plain": [
              "  0%|          | 0/50 [00:00<?, ?it/s]"
            ],
            "application/vnd.jupyter.widget-view+json": {
              "version_major": 2,
              "version_minor": 0,
              "model_id": "5b840b25847c4f9cb3749dea0638226d"
            }
          },
          "metadata": {}
        },
        {
          "output_type": "stream",
          "name": "stdout",
          "text": [
            "Loss: 2.5800352096557617\n",
            "Loss: 2.560839891433716\n",
            "Loss: 1.6323533058166504\n",
            "Loss: 2.4657161235809326\n",
            "Loss: 1.615034818649292\n",
            "Loss: 2.3593332767486572\n",
            "Loss: 1.6393762826919556\n",
            "Loss: 1.5913704633712769\n",
            "Loss: 1.5070011615753174\n",
            "Loss: 3.301654100418091\n",
            "Loss: 1.2809252738952637\n",
            "Loss: 2.441789388656616\n",
            "Loss: 1.1989006996154785\n",
            "Loss: 3.133955717086792\n",
            "Loss: 3.132040500640869\n",
            "Loss: 3.56899356842041\n",
            "Loss: 2.8787665367126465\n",
            "Loss: 2.624701976776123\n",
            "Loss: 1.2428375482559204\n",
            "Loss: 3.354647159576416\n",
            "Loss: 3.2635107040405273\n",
            "Loss: 2.3388524055480957\n",
            "Loss: 2.4487318992614746\n",
            "Loss: 2.531256914138794\n",
            "Loss: 2.295919418334961\n",
            "Loss: 2.0614709854125977\n",
            "Loss: 2.3366200923919678\n",
            "Loss: 2.3419225215911865\n",
            "Loss: 2.1517531871795654\n",
            "Loss: 1.8537347316741943\n",
            "Loss: 1.7332240343093872\n",
            "Loss: 3.0163917541503906\n",
            "Loss: 1.6177709102630615\n",
            "Loss: 2.9560046195983887\n",
            "Loss: 2.9182686805725098\n",
            "Loss: 3.133754253387451\n",
            "Loss: 3.0057291984558105\n",
            "Loss: 3.0963354110717773\n",
            "Loss: 2.4047443866729736\n",
            "Loss: 2.953584671020508\n",
            "Loss: 2.648709297180176\n",
            "Loss: 1.9670363664627075\n",
            "Loss: 2.272993326187134\n",
            "Loss: 1.8700281381607056\n",
            "Loss: 3.538134813308716\n",
            "Loss: 1.8599854707717896\n",
            "Loss: 3.1604998111724854\n",
            "Loss: 2.534555196762085\n",
            "Loss: 3.0378682613372803\n",
            "Loss: 1.5716958045959473\n",
            "Epoch: 2\n"
          ]
        },
        {
          "output_type": "display_data",
          "data": {
            "text/plain": [
              "  0%|          | 0/50 [00:00<?, ?it/s]"
            ],
            "application/vnd.jupyter.widget-view+json": {
              "version_major": 2,
              "version_minor": 0,
              "model_id": "31ab2bccd2a541cba6584782d1fd8741"
            }
          },
          "metadata": {}
        },
        {
          "output_type": "stream",
          "name": "stdout",
          "text": [
            "Loss: 1.8992663621902466\n",
            "Loss: 2.319719076156616\n",
            "Loss: 2.6676135063171387\n",
            "Loss: 2.8703956604003906\n",
            "Loss: 3.078274965286255\n",
            "Loss: 1.790893793106079\n",
            "Loss: 1.7642364501953125\n",
            "Loss: 1.7746572494506836\n",
            "Loss: 1.7576730251312256\n",
            "Loss: 2.1680164337158203\n",
            "Loss: 2.676412582397461\n",
            "Loss: 1.9571142196655273\n",
            "Loss: 2.5634095668792725\n",
            "Loss: 1.3169162273406982\n",
            "Loss: 1.6128122806549072\n",
            "Loss: 2.635927438735962\n",
            "Loss: 2.332552671432495\n",
            "Loss: 2.532076358795166\n",
            "Loss: 2.6777851581573486\n",
            "Loss: 2.516796827316284\n",
            "Loss: 2.381272554397583\n",
            "Loss: 2.682041645050049\n",
            "Loss: 1.5862255096435547\n",
            "Loss: 4.691182613372803\n",
            "Loss: 2.5823049545288086\n",
            "Loss: 1.5716185569763184\n",
            "Loss: 2.3936290740966797\n",
            "Loss: 2.2647523880004883\n",
            "Loss: 1.9796741008758545\n",
            "Loss: 1.582384705543518\n",
            "Loss: 2.0864133834838867\n",
            "Loss: 2.1091535091400146\n",
            "Loss: 2.0841071605682373\n",
            "Loss: 2.917445659637451\n",
            "Loss: 3.194061756134033\n",
            "Loss: 1.918897032737732\n",
            "Loss: 1.941428542137146\n",
            "Loss: 1.8729510307312012\n",
            "Loss: 2.7092604637145996\n",
            "Loss: 3.427856206893921\n",
            "Loss: 1.749678611755371\n",
            "Loss: 2.4262475967407227\n",
            "Loss: 2.1120800971984863\n",
            "Loss: 1.6914196014404297\n",
            "Loss: 3.295713424682617\n",
            "Loss: 1.5463956594467163\n",
            "Loss: 3.236222267150879\n",
            "Loss: 2.5490872859954834\n",
            "Loss: 2.632323741912842\n",
            "Loss: 2.138763427734375\n",
            "Epoch: 3\n"
          ]
        },
        {
          "output_type": "display_data",
          "data": {
            "text/plain": [
              "  0%|          | 0/50 [00:00<?, ?it/s]"
            ],
            "application/vnd.jupyter.widget-view+json": {
              "version_major": 2,
              "version_minor": 0,
              "model_id": "a232b452d9f749fb8cdab2349b439cc2"
            }
          },
          "metadata": {}
        },
        {
          "output_type": "stream",
          "name": "stdout",
          "text": [
            "Loss: 1.751276969909668\n",
            "Loss: 2.6574482917785645\n",
            "Loss: 2.7848563194274902\n",
            "Loss: 2.276036024093628\n",
            "Loss: 1.7255487442016602\n",
            "Loss: 2.438162326812744\n",
            "Loss: 2.0239548683166504\n",
            "Loss: 2.3383607864379883\n",
            "Loss: 2.505463123321533\n",
            "Loss: 2.032442092895508\n",
            "Loss: 2.136565923690796\n",
            "Loss: 2.481750726699829\n",
            "Loss: 2.1235568523406982\n",
            "Loss: 2.018866777420044\n",
            "Loss: 1.9783735275268555\n",
            "Loss: 2.1569786071777344\n",
            "Loss: 2.144038677215576\n",
            "Loss: 2.5888586044311523\n",
            "Loss: 1.7471429109573364\n",
            "Loss: 1.8123003244400024\n",
            "Loss: 2.5018622875213623\n",
            "Loss: 1.7528936862945557\n",
            "Loss: 1.5698834657669067\n",
            "Loss: 1.694310188293457\n",
            "Loss: 1.5627003908157349\n",
            "Loss: 3.8773083686828613\n",
            "Loss: 2.7366819381713867\n",
            "Loss: 1.5309313535690308\n",
            "Loss: 2.0604307651519775\n",
            "Loss: 1.8463996648788452\n",
            "Loss: 3.1905596256256104\n",
            "Loss: 2.2492640018463135\n",
            "Loss: 1.4203797578811646\n",
            "Loss: 2.5664262771606445\n",
            "Loss: 2.1956169605255127\n",
            "Loss: 2.682614326477051\n",
            "Loss: 2.0665171146392822\n",
            "Loss: 2.3632407188415527\n",
            "Loss: 2.7422587871551514\n",
            "Loss: 2.1196844577789307\n",
            "Loss: 2.1444308757781982\n",
            "Loss: 1.99526047706604\n",
            "Loss: 2.345066547393799\n",
            "Loss: 1.6505112648010254\n",
            "Loss: 2.6292765140533447\n",
            "Loss: 2.0884697437286377\n",
            "Loss: 3.9362633228302\n",
            "Loss: 2.276750087738037\n",
            "Loss: 1.8539992570877075\n",
            "Loss: 1.818683385848999\n",
            "Epoch: 4\n"
          ]
        },
        {
          "output_type": "display_data",
          "data": {
            "text/plain": [
              "  0%|          | 0/50 [00:00<?, ?it/s]"
            ],
            "application/vnd.jupyter.widget-view+json": {
              "version_major": 2,
              "version_minor": 0,
              "model_id": "c400086dca9e4423bb85d3cb4a7b4c7d"
            }
          },
          "metadata": {}
        },
        {
          "output_type": "stream",
          "name": "stdout",
          "text": [
            "Loss: 1.9493757486343384\n",
            "Loss: 2.0844669342041016\n",
            "Loss: 1.817322015762329\n",
            "Loss: 2.6997294425964355\n",
            "Loss: 1.9146332740783691\n",
            "Loss: 2.5406618118286133\n",
            "Loss: 2.1832034587860107\n",
            "Loss: 2.5004873275756836\n",
            "Loss: 1.714529037475586\n",
            "Loss: 2.0123775005340576\n",
            "Loss: 2.096289873123169\n",
            "Loss: 1.5520037412643433\n",
            "Loss: 2.1301636695861816\n",
            "Loss: 3.0225162506103516\n",
            "Loss: 2.1014506816864014\n",
            "Loss: 3.0575902462005615\n",
            "Loss: 3.0540475845336914\n",
            "Loss: 2.76888370513916\n",
            "Loss: 2.252608299255371\n",
            "Loss: 2.433241367340088\n",
            "Loss: 2.776512861251831\n",
            "Loss: 1.5449525117874146\n",
            "Loss: 1.474355936050415\n",
            "Loss: 1.3868080377578735\n",
            "Loss: 1.680931568145752\n",
            "Loss: 1.2783191204071045\n",
            "Loss: 1.8849964141845703\n",
            "Loss: 1.0217812061309814\n",
            "Loss: 1.7777957916259766\n",
            "Loss: 2.8388702869415283\n",
            "Loss: 2.561091423034668\n",
            "Loss: 2.3065037727355957\n",
            "Loss: 1.1546351909637451\n",
            "Loss: 2.814534902572632\n",
            "Loss: 1.617103099822998\n",
            "Loss: 4.19929313659668\n",
            "Loss: 2.8218770027160645\n",
            "Loss: 1.0223016738891602\n",
            "Loss: 2.4302992820739746\n",
            "Loss: 2.46894907951355\n",
            "Loss: 3.925879716873169\n",
            "Loss: 2.869816541671753\n",
            "Loss: 3.230288505554199\n",
            "Loss: 2.7363710403442383\n",
            "Loss: 1.599307894706726\n",
            "Loss: 2.612360715866089\n",
            "Loss: 2.651031494140625\n",
            "Loss: 2.6749939918518066\n",
            "Loss: 1.996071457862854\n",
            "Loss: 2.017853021621704\n"
          ]
        }
      ]
    },
    {
      "cell_type": "markdown",
      "source": [
        "## Inference\n",
        "\n",
        "Let's verify whether the model has actually learned something:"
      ],
      "metadata": {
        "id": "aj5anZ-ZyMEY"
      }
    },
    {
      "cell_type": "markdown",
      "source": [
        "# Single Instance Inference"
      ],
      "metadata": {
        "id": "4SkLrjIRCJhp"
      }
    },
    {
      "cell_type": "code",
      "source": [
        "exid = 1\n",
        "example = dataset[exid]\n",
        "print(example.keys())"
      ],
      "metadata": {
        "colab": {
          "base_uri": "https://localhost:8080/"
        },
        "id": "qG0UzoCfgpEF",
        "outputId": "7f9c34cb-05f0-4425-e1f2-10a22419d056"
      },
      "execution_count": null,
      "outputs": [
        {
          "output_type": "stream",
          "name": "stdout",
          "text": [
            "dict_keys(['input_ids', 'token_type_ids', 'attention_mask', 'pixel_values', 'pixel_mask', 'labels'])\n"
          ]
        }
      ]
    },
    {
      "cell_type": "code",
      "source": [
        "# add batch dimension + move to GPU\n",
        "example = {k: v.unsqueeze(0).to(device) for k,v in example.items()}\n",
        "\n",
        "# forward pass\n",
        "outputs = model(**example)"
      ],
      "metadata": {
        "id": "eszu33n7yS4f"
      },
      "execution_count": null,
      "outputs": []
    },
    {
      "cell_type": "code",
      "source": [
        "logits = outputs.logits\n",
        "predicted_class = logits.argmax(-1).item()\n",
        "print(\"Predicted answer:\", predicted_class)\n",
        "print(\"Ground-truth answer:\", dataset[exid]['labels'].argmax(-1).item())"
      ],
      "metadata": {
        "colab": {
          "base_uri": "https://localhost:8080/"
        },
        "id": "xZ4_ceydyePt",
        "outputId": "696f35c6-d8a8-40dc-e54e-1ee1885c4912"
      },
      "execution_count": null,
      "outputs": [
        {
          "output_type": "stream",
          "name": "stdout",
          "text": [
            "Predicted answer: 0\n",
            "Ground-truth answer: 3\n"
          ]
        }
      ]
    },
    {
      "cell_type": "markdown",
      "source": [
        "# Batch Inference"
      ],
      "metadata": {
        "id": "u9KPb-kxCNC9"
      }
    },
    {
      "cell_type": "code",
      "source": [
        "import csv\n",
        "tasktype = \"4ws\"\n",
        "filprefix = prefix+\"_\"+tasktype\n",
        "\n",
        "# Accuracy of 4wS blocksworld data truncated - finetuned by ViLT\n",
        "count = 0\n",
        "st = 0\n",
        "end = 49\n",
        "with open(filprefix+'.csv', 'w+') as k:\n",
        "  spamwriter = csv.writer(k)\n",
        "  spamwriter.writerow([\"qid\",\"pred_ans\",\"gt_ans\",\"correctness\"])\n",
        "  for exid in range(st,end+1):\n",
        "    correctness = 0\n",
        "    example = dataset[exid]\n",
        "    example = {k: v.unsqueeze(0).to(device) for k,v in example.items()}\n",
        "    outputs = model(**example)\n",
        "    logits = outputs.logits\n",
        "    predicted_class = logits.argmax(-1).item()\n",
        "    gtclass = dataset[exid]['labels'].argmax(-1).item()\n",
        "    if gtclass==predicted_class:\n",
        "      count+=1\n",
        "      correctness = 1\n",
        "    print([exid,predicted_class, gtclass,correctness])\n",
        "    spamwriter.writerow([exid,predicted_class, gtclass,correctness])\n",
        "acc = count*100/(end-st+1)\n",
        "\n",
        "print(count)\n",
        "print(end-st+1)\n",
        "print(acc)"
      ],
      "metadata": {
        "id": "KOOVAOc5yvbT",
        "colab": {
          "base_uri": "https://localhost:8080/"
        },
        "outputId": "9d75f57e-cfd7-4ffc-c2b1-b5c53ef767f7"
      },
      "execution_count": null,
      "outputs": [
        {
          "output_type": "stream",
          "name": "stdout",
          "text": [
            "[0, 0, 2, 0]\n",
            "[1, 2, 3, 0]\n",
            "[2, 0, 0, 1]\n",
            "[3, 1, 1, 1]\n",
            "[4, 1, 1, 1]\n",
            "[5, 1, 0, 0]\n",
            "[6, 0, 0, 1]\n",
            "[7, 0, 1, 0]\n",
            "[8, 2, 2, 1]\n",
            "[9, 2, 3, 0]\n",
            "[10, 1, 1, 1]\n",
            "[11, 2, 2, 1]\n",
            "[12, 0, 1, 0]\n",
            "[13, 1, 1, 1]\n",
            "[14, 0, 0, 1]\n",
            "[15, 1, 3, 0]\n",
            "[16, 2, 2, 1]\n",
            "[17, 1, 3, 0]\n",
            "[18, 0, 0, 1]\n",
            "[19, 2, 1, 0]\n",
            "[20, 1, 0, 0]\n",
            "[21, 2, 2, 1]\n",
            "[22, 2, 0, 0]\n",
            "[23, 2, 3, 0]\n",
            "[24, 2, 3, 0]\n",
            "[25, 2, 3, 0]\n",
            "[26, 2, 3, 0]\n",
            "[27, 2, 2, 1]\n",
            "[28, 0, 0, 1]\n",
            "[29, 2, 0, 0]\n",
            "[30, 0, 1, 0]\n",
            "[31, 2, 2, 1]\n",
            "[32, 2, 0, 0]\n",
            "[33, 1, 0, 0]\n",
            "[34, 0, 0, 1]\n",
            "[35, 2, 2, 1]\n",
            "[36, 0, 1, 0]\n",
            "[37, 0, 0, 1]\n",
            "[38, 2, 3, 0]\n",
            "[39, 0, 0, 1]\n",
            "[40, 1, 2, 0]\n",
            "[41, 2, 3, 0]\n",
            "[42, 1, 1, 1]\n",
            "[43, 0, 1, 0]\n",
            "[44, 0, 2, 0]\n",
            "[45, 2, 1, 0]\n",
            "[46, 2, 2, 1]\n",
            "[47, 0, 0, 1]\n",
            "[48, 0, 1, 0]\n",
            "[49, 2, 3, 0]\n",
            "22\n",
            "50\n",
            "44.0\n"
          ]
        }
      ]
    },
    {
      "cell_type": "code",
      "source": [
        "import csv\n",
        "tasktype = \"4ws\"\n",
        "filprefix = prefix+\"_\"+tasktype\n",
        "\n",
        "# Accuracy of 4wS blocksworld data original - finetuned by ViLT\n",
        "count = 0\n",
        "st = 0\n",
        "end = 49\n",
        "with open(filprefix+'.csv', 'w+') as k:\n",
        "  spamwriter = csv.writer(k)\n",
        "  spamwriter.writerow([\"qid\",\"pred_ans\",\"gt_ans\",\"correctness\"])\n",
        "  for exid in range(st,end+1):\n",
        "    correctness = 0\n",
        "    example = dataset[exid]\n",
        "    example = {k: v.unsqueeze(0).to(device) for k,v in example.items()}\n",
        "    outputs = model(**example)\n",
        "    logits = outputs.logits\n",
        "    predicted_class = logits.argmax(-1).item()\n",
        "    gtclass = dataset[exid]['labels'].argmax(-1).item()\n",
        "    if gtclass==predicted_class:\n",
        "      count+=1\n",
        "      correctness = 1\n",
        "    print([exid,predicted_class, gtclass,correctness])\n",
        "    spamwriter.writerow([exid,predicted_class, gtclass,correctness])\n",
        "acc = count*100/(end-st+1)\n",
        "\n",
        "print(count)\n",
        "print(end-st+1)\n",
        "print(acc)"
      ],
      "metadata": {
        "colab": {
          "base_uri": "https://localhost:8080/"
        },
        "id": "MIM8eLTgtYd6",
        "outputId": "f42f7aff-061c-474f-db4f-017bb842f9cf"
      },
      "execution_count": null,
      "outputs": [
        {
          "output_type": "stream",
          "name": "stdout",
          "text": [
            "[0, 0, 2, 0]\n",
            "[1, 0, 3, 0]\n",
            "[2, 0, 0, 1]\n",
            "[3, 0, 1, 0]\n",
            "[4, 0, 1, 0]\n",
            "[5, 0, 0, 1]\n",
            "[6, 0, 0, 1]\n",
            "[7, 0, 1, 0]\n",
            "[8, 0, 2, 0]\n",
            "[9, 0, 3, 0]\n",
            "[10, 0, 1, 0]\n",
            "[11, 0, 2, 0]\n",
            "[12, 0, 1, 0]\n",
            "[13, 0, 1, 0]\n",
            "[14, 0, 0, 1]\n",
            "[15, 0, 3, 0]\n",
            "[16, 0, 2, 0]\n",
            "[17, 0, 3, 0]\n",
            "[18, 0, 0, 1]\n",
            "[19, 0, 1, 0]\n",
            "[20, 0, 0, 1]\n",
            "[21, 0, 2, 0]\n",
            "[22, 0, 0, 1]\n",
            "[23, 0, 3, 0]\n",
            "[24, 0, 3, 0]\n",
            "[25, 0, 3, 0]\n",
            "[26, 0, 3, 0]\n",
            "[27, 0, 2, 0]\n",
            "[28, 0, 0, 1]\n",
            "[29, 0, 0, 1]\n",
            "[30, 0, 1, 0]\n",
            "[31, 0, 2, 0]\n",
            "[32, 0, 0, 1]\n",
            "[33, 0, 0, 1]\n",
            "[34, 0, 0, 1]\n",
            "[35, 0, 2, 0]\n",
            "[36, 0, 1, 0]\n",
            "[37, 0, 0, 1]\n",
            "[38, 0, 3, 0]\n",
            "[39, 0, 0, 1]\n",
            "[40, 0, 2, 0]\n",
            "[41, 0, 3, 0]\n",
            "[42, 0, 1, 0]\n",
            "[43, 0, 1, 0]\n",
            "[44, 0, 2, 0]\n",
            "[45, 0, 1, 0]\n",
            "[46, 0, 2, 0]\n",
            "[47, 0, 0, 1]\n",
            "[48, 0, 1, 0]\n",
            "[49, 0, 3, 0]\n",
            "15\n",
            "50\n",
            "30.0\n"
          ]
        }
      ]
    },
    {
      "cell_type": "code",
      "source": [],
      "metadata": {
        "id": "QQ2P7qx3tYf2"
      },
      "execution_count": null,
      "outputs": []
    }
  ]
}