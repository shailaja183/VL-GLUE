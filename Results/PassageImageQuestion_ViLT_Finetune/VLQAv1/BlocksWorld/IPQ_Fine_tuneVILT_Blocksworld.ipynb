{
  "cells": [
    {
      "cell_type": "code",
      "execution_count": 1,
      "metadata": {
        "colab": {
          "base_uri": "https://localhost:8080/"
        },
        "id": "kNEY3RdiynHE",
        "outputId": "c77206ec-6e21-4974-e23f-6897239cb822"
      },
      "outputs": [
        {
          "output_type": "stream",
          "name": "stdout",
          "text": [
            "Drive already mounted at /content/drive; to attempt to forcibly remount, call drive.mount(\"/content/drive\", force_remount=True).\n"
          ]
        }
      ],
      "source": [
        "from google.colab import drive\n",
        "drive.mount('/content/drive')"
      ]
    },
    {
      "cell_type": "code",
      "execution_count": 2,
      "metadata": {
        "colab": {
          "base_uri": "https://localhost:8080/"
        },
        "id": "3CEYz9215-vH",
        "outputId": "ff996b47-08c6-4e09-b270-2055ebda7e8b"
      },
      "outputs": [
        {
          "output_type": "stream",
          "name": "stdout",
          "text": [
            "  Installing build dependencies ... \u001b[?25l\u001b[?25hdone\n",
            "  Getting requirements to build wheel ... \u001b[?25l\u001b[?25hdone\n",
            "  Preparing metadata (pyproject.toml) ... \u001b[?25l\u001b[?25hdone\n"
          ]
        }
      ],
      "source": [
        "!pip install -q git+https://github.com/huggingface/transformers.git"
      ]
    },
    {
      "cell_type": "code",
      "execution_count": 3,
      "metadata": {
        "id": "P0a9maoNyrja"
      },
      "outputs": [],
      "source": [
        "import os\n",
        "\n",
        "home = '/content/drive/MyDrive/2ReadyForFineTuning/VLQAv1/Blocksworld/'\n",
        "\n",
        "imroot = home+'merged_images'\n",
        "os.chdir(home)"
      ]
    },
    {
      "cell_type": "code",
      "execution_count": 4,
      "metadata": {
        "id": "SEJyeCl-IjN-"
      },
      "outputs": [],
      "source": [
        "prefix = 'blocksworld'"
      ]
    },
    {
      "cell_type": "code",
      "execution_count": 5,
      "metadata": {
        "colab": {
          "base_uri": "https://localhost:8080/"
        },
        "id": "bWWyIF0gEb3O",
        "outputId": "d1d91594-e8c4-40d4-ac0e-2ec9b99990fa"
      },
      "outputs": [
        {
          "output_type": "stream",
          "name": "stdout",
          "text": [
            "250\n",
            "{'info': {}, 'task_type': 'Open-Ended', 'data_type': 'blocksworld', 'license': {}, 'data_subtype': 'blocksworld', 'questions': [{'image_id': '/content/drive/MyDrive/2ReadyForFineTuning/VLQAv1/Blocksworld/merged_images/Merged_BW_1_0#BW_1_1.jpg', 'question': 'How many moves are required at minimum if configuration in image [0] is to be transformed into configuration in image [1]? Consider 6 blocks of colors [Red, Green, Purple, Orange, Yellow and Blue]. Blocks can be moved as per three conditions below. A block can be moved if there is no other block on it. At each time stamp only one block can be moved. A block can be moved OnTable, OutOfTable or on any other block.', 'question_id': 0, 'answer_choices': [1, 5, 2, 3], 'answer_id': 0}, {'image_id': '/content/drive/MyDrive/2ReadyForFineTuning/VLQAv1/Blocksworld/merged_images/Merged_BW_2_0#BW_2_1.jpg', 'question': 'How many moves are required at minimum if configuration in image [0] is to be transformed into configuration in image [1]? Consider 6 blocks of colors [Red, Green, Purple, Orange, Yellow and Blue]. Blocks can be moved as per three conditions below. A block can be moved if there is no other block on it. At each time stamp only one block can be moved. A block can be moved OnTable, OutOfTable or on any other block.', 'question_id': 1, 'answer_choices': [4, 5, 2, 1], 'answer_id': 3}, {'image_id': '/content/drive/MyDrive/2ReadyForFineTuning/VLQAv1/Blocksworld/merged_images/Merged_BW_3_0#BW_3_1.jpg', 'question': 'How many moves are required at minimum if configuration in image [0] is to be transformed into configuration in image [1]? Consider 6 blocks of colors [Red, Green, Purple, Orange, Yellow and Blue]. Blocks can be moved as per three conditions below. A block can be moved if there is no other block on it. At each time stamp only one block can be moved. A block can be moved OnTable, OutOfTable or on any other block.', 'question_id': 2, 'answer_choices': [1, 3, 7, 2], 'answer_id': 0}, {'image_id': '/content/drive/MyDrive/2ReadyForFineTuning/VLQAv1/Blocksworld/merged_images/Merged_BW_4_0#BW_4_1.jpg', 'question': 'How many moves are required at minimum if configuration in image [0] is to be transformed into configuration in image [1]? Consider 6 blocks of colors [Red, Green, Purple, Orange, Yellow and Blue]. Blocks can be moved as per three conditions below. A block can be moved if there is no other block on it. At each time stamp only one block can be moved. A block can be moved OnTable, OutOfTable or on any other block.', 'question_id': 3, 'answer_choices': [1, 5, 2, 7], 'answer_id': 0}, {'image_id': '/content/drive/MyDrive/2ReadyForFineTuning/VLQAv1/Blocksworld/merged_images/Merged_BW_5_0#BW_5_1.jpg', 'question': 'How many moves are required at minimum if configuration in image [0] is to be transformed into configuration in image [1]? Consider 6 blocks of colors [Red, Green, Purple, Orange, Yellow and Blue]. Blocks can be moved as per three conditions below. A block can be moved if there is no other block on it. At each time stamp only one block can be moved. A block can be moved OnTable, OutOfTable or on any other block.', 'question_id': 4, 'answer_choices': [1, 7, 0, 3], 'answer_id': 0}, {'image_id': '/content/drive/MyDrive/2ReadyForFineTuning/VLQAv1/Blocksworld/merged_images/Merged_BW_6_0#BW_6_1.jpg', 'question': 'How many moves are required at minimum if configuration in image [0] is to be transformed into configuration in image [1]? Consider 6 blocks of colors [Red, Green, Purple, Orange, Yellow and Blue]. Blocks can be moved as per three conditions below. A block can be moved if there is no other block on it. At each time stamp only one block can be moved. A block can be moved OnTable, OutOfTable or on any other block.', 'question_id': 5, 'answer_choices': [1, 0, 2, 7], 'answer_id': 0}, {'image_id': '/content/drive/MyDrive/2ReadyForFineTuning/VLQAv1/Blocksworld/merged_images/Merged_BW_7_0#BW_7_1.jpg', 'question': 'How many moves are required at minimum if configuration in image [0] is to be transformed into configuration in image [1]? Consider 6 blocks of colors [Red, Green, Purple, Orange, Yellow and Blue]. Blocks can be moved as per three conditions below. A block can be moved if there is no other block on it. At each time stamp only one block can be moved. A block can be moved OnTable, OutOfTable or on any other block.', 'question_id': 6, 'answer_choices': [1, 3, 7, 4], 'answer_id': 0}, {'image_id': '/content/drive/MyDrive/2ReadyForFineTuning/VLQAv1/Blocksworld/merged_images/Merged_BW_8_0#BW_8_1.jpg', 'question': 'How many moves are required at minimum if configuration in image [0] is to be transformed into configuration in image [1]? Consider 6 blocks of colors [Red, Green, Purple, Orange, Yellow and Blue]. Blocks can be moved as per three conditions below. A block can be moved if there is no other block on it. At each time stamp only one block can be moved. A block can be moved OnTable, OutOfTable or on any other block.', 'question_id': 7, 'answer_choices': [3, 4, 1, 6], 'answer_id': 2}, {'image_id': '/content/drive/MyDrive/2ReadyForFineTuning/VLQAv1/Blocksworld/merged_images/Merged_BW_9_0#BW_9_1.jpg', 'question': 'How many moves are required at minimum if configuration in image [0] is to be transformed into configuration in image [1]? Consider 6 blocks of colors [Red, Green, Purple, Orange, Yellow and Blue]. Blocks can be moved as per three conditions below. A block can be moved if there is no other block on it. At each time stamp only one block can be moved. A block can be moved OnTable, OutOfTable or on any other block.', 'question_id': 8, 'answer_choices': [4, 7, 6, 1], 'answer_id': 3}, {'image_id': '/content/drive/MyDrive/2ReadyForFineTuning/VLQAv1/Blocksworld/merged_images/Merged_BW_10_0#BW_10_1.jpg', 'question': 'How many moves are required at minimum if configuration in image [0] is to be transformed into configuration in image [1]? Consider 6 blocks of colors [Red, Green, Purple, Orange, Yellow and Blue]. Blocks can be moved as per three conditions below. A block can be moved if there is no other block on it. At each time stamp only one block can be moved. A block can be moved OnTable, OutOfTable or on any other block.', 'question_id': 9, 'answer_choices': [5, 6, 2, 1], 'answer_id': 3}, {'image_id': '/content/drive/MyDrive/2ReadyForFineTuning/VLQAv1/Blocksworld/merged_images/Merged_BW_11_0#BW_11_1.jpg', 'question': 'How many moves are required at minimum if configuration in image [0] is to be transformed into configuration in image [1]? Consider 6 blocks of colors [Red, Green, Purple, Orange, Yellow and Blue]. Blocks can be moved as per three conditions below. A block can be moved if there is no other block on it. At each time stamp only one block can be moved. A block can be moved OnTable, OutOfTable or on any other block.', 'question_id': 10, 'answer_choices': [2, 4, 0, 5], 'answer_id': 0}, {'image_id': '/content/drive/MyDrive/2ReadyForFineTuning/VLQAv1/Blocksworld/merged_images/Merged_BW_12_0#BW_12_1.jpg', 'question': 'How many moves are required at minimum if configuration in image [0] is to be transformed into configuration in image [1]? Consider 6 blocks of colors [Red, Green, Purple, Orange, Yellow and Blue]. Blocks can be moved as per three conditions below. A block can be moved if there is no other block on it. At each time stamp only one block can be moved. A block can be moved OnTable, OutOfTable or on any other block.', 'question_id': 11, 'answer_choices': [4, 7, 2, 5], 'answer_id': 2}, {'image_id': '/content/drive/MyDrive/2ReadyForFineTuning/VLQAv1/Blocksworld/merged_images/Merged_BW_13_0#BW_13_1.jpg', 'question': 'How many moves are required at minimum if configuration in image [0] is to be transformed into configuration in image [1]? Consider 6 blocks of colors [Red, Green, Purple, Orange, Yellow and Blue]. Blocks can be moved as per three conditions below. A block can be moved if there is no other block on it. At each time stamp only one block can be moved. A block can be moved OnTable, OutOfTable or on any other block.', 'question_id': 12, 'answer_choices': [5, 6, 1, 2], 'answer_id': 3}, {'image_id': '/content/drive/MyDrive/2ReadyForFineTuning/VLQAv1/Blocksworld/merged_images/Merged_BW_14_0#BW_14_1.jpg', 'question': 'How many moves are required at minimum if configuration in image [0] is to be transformed into configuration in image [1]? Consider 6 blocks of colors [Red, Green, Purple, Orange, Yellow and Blue]. Blocks can be moved as per three conditions below. A block can be moved if there is no other block on it. At each time stamp only one block can be moved. A block can be moved OnTable, OutOfTable or on any other block.', 'question_id': 13, 'answer_choices': [1, 2, 6, 3], 'answer_id': 1}, {'image_id': '/content/drive/MyDrive/2ReadyForFineTuning/VLQAv1/Blocksworld/merged_images/Merged_BW_15_0#BW_15_1.jpg', 'question': 'How many moves are required at minimum if configuration in image [0] is to be transformed into configuration in image [1]? Consider 6 blocks of colors [Red, Green, Purple, Orange, Yellow and Blue]. Blocks can be moved as per three conditions below. A block can be moved if there is no other block on it. At each time stamp only one block can be moved. A block can be moved OnTable, OutOfTable or on any other block.', 'question_id': 14, 'answer_choices': [4, 2, 3, 5], 'answer_id': 1}, {'image_id': '/content/drive/MyDrive/2ReadyForFineTuning/VLQAv1/Blocksworld/merged_images/Merged_BW_16_0#BW_16_1.jpg', 'question': 'How many moves are required at minimum if configuration in image [0] is to be transformed into configuration in image [1]? Consider 6 blocks of colors [Red, Green, Purple, Orange, Yellow and Blue]. Blocks can be moved as per three conditions below. A block can be moved if there is no other block on it. At each time stamp only one block can be moved. A block can be moved OnTable, OutOfTable or on any other block.', 'question_id': 15, 'answer_choices': [6, 2, 0, 3], 'answer_id': 1}, {'image_id': '/content/drive/MyDrive/2ReadyForFineTuning/VLQAv1/Blocksworld/merged_images/Merged_BW_17_0#BW_17_1.jpg', 'question': 'How many moves are required at minimum if configuration in image [0] is to be transformed into configuration in image [1]? Consider 6 blocks of colors [Red, Green, Purple, Orange, Yellow and Blue]. Blocks can be moved as per three conditions below. A block can be moved if there is no other block on it. At each time stamp only one block can be moved. A block can be moved OnTable, OutOfTable or on any other block.', 'question_id': 16, 'answer_choices': [4, 5, 2, 1], 'answer_id': 2}, {'image_id': '/content/drive/MyDrive/2ReadyForFineTuning/VLQAv1/Blocksworld/merged_images/Merged_BW_18_0#BW_18_1.jpg', 'question': 'How many moves are required at minimum if configuration in image [0] is to be transformed into configuration in image [1]? Consider 6 blocks of colors [Red, Green, Purple, Orange, Yellow and Blue]. Blocks can be moved as per three conditions below. A block can be moved if there is no other block on it. At each time stamp only one block can be moved. A block can be moved OnTable, OutOfTable or on any other block.', 'question_id': 17, 'answer_choices': [2, 3, 4, 6], 'answer_id': 0}, {'image_id': '/content/drive/MyDrive/2ReadyForFineTuning/VLQAv1/Blocksworld/merged_images/Merged_BW_19_0#BW_19_1.jpg', 'question': 'How many moves are required at minimum if configuration in image [0] is to be transformed into configuration in image [1]? Consider 6 blocks of colors [Red, Green, Purple, Orange, Yellow and Blue]. Blocks can be moved as per three conditions below. A block can be moved if there is no other block on it. At each time stamp only one block can be moved. A block can be moved OnTable, OutOfTable or on any other block.', 'question_id': 18, 'answer_choices': [0, 4, 2, 3], 'answer_id': 2}, {'image_id': '/content/drive/MyDrive/2ReadyForFineTuning/VLQAv1/Blocksworld/merged_images/Merged_BW_20_0#BW_20_1.jpg', 'question': 'How many moves are required at minimum if configuration in image [0] is to be transformed into configuration in image [1]? Consider 6 blocks of colors [Red, Green, Purple, Orange, Yellow and Blue]. Blocks can be moved as per three conditions below. A block can be moved if there is no other block on it. At each time stamp only one block can be moved. A block can be moved OnTable, OutOfTable or on any other block.', 'question_id': 19, 'answer_choices': [0, 6, 3, 2], 'answer_id': 3}, {'image_id': '/content/drive/MyDrive/2ReadyForFineTuning/VLQAv1/Blocksworld/merged_images/Merged_BW_21_0#BW_21_1.jpg', 'question': 'How many moves are required at minimum if configuration in image [0] is to be transformed into configuration in image [1]? Consider 6 blocks of colors [Red, Green, Purple, Orange, Yellow and Blue]. Blocks can be moved as per three conditions below. A block can be moved if there is no other block on it. At each time stamp only one block can be moved. A block can be moved OnTable, OutOfTable or on any other block.', 'question_id': 20, 'answer_choices': [5, 3, 0, 7], 'answer_id': 1}, {'image_id': '/content/drive/MyDrive/2ReadyForFineTuning/VLQAv1/Blocksworld/merged_images/Merged_BW_22_0#BW_22_1.jpg', 'question': 'How many moves are required at minimum if configuration in image [0] is to be transformed into configuration in image [1]? Consider 6 blocks of colors [Red, Green, Purple, Orange, Yellow and Blue]. Blocks can be moved as per three conditions below. A block can be moved if there is no other block on it. At each time stamp only one block can be moved. A block can be moved OnTable, OutOfTable or on any other block.', 'question_id': 21, 'answer_choices': [3, 7, 6, 0], 'answer_id': 0}, {'image_id': '/content/drive/MyDrive/2ReadyForFineTuning/VLQAv1/Blocksworld/merged_images/Merged_BW_23_0#BW_23_1.jpg', 'question': 'How many moves are required at minimum if configuration in image [0] is to be transformed into configuration in image [1]? Consider 6 blocks of colors [Red, Green, Purple, Orange, Yellow and Blue]. Blocks can be moved as per three conditions below. A block can be moved if there is no other block on it. At each time stamp only one block can be moved. A block can be moved OnTable, OutOfTable or on any other block.', 'question_id': 22, 'answer_choices': [3, 6, 7, 5], 'answer_id': 0}, {'image_id': '/content/drive/MyDrive/2ReadyForFineTuning/VLQAv1/Blocksworld/merged_images/Merged_BW_24_0#BW_24_1.jpg', 'question': 'How many moves are required at minimum if configuration in image [0] is to be transformed into configuration in image [1]? Consider 6 blocks of colors [Red, Green, Purple, Orange, Yellow and Blue]. Blocks can be moved as per three conditions below. A block can be moved if there is no other block on it. At each time stamp only one block can be moved. A block can be moved OnTable, OutOfTable or on any other block.', 'question_id': 23, 'answer_choices': [0, 1, 5, 3], 'answer_id': 3}, {'image_id': '/content/drive/MyDrive/2ReadyForFineTuning/VLQAv1/Blocksworld/merged_images/Merged_BW_25_0#BW_25_1.jpg', 'question': 'How many moves are required at minimum if configuration in image [0] is to be transformed into configuration in image [1]? Consider 6 blocks of colors [Red, Green, Purple, Orange, Yellow and Blue]. Blocks can be moved as per three conditions below. A block can be moved if there is no other block on it. At each time stamp only one block can be moved. A block can be moved OnTable, OutOfTable or on any other block.', 'question_id': 24, 'answer_choices': [6, 2, 3, 0], 'answer_id': 2}, {'image_id': '/content/drive/MyDrive/2ReadyForFineTuning/VLQAv1/Blocksworld/merged_images/Merged_BW_26_0#BW_26_1.jpg', 'question': 'How many moves are required at minimum if configuration in image [0] is to be transformed into configuration in image [1]? Consider 6 blocks of colors [Red, Green, Purple, Orange, Yellow and Blue]. Blocks can be moved as per three conditions below. A block can be moved if there is no other block on it. At each time stamp only one block can be moved. A block can be moved OnTable, OutOfTable or on any other block.', 'question_id': 25, 'answer_choices': [4, 6, 3, 2], 'answer_id': 2}, {'image_id': '/content/drive/MyDrive/2ReadyForFineTuning/VLQAv1/Blocksworld/merged_images/Merged_BW_27_0#BW_27_1.jpg', 'question': 'How many moves are required at minimum if configuration in image [0] is to be transformed into configuration in image [1]? Consider 6 blocks of colors [Red, Green, Purple, Orange, Yellow and Blue]. Blocks can be moved as per three conditions below. A block can be moved if there is no other block on it. At each time stamp only one block can be moved. A block can be moved OnTable, OutOfTable or on any other block.', 'question_id': 26, 'answer_choices': [7, 3, 4, 5], 'answer_id': 1}, {'image_id': '/content/drive/MyDrive/2ReadyForFineTuning/VLQAv1/Blocksworld/merged_images/Merged_BW_28_0#BW_28_1.jpg', 'question': 'How many moves are required at minimum if configuration in image [0] is to be transformed into configuration in image [1]? Consider 6 blocks of colors [Red, Green, Purple, Orange, Yellow and Blue]. Blocks can be moved as per three conditions below. A block can be moved if there is no other block on it. At each time stamp only one block can be moved. A block can be moved OnTable, OutOfTable or on any other block.', 'question_id': 27, 'answer_choices': [5, 6, 0, 3], 'answer_id': 3}, {'image_id': '/content/drive/MyDrive/2ReadyForFineTuning/VLQAv1/Blocksworld/merged_images/Merged_BW_29_0#BW_29_1.jpg', 'question': 'How many moves are required at minimum if configuration in image [0] is to be transformed into configuration in image [1]? Consider 6 blocks of colors [Red, Green, Purple, Orange, Yellow and Blue]. Blocks can be moved as per three conditions below. A block can be moved if there is no other block on it. At each time stamp only one block can be moved. A block can be moved OnTable, OutOfTable or on any other block.', 'question_id': 28, 'answer_choices': [7, 2, 6, 3], 'answer_id': 3}, {'image_id': '/content/drive/MyDrive/2ReadyForFineTuning/VLQAv1/Blocksworld/merged_images/Merged_BW_30_0#BW_30_1.jpg', 'question': 'How many moves are required at minimum if configuration in image [0] is to be transformed into configuration in image [1]? Consider 6 blocks of colors [Red, Green, Purple, Orange, Yellow and Blue]. Blocks can be moved as per three conditions below. A block can be moved if there is no other block on it. At each time stamp only one block can be moved. A block can be moved OnTable, OutOfTable or on any other block.', 'question_id': 29, 'answer_choices': [6, 4, 3, 5], 'answer_id': 2}, {'image_id': '/content/drive/MyDrive/2ReadyForFineTuning/VLQAv1/Blocksworld/merged_images/Merged_BW_31_0#BW_31_1.jpg', 'question': 'How many moves are required at minimum if configuration in image [0] is to be transformed into configuration in image [1]? Consider 6 blocks of colors [Red, Green, Purple, Orange, Yellow and Blue]. Blocks can be moved as per three conditions below. A block can be moved if there is no other block on it. At each time stamp only one block can be moved. A block can be moved OnTable, OutOfTable or on any other block.', 'question_id': 30, 'answer_choices': [4, 2, 5, 0], 'answer_id': 0}, {'image_id': '/content/drive/MyDrive/2ReadyForFineTuning/VLQAv1/Blocksworld/merged_images/Merged_BW_32_0#BW_32_1.jpg', 'question': 'How many moves are required at minimum if configuration in image [0] is to be transformed into configuration in image [1]? Consider 6 blocks of colors [Red, Green, Purple, Orange, Yellow and Blue]. Blocks can be moved as per three conditions below. A block can be moved if there is no other block on it. At each time stamp only one block can be moved. A block can be moved OnTable, OutOfTable or on any other block.', 'question_id': 31, 'answer_choices': [7, 0, 1, 4], 'answer_id': 3}, {'image_id': '/content/drive/MyDrive/2ReadyForFineTuning/VLQAv1/Blocksworld/merged_images/Merged_BW_33_0#BW_33_1.jpg', 'question': 'How many moves are required at minimum if configuration in image [0] is to be transformed into configuration in image [1]? Consider 6 blocks of colors [Red, Green, Purple, Orange, Yellow and Blue]. Blocks can be moved as per three conditions below. A block can be moved if there is no other block on it. At each time stamp only one block can be moved. A block can be moved OnTable, OutOfTable or on any other block.', 'question_id': 32, 'answer_choices': [7, 0, 4, 1], 'answer_id': 2}, {'image_id': '/content/drive/MyDrive/2ReadyForFineTuning/VLQAv1/Blocksworld/merged_images/Merged_BW_34_0#BW_34_1.jpg', 'question': 'How many moves are required at minimum if configuration in image [0] is to be transformed into configuration in image [1]? Consider 6 blocks of colors [Red, Green, Purple, Orange, Yellow and Blue]. Blocks can be moved as per three conditions below. A block can be moved if there is no other block on it. At each time stamp only one block can be moved. A block can be moved OnTable, OutOfTable or on any other block.', 'question_id': 33, 'answer_choices': [4, 3, 6, 7], 'answer_id': 0}, {'image_id': '/content/drive/MyDrive/2ReadyForFineTuning/VLQAv1/Blocksworld/merged_images/Merged_BW_35_0#BW_35_1.jpg', 'question': 'How many moves are required at minimum if configuration in image [0] is to be transformed into configuration in image [1]? Consider 6 blocks of colors [Red, Green, Purple, Orange, Yellow and Blue]. Blocks can be moved as per three conditions below. A block can be moved if there is no other block on it. At each time stamp only one block can be moved. A block can be moved OnTable, OutOfTable or on any other block.', 'question_id': 34, 'answer_choices': [7, 4, 6, 0], 'answer_id': 1}, {'image_id': '/content/drive/MyDrive/2ReadyForFineTuning/VLQAv1/Blocksworld/merged_images/Merged_BW_36_0#BW_36_1.jpg', 'question': 'How many moves are required at minimum if configuration in image [0] is to be transformed into configuration in image [1]? Consider 6 blocks of colors [Red, Green, Purple, Orange, Yellow and Blue]. Blocks can be moved as per three conditions below. A block can be moved if there is no other block on it. At each time stamp only one block can be moved. A block can be moved OnTable, OutOfTable or on any other block.', 'question_id': 35, 'answer_choices': [4, 3, 0, 5], 'answer_id': 0}, {'image_id': '/content/drive/MyDrive/2ReadyForFineTuning/VLQAv1/Blocksworld/merged_images/Merged_BW_37_0#BW_37_1.jpg', 'question': 'How many moves are required at minimum if configuration in image [0] is to be transformed into configuration in image [1]? Consider 6 blocks of colors [Red, Green, Purple, Orange, Yellow and Blue]. Blocks can be moved as per three conditions below. A block can be moved if there is no other block on it. At each time stamp only one block can be moved. A block can be moved OnTable, OutOfTable or on any other block.', 'question_id': 36, 'answer_choices': [1, 5, 4, 7], 'answer_id': 2}, {'image_id': '/content/drive/MyDrive/2ReadyForFineTuning/VLQAv1/Blocksworld/merged_images/Merged_BW_38_0#BW_38_1.jpg', 'question': 'How many moves are required at minimum if configuration in image [0] is to be transformed into configuration in image [1]? Consider 6 blocks of colors [Red, Green, Purple, Orange, Yellow and Blue]. Blocks can be moved as per three conditions below. A block can be moved if there is no other block on it. At each time stamp only one block can be moved. A block can be moved OnTable, OutOfTable or on any other block.', 'question_id': 37, 'answer_choices': [4, 5, 1, 7], 'answer_id': 0}, {'image_id': '/content/drive/MyDrive/2ReadyForFineTuning/VLQAv1/Blocksworld/merged_images/Merged_BW_39_0#BW_39_1.jpg', 'question': 'How many moves are required at minimum if configuration in image [0] is to be transformed into configuration in image [1]? Consider 6 blocks of colors [Red, Green, Purple, Orange, Yellow and Blue]. Blocks can be moved as per three conditions below. A block can be moved if there is no other block on it. At each time stamp only one block can be moved. A block can be moved OnTable, OutOfTable or on any other block.', 'question_id': 38, 'answer_choices': [7, 0, 1, 4], 'answer_id': 3}, {'image_id': '/content/drive/MyDrive/2ReadyForFineTuning/VLQAv1/Blocksworld/merged_images/Merged_BW_40_0#BW_40_1.jpg', 'question': 'How many moves are required at minimum if configuration in image [0] is to be transformed into configuration in image [1]? Consider 6 blocks of colors [Red, Green, Purple, Orange, Yellow and Blue]. Blocks can be moved as per three conditions below. A block can be moved if there is no other block on it. At each time stamp only one block can be moved. A block can be moved OnTable, OutOfTable or on any other block.', 'question_id': 39, 'answer_choices': [3, 4, 0, 5], 'answer_id': 1}, {'image_id': '/content/drive/MyDrive/2ReadyForFineTuning/VLQAv1/Blocksworld/merged_images/Merged_BW_1_0#BW_1_1.jpg', 'question': 'How many times the Green block is moved if configuration in image [0] is to be transformed into configuration in image [1]? Consider 6 blocks of colors [Red, Green, Purple, Orange, Yellow and Blue]. Blocks can be moved as per three conditions below. A block can be moved if there is no other block on it. At each time stamp only one block can be moved. A block can be moved OnTable, OutOfTable or on any other block.', 'question_id': 40, 'answer_choices': [3, 1, 2, 0], 'answer_id': 1}, {'image_id': '/content/drive/MyDrive/2ReadyForFineTuning/VLQAv1/Blocksworld/merged_images/Merged_BW_2_0#BW_2_1.jpg', 'question': 'How many times the Purple block is moved if configuration in image [0] is to be transformed into configuration in image [1]? Consider 6 blocks of colors [Red, Green, Purple, Orange, Yellow and Blue]. Blocks can be moved as per three conditions below. A block can be moved if there is no other block on it. At each time stamp only one block can be moved. A block can be moved OnTable, OutOfTable or on any other block.', 'question_id': 41, 'answer_choices': [0, 2, 1, 3], 'answer_id': 2}, {'image_id': '/content/drive/MyDrive/2ReadyForFineTuning/VLQAv1/Blocksworld/merged_images/Merged_BW_3_0#BW_3_1.jpg', 'question': 'How many times the Orange block is moved if configuration in image [0] is to be transformed into configuration in image [1]? Consider 6 blocks of colors [Red, Green, Purple, Orange, Yellow and Blue]. Blocks can be moved as per three conditions below. A block can be moved if there is no other block on it. At each time stamp only one block can be moved. A block can be moved OnTable, OutOfTable or on any other block.', 'question_id': 42, 'answer_choices': [3, 2, 1, 0], 'answer_id': 2}, {'image_id': '/content/drive/MyDrive/2ReadyForFineTuning/VLQAv1/Blocksworld/merged_images/Merged_BW_4_0#BW_4_1.jpg', 'question': 'How many times the Purple block is moved if configuration in image [0] is to be transformed into configuration in image [1]? Consider 6 blocks of colors [Red, Green, Purple, Orange, Yellow and Blue]. Blocks can be moved as per three conditions below. A block can be moved if there is no other block on it. At each time stamp only one block can be moved. A block can be moved OnTable, OutOfTable or on any other block.', 'question_id': 43, 'answer_choices': [3, 2, 0, 1], 'answer_id': 3}, {'image_id': '/content/drive/MyDrive/2ReadyForFineTuning/VLQAv1/Blocksworld/merged_images/Merged_BW_5_0#BW_5_1.jpg', 'question': 'How many times the Yellow block is moved if configuration in image [0] is to be transformed into configuration in image [1]? Consider 6 blocks of colors [Red, Green, Purple, Orange, Yellow and Blue]. Blocks can be moved as per three conditions below. A block can be moved if there is no other block on it. At each time stamp only one block can be moved. A block can be moved OnTable, OutOfTable or on any other block.', 'question_id': 44, 'answer_choices': [1, 0, 3, 2], 'answer_id': 0}, {'image_id': '/content/drive/MyDrive/2ReadyForFineTuning/VLQAv1/Blocksworld/merged_images/Merged_BW_6_0#BW_6_1.jpg', 'question': 'How many times the Orange block is moved if configuration in image [0] is to be transformed into configuration in image [1]? Consider 6 blocks of colors [Red, Green, Purple, Orange, Yellow and Blue]. Blocks can be moved as per three conditions below. A block can be moved if there is no other block on it. At each time stamp only one block can be moved. A block can be moved OnTable, OutOfTable or on any other block.', 'question_id': 45, 'answer_choices': [2, 0, 1, 3], 'answer_id': 2}, {'image_id': '/content/drive/MyDrive/2ReadyForFineTuning/VLQAv1/Blocksworld/merged_images/Merged_BW_7_0#BW_7_1.jpg', 'question': 'How many times the Purple block is moved if configuration in image [0] is to be transformed into configuration in image [1]? Consider 6 blocks of colors [Red, Green, Purple, Orange, Yellow and Blue]. Blocks can be moved as per three conditions below. A block can be moved if there is no other block on it. At each time stamp only one block can be moved. A block can be moved OnTable, OutOfTable or on any other block.', 'question_id': 46, 'answer_choices': [2, 3, 1, 0], 'answer_id': 2}, {'image_id': '/content/drive/MyDrive/2ReadyForFineTuning/VLQAv1/Blocksworld/merged_images/Merged_BW_8_0#BW_8_1.jpg', 'question': 'How many times the Blue block is moved if configuration in image [0] is to be transformed into configuration in image [1]? Consider 6 blocks of colors [Red, Green, Purple, Orange, Yellow and Blue]. Blocks can be moved as per three conditions below. A block can be moved if there is no other block on it. At each time stamp only one block can be moved. A block can be moved OnTable, OutOfTable or on any other block.', 'question_id': 47, 'answer_choices': [0, 1, 2, 3], 'answer_id': 1}, {'image_id': '/content/drive/MyDrive/2ReadyForFineTuning/VLQAv1/Blocksworld/merged_images/Merged_BW_9_0#BW_9_1.jpg', 'question': 'How many times the Yellow block is moved if configuration in image [0] is to be transformed into configuration in image [1]? Consider 6 blocks of colors [Red, Green, Purple, Orange, Yellow and Blue]. Blocks can be moved as per three conditions below. A block can be moved if there is no other block on it. At each time stamp only one block can be moved. A block can be moved OnTable, OutOfTable or on any other block.', 'question_id': 48, 'answer_choices': [3, 2, 1, 0], 'answer_id': 2}, {'image_id': '/content/drive/MyDrive/2ReadyForFineTuning/VLQAv1/Blocksworld/merged_images/Merged_BW_10_0#BW_10_1.jpg', 'question': 'How many times the Yellow block is moved if configuration in image [0] is to be transformed into configuration in image [1]? Consider 6 blocks of colors [Red, Green, Purple, Orange, Yellow and Blue]. Blocks can be moved as per three conditions below. A block can be moved if there is no other block on it. At each time stamp only one block can be moved. A block can be moved OnTable, OutOfTable or on any other block.', 'question_id': 49, 'answer_choices': [0, 1, 3, 2], 'answer_id': 1}, {'image_id': '/content/drive/MyDrive/2ReadyForFineTuning/VLQAv1/Blocksworld/merged_images/Merged_BW_11_0#BW_11_1.jpg', 'question': 'How many times the Yellow block is moved if configuration in image [0] is to be transformed into configuration in image [1]? Consider 6 blocks of colors [Red, Green, Purple, Orange, Yellow and Blue]. Blocks can be moved as per three conditions below. A block can be moved if there is no other block on it. At each time stamp only one block can be moved. A block can be moved OnTable, OutOfTable or on any other block.', 'question_id': 50, 'answer_choices': [2, 3, 1, 0], 'answer_id': 2}, {'image_id': '/content/drive/MyDrive/2ReadyForFineTuning/VLQAv1/Blocksworld/merged_images/Merged_BW_12_0#BW_12_1.jpg', 'question': 'How many times the Blue block is moved if configuration in image [0] is to be transformed into configuration in image [1]? Consider 6 blocks of colors [Red, Green, Purple, Orange, Yellow and Blue]. Blocks can be moved as per three conditions below. A block can be moved if there is no other block on it. At each time stamp only one block can be moved. A block can be moved OnTable, OutOfTable or on any other block.', 'question_id': 51, 'answer_choices': [0, 2, 3, 1], 'answer_id': 3}, {'image_id': '/content/drive/MyDrive/2ReadyForFineTuning/VLQAv1/Blocksworld/merged_images/Merged_BW_13_0#BW_13_1.jpg', 'question': 'How many times the Blue block is moved if configuration in image [0] is to be transformed into configuration in image [1]? Consider 6 blocks of colors [Red, Green, Purple, Orange, Yellow and Blue]. Blocks can be moved as per three conditions below. A block can be moved if there is no other block on it. At each time stamp only one block can be moved. A block can be moved OnTable, OutOfTable or on any other block.', 'question_id': 52, 'answer_choices': [2, 1, 0, 3], 'answer_id': 1}, {'image_id': '/content/drive/MyDrive/2ReadyForFineTuning/VLQAv1/Blocksworld/merged_images/Merged_BW_14_0#BW_14_1.jpg', 'question': 'How many times the Yellow block is moved if configuration in image [0] is to be transformed into configuration in image [1]? Consider 6 blocks of colors [Red, Green, Purple, Orange, Yellow and Blue]. Blocks can be moved as per three conditions below. A block can be moved if there is no other block on it. At each time stamp only one block can be moved. A block can be moved OnTable, OutOfTable or on any other block.', 'question_id': 53, 'answer_choices': [3, 0, 1, 2], 'answer_id': 2}, {'image_id': '/content/drive/MyDrive/2ReadyForFineTuning/VLQAv1/Blocksworld/merged_images/Merged_BW_15_0#BW_15_1.jpg', 'question': 'How many times the Yellow block is moved if configuration in image [0] is to be transformed into configuration in image [1]? Consider 6 blocks of colors [Red, Green, Purple, Orange, Yellow and Blue]. Blocks can be moved as per three conditions below. A block can be moved if there is no other block on it. At each time stamp only one block can be moved. A block can be moved OnTable, OutOfTable or on any other block.', 'question_id': 54, 'answer_choices': [1, 0, 3, 2], 'answer_id': 0}, {'image_id': '/content/drive/MyDrive/2ReadyForFineTuning/VLQAv1/Blocksworld/merged_images/Merged_BW_16_0#BW_16_1.jpg', 'question': 'How many times the Purple block is moved if configuration in image [0] is to be transformed into configuration in image [1]? Consider 6 blocks of colors [Red, Green, Purple, Orange, Yellow and Blue]. Blocks can be moved as per three conditions below. A block can be moved if there is no other block on it. At each time stamp only one block can be moved. A block can be moved OnTable, OutOfTable or on any other block.', 'question_id': 55, 'answer_choices': [2, 0, 3, 1], 'answer_id': 3}, {'image_id': '/content/drive/MyDrive/2ReadyForFineTuning/VLQAv1/Blocksworld/merged_images/Merged_BW_17_0#BW_17_1.jpg', 'question': 'How many times the Purple block is moved if configuration in image [0] is to be transformed into configuration in image [1]? Consider 6 blocks of colors [Red, Green, Purple, Orange, Yellow and Blue]. Blocks can be moved as per three conditions below. A block can be moved if there is no other block on it. At each time stamp only one block can be moved. A block can be moved OnTable, OutOfTable or on any other block.', 'question_id': 56, 'answer_choices': [1, 0, 2, 3], 'answer_id': 0}, {'image_id': '/content/drive/MyDrive/2ReadyForFineTuning/VLQAv1/Blocksworld/merged_images/Merged_BW_18_0#BW_18_1.jpg', 'question': 'How many times the Yellow block is moved if configuration in image [0] is to be transformed into configuration in image [1]? Consider 6 blocks of colors [Red, Green, Purple, Orange, Yellow and Blue]. Blocks can be moved as per three conditions below. A block can be moved if there is no other block on it. At each time stamp only one block can be moved. A block can be moved OnTable, OutOfTable or on any other block.', 'question_id': 57, 'answer_choices': [2, 0, 3, 1], 'answer_id': 3}, {'image_id': '/content/drive/MyDrive/2ReadyForFineTuning/VLQAv1/Blocksworld/merged_images/Merged_BW_19_0#BW_19_1.jpg', 'question': 'How many times the Purple block is moved if configuration in image [0] is to be transformed into configuration in image [1]? Consider 6 blocks of colors [Red, Green, Purple, Orange, Yellow and Blue]. Blocks can be moved as per three conditions below. A block can be moved if there is no other block on it. At each time stamp only one block can be moved. A block can be moved OnTable, OutOfTable or on any other block.', 'question_id': 58, 'answer_choices': [1, 0, 2, 3], 'answer_id': 0}, {'image_id': '/content/drive/MyDrive/2ReadyForFineTuning/VLQAv1/Blocksworld/merged_images/Merged_BW_20_0#BW_20_1.jpg', 'question': 'How many times the Orange block is moved if configuration in image [0] is to be transformed into configuration in image [1]? Consider 6 blocks of colors [Red, Green, Purple, Orange, Yellow and Blue]. Blocks can be moved as per three conditions below. A block can be moved if there is no other block on it. At each time stamp only one block can be moved. A block can be moved OnTable, OutOfTable or on any other block.', 'question_id': 59, 'answer_choices': [2, 0, 1, 3], 'answer_id': 2}, {'image_id': '/content/drive/MyDrive/2ReadyForFineTuning/VLQAv1/Blocksworld/merged_images/Merged_BW_21_0#BW_21_1.jpg', 'question': 'How many times the Purple block is moved if configuration in image [0] is to be transformed into configuration in image [1]? Consider 6 blocks of colors [Red, Green, Purple, Orange, Yellow and Blue]. Blocks can be moved as per three conditions below. A block can be moved if there is no other block on it. At each time stamp only one block can be moved. A block can be moved OnTable, OutOfTable or on any other block.', 'question_id': 60, 'answer_choices': [2, 3, 1, 0], 'answer_id': 2}, {'image_id': '/content/drive/MyDrive/2ReadyForFineTuning/VLQAv1/Blocksworld/merged_images/Merged_BW_22_0#BW_22_1.jpg', 'question': 'How many times the Purple block is moved if configuration in image [0] is to be transformed into configuration in image [1]? Consider 6 blocks of colors [Red, Green, Purple, Orange, Yellow and Blue]. Blocks can be moved as per three conditions below. A block can be moved if there is no other block on it. At each time stamp only one block can be moved. A block can be moved OnTable, OutOfTable or on any other block.', 'question_id': 61, 'answer_choices': [1, 3, 0, 2], 'answer_id': 0}, {'image_id': '/content/drive/MyDrive/2ReadyForFineTuning/VLQAv1/Blocksworld/merged_images/Merged_BW_23_0#BW_23_1.jpg', 'question': 'How many times the Blue block is moved if configuration in image [0] is to be transformed into configuration in image [1]? Consider 6 blocks of colors [Red, Green, Purple, Orange, Yellow and Blue]. Blocks can be moved as per three conditions below. A block can be moved if there is no other block on it. At each time stamp only one block can be moved. A block can be moved OnTable, OutOfTable or on any other block.', 'question_id': 62, 'answer_choices': [2, 3, 0, 1], 'answer_id': 3}, {'image_id': '/content/drive/MyDrive/2ReadyForFineTuning/VLQAv1/Blocksworld/merged_images/Merged_BW_24_0#BW_24_1.jpg', 'question': 'How many times the Orange block is moved if configuration in image [0] is to be transformed into configuration in image [1]? Consider 6 blocks of colors [Red, Green, Purple, Orange, Yellow and Blue]. Blocks can be moved as per three conditions below. A block can be moved if there is no other block on it. At each time stamp only one block can be moved. A block can be moved OnTable, OutOfTable or on any other block.', 'question_id': 63, 'answer_choices': [1, 0, 3, 2], 'answer_id': 0}, {'image_id': '/content/drive/MyDrive/2ReadyForFineTuning/VLQAv1/Blocksworld/merged_images/Merged_BW_25_0#BW_25_1.jpg', 'question': 'How many times the Red block is moved if configuration in image [0] is to be transformed into configuration in image [1]? Consider 6 blocks of colors [Red, Green, Purple, Orange, Yellow and Blue]. Blocks can be moved as per three conditions below. A block can be moved if there is no other block on it. At each time stamp only one block can be moved. A block can be moved OnTable, OutOfTable or on any other block.', 'question_id': 64, 'answer_choices': [0, 1, 3, 2], 'answer_id': 1}, {'image_id': '/content/drive/MyDrive/2ReadyForFineTuning/VLQAv1/Blocksworld/merged_images/Merged_BW_26_0#BW_26_1.jpg', 'question': 'How many times the Blue block is moved if configuration in image [0] is to be transformed into configuration in image [1]? Consider 6 blocks of colors [Red, Green, Purple, Orange, Yellow and Blue]. Blocks can be moved as per three conditions below. A block can be moved if there is no other block on it. At each time stamp only one block can be moved. A block can be moved OnTable, OutOfTable or on any other block.', 'question_id': 65, 'answer_choices': [3, 1, 2, 0], 'answer_id': 2}, {'image_id': '/content/drive/MyDrive/2ReadyForFineTuning/VLQAv1/Blocksworld/merged_images/Merged_BW_27_0#BW_27_1.jpg', 'question': 'How many times the Green block is moved if configuration in image [0] is to be transformed into configuration in image [1]? Consider 6 blocks of colors [Red, Green, Purple, Orange, Yellow and Blue]. Blocks can be moved as per three conditions below. A block can be moved if there is no other block on it. At each time stamp only one block can be moved. A block can be moved OnTable, OutOfTable or on any other block.', 'question_id': 66, 'answer_choices': [1, 3, 0, 2], 'answer_id': 0}, {'image_id': '/content/drive/MyDrive/2ReadyForFineTuning/VLQAv1/Blocksworld/merged_images/Merged_BW_28_0#BW_28_1.jpg', 'question': 'How many times the Blue block is moved if configuration in image [0] is to be transformed into configuration in image [1]? Consider 6 blocks of colors [Red, Green, Purple, Orange, Yellow and Blue]. Blocks can be moved as per three conditions below. A block can be moved if there is no other block on it. At each time stamp only one block can be moved. A block can be moved OnTable, OutOfTable or on any other block.', 'question_id': 67, 'answer_choices': [3, 2, 0, 1], 'answer_id': 3}, {'image_id': '/content/drive/MyDrive/2ReadyForFineTuning/VLQAv1/Blocksworld/merged_images/Merged_BW_29_0#BW_29_1.jpg', 'question': 'How many times the Green block is moved if configuration in image [0] is to be transformed into configuration in image [1]? Consider 6 blocks of colors [Red, Green, Purple, Orange, Yellow and Blue]. Blocks can be moved as per three conditions below. A block can be moved if there is no other block on it. At each time stamp only one block can be moved. A block can be moved OnTable, OutOfTable or on any other block.', 'question_id': 68, 'answer_choices': [1, 0, 3, 2], 'answer_id': 0}, {'image_id': '/content/drive/MyDrive/2ReadyForFineTuning/VLQAv1/Blocksworld/merged_images/Merged_BW_30_0#BW_30_1.jpg', 'question': 'How many times the Yellow block is moved if configuration in image [0] is to be transformed into configuration in image [1]? Consider 6 blocks of colors [Red, Green, Purple, Orange, Yellow and Blue]. Blocks can be moved as per three conditions below. A block can be moved if there is no other block on it. At each time stamp only one block can be moved. A block can be moved OnTable, OutOfTable or on any other block.', 'question_id': 69, 'answer_choices': [3, 1, 2, 0], 'answer_id': 1}, {'image_id': '/content/drive/MyDrive/2ReadyForFineTuning/VLQAv1/Blocksworld/merged_images/Merged_BW_31_0#BW_31_1.jpg', 'question': 'How many times the Yellow block is moved if configuration in image [0] is to be transformed into configuration in image [1]? Consider 6 blocks of colors [Red, Green, Purple, Orange, Yellow and Blue]. Blocks can be moved as per three conditions below. A block can be moved if there is no other block on it. At each time stamp only one block can be moved. A block can be moved OnTable, OutOfTable or on any other block.', 'question_id': 70, 'answer_choices': [0, 3, 2, 1], 'answer_id': 3}, {'image_id': '/content/drive/MyDrive/2ReadyForFineTuning/VLQAv1/Blocksworld/merged_images/Merged_BW_32_0#BW_32_1.jpg', 'question': 'How many times the Red block is moved if configuration in image [0] is to be transformed into configuration in image [1]? Consider 6 blocks of colors [Red, Green, Purple, Orange, Yellow and Blue]. Blocks can be moved as per three conditions below. A block can be moved if there is no other block on it. At each time stamp only one block can be moved. A block can be moved OnTable, OutOfTable or on any other block.', 'question_id': 71, 'answer_choices': [3, 1, 0, 2], 'answer_id': 3}, {'image_id': '/content/drive/MyDrive/2ReadyForFineTuning/VLQAv1/Blocksworld/merged_images/Merged_BW_33_0#BW_33_1.jpg', 'question': 'How many times the Orange block is moved if configuration in image [0] is to be transformed into configuration in image [1]? Consider 6 blocks of colors [Red, Green, Purple, Orange, Yellow and Blue]. Blocks can be moved as per three conditions below. A block can be moved if there is no other block on it. At each time stamp only one block can be moved. A block can be moved OnTable, OutOfTable or on any other block.', 'question_id': 72, 'answer_choices': [3, 1, 0, 2], 'answer_id': 1}, {'image_id': '/content/drive/MyDrive/2ReadyForFineTuning/VLQAv1/Blocksworld/merged_images/Merged_BW_34_0#BW_34_1.jpg', 'question': 'How many times the Orange block is moved if configuration in image [0] is to be transformed into configuration in image [1]? Consider 6 blocks of colors [Red, Green, Purple, Orange, Yellow and Blue]. Blocks can be moved as per three conditions below. A block can be moved if there is no other block on it. At each time stamp only one block can be moved. A block can be moved OnTable, OutOfTable or on any other block.', 'question_id': 73, 'answer_choices': [0, 1, 3, 2], 'answer_id': 1}, {'image_id': '/content/drive/MyDrive/2ReadyForFineTuning/VLQAv1/Blocksworld/merged_images/Merged_BW_35_0#BW_35_1.jpg', 'question': 'How many times the Red block is moved if configuration in image [0] is to be transformed into configuration in image [1]? Consider 6 blocks of colors [Red, Green, Purple, Orange, Yellow and Blue]. Blocks can be moved as per three conditions below. A block can be moved if there is no other block on it. At each time stamp only one block can be moved. A block can be moved OnTable, OutOfTable or on any other block.', 'question_id': 74, 'answer_choices': [3, 1, 0, 2], 'answer_id': 1}, {'image_id': '/content/drive/MyDrive/2ReadyForFineTuning/VLQAv1/Blocksworld/merged_images/Merged_BW_36_0#BW_36_1.jpg', 'question': 'How many times the Yellow block is moved if configuration in image [0] is to be transformed into configuration in image [1]? Consider 6 blocks of colors [Red, Green, Purple, Orange, Yellow and Blue]. Blocks can be moved as per three conditions below. A block can be moved if there is no other block on it. At each time stamp only one block can be moved. A block can be moved OnTable, OutOfTable or on any other block.', 'question_id': 75, 'answer_choices': [3, 0, 2, 1], 'answer_id': 3}, {'image_id': '/content/drive/MyDrive/2ReadyForFineTuning/VLQAv1/Blocksworld/merged_images/Merged_BW_37_0#BW_37_1.jpg', 'question': 'How many times the Red block is moved if configuration in image [0] is to be transformed into configuration in image [1]? Consider 6 blocks of colors [Red, Green, Purple, Orange, Yellow and Blue]. Blocks can be moved as per three conditions below. A block can be moved if there is no other block on it. At each time stamp only one block can be moved. A block can be moved OnTable, OutOfTable or on any other block.', 'question_id': 76, 'answer_choices': [0, 3, 1, 2], 'answer_id': 2}, {'image_id': '/content/drive/MyDrive/2ReadyForFineTuning/VLQAv1/Blocksworld/merged_images/Merged_BW_38_0#BW_38_1.jpg', 'question': 'How many times the Orange block is moved if configuration in image [0] is to be transformed into configuration in image [1]? Consider 6 blocks of colors [Red, Green, Purple, Orange, Yellow and Blue]. Blocks can be moved as per three conditions below. A block can be moved if there is no other block on it. At each time stamp only one block can be moved. A block can be moved OnTable, OutOfTable or on any other block.', 'question_id': 77, 'answer_choices': [3, 0, 2, 1], 'answer_id': 3}, {'image_id': '/content/drive/MyDrive/2ReadyForFineTuning/VLQAv1/Blocksworld/merged_images/Merged_BW_39_0#BW_39_1.jpg', 'question': 'How many times the Green block is moved if configuration in image [0] is to be transformed into configuration in image [1]? Consider 6 blocks of colors [Red, Green, Purple, Orange, Yellow and Blue]. Blocks can be moved as per three conditions below. A block can be moved if there is no other block on it. At each time stamp only one block can be moved. A block can be moved OnTable, OutOfTable or on any other block.', 'question_id': 78, 'answer_choices': [1, 2, 0, 3], 'answer_id': 0}, {'image_id': '/content/drive/MyDrive/2ReadyForFineTuning/VLQAv1/Blocksworld/merged_images/Merged_BW_40_0#BW_40_1.jpg', 'question': 'How many times the Yellow block is moved if configuration in image [0] is to be transformed into configuration in image [1]? Consider 6 blocks of colors [Red, Green, Purple, Orange, Yellow and Blue]. Blocks can be moved as per three conditions below. A block can be moved if there is no other block on it. At each time stamp only one block can be moved. A block can be moved OnTable, OutOfTable or on any other block.', 'question_id': 79, 'answer_choices': [2, 0, 3, 1], 'answer_id': 3}, {'image_id': '/content/drive/MyDrive/2ReadyForFineTuning/VLQAv1/Blocksworld/merged_images/Merged_BW_41_0#BW_41_1.jpg', 'question': 'How many moves are required at minimum if configuration in image [0] is to be transformed into configuration in image [1]? Consider 6 blocks of colors [Red, Green, Purple, Orange, Yellow and Blue]. Blocks can be moved as per three conditions below. A block can be moved if there is no other block on it. At each time stamp only one block can be moved. A block can be moved OnTable, OutOfTable or on any other block.', 'question_id': 80, 'answer_choices': [1, 6, 4, 5], 'answer_id': 3}, {'image_id': '/content/drive/MyDrive/2ReadyForFineTuning/VLQAv1/Blocksworld/merged_images/Merged_BW_42_0#BW_42_1.jpg', 'question': 'How many moves are required at minimum if configuration in image [0] is to be transformed into configuration in image [1]? Consider 6 blocks of colors [Red, Green, Purple, Orange, Yellow and Blue]. Blocks can be moved as per three conditions below. A block can be moved if there is no other block on it. At each time stamp only one block can be moved. A block can be moved OnTable, OutOfTable or on any other block.', 'question_id': 81, 'answer_choices': [5, 2, 0, 3], 'answer_id': 0}, {'image_id': '/content/drive/MyDrive/2ReadyForFineTuning/VLQAv1/Blocksworld/merged_images/Merged_BW_43_0#BW_43_1.jpg', 'question': 'How many moves are required at minimum if configuration in image [0] is to be transformed into configuration in image [1]? Consider 6 blocks of colors [Red, Green, Purple, Orange, Yellow and Blue]. Blocks can be moved as per three conditions below. A block can be moved if there is no other block on it. At each time stamp only one block can be moved. A block can be moved OnTable, OutOfTable or on any other block.', 'question_id': 82, 'answer_choices': [4, 1, 0, 5], 'answer_id': 3}, {'image_id': '/content/drive/MyDrive/2ReadyForFineTuning/VLQAv1/Blocksworld/merged_images/Merged_BW_44_0#BW_44_1.jpg', 'question': 'How many moves are required at minimum if configuration in image [0] is to be transformed into configuration in image [1]? Consider 6 blocks of colors [Red, Green, Purple, Orange, Yellow and Blue]. Blocks can be moved as per three conditions below. A block can be moved if there is no other block on it. At each time stamp only one block can be moved. A block can be moved OnTable, OutOfTable or on any other block.', 'question_id': 83, 'answer_choices': [3, 2, 5, 0], 'answer_id': 2}, {'image_id': '/content/drive/MyDrive/2ReadyForFineTuning/VLQAv1/Blocksworld/merged_images/Merged_BW_45_0#BW_45_1.jpg', 'question': 'How many moves are required at minimum if configuration in image [0] is to be transformed into configuration in image [1]? Consider 6 blocks of colors [Red, Green, Purple, Orange, Yellow and Blue]. Blocks can be moved as per three conditions below. A block can be moved if there is no other block on it. At each time stamp only one block can be moved. A block can be moved OnTable, OutOfTable or on any other block.', 'question_id': 84, 'answer_choices': [5, 3, 0, 2], 'answer_id': 0}, {'image_id': '/content/drive/MyDrive/2ReadyForFineTuning/VLQAv1/Blocksworld/merged_images/Merged_BW_41_0#BW_41_1.jpg', 'question': 'How many times the Orange block is moved if configuration in image [0] is to be transformed into configuration in image [1]? Consider 6 blocks of colors [Red, Green, Purple, Orange, Yellow and Blue]. Blocks can be moved as per three conditions below. A block can be moved if there is no other block on it. At each time stamp only one block can be moved. A block can be moved OnTable, OutOfTable or on any other block.', 'question_id': 85, 'answer_choices': [3, 0, 1, 2], 'answer_id': 2}, {'image_id': '/content/drive/MyDrive/2ReadyForFineTuning/VLQAv1/Blocksworld/merged_images/Merged_BW_42_0#BW_42_1.jpg', 'question': 'How many times the Yellow block is moved if configuration in image [0] is to be transformed into configuration in image [1]? Consider 6 blocks of colors [Red, Green, Purple, Orange, Yellow and Blue]. Blocks can be moved as per three conditions below. A block can be moved if there is no other block on it. At each time stamp only one block can be moved. A block can be moved OnTable, OutOfTable or on any other block.', 'question_id': 86, 'answer_choices': [2, 3, 0, 1], 'answer_id': 3}, {'image_id': '/content/drive/MyDrive/2ReadyForFineTuning/VLQAv1/Blocksworld/merged_images/Merged_BW_43_0#BW_43_1.jpg', 'question': 'How many times the Green block is moved if configuration in image [0] is to be transformed into configuration in image [1]? Consider 6 blocks of colors [Red, Green, Purple, Orange, Yellow and Blue]. Blocks can be moved as per three conditions below. A block can be moved if there is no other block on it. At each time stamp only one block can be moved. A block can be moved OnTable, OutOfTable or on any other block.', 'question_id': 87, 'answer_choices': [0, 3, 2, 1], 'answer_id': 3}, {'image_id': '/content/drive/MyDrive/2ReadyForFineTuning/VLQAv1/Blocksworld/merged_images/Merged_BW_44_0#BW_44_1.jpg', 'question': 'How many times the Yellow block is moved if configuration in image [0] is to be transformed into configuration in image [1]? Consider 6 blocks of colors [Red, Green, Purple, Orange, Yellow and Blue]. Blocks can be moved as per three conditions below. A block can be moved if there is no other block on it. At each time stamp only one block can be moved. A block can be moved OnTable, OutOfTable or on any other block.', 'question_id': 88, 'answer_choices': [0, 2, 3, 1], 'answer_id': 1}, {'image_id': '/content/drive/MyDrive/2ReadyForFineTuning/VLQAv1/Blocksworld/merged_images/Merged_BW_45_0#BW_45_1.jpg', 'question': 'How many times the Yellow block is moved if configuration in image [0] is to be transformed into configuration in image [1]? Consider 6 blocks of colors [Red, Green, Purple, Orange, Yellow and Blue]. Blocks can be moved as per three conditions below. A block can be moved if there is no other block on it. At each time stamp only one block can be moved. A block can be moved OnTable, OutOfTable or on any other block.', 'question_id': 89, 'answer_choices': [3, 0, 2, 1], 'answer_id': 3}, {'image_id': '/content/drive/MyDrive/2ReadyForFineTuning/VLQAv1/Blocksworld/merged_images/Merged_BW_46_0#BW_46_1.jpg', 'question': 'How many moves are required at minimum if configuration in image [0] is to be transformed into configuration in image [1]? Consider 6 blocks of colors [Red, Green, Purple, Orange, Yellow and Blue]. Blocks can be moved as per three conditions below. A block can be moved if there is no other block on it. At each time stamp only one block can be moved. A block can be moved OnTable, OutOfTable or on any other block.', 'question_id': 90, 'answer_choices': [7, 0, 5, 6], 'answer_id': 2}, {'image_id': '/content/drive/MyDrive/2ReadyForFineTuning/VLQAv1/Blocksworld/merged_images/Merged_BW_47_0#BW_47_1.jpg', 'question': 'How many moves are required at minimum if configuration in image [0] is to be transformed into configuration in image [1]? Consider 6 blocks of colors [Red, Green, Purple, Orange, Yellow and Blue]. Blocks can be moved as per three conditions below. A block can be moved if there is no other block on it. At each time stamp only one block can be moved. A block can be moved OnTable, OutOfTable or on any other block.', 'question_id': 91, 'answer_choices': [7, 2, 6, 5], 'answer_id': 3}, {'image_id': '/content/drive/MyDrive/2ReadyForFineTuning/VLQAv1/Blocksworld/merged_images/Merged_BW_48_0#BW_48_1.jpg', 'question': 'How many moves are required at minimum if configuration in image [0] is to be transformed into configuration in image [1]? Consider 6 blocks of colors [Red, Green, Purple, Orange, Yellow and Blue]. Blocks can be moved as per three conditions below. A block can be moved if there is no other block on it. At each time stamp only one block can be moved. A block can be moved OnTable, OutOfTable or on any other block.', 'question_id': 92, 'answer_choices': [1, 5, 2, 6], 'answer_id': 1}, {'image_id': '/content/drive/MyDrive/2ReadyForFineTuning/VLQAv1/Blocksworld/merged_images/Merged_BW_49_0#BW_49_1.jpg', 'question': 'How many moves are required at minimum if configuration in image [0] is to be transformed into configuration in image [1]? Consider 6 blocks of colors [Red, Green, Purple, Orange, Yellow and Blue]. Blocks can be moved as per three conditions below. A block can be moved if there is no other block on it. At each time stamp only one block can be moved. A block can be moved OnTable, OutOfTable or on any other block.', 'question_id': 93, 'answer_choices': [1, 5, 3, 6], 'answer_id': 1}, {'image_id': '/content/drive/MyDrive/2ReadyForFineTuning/VLQAv1/Blocksworld/merged_images/Merged_BW_50_0#BW_50_1.jpg', 'question': 'How many moves are required at minimum if configuration in image [0] is to be transformed into configuration in image [1]? Consider 6 blocks of colors [Red, Green, Purple, Orange, Yellow and Blue]. Blocks can be moved as per three conditions below. A block can be moved if there is no other block on it. At each time stamp only one block can be moved. A block can be moved OnTable, OutOfTable or on any other block.', 'question_id': 94, 'answer_choices': [6, 5, 2, 1], 'answer_id': 1}, {'image_id': '/content/drive/MyDrive/2ReadyForFineTuning/VLQAv1/Blocksworld/merged_images/Merged_BW_46_0#BW_46_1.jpg', 'question': 'How many times the Green block is moved if configuration in image [0] is to be transformed into configuration in image [1]? Consider 6 blocks of colors [Red, Green, Purple, Orange, Yellow and Blue]. Blocks can be moved as per three conditions below. A block can be moved if there is no other block on it. At each time stamp only one block can be moved. A block can be moved OnTable, OutOfTable or on any other block.', 'question_id': 95, 'answer_choices': [0, 1, 2, 3], 'answer_id': 1}, {'image_id': '/content/drive/MyDrive/2ReadyForFineTuning/VLQAv1/Blocksworld/merged_images/Merged_BW_47_0#BW_47_1.jpg', 'question': 'How many times the Red block is moved if configuration in image [0] is to be transformed into configuration in image [1]? Consider 6 blocks of colors [Red, Green, Purple, Orange, Yellow and Blue]. Blocks can be moved as per three conditions below. A block can be moved if there is no other block on it. At each time stamp only one block can be moved. A block can be moved OnTable, OutOfTable or on any other block.', 'question_id': 96, 'answer_choices': [2, 3, 1, 0], 'answer_id': 2}, {'image_id': '/content/drive/MyDrive/2ReadyForFineTuning/VLQAv1/Blocksworld/merged_images/Merged_BW_48_0#BW_48_1.jpg', 'question': 'How many times the Orange block is moved if configuration in image [0] is to be transformed into configuration in image [1]? Consider 6 blocks of colors [Red, Green, Purple, Orange, Yellow and Blue]. Blocks can be moved as per three conditions below. A block can be moved if there is no other block on it. At each time stamp only one block can be moved. A block can be moved OnTable, OutOfTable or on any other block.', 'question_id': 97, 'answer_choices': [1, 0, 3, 2], 'answer_id': 0}, {'image_id': '/content/drive/MyDrive/2ReadyForFineTuning/VLQAv1/Blocksworld/merged_images/Merged_BW_49_0#BW_49_1.jpg', 'question': 'How many times the Purple block is moved if configuration in image [0] is to be transformed into configuration in image [1]? Consider 6 blocks of colors [Red, Green, Purple, Orange, Yellow and Blue]. Blocks can be moved as per three conditions below. A block can be moved if there is no other block on it. At each time stamp only one block can be moved. A block can be moved OnTable, OutOfTable or on any other block.', 'question_id': 98, 'answer_choices': [0, 3, 2, 1], 'answer_id': 3}, {'image_id': '/content/drive/MyDrive/2ReadyForFineTuning/VLQAv1/Blocksworld/merged_images/Merged_BW_50_0#BW_50_1.jpg', 'question': 'How many times the Blue block is moved if configuration in image [0] is to be transformed into configuration in image [1]? Consider 6 blocks of colors [Red, Green, Purple, Orange, Yellow and Blue]. Blocks can be moved as per three conditions below. A block can be moved if there is no other block on it. At each time stamp only one block can be moved. A block can be moved OnTable, OutOfTable or on any other block.', 'question_id': 99, 'answer_choices': [3, 2, 1, 0], 'answer_id': 2}, {'image_id': '/content/drive/MyDrive/2ReadyForFineTuning/VLQAv1/Blocksworld/merged_images/Merged_BW_51_0#BW_51_1.jpg', 'question': 'Choose the correct moves I-IV in order to convert configuration in image [0] into configuration in image [1]. Consider 6 blocks of colors [Red, Green, Purple, Orange, Yellow and Blue]. The move(X,Y) denotes that block with color X is moved onto location Y. Y can be any other block (but X itself), OutOfTable or OnTable. Consider following 4 moves for the given pair of images: I. move(Red,OutOfTable) II. move(Purple,Yellow) III. move(Green,Purple) IV. move(Orange,Green)', 'question_id': 100, 'answer_choices': ['I-II-IV-III', 'I-IV-III-II', 'II-III-I-IV', 'II-I-IV-III'], 'answer_id': 2}, {'image_id': '/content/drive/MyDrive/2ReadyForFineTuning/VLQAv1/Blocksworld/merged_images/Merged_BW_52_0#BW_52_1.jpg', 'question': 'Choose the correct moves I-IV in order to convert configuration in image [0] into configuration in image [1]. Consider 6 blocks of colors [Red, Green, Purple, Orange, Yellow and Blue]. The move(X,Y) denotes that block with color X is moved onto location Y. Y can be any other block (but X itself), OutOfTable or OnTable. Consider following 4 moves for the given pair of images:   I. move(Green,Orange) II. move(Purple,OutOfTable) III. move(Blue,OutOfTable) IV. move(Yellow,OutOfTable)', 'question_id': 101, 'answer_choices': ['I-II-IV-III', 'I-IV-III-II', 'II-III-I-IV', 'II-I-IV-III'], 'answer_id': 3}, {'image_id': '/content/drive/MyDrive/2ReadyForFineTuning/VLQAv1/Blocksworld/merged_images/Merged_BW_53_0#BW_53_1.jpg', 'question': 'Choose the correct moves I-IV in order to convert configuration in image [0] into configuration in image [1]. Consider 6 blocks of colors [Red, Green, Purple, Orange, Yellow and Blue]. The move(X,Y) denotes that block with color X is moved onto location Y. Y can be any other block (but X itself), OutOfTable or OnTable. Consider following 4 moves for the given pair of images:   I. move(Red,Table) II. move(Orange,Table) III. move(Purple,Red) IV. move(Yellow,OutOfTable)', 'question_id': 102, 'answer_choices': ['I-II-IV-III', 'I-IV-III-II', 'II-III-I-IV', 'II-I-IV-III'], 'answer_id': 0}, {'image_id': '/content/drive/MyDrive/2ReadyForFineTuning/VLQAv1/Blocksworld/merged_images/Merged_BW_54_0#BW_54_1.jpg', 'question': 'Choose the correct moves I-IV in order to convert configuration in image [0] into configuration in image [1]. Consider 6 blocks of colors [Red, Green, Purple, Orange, Yellow and Blue]. The move(X,Y) denotes that block with color X is moved onto location Y. Y can be any other block (but X itself), OutOfTable or OnTable. Consider following 4 moves for the given pair of images:   I. move(Green,Table) II. move(Purple,Table) III. move(Yellow,Table) IV. move(Red,Green)', 'question_id': 103, 'answer_choices': ['I-II-IV-III', 'I-IV-III-II', 'II-III-I-IV', 'II-I-IV-III'], 'answer_id': 1}, {'image_id': '/content/drive/MyDrive/2ReadyForFineTuning/VLQAv1/Blocksworld/merged_images/Merged_BW_55_0#BW_55_1.jpg', 'question': 'Choose the correct moves I-IV in order to convert configuration in image [0] into configuration in image [1]. Consider 6 blocks of colors [Red, Green, Purple, Orange, Yellow and Blue]. The move(X,Y) denotes that block with color X is moved onto location Y. Y can be any other block (but X itself), OutOfTable or OnTable. Consider following 4 moves for the given pair of images:   I. move(Yellow,OutOfTable) II. move(Orange,OutOfTable) III. move(Blue,Table) IV. move(Purple,OutOfTable)', 'question_id': 104, 'answer_choices': ['I-II-IV-III', 'I-IV-III-II', 'II-III-I-IV', 'II-I-IV-III'], 'answer_id': 1}, {'image_id': '/content/drive/MyDrive/2ReadyForFineTuning/VLQAv1/Blocksworld/merged_images/Merged_BW_56_0#BW_56_1.jpg', 'question': 'Choose the correct moves I-IV in order to convert configuration in image [0] into configuration in image [1]. Consider 6 blocks of colors [Red, Green, Purple, Orange, Yellow and Blue]. The move(X,Y) denotes that block with color X is moved onto location Y. Y can be any other block (but X itself), OutOfTable or OnTable. Consider following 4 moves for the given pair of images:   I. move(Green,OutOfTable) II. move(Yellow,OutOfTable) III. move(Blue,OutOfTable) IV. move(Orange,OutOfTable)', 'question_id': 105, 'answer_choices': ['I-II-IV-III', 'I-IV-III-II', 'II-III-I-IV', 'II-I-IV-III'], 'answer_id': 0}, {'image_id': '/content/drive/MyDrive/2ReadyForFineTuning/VLQAv1/Blocksworld/merged_images/Merged_BW_57_0#BW_57_1.jpg', 'question': 'Choose the correct moves I-IV in order to convert configuration in image [0] into configuration in image [1]. Consider 6 blocks of colors [Red, Green, Purple, Orange, Yellow and Blue]. The move(X,Y) denotes that block with color X is moved onto location Y. Y can be any other block (but X itself), OutOfTable or OnTable. Consider following 4 moves for the given pair of images:   I. move(Orange,Table) II. move(Green,Blue) III. move(Purple,Green) IV. move(Red,Table)', 'question_id': 106, 'answer_choices': ['I-II-IV-III', 'I-IV-III-II', 'II-III-I-IV', 'II-I-IV-III'], 'answer_id': 0}, {'image_id': '/content/drive/MyDrive/2ReadyForFineTuning/VLQAv1/Blocksworld/merged_images/Merged_BW_58_0#BW_58_1.jpg', 'question': 'Choose the correct moves I-IV in order to convert configuration in image [0] into configuration in image [1]. Consider 6 blocks of colors [Red, Green, Purple, Orange, Yellow and Blue]. The move(X,Y) denotes that block with color X is moved onto location Y. Y can be any other block (but X itself), OutOfTable or OnTable. Consider following 4 moves for the given pair of images:   I. move(Orange,Table) II. move(Red,OutOfTable) III. move(Yellow,OutOfTable) IV. move(Green,Purple)', 'question_id': 107, 'answer_choices': ['I-II-IV-III', 'I-IV-III-II', 'II-III-I-IV', 'II-I-IV-III'], 'answer_id': 1}, {'image_id': '/content/drive/MyDrive/2ReadyForFineTuning/VLQAv1/Blocksworld/merged_images/Merged_BW_59_0#BW_59_1.jpg', 'question': 'Choose the correct moves I-IV in order to convert configuration in image [0] into configuration in image [1]. Consider 6 blocks of colors [Red, Green, Purple, Orange, Yellow and Blue]. The move(X,Y) denotes that block with color X is moved onto location Y. Y can be any other block (but X itself), OutOfTable or OnTable. Consider following 4 moves for the given pair of images:   I. move(Green,OutOfTable) II. move(Blue,Yellow) III. move(Purple,Blue) IV. move(Orange,OutOfTable)', 'question_id': 108, 'answer_choices': ['I-II-IV-III', 'I-IV-III-II', 'II-III-I-IV', 'II-I-IV-III'], 'answer_id': 2}, {'image_id': '/content/drive/MyDrive/2ReadyForFineTuning/VLQAv1/Blocksworld/merged_images/Merged_BW_60_0#BW_60_1.jpg', 'question': 'Choose the correct moves I-IV in order to convert configuration in image [0] into configuration in image [1]. Consider 6 blocks of colors [Red, Green, Purple, Orange, Yellow and Blue]. The move(X,Y) denotes that block with color X is moved onto location Y. Y can be any other block (but X itself), OutOfTable or OnTable. Consider following 4 moves for the given pair of images:   I. move(Purple,OutOfTable) II. move(Green,OutOfTable) III. move(Orange,OutOfTable) IV. move(Blue,OutOfTable)', 'question_id': 109, 'answer_choices': ['I-II-IV-III', 'I-IV-III-II', 'II-III-I-IV', 'II-I-IV-III'], 'answer_id': 3}, {'image_id': '/content/drive/MyDrive/2ReadyForFineTuning/VLQAv1/Blocksworld/merged_images/Merged_BW_61_0#BW_61_1.jpg', 'question': 'Choose the correct moves I-IV in order to convert configuration in image [0] into configuration in image [1]. Consider 6 blocks of colors [Red, Green, Purple, Orange, Yellow and Blue]. The move(X,Y) denotes that block with color X is moved onto location Y. Y can be any other block (but X itself), OutOfTable or OnTable. Consider following 4 moves for the given pair of images:   I. move(Green,Table) II. move(Orange,Purple) III. move(Blue,Red) IV. move(Red,Green)', 'question_id': 110, 'answer_choices': ['I-II-IV-III', 'I-IV-III-II', 'II-III-I-IV', 'II-I-IV-III'], 'answer_id': 1}, {'image_id': '/content/drive/MyDrive/2ReadyForFineTuning/VLQAv1/Blocksworld/merged_images/Merged_BW_62_0#BW_62_1.jpg', 'question': 'Choose the correct moves I-IV in order to convert configuration in image [0] into configuration in image [1]. Consider 6 blocks of colors [Red, Green, Purple, Orange, Yellow and Blue]. The move(X,Y) denotes that block with color X is moved onto location Y. Y can be any other block (but X itself), OutOfTable or OnTable. Consider following 4 moves for the given pair of images:   I. move(Orange,Red) II. move(Purple,OutOfTable) III. move(Blue,Table) IV. move(Yellow,Blue)', 'question_id': 111, 'answer_choices': ['I-II-IV-III', 'I-IV-III-II', 'II-III-I-IV', 'II-I-IV-III'], 'answer_id': 2}, {'image_id': '/content/drive/MyDrive/2ReadyForFineTuning/VLQAv1/Blocksworld/merged_images/Merged_BW_63_0#BW_63_1.jpg', 'question': 'Choose the correct moves I-IV in order to convert configuration in image [0] into configuration in image [1]. Consider 6 blocks of colors [Red, Green, Purple, Orange, Yellow and Blue]. The move(X,Y) denotes that block with color X is moved onto location Y. Y can be any other block (but X itself), OutOfTable or OnTable. Consider following 4 moves for the given pair of images:   I. move(Purple,Table) II. move(Purple,Yellow) III. move(Yellow,Blue) IV. move(Red,OutOfTable)', 'question_id': 112, 'answer_choices': ['I-II-IV-III', 'I-IV-III-II', 'II-III-I-IV', 'II-I-IV-III'], 'answer_id': 1}, {'image_id': '/content/drive/MyDrive/2ReadyForFineTuning/VLQAv1/Blocksworld/merged_images/Merged_BW_64_0#BW_64_1.jpg', 'question': 'Choose the correct moves I-IV in order to convert configuration in image [0] into configuration in image [1]. Consider 6 blocks of colors [Red, Green, Purple, Orange, Yellow and Blue]. The move(X,Y) denotes that block with color X is moved onto location Y. Y can be any other block (but X itself), OutOfTable or OnTable. Consider following 4 moves for the given pair of images:   I. move(Green,Table) II. move(Yellow,OutOfTable) III. move(Blue,Orange) IV. move(Red,Table)', 'question_id': 113, 'answer_choices': ['I-II-IV-III', 'I-IV-III-II', 'II-III-I-IV', 'II-I-IV-III'], 'answer_id': 1}, {'image_id': '/content/drive/MyDrive/2ReadyForFineTuning/VLQAv1/Blocksworld/merged_images/Merged_BW_65_0#BW_65_1.jpg', 'question': 'Choose the correct moves I-IV in order to convert configuration in image [0] into configuration in image [1]. Consider 6 blocks of colors [Red, Green, Purple, Orange, Yellow and Blue]. The move(X,Y) denotes that block with color X is moved onto location Y. Y can be any other block (but X itself), OutOfTable or OnTable. Consider following 4 moves for the given pair of images:   I. move(Red,OutOfTable) II. move(Green,OutOfTable) III. move(Purple,Orange) IV. move(Yellow,Table)', 'question_id': 114, 'answer_choices': ['I-II-IV-III', 'I-IV-III-II', 'II-III-I-IV', 'II-I-IV-III'], 'answer_id': 0}, {'image_id': '/content/drive/MyDrive/2ReadyForFineTuning/VLQAv1/Blocksworld/merged_images/Merged_BW_66_0#BW_66_1.jpg', 'question': 'Choose the correct moves I-IV in order to convert configuration in image [0] into configuration in image [1]. Consider 6 blocks of colors [Red, Green, Purple, Orange, Yellow and Blue]. The move(X,Y) denotes that block with color X is moved onto location Y. Y can be any other block (but X itself), OutOfTable or OnTable. Consider following 4 moves for the given pair of images:   I. move(Green,Table) II. move(Blue,Table) III. move(Yellow,OutOfTable) IV. move(Red,OutOfTable)', 'question_id': 115, 'answer_choices': ['I-II-IV-III', 'I-IV-III-II', 'II-III-I-IV', 'II-I-IV-III'], 'answer_id': 3}, {'image_id': '/content/drive/MyDrive/2ReadyForFineTuning/VLQAv1/Blocksworld/merged_images/Merged_BW_67_0#BW_67_1.jpg', 'question': 'Choose the correct moves I-IV in order to convert configuration in image [0] into configuration in image [1]. Consider 6 blocks of colors [Red, Green, Purple, Orange, Yellow and Blue]. The move(X,Y) denotes that block with color X is moved onto location Y. Y can be any other block (but X itself), OutOfTable or OnTable. Consider following 4 moves for the given pair of images:   I. move(Blue,OutOfTable) II. move(Purple,OutOfTable) III. move(Yellow,Table) IV. move(Red,Green)', 'question_id': 116, 'answer_choices': ['I-II-IV-III', 'I-IV-III-II', 'II-III-I-IV', 'II-I-IV-III'], 'answer_id': 2}, {'image_id': '/content/drive/MyDrive/2ReadyForFineTuning/VLQAv1/Blocksworld/merged_images/Merged_BW_68_0#BW_68_1.jpg', 'question': 'Choose the correct moves I-IV in order to convert configuration in image [0] into configuration in image [1]. Consider 6 blocks of colors [Red, Green, Purple, Orange, Yellow and Blue]. The move(X,Y) denotes that block with color X is moved onto location Y. Y can be any other block (but X itself), OutOfTable or OnTable. Consider following 4 moves for the given pair of images:   I. move(Green,Table) II. move(Purple,OutOfTable) III. move(Yellow,OutOfTable) IV. move(Red,Table)', 'question_id': 117, 'answer_choices': ['I-II-IV-III', 'I-IV-III-II', 'II-III-I-IV', 'II-I-IV-III'], 'answer_id': 3}, {'image_id': '/content/drive/MyDrive/2ReadyForFineTuning/VLQAv1/Blocksworld/merged_images/Merged_BW_69_0#BW_69_1.jpg', 'question': 'Choose the correct moves I-IV in order to convert configuration in image [0] into configuration in image [1]. Consider 6 blocks of colors [Red, Green, Purple, Orange, Yellow and Blue]. The move(X,Y) denotes that block with color X is moved onto location Y. Y can be any other block (but X itself), OutOfTable or OnTable. Consider following 4 moves for the given pair of images:   I. move(Red,OutOfTable) II. move(Blue,Green) III. move(Yellow,Purple) IV. move(Purple,Table)', 'question_id': 118, 'answer_choices': ['I-II-IV-III', 'I-IV-III-II', 'II-III-I-IV', 'II-I-IV-III'], 'answer_id': 0}, {'image_id': '/content/drive/MyDrive/2ReadyForFineTuning/VLQAv1/Blocksworld/merged_images/Merged_BW_70_0#BW_70_1.jpg', 'question': 'Choose the correct moves I-IV in order to convert configuration in image [0] into configuration in image [1]. Consider 6 blocks of colors [Red, Green, Purple, Orange, Yellow and Blue]. The move(X,Y) denotes that block with color X is moved onto location Y. Y can be any other block (but X itself), OutOfTable or OnTable. Consider following 4 moves for the given pair of images:   I. move(Orange,Green) II. move(Purple,Yellow) III. move(Yellow,Orange) IV. move(Red,OutOfTable)', 'question_id': 119, 'answer_choices': ['I-II-IV-III', 'I-IV-III-II', 'II-III-I-IV', 'II-I-IV-III'], 'answer_id': 1}, {'image_id': '/content/drive/MyDrive/2ReadyForFineTuning/VLQAv1/Blocksworld/merged_images/Merged_BW_71_0#BW_71_1.jpg', 'question': 'Choose the correct moves I-IV in order to convert configuration in image [0] into configuration in image [1]. Consider 6 blocks of colors [Red, Green, Purple, Orange, Yellow and Blue]. The move(X,Y) denotes that block with color X is moved onto location Y. Y can be any other block (but X itself), OutOfTable or OnTable. Consider following 4 moves for the given pair of images:   I. move(Green,Table) II. move(Blue,OutOfTable) III. move(Yellow,OutOfTable) IV. move(Red,Table)', 'question_id': 120, 'answer_choices': ['I-II-IV-III', 'I-IV-III-II', 'II-III-I-IV', 'II-I-IV-III'], 'answer_id': 0}, {'image_id': '/content/drive/MyDrive/2ReadyForFineTuning/VLQAv1/Blocksworld/merged_images/Merged_BW_72_0#BW_72_1.jpg', 'question': 'Choose the correct moves I-IV in order to convert configuration in image [0] into configuration in image [1]. Consider 6 blocks of colors [Red, Green, Purple, Orange, Yellow and Blue]. The move(X,Y) denotes that block with color X is moved onto location Y. Y can be any other block (but X itself), OutOfTable or OnTable. Consider following 4 moves for the given pair of images:   I. move(Yellow,Green) II. move(Purple,OutOfTable) III. move(Green,Blue) IV. move(Red,Yellow)', 'question_id': 121, 'answer_choices': ['I-II-IV-III', 'I-IV-III-II', 'II-III-I-IV', 'II-I-IV-III'], 'answer_id': 2}, {'image_id': '/content/drive/MyDrive/2ReadyForFineTuning/VLQAv1/Blocksworld/merged_images/Merged_BW_73_0#BW_73_1.jpg', 'question': 'Choose the correct moves I-IV in order to convert configuration in image [0] into configuration in image [1]. Consider 6 blocks of colors [Red, Green, Purple, Orange, Yellow and Blue]. The move(X,Y) denotes that block with color X is moved onto location Y. Y can be any other block (but X itself), OutOfTable or OnTable. Consider following 4 moves for the given pair of images:   I. move(Yellow,Green) II. move(Blue,OutOfTable) III. move(Red,OutOfTable) IV. move(Orange,OutOfTable)', 'question_id': 122, 'answer_choices': ['I-II-IV-III', 'I-IV-III-II', 'II-III-I-IV', 'II-I-IV-III'], 'answer_id': 0}, {'image_id': '/content/drive/MyDrive/2ReadyForFineTuning/VLQAv1/Blocksworld/merged_images/Merged_BW_74_0#BW_74_1.jpg', 'question': 'Choose the correct moves I-IV in order to convert configuration in image [0] into configuration in image [1]. Consider 6 blocks of colors [Red, Green, Purple, Orange, Yellow and Blue]. The move(X,Y) denotes that block with color X is moved onto location Y. Y can be any other block (but X itself), OutOfTable or OnTable. Consider following 4 moves for the given pair of images:   I. move(Yellow,Green) II. move(Orange,Table) III. move(Blue,OutOfTable) IV. move(Purple,Table)', 'question_id': 123, 'answer_choices': ['I-II-IV-III', 'I-IV-III-II', 'II-III-I-IV', 'II-I-IV-III'], 'answer_id': 3}, {'image_id': '/content/drive/MyDrive/2ReadyForFineTuning/VLQAv1/Blocksworld/merged_images/Merged_BW_75_0#BW_75_1.jpg', 'question': 'Choose the correct moves I-IV in order to convert configuration in image [0] into configuration in image [1]. Consider 6 blocks of colors [Red, Green, Purple, Orange, Yellow and Blue]. The move(X,Y) denotes that block with color X is moved onto location Y. Y can be any other block (but X itself), OutOfTable or OnTable. Consider following 4 moves for the given pair of images:   I. move(Orange,OutOfTable) II. move(Yellow,OutOfTable) III. move(Blue,OutOfTable) IV. move(Green,OutOfTable)', 'question_id': 124, 'answer_choices': ['I-II-IV-III', 'I-IV-III-II', 'II-III-I-IV', 'II-I-IV-III'], 'answer_id': 3}, {'image_id': '/content/drive/MyDrive/2ReadyForFineTuning/VLQAv1/Blocksworld/merged_images/Merged_BW_76_0#BW_76_1.jpg', 'question': 'Choose the correct moves I-IV in order to convert configuration in image [0] into configuration in image [1]. Consider 6 blocks of colors [Red, Green, Purple, Orange, Yellow and Blue]. The move(X,Y) denotes that block with color X is moved onto location Y. Y can be any other block (but X itself), OutOfTable or OnTable. Consider following 4 moves for the given pair of images:   I. move(Green,Yellow) II. move(Blue,OutOfTable) III. move(Purple,OutOfTable) IV. move(Red,Green)', 'question_id': 125, 'answer_choices': ['I-II-IV-III', 'I-IV-III-II', 'II-III-I-IV', 'II-I-IV-III'], 'answer_id': 3}, {'image_id': '/content/drive/MyDrive/2ReadyForFineTuning/VLQAv1/Blocksworld/merged_images/Merged_BW_77_0#BW_77_1.jpg', 'question': 'Choose the correct moves I-IV in order to convert configuration in image [0] into configuration in image [1]. Consider 6 blocks of colors [Red, Green, Purple, Orange, Yellow and Blue]. The move(X,Y) denotes that block with color X is moved onto location Y. Y can be any other block (but X itself), OutOfTable or OnTable. Consider following 4 moves for the given pair of images:   I. move(Yellow,Red) II. move(Blue,Table) III. move(Green,OutOfTable) IV. move(Purple,OutOfTable)', 'question_id': 126, 'answer_choices': ['I-II-IV-III', 'I-IV-III-II', 'II-III-I-IV', 'II-I-IV-III'], 'answer_id': 3}, {'image_id': '/content/drive/MyDrive/2ReadyForFineTuning/VLQAv1/Blocksworld/merged_images/Merged_BW_78_0#BW_78_1.jpg', 'question': 'Choose the correct moves I-IV in order to convert configuration in image [0] into configuration in image [1]. Consider 6 blocks of colors [Red, Green, Purple, Orange, Yellow and Blue]. The move(X,Y) denotes that block with color X is moved onto location Y. Y can be any other block (but X itself), OutOfTable or OnTable. Consider following 4 moves for the given pair of images:   I. move(Orange,Green) II. move(Purple,OutOfTable) III. move(Yellow,Table) IV. move(Yellow,Orange)', 'question_id': 127, 'answer_choices': ['I-II-IV-III', 'I-IV-III-II', 'II-III-I-IV', 'II-I-IV-III'], 'answer_id': 2}, {'image_id': '/content/drive/MyDrive/2ReadyForFineTuning/VLQAv1/Blocksworld/merged_images/Merged_BW_79_0#BW_79_1.jpg', 'question': 'Choose the correct moves I-IV in order to convert configuration in image [0] into configuration in image [1]. Consider 6 blocks of colors [Red, Green, Purple, Orange, Yellow and Blue]. The move(X,Y) denotes that block with color X is moved onto location Y. Y can be any other block (but X itself), OutOfTable or OnTable. Consider following 4 moves for the given pair of images:   I. move(Red,Table) II. move(Blue,Table) III. move(Green,Purple) IV. move(Orange,Blue)', 'question_id': 128, 'answer_choices': ['I-II-IV-III', 'I-IV-III-II', 'II-III-I-IV', 'II-I-IV-III'], 'answer_id': 0}, {'image_id': '/content/drive/MyDrive/2ReadyForFineTuning/VLQAv1/Blocksworld/merged_images/Merged_BW_80_0#BW_80_1.jpg', 'question': 'Choose the correct moves I-IV in order to convert configuration in image [0] into configuration in image [1]. Consider 6 blocks of colors [Red, Green, Purple, Orange, Yellow and Blue]. The move(X,Y) denotes that block with color X is moved onto location Y. Y can be any other block (but X itself), OutOfTable or OnTable. Consider following 4 moves for the given pair of images:   I. move(Green,Orange) II. move(Yellow,Green) III. move(Blue,OutOfTable) IV. move(Purple,Yellow)', 'question_id': 129, 'answer_choices': ['I-II-IV-III', 'I-IV-III-II', 'II-III-I-IV', 'II-I-IV-III'], 'answer_id': 0}, {'image_id': '/content/drive/MyDrive/2ReadyForFineTuning/VLQAv1/Blocksworld/merged_images/Merged_BW_81_0#BW_81_1.jpg', 'question': 'Choose the correct moves I-IV in order to convert configuration in image [0] into configuration in image [1]. Consider 6 blocks of colors [Red, Green, Purple, Orange, Yellow and Blue]. The move(X,Y) denotes that block with color X is moved onto location Y. Y can be any other block (but X itself), OutOfTable or OnTable. Consider following 4 moves for the given pair of images:   I. move(Red,Table) II. move(Purple,OutOfTable) III. move(Blue,Table) IV. move(Orange,Table)', 'question_id': 130, 'answer_choices': ['I-II-IV-III', 'I-IV-III-II', 'II-III-I-IV', 'II-I-IV-III'], 'answer_id': 1}, {'image_id': '/content/drive/MyDrive/2ReadyForFineTuning/VLQAv1/Blocksworld/merged_images/Merged_BW_82_0#BW_82_1.jpg', 'question': 'Choose the correct moves I-IV in order to convert configuration in image [0] into configuration in image [1]. Consider 6 blocks of colors [Red, Green, Purple, Orange, Yellow and Blue]. The move(X,Y) denotes that block with color X is moved onto location Y. Y can be any other block (but X itself), OutOfTable or OnTable. Consider following 4 moves for the given pair of images:   I. move(Orange,Yellow) II. move(Green,Red) III. move(Yellow,Green) IV. move(Purple,OutOfTable)', 'question_id': 131, 'answer_choices': ['I-II-IV-III', 'I-IV-III-II', 'II-III-I-IV', 'II-I-IV-III'], 'answer_id': 2}, {'image_id': '/content/drive/MyDrive/2ReadyForFineTuning/VLQAv1/Blocksworld/merged_images/Merged_BW_83_0#BW_83_1.jpg', 'question': 'Choose the correct moves I-IV in order to convert configuration in image [0] into configuration in image [1]. Consider 6 blocks of colors [Red, Green, Purple, Orange, Yellow and Blue]. The move(X,Y) denotes that block with color X is moved onto location Y. Y can be any other block (but X itself), OutOfTable or OnTable. Consider following 4 moves for the given pair of images:   I. move(Orange,Red) II. move(Green,Table) III. move(Yellow,OutOfTable) IV. move(Purple,Green)', 'question_id': 132, 'answer_choices': ['I-II-IV-III', 'I-IV-III-II', 'II-III-I-IV', 'II-I-IV-III'], 'answer_id': 0}, {'image_id': '/content/drive/MyDrive/2ReadyForFineTuning/VLQAv1/Blocksworld/merged_images/Merged_BW_84_0#BW_84_1.jpg', 'question': 'Choose the correct moves I-IV in order to convert configuration in image [0] into configuration in image [1]. Consider 6 blocks of colors [Red, Green, Purple, Orange, Yellow and Blue]. The move(X,Y) denotes that block with color X is moved onto location Y. Y can be any other block (but X itself), OutOfTable or OnTable. Consider following 4 moves for the given pair of images:   I. move(Green,Table) II. move(Yellow,OutOfTable) III. move(Orange,OutOfTable) IV. move(Red,Table)', 'question_id': 133, 'answer_choices': ['I-II-IV-III', 'I-IV-III-II', 'II-III-I-IV', 'II-I-IV-III'], 'answer_id': 0}, {'image_id': '/content/drive/MyDrive/2ReadyForFineTuning/VLQAv1/Blocksworld/merged_images/Merged_BW_85_0#BW_85_1.jpg', 'question': 'Choose the correct moves I-IV in order to convert configuration in image [0] into configuration in image [1]. Consider 6 blocks of colors [Red, Green, Purple, Orange, Yellow and Blue]. The move(X,Y) denotes that block with color X is moved onto location Y. Y can be any other block (but X itself), OutOfTable or OnTable. Consider following 4 moves for the given pair of images:   I. move(Yellow,Table) II. move(Orange,OutOfTable) III. move(Purple,OutOfTable) IV. move(Red,Table)', 'question_id': 134, 'answer_choices': ['I-II-IV-III', 'I-IV-III-II', 'II-III-I-IV', 'II-I-IV-III'], 'answer_id': 0}, {'image_id': '/content/drive/MyDrive/2ReadyForFineTuning/VLQAv1/Blocksworld/merged_images/Merged_BW_86_0#BW_86_1.jpg', 'question': 'Choose the correct moves I-IV in order to convert configuration in image [0] into configuration in image [1]. Consider 6 blocks of colors [Red, Green, Purple, Orange, Yellow and Blue]. The move(X,Y) denotes that block with color X is moved onto location Y. Y can be any other block (but X itself), OutOfTable or OnTable. Consider following 4 moves for the given pair of images:   I. move(Orange,Blue) II. move(Orange,Yellow) III. move(Blue,Table) IV. move(Green,OutOfTable)', 'question_id': 135, 'answer_choices': ['I-II-IV-III', 'I-IV-III-II', 'II-III-I-IV', 'II-I-IV-III'], 'answer_id': 2}, {'image_id': '/content/drive/MyDrive/2ReadyForFineTuning/VLQAv1/Blocksworld/merged_images/Merged_BW_87_0#BW_87_1.jpg', 'question': 'Choose the correct moves I-IV in order to convert configuration in image [0] into configuration in image [1]. Consider 6 blocks of colors [Red, Green, Purple, Orange, Yellow and Blue]. The move(X,Y) denotes that block with color X is moved onto location Y. Y can be any other block (but X itself), OutOfTable or OnTable. Consider following 4 moves for the given pair of images:   I. move(Red,Table) II. move(Yellow,Table) III. move(Purple,Table) IV. move(Green,OutOfTable)', 'question_id': 136, 'answer_choices': ['I-II-IV-III', 'I-IV-III-II', 'II-III-I-IV', 'II-I-IV-III'], 'answer_id': 1}, {'image_id': '/content/drive/MyDrive/2ReadyForFineTuning/VLQAv1/Blocksworld/merged_images/Merged_BW_88_0#BW_88_1.jpg', 'question': 'Choose the correct moves I-IV in order to convert configuration in image [0] into configuration in image [1]. Consider 6 blocks of colors [Red, Green, Purple, Orange, Yellow and Blue]. The move(X,Y) denotes that block with color X is moved onto location Y. Y can be any other block (but X itself), OutOfTable or OnTable. Consider following 4 moves for the given pair of images:   I. move(Purple,Table) II. move(Green,Red) III. move(Yellow,Orange) IV. move(Orange,Purple)', 'question_id': 137, 'answer_choices': ['I-II-IV-III', 'I-IV-III-II', 'II-III-I-IV', 'II-I-IV-III'], 'answer_id': 0}, {'image_id': '/content/drive/MyDrive/2ReadyForFineTuning/VLQAv1/Blocksworld/merged_images/Merged_BW_89_0#BW_89_1.jpg', 'question': 'Choose the correct moves I-IV in order to convert configuration in image [0] into configuration in image [1]. Consider 6 blocks of colors [Red, Green, Purple, Orange, Yellow and Blue]. The move(X,Y) denotes that block with color X is moved onto location Y. Y can be any other block (but X itself), OutOfTable or OnTable. Consider following 4 moves for the given pair of images:   I. move(Purple,OutOfTable) II. move(Yellow,Table) III. move(Blue,Yellow) IV. move(Red,Orange)', 'question_id': 138, 'answer_choices': ['I-II-IV-III', 'I-IV-III-II', 'II-III-I-IV', 'II-I-IV-III'], 'answer_id': 3}, {'image_id': '/content/drive/MyDrive/2ReadyForFineTuning/VLQAv1/Blocksworld/merged_images/Merged_BW_90_0#BW_90_1.jpg', 'question': 'Choose the correct moves I-IV in order to convert configuration in image [0] into configuration in image [1]. Consider 6 blocks of colors [Red, Green, Purple, Orange, Yellow and Blue]. The move(X,Y) denotes that block with color X is moved onto location Y. Y can be any other block (but X itself), OutOfTable or OnTable. Consider following 4 moves for the given pair of images:   I. move(Orange,Table) II. move(Green,OutOfTable) III. move(Blue,Orange) IV. move(Red,OutOfTable)', 'question_id': 139, 'answer_choices': ['I-II-IV-III', 'I-IV-III-II', 'II-III-I-IV', 'II-I-IV-III'], 'answer_id': 0}, {'image_id': '/content/drive/MyDrive/2ReadyForFineTuning/VLQAv1/Blocksworld/merged_images/Merged_BW_91_0#BW_91_1.jpg', 'question': 'Choose the correct moves I-IV in order to convert configuration in image [0] into configuration in image [1]. Consider 6 blocks of colors [Red, Green, Purple, Orange, Yellow and Blue]. The move(X,Y) denotes that block with color X is moved onto location Y. Y can be any other block (but X itself), OutOfTable or OnTable. Consider following 4 moves for the given pair of images:   I. move(Green,Table) II. move(Blue,Table) III. move(Red,Table) IV. move(Purple,OutOfTable)', 'question_id': 140, 'answer_choices': ['I-II-IV-III', 'I-IV-III-II', 'II-III-I-IV', 'II-I-IV-III'], 'answer_id': 2}, {'image_id': '/content/drive/MyDrive/2ReadyForFineTuning/VLQAv1/Blocksworld/merged_images/Merged_BW_92_0#BW_92_1.jpg', 'question': 'Choose the correct moves I-IV in order to convert configuration in image [0] into configuration in image [1]. Consider 6 blocks of colors [Red, Green, Purple, Orange, Yellow and Blue]. The move(X,Y) denotes that block with color X is moved onto location Y. Y can be any other block (but X itself), OutOfTable or OnTable. Consider following 4 moves for the given pair of images:   I. move(Yellow,OutOfTable) II. move(Blue,OutOfTable) III. move(Red,OutOfTable) IV. move(Orange,OutOfTable)', 'question_id': 141, 'answer_choices': ['I-II-IV-III', 'I-IV-III-II', 'II-III-I-IV', 'II-I-IV-III'], 'answer_id': 3}, {'image_id': '/content/drive/MyDrive/2ReadyForFineTuning/VLQAv1/Blocksworld/merged_images/Merged_BW_93_0#BW_93_1.jpg', 'question': 'Choose the correct moves I-IV in order to convert configuration in image [0] into configuration in image [1]. Consider 6 blocks of colors [Red, Green, Purple, Orange, Yellow and Blue]. The move(X,Y) denotes that block with color X is moved onto location Y. Y can be any other block (but X itself), OutOfTable or OnTable. Consider following 4 moves for the given pair of images:   I. move(Yellow,OutOfTable) II. move(Red,OutOfTable) III. move(Green,Orange) IV. move(Orange,Purple)', 'question_id': 142, 'answer_choices': ['I-II-IV-III', 'I-IV-III-II', 'II-III-I-IV', 'II-I-IV-III'], 'answer_id': 1}, {'image_id': '/content/drive/MyDrive/2ReadyForFineTuning/VLQAv1/Blocksworld/merged_images/Merged_BW_94_0#BW_94_1.jpg', 'question': 'Choose the correct moves I-IV in order to convert configuration in image [0] into configuration in image [1]. Consider 6 blocks of colors [Red, Green, Purple, Orange, Yellow and Blue]. The move(X,Y) denotes that block with color X is moved onto location Y. Y can be any other block (but X itself), OutOfTable or OnTable. Consider following 4 moves for the given pair of images:   I. move(Orange,Table) II. move(Purple,Green) III. move(Blue,Orange) IV. move(Green,Table)', 'question_id': 143, 'answer_choices': ['I-II-IV-III', 'I-IV-III-II', 'II-III-I-IV', 'II-I-IV-III'], 'answer_id': 1}, {'image_id': '/content/drive/MyDrive/2ReadyForFineTuning/VLQAv1/Blocksworld/merged_images/Merged_BW_95_0#BW_95_1.jpg', 'question': 'Choose the correct moves I-IV in order to convert configuration in image [0] into configuration in image [1]. Consider 6 blocks of colors [Red, Green, Purple, Orange, Yellow and Blue]. The move(X,Y) denotes that block with color X is moved onto location Y. Y can be any other block (but X itself), OutOfTable or OnTable. Consider following 4 moves for the given pair of images:   I. move(Red,Table) II. move(Yellow,Blue) III. move(Orange,OutOfTable) IV. move(Purple,Yellow)', 'question_id': 144, 'answer_choices': ['I-II-IV-III', 'I-IV-III-II', 'II-III-I-IV', 'II-I-IV-III'], 'answer_id': 2}, {'image_id': '/content/drive/MyDrive/2ReadyForFineTuning/VLQAv1/Blocksworld/merged_images/Merged_BW_96_0#BW_96_1.jpg', 'question': 'Choose the correct moves I-IV in order to convert configuration in image [0] into configuration in image [1]. Consider 6 blocks of colors [Red, Green, Purple, Orange, Yellow and Blue]. The move(X,Y) denotes that block with color X is moved onto location Y. Y can be any other block (but X itself), OutOfTable or OnTable. Consider following 4 moves for the given pair of images:   I. move(Purple,OutOfTable) II. move(Blue,Table) III. move(Yellow,Green) IV. move(Green,Table)', 'question_id': 145, 'answer_choices': ['I-II-IV-III', 'I-IV-III-II', 'II-III-I-IV', 'II-I-IV-III'], 'answer_id': 1}, {'image_id': '/content/drive/MyDrive/2ReadyForFineTuning/VLQAv1/Blocksworld/merged_images/Merged_BW_97_0#BW_97_1.jpg', 'question': 'Choose the correct moves I-IV in order to convert configuration in image [0] into configuration in image [1]. Consider 6 blocks of colors [Red, Green, Purple, Orange, Yellow and Blue]. The move(X,Y) denotes that block with color X is moved onto location Y. Y can be any other block (but X itself), OutOfTable or OnTable. Consider following 4 moves for the given pair of images:   I. move(Red,Yellow) II. move(Orange,Table) III. move(Yellow,Orange) IV. move(Purple,OutOfTable)', 'question_id': 146, 'answer_choices': ['I-II-IV-III', 'I-IV-III-II', 'II-III-I-IV', 'II-I-IV-III'], 'answer_id': 2}, {'image_id': '/content/drive/MyDrive/2ReadyForFineTuning/VLQAv1/Blocksworld/merged_images/Merged_BW_98_0#BW_98_1.jpg', 'question': 'Choose the correct moves I-IV in order to convert configuration in image [0] into configuration in image [1]. Consider 6 blocks of colors [Red, Green, Purple, Orange, Yellow and Blue]. The move(X,Y) denotes that block with color X is moved onto location Y. Y can be any other block (but X itself), OutOfTable or OnTable. Consider following 4 moves for the given pair of images:   I. move(Orange,Table) II. move(Yellow,Orange) III. move(Green,Purple) IV. move(Purple,Blue)', 'question_id': 147, 'answer_choices': ['I-II-IV-III', 'I-IV-III-II', 'II-III-I-IV', 'II-I-IV-III'], 'answer_id': 0}, {'image_id': '/content/drive/MyDrive/2ReadyForFineTuning/VLQAv1/Blocksworld/merged_images/Merged_BW_99_0#BW_99_1.jpg', 'question': 'Choose the correct moves I-IV in order to convert configuration in image [0] into configuration in image [1]. Consider 6 blocks of colors [Red, Green, Purple, Orange, Yellow and Blue]. The move(X,Y) denotes that block with color X is moved onto location Y. Y can be any other block (but X itself), OutOfTable or OnTable. Consider following 4 moves for the given pair of images:   I. move(Red,OutOfTable) II. move(Green,OutOfTable) III. move(Orange,OutOfTable) IV. move(Blue,OutOfTable)', 'question_id': 148, 'answer_choices': ['I-II-IV-III', 'I-IV-III-II', 'II-III-I-IV', 'II-I-IV-III'], 'answer_id': 1}, {'image_id': '/content/drive/MyDrive/2ReadyForFineTuning/VLQAv1/Blocksworld/merged_images/Merged_BW_100_0#BW_100_1.jpg', 'question': 'Choose the correct moves I-IV in order to convert configuration in image [0] into configuration in image [1]. Consider 6 blocks of colors [Red, Green, Purple, Orange, Yellow and Blue]. The move(X,Y) denotes that block with color X is moved onto location Y. Y can be any other block (but X itself), OutOfTable or OnTable. Consider following 4 moves for the given pair of images:   I. move(Green,Purple) II. move(Red,OutOfTable) III. move(Yellow,Green) IV. move(Orange,OutOfTable)', 'question_id': 149, 'answer_choices': ['I-II-IV-III', 'I-IV-III-II', 'II-III-I-IV', 'II-I-IV-III'], 'answer_id': 3}, {'image_id': '/content/drive/MyDrive/2ReadyForFineTuning/VLQAv1/Blocksworld/merged_images/Merged_BW_1_0#BW_1_1.jpg', 'question': 'There are 1 moves required if image [0] is to be transformed into configuration in image [1]. Consider 6 blocks of colors [Red, Green, Purple, Orange, Yellow and Blue]. Blocks can be moved as per three conditions below. A block can be moved if there is no other block on it. At each time stamp only one block can be moved. A block can be moved OnTable, OutOfTable or on any other block.', 'question_id': 150, 'answer_choices': ['True', 'False', 'Unknown', 'Unanswerable'], 'answer_id': 0}, {'image_id': '/content/drive/MyDrive/2ReadyForFineTuning/VLQAv1/Blocksworld/merged_images/Merged_BW_2_0#BW_2_1.jpg', 'question': 'There are 1 moves required if image [0] is to be transformed into configuration in image [1]. Consider 6 blocks of colors [Red, Green, Purple, Orange, Yellow and Blue]. Blocks can be moved as per three conditions below. A block can be moved if there is no other block on it. At each time stamp only one block can be moved. A block can be moved OnTable, OutOfTable or on any other block.', 'question_id': 151, 'answer_choices': ['True', 'False', 'Unknown', 'Unanswerable'], 'answer_id': 0}, {'image_id': '/content/drive/MyDrive/2ReadyForFineTuning/VLQAv1/Blocksworld/merged_images/Merged_BW_3_0#BW_3_1.jpg', 'question': 'There are 3 moves required if image [0] is to be transformed into configuration in image [1]. Consider 6 blocks of colors [Red, Green, Purple, Orange, Yellow and Blue]. Blocks can be moved as per three conditions below. A block can be moved if there is no other block on it. At each time stamp only one block can be moved. A block can be moved OnTable, OutOfTable or on any other block.', 'question_id': 152, 'answer_choices': ['True', 'False', 'Unknown', 'Unanswerable'], 'answer_id': 1}, {'image_id': '/content/drive/MyDrive/2ReadyForFineTuning/VLQAv1/Blocksworld/merged_images/Merged_BW_4_0#BW_4_1.jpg', 'question': 'There are 6 moves required if image [0] is to be transformed into configuration in image [1]. Consider 6 blocks of colors [Red, Green, Purple, Orange, Yellow and Blue]. Blocks can be moved as per three conditions below. A block can be moved if there is no other block on it. At each time stamp only one block can be moved. A block can be moved OnTable, OutOfTable or on any other block.', 'question_id': 153, 'answer_choices': ['True', 'False', 'Unknown', 'Unanswerable'], 'answer_id': 1}, {'image_id': '/content/drive/MyDrive/2ReadyForFineTuning/VLQAv1/Blocksworld/merged_images/Merged_BW_5_0#BW_5_1.jpg', 'question': 'There are 2 moves required if image [0] is to be transformed into configuration in image [1]. Consider 6 blocks of colors [Red, Green, Purple, Orange, Yellow and Blue]. Blocks can be moved as per three conditions below. A block can be moved if there is no other block on it. At each time stamp only one block can be moved. A block can be moved OnTable, OutOfTable or on any other block.', 'question_id': 154, 'answer_choices': ['True', 'False', 'Unknown', 'Unanswerable'], 'answer_id': 1}, {'image_id': '/content/drive/MyDrive/2ReadyForFineTuning/VLQAv1/Blocksworld/merged_images/Merged_BW_6_0#BW_6_1.jpg', 'question': 'There are 1 moves required if image [0] is to be transformed into configuration in image [1]. Consider 6 blocks of colors [Red, Green, Purple, Orange, Yellow and Blue]. Blocks can be moved as per three conditions below. A block can be moved if there is no other block on it. At each time stamp only one block can be moved. A block can be moved OnTable, OutOfTable or on any other block.', 'question_id': 155, 'answer_choices': ['True', 'False', 'Unknown', 'Unanswerable'], 'answer_id': 0}, {'image_id': '/content/drive/MyDrive/2ReadyForFineTuning/VLQAv1/Blocksworld/merged_images/Merged_BW_7_0#BW_7_1.jpg', 'question': 'There are 5 moves required if image [0] is to be transformed into configuration in image [1]. Consider 6 blocks of colors [Red, Green, Purple, Orange, Yellow and Blue]. Blocks can be moved as per three conditions below. A block can be moved if there is no other block on it. At each time stamp only one block can be moved. A block can be moved OnTable, OutOfTable or on any other block.', 'question_id': 156, 'answer_choices': ['True', 'False', 'Unknown', 'Unanswerable'], 'answer_id': 1}, {'image_id': '/content/drive/MyDrive/2ReadyForFineTuning/VLQAv1/Blocksworld/merged_images/Merged_BW_8_0#BW_8_1.jpg', 'question': 'There are 1 moves required if image [0] is to be transformed into configuration in image [1]. Consider 6 blocks of colors [Red, Green, Purple, Orange, Yellow and Blue]. Blocks can be moved as per three conditions below. A block can be moved if there is no other block on it. At each time stamp only one block can be moved. A block can be moved OnTable, OutOfTable or on any other block.', 'question_id': 157, 'answer_choices': ['True', 'False', 'Unknown', 'Unanswerable'], 'answer_id': 0}, {'image_id': '/content/drive/MyDrive/2ReadyForFineTuning/VLQAv1/Blocksworld/merged_images/Merged_BW_9_0#BW_9_1.jpg', 'question': 'There are 1 moves required if image [0] is to be transformed into configuration in image [1]. Consider 6 blocks of colors [Red, Green, Purple, Orange, Yellow and Blue]. Blocks can be moved as per three conditions below. A block can be moved if there is no other block on it. At each time stamp only one block can be moved. A block can be moved OnTable, OutOfTable or on any other block.', 'question_id': 158, 'answer_choices': ['True', 'False', 'Unknown', 'Unanswerable'], 'answer_id': 0}, {'image_id': '/content/drive/MyDrive/2ReadyForFineTuning/VLQAv1/Blocksworld/merged_images/Merged_BW_10_0#BW_10_1.jpg', 'question': 'There are 1 moves required if image [0] is to be transformed into configuration in image [1]. Consider 6 blocks of colors [Red, Green, Purple, Orange, Yellow and Blue]. Blocks can be moved as per three conditions below. A block can be moved if there is no other block on it. At each time stamp only one block can be moved. A block can be moved OnTable, OutOfTable or on any other block.', 'question_id': 159, 'answer_choices': ['True', 'False', 'Unknown', 'Unanswerable'], 'answer_id': 0}, {'image_id': '/content/drive/MyDrive/2ReadyForFineTuning/VLQAv1/Blocksworld/merged_images/Merged_BW_11_0#BW_11_1.jpg', 'question': 'There are 2 moves required if image [0] is to be transformed into configuration in image [1]. Consider 6 blocks of colors [Red, Green, Purple, Orange, Yellow and Blue]. Blocks can be moved as per three conditions below. A block can be moved if there is no other block on it. At each time stamp only one block can be moved. A block can be moved OnTable, OutOfTable or on any other block.', 'question_id': 160, 'answer_choices': ['True', 'False', 'Unknown', 'Unanswerable'], 'answer_id': 0}, {'image_id': '/content/drive/MyDrive/2ReadyForFineTuning/VLQAv1/Blocksworld/merged_images/Merged_BW_12_0#BW_12_1.jpg', 'question': 'There are 2 moves required if image [0] is to be transformed into configuration in image [1]. Consider 6 blocks of colors [Red, Green, Purple, Orange, Yellow and Blue]. Blocks can be moved as per three conditions below. A block can be moved if there is no other block on it. At each time stamp only one block can be moved. A block can be moved OnTable, OutOfTable or on any other block.', 'question_id': 161, 'answer_choices': ['True', 'False', 'Unknown', 'Unanswerable'], 'answer_id': 0}, {'image_id': '/content/drive/MyDrive/2ReadyForFineTuning/VLQAv1/Blocksworld/merged_images/Merged_BW_13_0#BW_13_1.jpg', 'question': 'There are 2 moves required if image [0] is to be transformed into configuration in image [1]. Consider 6 blocks of colors [Red, Green, Purple, Orange, Yellow and Blue]. Blocks can be moved as per three conditions below. A block can be moved if there is no other block on it. At each time stamp only one block can be moved. A block can be moved OnTable, OutOfTable or on any other block.', 'question_id': 162, 'answer_choices': ['True', 'False', 'Unknown', 'Unanswerable'], 'answer_id': 0}, {'image_id': '/content/drive/MyDrive/2ReadyForFineTuning/VLQAv1/Blocksworld/merged_images/Merged_BW_14_0#BW_14_1.jpg', 'question': 'There are 2 moves required if image [0] is to be transformed into configuration in image [1]. Consider 6 blocks of colors [Red, Green, Purple, Orange, Yellow and Blue]. Blocks can be moved as per three conditions below. A block can be moved if there is no other block on it. At each time stamp only one block can be moved. A block can be moved OnTable, OutOfTable or on any other block.', 'question_id': 163, 'answer_choices': ['True', 'False', 'Unknown', 'Unanswerable'], 'answer_id': 0}, {'image_id': '/content/drive/MyDrive/2ReadyForFineTuning/VLQAv1/Blocksworld/merged_images/Merged_BW_15_0#BW_15_1.jpg', 'question': 'There are 0 moves required if image [0] is to be transformed into configuration in image [1]. Consider 6 blocks of colors [Red, Green, Purple, Orange, Yellow and Blue]. Blocks can be moved as per three conditions below. A block can be moved if there is no other block on it. At each time stamp only one block can be moved. A block can be moved OnTable, OutOfTable or on any other block.', 'question_id': 164, 'answer_choices': ['True', 'False', 'Unknown', 'Unanswerable'], 'answer_id': 1}, {'image_id': '/content/drive/MyDrive/2ReadyForFineTuning/VLQAv1/Blocksworld/merged_images/Merged_BW_16_0#BW_16_1.jpg', 'question': 'There are 0 moves required if image [0] is to be transformed into configuration in image [1]. Consider 6 blocks of colors [Red, Green, Purple, Orange, Yellow and Blue]. Blocks can be moved as per three conditions below. A block can be moved if there is no other block on it. At each time stamp only one block can be moved. A block can be moved OnTable, OutOfTable or on any other block.', 'question_id': 165, 'answer_choices': ['True', 'False', 'Unknown', 'Unanswerable'], 'answer_id': 1}, {'image_id': '/content/drive/MyDrive/2ReadyForFineTuning/VLQAv1/Blocksworld/merged_images/Merged_BW_17_0#BW_17_1.jpg', 'question': 'There are 6 moves required if image [0] is to be transformed into configuration in image [1]. Consider 6 blocks of colors [Red, Green, Purple, Orange, Yellow and Blue]. Blocks can be moved as per three conditions below. A block can be moved if there is no other block on it. At each time stamp only one block can be moved. A block can be moved OnTable, OutOfTable or on any other block.', 'question_id': 166, 'answer_choices': ['True', 'False', 'Unknown', 'Unanswerable'], 'answer_id': 1}, {'image_id': '/content/drive/MyDrive/2ReadyForFineTuning/VLQAv1/Blocksworld/merged_images/Merged_BW_18_0#BW_18_1.jpg', 'question': 'There are 1 moves required if image [0] is to be transformed into configuration in image [1]. Consider 6 blocks of colors [Red, Green, Purple, Orange, Yellow and Blue]. Blocks can be moved as per three conditions below. A block can be moved if there is no other block on it. At each time stamp only one block can be moved. A block can be moved OnTable, OutOfTable or on any other block.', 'question_id': 167, 'answer_choices': ['True', 'False', 'Unknown', 'Unanswerable'], 'answer_id': 1}, {'image_id': '/content/drive/MyDrive/2ReadyForFineTuning/VLQAv1/Blocksworld/merged_images/Merged_BW_19_0#BW_19_1.jpg', 'question': 'There are 5 moves required if image [0] is to be transformed into configuration in image [1]. Consider 6 blocks of colors [Red, Green, Purple, Orange, Yellow and Blue]. Blocks can be moved as per three conditions below. A block can be moved if there is no other block on it. At each time stamp only one block can be moved. A block can be moved OnTable, OutOfTable or on any other block.', 'question_id': 168, 'answer_choices': ['True', 'False', 'Unknown', 'Unanswerable'], 'answer_id': 1}, {'image_id': '/content/drive/MyDrive/2ReadyForFineTuning/VLQAv1/Blocksworld/merged_images/Merged_BW_20_0#BW_20_1.jpg', 'question': 'There are 0 moves required if image [0] is to be transformed into configuration in image [1]. Consider 6 blocks of colors [Red, Green, Purple, Orange, Yellow and Blue]. Blocks can be moved as per three conditions below. A block can be moved if there is no other block on it. At each time stamp only one block can be moved. A block can be moved OnTable, OutOfTable or on any other block.', 'question_id': 169, 'answer_choices': ['True', 'False', 'Unknown', 'Unanswerable'], 'answer_id': 1}, {'image_id': '/content/drive/MyDrive/2ReadyForFineTuning/VLQAv1/Blocksworld/merged_images/Merged_BW_21_0#BW_21_1.jpg', 'question': 'There are 7 moves required if image [0] is to be transformed into configuration in image [1]. Consider 6 blocks of colors [Red, Green, Purple, Orange, Yellow and Blue]. Blocks can be moved as per three conditions below. A block can be moved if there is no other block on it. At each time stamp only one block can be moved. A block can be moved OnTable, OutOfTable or on any other block.', 'question_id': 170, 'answer_choices': ['True', 'False', 'Unknown', 'Unanswerable'], 'answer_id': 1}, {'image_id': '/content/drive/MyDrive/2ReadyForFineTuning/VLQAv1/Blocksworld/merged_images/Merged_BW_22_0#BW_22_1.jpg', 'question': 'There are 4 moves required if image [0] is to be transformed into configuration in image [1]. Consider 6 blocks of colors [Red, Green, Purple, Orange, Yellow and Blue]. Blocks can be moved as per three conditions below. A block can be moved if there is no other block on it. At each time stamp only one block can be moved. A block can be moved OnTable, OutOfTable or on any other block.', 'question_id': 171, 'answer_choices': ['True', 'False', 'Unknown', 'Unanswerable'], 'answer_id': 1}, {'image_id': '/content/drive/MyDrive/2ReadyForFineTuning/VLQAv1/Blocksworld/merged_images/Merged_BW_23_0#BW_23_1.jpg', 'question': 'There are 3 moves required if image [0] is to be transformed into configuration in image [1]. Consider 6 blocks of colors [Red, Green, Purple, Orange, Yellow and Blue]. Blocks can be moved as per three conditions below. A block can be moved if there is no other block on it. At each time stamp only one block can be moved. A block can be moved OnTable, OutOfTable or on any other block.', 'question_id': 172, 'answer_choices': ['True', 'False', 'Unknown', 'Unanswerable'], 'answer_id': 0}, {'image_id': '/content/drive/MyDrive/2ReadyForFineTuning/VLQAv1/Blocksworld/merged_images/Merged_BW_24_0#BW_24_1.jpg', 'question': 'There are 3 moves required if image [0] is to be transformed into configuration in image [1]. Consider 6 blocks of colors [Red, Green, Purple, Orange, Yellow and Blue]. Blocks can be moved as per three conditions below. A block can be moved if there is no other block on it. At each time stamp only one block can be moved. A block can be moved OnTable, OutOfTable or on any other block.', 'question_id': 173, 'answer_choices': ['True', 'False', 'Unknown', 'Unanswerable'], 'answer_id': 0}, {'image_id': '/content/drive/MyDrive/2ReadyForFineTuning/VLQAv1/Blocksworld/merged_images/Merged_BW_25_0#BW_25_1.jpg', 'question': 'There are 3 moves required if image [0] is to be transformed into configuration in image [1]. Consider 6 blocks of colors [Red, Green, Purple, Orange, Yellow and Blue]. Blocks can be moved as per three conditions below. A block can be moved if there is no other block on it. At each time stamp only one block can be moved. A block can be moved OnTable, OutOfTable or on any other block.', 'question_id': 174, 'answer_choices': ['True', 'False', 'Unknown', 'Unanswerable'], 'answer_id': 0}, {'image_id': '/content/drive/MyDrive/2ReadyForFineTuning/VLQAv1/Blocksworld/merged_images/Merged_BW_26_0#BW_26_1.jpg', 'question': 'There are 3 moves required if image [0] is to be transformed into configuration in image [1]. Consider 6 blocks of colors [Red, Green, Purple, Orange, Yellow and Blue]. Blocks can be moved as per three conditions below. A block can be moved if there is no other block on it. At each time stamp only one block can be moved. A block can be moved OnTable, OutOfTable or on any other block.', 'question_id': 175, 'answer_choices': ['True', 'False', 'Unknown', 'Unanswerable'], 'answer_id': 0}, {'image_id': '/content/drive/MyDrive/2ReadyForFineTuning/VLQAv1/Blocksworld/merged_images/Merged_BW_27_0#BW_27_1.jpg', 'question': 'There are 0 moves required if image [0] is to be transformed into configuration in image [1]. Consider 6 blocks of colors [Red, Green, Purple, Orange, Yellow and Blue]. Blocks can be moved as per three conditions below. A block can be moved if there is no other block on it. At each time stamp only one block can be moved. A block can be moved OnTable, OutOfTable or on any other block.', 'question_id': 176, 'answer_choices': ['True', 'False', 'Unknown', 'Unanswerable'], 'answer_id': 1}, {'image_id': '/content/drive/MyDrive/2ReadyForFineTuning/VLQAv1/Blocksworld/merged_images/Merged_BW_28_0#BW_28_1.jpg', 'question': 'There are 3 moves required if image [0] is to be transformed into configuration in image [1]. Consider 6 blocks of colors [Red, Green, Purple, Orange, Yellow and Blue]. Blocks can be moved as per three conditions below. A block can be moved if there is no other block on it. At each time stamp only one block can be moved. A block can be moved OnTable, OutOfTable or on any other block.', 'question_id': 177, 'answer_choices': ['True', 'False', 'Unknown', 'Unanswerable'], 'answer_id': 0}, {'image_id': '/content/drive/MyDrive/2ReadyForFineTuning/VLQAv1/Blocksworld/merged_images/Merged_BW_29_0#BW_29_1.jpg', 'question': 'There are 2 moves required if image [0] is to be transformed into configuration in image [1]. Consider 6 blocks of colors [Red, Green, Purple, Orange, Yellow and Blue]. Blocks can be moved as per three conditions below. A block can be moved if there is no other block on it. At each time stamp only one block can be moved. A block can be moved OnTable, OutOfTable or on any other block.', 'question_id': 178, 'answer_choices': ['True', 'False', 'Unknown', 'Unanswerable'], 'answer_id': 1}, {'image_id': '/content/drive/MyDrive/2ReadyForFineTuning/VLQAv1/Blocksworld/merged_images/Merged_BW_30_0#BW_30_1.jpg', 'question': 'There are 3 moves required if image [0] is to be transformed into configuration in image [1]. Consider 6 blocks of colors [Red, Green, Purple, Orange, Yellow and Blue]. Blocks can be moved as per three conditions below. A block can be moved if there is no other block on it. At each time stamp only one block can be moved. A block can be moved OnTable, OutOfTable or on any other block.', 'question_id': 179, 'answer_choices': ['True', 'False', 'Unknown', 'Unanswerable'], 'answer_id': 0}, {'image_id': '/content/drive/MyDrive/2ReadyForFineTuning/VLQAv1/Blocksworld/merged_images/Merged_BW_31_0#BW_31_1.jpg', 'question': 'There are 4 moves required if image [0] is to be transformed into configuration in image [1]. Consider 6 blocks of colors [Red, Green, Purple, Orange, Yellow and Blue]. Blocks can be moved as per three conditions below. A block can be moved if there is no other block on it. At each time stamp only one block can be moved. A block can be moved OnTable, OutOfTable or on any other block.', 'question_id': 180, 'answer_choices': ['True', 'False', 'Unknown', 'Unanswerable'], 'answer_id': 0}, {'image_id': '/content/drive/MyDrive/2ReadyForFineTuning/VLQAv1/Blocksworld/merged_images/Merged_BW_32_0#BW_32_1.jpg', 'question': 'There are 4 moves required if image [0] is to be transformed into configuration in image [1]. Consider 6 blocks of colors [Red, Green, Purple, Orange, Yellow and Blue]. Blocks can be moved as per three conditions below. A block can be moved if there is no other block on it. At each time stamp only one block can be moved. A block can be moved OnTable, OutOfTable or on any other block.', 'question_id': 181, 'answer_choices': ['True', 'False', 'Unknown', 'Unanswerable'], 'answer_id': 0}, {'image_id': '/content/drive/MyDrive/2ReadyForFineTuning/VLQAv1/Blocksworld/merged_images/Merged_BW_33_0#BW_33_1.jpg', 'question': 'There are 4 moves required if image [0] is to be transformed into configuration in image [1]. Consider 6 blocks of colors [Red, Green, Purple, Orange, Yellow and Blue]. Blocks can be moved as per three conditions below. A block can be moved if there is no other block on it. At each time stamp only one block can be moved. A block can be moved OnTable, OutOfTable or on any other block.', 'question_id': 182, 'answer_choices': ['True', 'False', 'Unknown', 'Unanswerable'], 'answer_id': 0}, {'image_id': '/content/drive/MyDrive/2ReadyForFineTuning/VLQAv1/Blocksworld/merged_images/Merged_BW_34_0#BW_34_1.jpg', 'question': 'There are 3 moves required if image [0] is to be transformed into configuration in image [1]. Consider 6 blocks of colors [Red, Green, Purple, Orange, Yellow and Blue]. Blocks can be moved as per three conditions below. A block can be moved if there is no other block on it. At each time stamp only one block can be moved. A block can be moved OnTable, OutOfTable or on any other block.', 'question_id': 183, 'answer_choices': ['True', 'False', 'Unknown', 'Unanswerable'], 'answer_id': 1}, {'image_id': '/content/drive/MyDrive/2ReadyForFineTuning/VLQAv1/Blocksworld/merged_images/Merged_BW_35_0#BW_35_1.jpg', 'question': 'There are 4 moves required if image [0] is to be transformed into configuration in image [1]. Consider 6 blocks of colors [Red, Green, Purple, Orange, Yellow and Blue]. Blocks can be moved as per three conditions below. A block can be moved if there is no other block on it. At each time stamp only one block can be moved. A block can be moved OnTable, OutOfTable or on any other block.', 'question_id': 184, 'answer_choices': ['True', 'False', 'Unknown', 'Unanswerable'], 'answer_id': 0}, {'image_id': '/content/drive/MyDrive/2ReadyForFineTuning/VLQAv1/Blocksworld/merged_images/Merged_BW_36_0#BW_36_1.jpg', 'question': 'There are 4 moves required if image [0] is to be transformed into configuration in image [1]. Consider 6 blocks of colors [Red, Green, Purple, Orange, Yellow and Blue]. Blocks can be moved as per three conditions below. A block can be moved if there is no other block on it. At each time stamp only one block can be moved. A block can be moved OnTable, OutOfTable or on any other block.', 'question_id': 185, 'answer_choices': ['True', 'False', 'Unknown', 'Unanswerable'], 'answer_id': 0}, {'image_id': '/content/drive/MyDrive/2ReadyForFineTuning/VLQAv1/Blocksworld/merged_images/Merged_BW_37_0#BW_37_1.jpg', 'question': 'There are 4 moves required if image [0] is to be transformed into configuration in image [1]. Consider 6 blocks of colors [Red, Green, Purple, Orange, Yellow and Blue]. Blocks can be moved as per three conditions below. A block can be moved if there is no other block on it. At each time stamp only one block can be moved. A block can be moved OnTable, OutOfTable or on any other block.', 'question_id': 186, 'answer_choices': ['True', 'False', 'Unknown', 'Unanswerable'], 'answer_id': 0}, {'image_id': '/content/drive/MyDrive/2ReadyForFineTuning/VLQAv1/Blocksworld/merged_images/Merged_BW_38_0#BW_38_1.jpg', 'question': 'There are 4 moves required if image [0] is to be transformed into configuration in image [1]. Consider 6 blocks of colors [Red, Green, Purple, Orange, Yellow and Blue]. Blocks can be moved as per three conditions below. A block can be moved if there is no other block on it. At each time stamp only one block can be moved. A block can be moved OnTable, OutOfTable or on any other block.', 'question_id': 187, 'answer_choices': ['True', 'False', 'Unknown', 'Unanswerable'], 'answer_id': 0}, {'image_id': '/content/drive/MyDrive/2ReadyForFineTuning/VLQAv1/Blocksworld/merged_images/Merged_BW_39_0#BW_39_1.jpg', 'question': 'There are 4 moves required if image [0] is to be transformed into configuration in image [1]. Consider 6 blocks of colors [Red, Green, Purple, Orange, Yellow and Blue]. Blocks can be moved as per three conditions below. A block can be moved if there is no other block on it. At each time stamp only one block can be moved. A block can be moved OnTable, OutOfTable or on any other block.', 'question_id': 188, 'answer_choices': ['True', 'False', 'Unknown', 'Unanswerable'], 'answer_id': 0}, {'image_id': '/content/drive/MyDrive/2ReadyForFineTuning/VLQAv1/Blocksworld/merged_images/Merged_BW_40_0#BW_40_1.jpg', 'question': 'There are 4 moves required if image [0] is to be transformed into configuration in image [1]. Consider 6 blocks of colors [Red, Green, Purple, Orange, Yellow and Blue]. Blocks can be moved as per three conditions below. A block can be moved if there is no other block on it. At each time stamp only one block can be moved. A block can be moved OnTable, OutOfTable or on any other block.', 'question_id': 189, 'answer_choices': ['True', 'False', 'Unknown', 'Unanswerable'], 'answer_id': 0}, {'image_id': '/content/drive/MyDrive/2ReadyForFineTuning/VLQAv1/Blocksworld/merged_images/Merged_BW_1_0#BW_1_1.jpg', 'question': 'The Green block is moved 0 times if image [0] is to be transformed into configuration in image [1]. Consider 6 blocks of colors [Red, Green, Purple, Orange, Yellow and Blue]. Blocks can be moved as per three conditions below. A block can be moved if there is no other block on it. At each time stamp only one block can be moved. A block can be moved OnTable, OutOfTable or on any other block.', 'question_id': 190, 'answer_choices': ['True', 'False', 'Unknown', 'Unanswerable'], 'answer_id': 1}, {'image_id': '/content/drive/MyDrive/2ReadyForFineTuning/VLQAv1/Blocksworld/merged_images/Merged_BW_2_0#BW_2_1.jpg', 'question': 'The Purple block is moved 2 times if image [0] is to be transformed into configuration in image [1]. Consider 6 blocks of colors [Red, Green, Purple, Orange, Yellow and Blue]. Blocks can be moved as per three conditions below. A block can be moved if there is no other block on it. At each time stamp only one block can be moved. A block can be moved OnTable, OutOfTable or on any other block.', 'question_id': 191, 'answer_choices': ['True', 'False', 'Unknown', 'Unanswerable'], 'answer_id': 1}, {'image_id': '/content/drive/MyDrive/2ReadyForFineTuning/VLQAv1/Blocksworld/merged_images/Merged_BW_3_0#BW_3_1.jpg', 'question': 'The Orange block is moved 1 times if image [0] is to be transformed into configuration in image [1]. Consider 6 blocks of colors [Red, Green, Purple, Orange, Yellow and Blue]. Blocks can be moved as per three conditions below. A block can be moved if there is no other block on it. At each time stamp only one block can be moved. A block can be moved OnTable, OutOfTable or on any other block.', 'question_id': 192, 'answer_choices': ['True', 'False', 'Unknown', 'Unanswerable'], 'answer_id': 0}, {'image_id': '/content/drive/MyDrive/2ReadyForFineTuning/VLQAv1/Blocksworld/merged_images/Merged_BW_4_0#BW_4_1.jpg', 'question': 'The Purple block is moved 1 times if image [0] is to be transformed into configuration in image [1]. Consider 6 blocks of colors [Red, Green, Purple, Orange, Yellow and Blue]. Blocks can be moved as per three conditions below. A block can be moved if there is no other block on it. At each time stamp only one block can be moved. A block can be moved OnTable, OutOfTable or on any other block.', 'question_id': 193, 'answer_choices': ['True', 'False', 'Unknown', 'Unanswerable'], 'answer_id': 0}, {'image_id': '/content/drive/MyDrive/2ReadyForFineTuning/VLQAv1/Blocksworld/merged_images/Merged_BW_5_0#BW_5_1.jpg', 'question': 'The Yellow block is moved 0 times if image [0] is to be transformed into configuration in image [1]. Consider 6 blocks of colors [Red, Green, Purple, Orange, Yellow and Blue]. Blocks can be moved as per three conditions below. A block can be moved if there is no other block on it. At each time stamp only one block can be moved. A block can be moved OnTable, OutOfTable or on any other block.', 'question_id': 194, 'answer_choices': ['True', 'False', 'Unknown', 'Unanswerable'], 'answer_id': 1}, {'image_id': '/content/drive/MyDrive/2ReadyForFineTuning/VLQAv1/Blocksworld/merged_images/Merged_BW_6_0#BW_6_1.jpg', 'question': 'The Orange block is moved 0 times if image [0] is to be transformed into configuration in image [1]. Consider 6 blocks of colors [Red, Green, Purple, Orange, Yellow and Blue]. Blocks can be moved as per three conditions below. A block can be moved if there is no other block on it. At each time stamp only one block can be moved. A block can be moved OnTable, OutOfTable or on any other block.', 'question_id': 195, 'answer_choices': ['True', 'False', 'Unknown', 'Unanswerable'], 'answer_id': 1}, {'image_id': '/content/drive/MyDrive/2ReadyForFineTuning/VLQAv1/Blocksworld/merged_images/Merged_BW_7_0#BW_7_1.jpg', 'question': 'The Purple block is moved 3 times if image [0] is to be transformed into configuration in image [1]. Consider 6 blocks of colors [Red, Green, Purple, Orange, Yellow and Blue]. Blocks can be moved as per three conditions below. A block can be moved if there is no other block on it. At each time stamp only one block can be moved. A block can be moved OnTable, OutOfTable or on any other block.', 'question_id': 196, 'answer_choices': ['True', 'False', 'Unknown', 'Unanswerable'], 'answer_id': 1}, {'image_id': '/content/drive/MyDrive/2ReadyForFineTuning/VLQAv1/Blocksworld/merged_images/Merged_BW_8_0#BW_8_1.jpg', 'question': 'The Blue block is moved 1 times if image [0] is to be transformed into configuration in image [1]. Consider 6 blocks of colors [Red, Green, Purple, Orange, Yellow and Blue]. Blocks can be moved as per three conditions below. A block can be moved if there is no other block on it. At each time stamp only one block can be moved. A block can be moved OnTable, OutOfTable or on any other block.', 'question_id': 197, 'answer_choices': ['True', 'False', 'Unknown', 'Unanswerable'], 'answer_id': 0}, {'image_id': '/content/drive/MyDrive/2ReadyForFineTuning/VLQAv1/Blocksworld/merged_images/Merged_BW_9_0#BW_9_1.jpg', 'question': 'The Yellow block is moved 1 times if image [0] is to be transformed into configuration in image [1]. Consider 6 blocks of colors [Red, Green, Purple, Orange, Yellow and Blue]. Blocks can be moved as per three conditions below. A block can be moved if there is no other block on it. At each time stamp only one block can be moved. A block can be moved OnTable, OutOfTable or on any other block.', 'question_id': 198, 'answer_choices': ['True', 'False', 'Unknown', 'Unanswerable'], 'answer_id': 0}, {'image_id': '/content/drive/MyDrive/2ReadyForFineTuning/VLQAv1/Blocksworld/merged_images/Merged_BW_10_0#BW_10_1.jpg', 'question': 'The Yellow block is moved 1 times if image [0] is to be transformed into configuration in image [1]. Consider 6 blocks of colors [Red, Green, Purple, Orange, Yellow and Blue]. Blocks can be moved as per three conditions below. A block can be moved if there is no other block on it. At each time stamp only one block can be moved. A block can be moved OnTable, OutOfTable or on any other block.', 'question_id': 199, 'answer_choices': ['True', 'False', 'Unknown', 'Unanswerable'], 'answer_id': 0}]}\n"
          ]
        }
      ],
      "source": [
        "import json\n",
        "import ast\n",
        "datalen = 0\n",
        "dumpdict = { \"info\": {}, \"task_type\": \"Open-Ended\", \"data_type\": \"blocksworld\", \"license\": {}, \"data_subtype\": prefix, \"questions\": [] }\n",
        "\n",
        "with open(home+prefix+'.jsonl') as f:\n",
        "  data = f.readlines()\n",
        "  print(len(data))\n",
        "  global datalen\n",
        "  datalen = len(data)\n",
        "  for i in data[0:int(datalen*0.8)]:\n",
        "    ijson = json.loads(i)\n",
        "    imlist = ast.literal_eval(ijson['images'])\n",
        "    #print(imlist)\n",
        "    anslist = ast.literal_eval(ijson['answer_choices'])\n",
        "    if len(anslist)==2:\n",
        "      anslist.append(\"Unknown\")\n",
        "      anslist.append(\"Unanswerable\")\n",
        "    try:\n",
        "      #print(len(anslist))\n",
        "      assert len(anslist) == 4\n",
        "    except:\n",
        "      print(i)\n",
        "    im1 = imlist[0].lstrip('./images/').rstrip('.jpg')\n",
        "    im2 = imlist[1].lstrip('./images/')\n",
        "    dumpdict['questions'].append( { \"image_id\": imroot+\"/Merged_\"+im1+\"#\"+im2, \"question\": ijson['question']+\" \"+ijson['passage'], \"question_id\": ijson['qid'], \"answer_choices\": anslist, \"answer_id\": int(ijson['answer']) } )\n",
        "\n",
        "with open('/content/'+prefix+'_train.jsonl','w+') as w:\n",
        "  w.write(json.dumps(dumpdict,indent=4))\n",
        "\n",
        "print(dumpdict)"
      ]
    },
    {
      "cell_type": "code",
      "execution_count": 6,
      "metadata": {
        "colab": {
          "base_uri": "https://localhost:8080/"
        },
        "id": "XKAWRzGk7mPe",
        "outputId": "9ffc7fab-d2aa-47a5-f1e2-380aed247136"
      },
      "outputs": [
        {
          "output_type": "stream",
          "name": "stdout",
          "text": [
            "dict_keys(['info', 'task_type', 'data_type', 'license', 'data_subtype', 'questions'])\n",
            "Number of questions: 200\n"
          ]
        }
      ],
      "source": [
        "import json\n",
        "f = open('/content/'+prefix+'_train.jsonl','r')\n",
        "data_questions = json.load(f)\n",
        "questions = data_questions['questions']\n",
        "\n",
        "print(data_questions.keys())\n",
        "print(\"Number of questions:\", len(questions))"
      ]
    },
    {
      "cell_type": "code",
      "execution_count": 7,
      "metadata": {
        "colab": {
          "base_uri": "https://localhost:8080/"
        },
        "id": "6xKiXtLz75co",
        "outputId": "0f5b6641-ae1b-4094-a6db-ad416f544e41"
      },
      "outputs": [
        {
          "output_type": "execute_result",
          "data": {
            "text/plain": [
              "{'image_id': '/content/drive/MyDrive/2ReadyForFineTuning/VLQAv1/Blocksworld/merged_images/Merged_BW_1_0#BW_1_1.jpg',\n",
              " 'question': 'How many moves are required at minimum if configuration in image [0] is to be transformed into configuration in image [1]? Consider 6 blocks of colors [Red, Green, Purple, Orange, Yellow and Blue]. Blocks can be moved as per three conditions below. A block can be moved if there is no other block on it. At each time stamp only one block can be moved. A block can be moved OnTable, OutOfTable or on any other block.',\n",
              " 'question_id': 0,\n",
              " 'answer_choices': [1, 5, 2, 3],\n",
              " 'answer_id': 0}"
            ]
          },
          "metadata": {},
          "execution_count": 7
        }
      ],
      "source": [
        "questions[0]"
      ]
    },
    {
      "cell_type": "code",
      "execution_count": 8,
      "metadata": {
        "colab": {
          "base_uri": "https://localhost:8080/"
        },
        "id": "LxBw6v-V9Zx0",
        "outputId": "76e9f51a-f6f8-4652-f27a-624e021fa4ec"
      },
      "outputs": [
        {
          "output_type": "stream",
          "name": "stdout",
          "text": [
            "['Merged_BW_52_0#BW_52_1.jpg', 'Merged_BW_51_0#BW_51_1.jpg', 'Merged_BW_55_0#BW_55_1.jpg', 'Merged_BW_54_0#BW_54_1.jpg', 'Merged_BW_53_0#BW_53_1.jpg', 'Merged_BW_57_0#BW_57_1.jpg', 'Merged_BW_56_0#BW_56_1.jpg', 'Merged_BW_61_0#BW_61_1.jpg', 'Merged_BW_58_0#BW_58_1.jpg', 'Merged_BW_59_0#BW_59_1.jpg', 'Merged_BW_60_0#BW_60_1.jpg', 'Merged_BW_62_0#BW_62_1.jpg', 'Merged_BW_64_0#BW_64_1.jpg', 'Merged_BW_63_0#BW_63_1.jpg', 'Merged_BW_65_0#BW_65_1.jpg', 'Merged_BW_69_0#BW_69_1.jpg', 'Merged_BW_67_0#BW_67_1.jpg', 'Merged_BW_66_0#BW_66_1.jpg', 'Merged_BW_68_0#BW_68_1.jpg', 'Merged_BW_72_0#BW_72_1.jpg', 'Merged_BW_71_0#BW_71_1.jpg', 'Merged_BW_70_0#BW_70_1.jpg', 'Merged_BW_74_0#BW_74_1.jpg', 'Merged_BW_73_0#BW_73_1.jpg', 'Merged_BW_75_0#BW_75_1.jpg', 'Merged_BW_76_0#BW_76_1.jpg', 'Merged_BW_78_0#BW_78_1.jpg', 'Merged_BW_77_0#BW_77_1.jpg', 'Merged_BW_82_0#BW_82_1.jpg', 'Merged_BW_80_0#BW_80_1.jpg', 'Merged_BW_81_0#BW_81_1.jpg', 'Merged_BW_79_0#BW_79_1.jpg', 'Merged_BW_83_0#BW_83_1.jpg', 'Merged_BW_84_0#BW_84_1.jpg', 'Merged_BW_85_0#BW_85_1.jpg', 'Merged_BW_87_0#BW_87_1.jpg', 'Merged_BW_88_0#BW_88_1.jpg', 'Merged_BW_86_0#BW_86_1.jpg', 'Merged_BW_91_0#BW_91_1.jpg', 'Merged_BW_89_0#BW_89_1.jpg', 'Merged_BW_92_0#BW_92_1.jpg', 'Merged_BW_90_0#BW_90_1.jpg', 'Merged_BW_97_0#BW_97_1.jpg', 'Merged_BW_96_0#BW_96_1.jpg', 'Merged_BW_93_0#BW_93_1.jpg', 'Merged_BW_95_0#BW_95_1.jpg', 'Merged_BW_94_0#BW_94_1.jpg', 'Merged_BW_98_0#BW_98_1.jpg', 'Merged_BW_99_0#BW_99_1.jpg', 'Merged_BW_100_0#BW_100_1.jpg', 'Merged_BW_1_0#BW_1_1.jpg', 'Merged_BW_2_0#BW_2_1.jpg', 'Merged_BW_3_0#BW_3_1.jpg', 'Merged_BW_4_0#BW_4_1.jpg', 'Merged_BW_8_0#BW_8_1.jpg', 'Merged_BW_5_0#BW_5_1.jpg', 'Merged_BW_6_0#BW_6_1.jpg', 'Merged_BW_7_0#BW_7_1.jpg', 'Merged_BW_9_0#BW_9_1.jpg', 'Merged_BW_10_0#BW_10_1.jpg', 'Merged_BW_12_0#BW_12_1.jpg', 'Merged_BW_13_0#BW_13_1.jpg', 'Merged_BW_11_0#BW_11_1.jpg', 'Merged_BW_15_0#BW_15_1.jpg', 'Merged_BW_14_0#BW_14_1.jpg', 'Merged_BW_16_0#BW_16_1.jpg', 'Merged_BW_17_0#BW_17_1.jpg', 'Merged_BW_21_0#BW_21_1.jpg', 'Merged_BW_18_0#BW_18_1.jpg', 'Merged_BW_20_0#BW_20_1.jpg', 'Merged_BW_19_0#BW_19_1.jpg', 'Merged_BW_24_0#BW_24_1.jpg', 'Merged_BW_25_0#BW_25_1.jpg', 'Merged_BW_23_0#BW_23_1.jpg', 'Merged_BW_22_0#BW_22_1.jpg', 'Merged_BW_28_0#BW_28_1.jpg', 'Merged_BW_30_0#BW_30_1.jpg', 'Merged_BW_27_0#BW_27_1.jpg', 'Merged_BW_29_0#BW_29_1.jpg', 'Merged_BW_26_0#BW_26_1.jpg', 'Merged_BW_34_0#BW_34_1.jpg', 'Merged_BW_33_0#BW_33_1.jpg', 'Merged_BW_32_0#BW_32_1.jpg', 'Merged_BW_31_0#BW_31_1.jpg', 'Merged_BW_38_0#BW_38_1.jpg', 'Merged_BW_39_0#BW_39_1.jpg', 'Merged_BW_36_0#BW_36_1.jpg', 'Merged_BW_35_0#BW_35_1.jpg', 'Merged_BW_37_0#BW_37_1.jpg', 'Merged_BW_40_0#BW_40_1.jpg', 'Merged_BW_42_0#BW_42_1.jpg', 'Merged_BW_41_0#BW_41_1.jpg', 'Merged_BW_45_0#BW_45_1.jpg', 'Merged_BW_43_0#BW_43_1.jpg', 'Merged_BW_44_0#BW_44_1.jpg', 'Merged_BW_46_0#BW_46_1.jpg', 'Merged_BW_50_0#BW_50_1.jpg', 'Merged_BW_47_0#BW_47_1.jpg', 'Merged_BW_48_0#BW_48_1.jpg', 'Merged_BW_49_0#BW_49_1.jpg']\n",
            "100\n"
          ]
        }
      ],
      "source": [
        "from os import listdir\n",
        "from os.path import isfile, join\n",
        "\n",
        "file_names = [f for f in listdir(imroot) if isfile(join(imroot, f))]\n",
        "print(file_names)\n",
        "print(len(file_names))"
      ]
    },
    {
      "cell_type": "code",
      "execution_count": 9,
      "metadata": {
        "colab": {
          "base_uri": "https://localhost:8080/",
          "height": 273
        },
        "id": "ZeW4M0yU-boe",
        "outputId": "b53cae54-f30a-4ec5-a944-c644bb9ac858"
      },
      "outputs": [
        {
          "output_type": "execute_result",
          "data": {
            "text/plain": [
              "<PIL.JpegImagePlugin.JpegImageFile image mode=RGB size=512x256>"
            ],
            "image/png": "[encoded data removed]"
          },
          "metadata": {},
          "execution_count": 9
        }
      ],
      "source": [
        "from PIL import Image\n",
        "\n",
        "path = questions[0]['image_id']\n",
        "image = Image.open(path)\n",
        "image"
      ]
    },
    {
      "cell_type": "code",
      "execution_count": 10,
      "metadata": {
        "colab": {
          "base_uri": "https://localhost:8080/"
        },
        "id": "qQK-4nIa_6SX",
        "outputId": "59fba9ac-a15d-405f-fe43-0ed961d5782a"
      },
      "outputs": [
        {
          "output_type": "stream",
          "name": "stderr",
          "text": [
            "/usr/local/lib/python3.10/dist-packages/huggingface_hub/utils/_token.py:89: UserWarning: \n",
            "The secret `HF_TOKEN` does not exist in your Colab secrets.\n",
            "To authenticate with the Hugging Face Hub, create a token in your settings tab (https://huggingface.co/settings/tokens), set it as secret in your Google Colab and restart your session.\n",
            "You will be able to reuse this secret in all of your notebooks.\n",
            "Please note that authentication is recommended but still optional to access public models or datasets.\n",
            "  warnings.warn(\n"
          ]
        }
      ],
      "source": [
        "from transformers import ViltConfig\n",
        "\n",
        "config = ViltConfig.from_pretrained(\"dandelin/vilt-b32-finetuned-vqa\")"
      ]
    },
    {
      "cell_type": "code",
      "execution_count": 11,
      "metadata": {
        "id": "kJ3sm7qGAyab"
      },
      "outputs": [],
      "source": [
        "import torch\n",
        "from PIL import Image\n",
        "\n",
        "class VQADataset(torch.utils.data.Dataset):\n",
        "\n",
        "    def __init__(self, questions, processor):\n",
        "        self.questions = questions\n",
        "        self.processor = processor\n",
        "\n",
        "    def __len__(self):\n",
        "        return len(self.questions)\n",
        "\n",
        "    def __getitem__(self, idx):\n",
        "        questions = self.questions[idx]\n",
        "        image = Image.open(questions['image_id']).convert(\"RGB\")\n",
        "        text = questions['question']\n",
        "        encoding = self.processor(image, text, padding=\"max_length\", truncation=True, return_tensors=\"pt\")\n",
        "        for k,v in encoding.items():\n",
        "          encoding[k] = v.squeeze()\n",
        "        targets = torch.zeros(len(questions['answer_choices']))\n",
        "        targets[questions['answer_id']] = 1.0\n",
        "        encoding[\"labels\"] = targets\n",
        "        return encoding"
      ]
    },
    {
      "cell_type": "code",
      "execution_count": 12,
      "metadata": {
        "colab": {
          "base_uri": "https://localhost:8080/"
        },
        "id": "Dl2UsPrTHbtu",
        "outputId": "04eb0704-ec2b-4230-e626-7babac2887bd"
      },
      "outputs": [
        {
          "output_type": "stream",
          "name": "stderr",
          "text": [
            "/usr/local/lib/python3.10/dist-packages/transformers/tokenization_utils_base.py:1617: FutureWarning: `clean_up_tokenization_spaces` was not set. It will be set to `True` by default. This behavior will be deprecated in transformers v4.45, and will be then set to `False` by default. For more details check this issue: https://github.com/huggingface/transformers/issues/31884\n",
            "  warnings.warn(\n"
          ]
        }
      ],
      "source": [
        "from transformers import ViltProcessor\n",
        "\n",
        "processor = ViltProcessor.from_pretrained(\"dandelin/vilt-b32-mlm\")"
      ]
    },
    {
      "cell_type": "code",
      "execution_count": 13,
      "metadata": {
        "id": "EagfM_HDRTLT"
      },
      "outputs": [],
      "source": [
        "dataset = VQADataset(questions=questions,processor=processor)"
      ]
    },
    {
      "cell_type": "code",
      "execution_count": 14,
      "metadata": {
        "colab": {
          "base_uri": "https://localhost:8080/"
        },
        "id": "bDngfaTRxXqZ",
        "outputId": "2ee0e096-7877-4b5f-98a8-f37ee63318c8"
      },
      "outputs": [
        {
          "output_type": "execute_result",
          "data": {
            "text/plain": [
              "{'input_ids': tensor([ 101, 2129, 2116, 5829, 2024, 3223, 2012, 6263, 2065, 9563, 1999, 3746,\n",
              "        1031, 1014, 1033, 2003, 2000, 2022, 8590, 2046, 9563, 1999, 3746, 1031,\n",
              "        1015, 1033, 1029, 5136, 1020, 5991, 1997, 6087, 1031, 2417, 1010, 2665,\n",
              "        1010, 6379, 1010,  102]), 'token_type_ids': tensor([0, 0, 0, 0, 0, 0, 0, 0, 0, 0, 0, 0, 0, 0, 0, 0, 0, 0, 0, 0, 0, 0, 0, 0,\n",
              "        0, 0, 0, 0, 0, 0, 0, 0, 0, 0, 0, 0, 0, 0, 0, 0]), 'attention_mask': tensor([1, 1, 1, 1, 1, 1, 1, 1, 1, 1, 1, 1, 1, 1, 1, 1, 1, 1, 1, 1, 1, 1, 1, 1,\n",
              "        1, 1, 1, 1, 1, 1, 1, 1, 1, 1, 1, 1, 1, 1, 1, 1]), 'pixel_values': tensor([[[0.6471, 0.6471, 0.6471,  ..., 0.5294, 0.5294, 0.5294],\n",
              "         [0.6471, 0.6471, 0.6471,  ..., 0.5294, 0.5294, 0.5294],\n",
              "         [0.6471, 0.6471, 0.6471,  ..., 0.5294, 0.5294, 0.5294],\n",
              "         ...,\n",
              "         [0.7961, 0.7961, 0.7961,  ..., 0.7882, 0.7882, 0.7882],\n",
              "         [0.7961, 0.7961, 0.7961,  ..., 0.7882, 0.7882, 0.7882],\n",
              "         [0.7961, 0.7961, 0.7961,  ..., 0.7882, 0.7882, 0.7882]],\n",
              "\n",
              "        [[0.6627, 0.6627, 0.6627,  ..., 0.4824, 0.4824, 0.4824],\n",
              "         [0.6627, 0.6627, 0.6627,  ..., 0.4824, 0.4824, 0.4824],\n",
              "         [0.6627, 0.6627, 0.6627,  ..., 0.4824, 0.4824, 0.4824],\n",
              "         ...,\n",
              "         [0.7961, 0.7961, 0.7961,  ..., 0.7490, 0.7490, 0.7490],\n",
              "         [0.7961, 0.7961, 0.7961,  ..., 0.7490, 0.7490, 0.7490],\n",
              "         [0.7961, 0.7961, 0.7961,  ..., 0.7490, 0.7490, 0.7490]],\n",
              "\n",
              "        [[0.6549, 0.6549, 0.6549,  ..., 0.4980, 0.4980, 0.4980],\n",
              "         [0.6549, 0.6549, 0.6549,  ..., 0.4980, 0.4980, 0.4980],\n",
              "         [0.6549, 0.6549, 0.6549,  ..., 0.4980, 0.4980, 0.4980],\n",
              "         ...,\n",
              "         [0.7961, 0.7961, 0.7961,  ..., 0.7804, 0.7804, 0.7804],\n",
              "         [0.7961, 0.7961, 0.7961,  ..., 0.7804, 0.7804, 0.7804],\n",
              "         [0.7961, 0.7961, 0.7961,  ..., 0.7804, 0.7804, 0.7804]]]), 'pixel_mask': tensor([[1, 1, 1,  ..., 1, 1, 1],\n",
              "        [1, 1, 1,  ..., 1, 1, 1],\n",
              "        [1, 1, 1,  ..., 1, 1, 1],\n",
              "        ...,\n",
              "        [1, 1, 1,  ..., 1, 1, 1],\n",
              "        [1, 1, 1,  ..., 1, 1, 1],\n",
              "        [1, 1, 1,  ..., 1, 1, 1]]), 'labels': tensor([1., 0., 0., 0.])}"
            ]
          },
          "metadata": {},
          "execution_count": 14
        }
      ],
      "source": [
        "dataset[0]"
      ]
    },
    {
      "cell_type": "code",
      "execution_count": 15,
      "metadata": {
        "colab": {
          "base_uri": "https://localhost:8080/"
        },
        "id": "bKFd8ozdIY_q",
        "outputId": "0ba98ea0-1b91-4c5e-9c9e-9cc3288ff522"
      },
      "outputs": [
        {
          "output_type": "execute_result",
          "data": {
            "text/plain": [
              "dict_keys(['input_ids', 'token_type_ids', 'attention_mask', 'pixel_values', 'pixel_mask', 'labels'])"
            ]
          },
          "metadata": {},
          "execution_count": 15
        }
      ],
      "source": [
        "dataset[1].keys()"
      ]
    },
    {
      "cell_type": "code",
      "source": [
        "len(dataset)"
      ],
      "metadata": {
        "colab": {
          "base_uri": "https://localhost:8080/"
        },
        "id": "0eqUk0ioe-6u",
        "outputId": "a3161342-6f4a-4779-827f-08517101c58e"
      },
      "execution_count": 16,
      "outputs": [
        {
          "output_type": "execute_result",
          "data": {
            "text/plain": [
              "200"
            ]
          },
          "metadata": {},
          "execution_count": 16
        }
      ]
    },
    {
      "cell_type": "code",
      "execution_count": 17,
      "metadata": {
        "colab": {
          "base_uri": "https://localhost:8080/",
          "height": 54
        },
        "id": "F0xtCsxr2B4S",
        "outputId": "e9c7c384-a08e-453e-94e3-b32865e865e7"
      },
      "outputs": [
        {
          "output_type": "execute_result",
          "data": {
            "text/plain": [
              "'[CLS] how many moves are required at minimum if configuration in image [ 0 ] is to be transformed into configuration in image [ 1 ]? consider 6 blocks of colors [ red, green, purple, [SEP]'"
            ],
            "application/vnd.google.colaboratory.intrinsic+json": {
              "type": "string"
            }
          },
          "metadata": {},
          "execution_count": 17
        }
      ],
      "source": [
        "processor.decode(dataset[0]['input_ids'])"
      ]
    },
    {
      "cell_type": "code",
      "execution_count": 18,
      "metadata": {
        "colab": {
          "base_uri": "https://localhost:8080/"
        },
        "id": "AGxYDVSve-O6",
        "outputId": "604d3207-59ab-4db3-e4d7-e8277cb55c00"
      },
      "outputs": [
        {
          "output_type": "execute_result",
          "data": {
            "text/plain": [
              "0"
            ]
          },
          "metadata": {},
          "execution_count": 18
        }
      ],
      "source": [
        "labels = torch.nonzero(dataset[0]['labels']).squeeze().tolist()\n",
        "labels"
      ]
    },
    {
      "cell_type": "code",
      "execution_count": 19,
      "metadata": {
        "colab": {
          "base_uri": "https://localhost:8080/"
        },
        "id": "sjOH0jYcfkAk",
        "outputId": "b3715b25-8764-4534-8cf9-00bae60114f5"
      },
      "outputs": [
        {
          "output_type": "stream",
          "name": "stderr",
          "text": [
            "Some weights of ViltForQuestionAnswering were not initialized from the model checkpoint at dandelin/vilt-b32-mlm and are newly initialized: ['classifier.0.bias', 'classifier.0.weight', 'classifier.1.bias', 'classifier.1.weight', 'classifier.3.bias', 'classifier.3.weight']\n",
            "You should probably TRAIN this model on a down-stream task to be able to use it for predictions and inference.\n"
          ]
        },
        {
          "output_type": "execute_result",
          "data": {
            "text/plain": [
              "ViltForQuestionAnswering(\n",
              "  (vilt): ViltModel(\n",
              "    (embeddings): ViltEmbeddings(\n",
              "      (text_embeddings): TextEmbeddings(\n",
              "        (word_embeddings): Embedding(30522, 768)\n",
              "        (position_embeddings): Embedding(40, 768)\n",
              "        (token_type_embeddings): Embedding(2, 768)\n",
              "        (LayerNorm): LayerNorm((768,), eps=1e-12, elementwise_affine=True)\n",
              "        (dropout): Dropout(p=0.0, inplace=False)\n",
              "      )\n",
              "      (patch_embeddings): ViltPatchEmbeddings(\n",
              "        (projection): Conv2d(3, 768, kernel_size=(32, 32), stride=(32, 32))\n",
              "      )\n",
              "      (token_type_embeddings): Embedding(2, 768)\n",
              "      (dropout): Dropout(p=0.0, inplace=False)\n",
              "    )\n",
              "    (encoder): ViltEncoder(\n",
              "      (layer): ModuleList(\n",
              "        (0-11): 12 x ViltLayer(\n",
              "          (attention): ViltAttention(\n",
              "            (attention): ViltSelfAttention(\n",
              "              (query): Linear(in_features=768, out_features=768, bias=True)\n",
              "              (key): Linear(in_features=768, out_features=768, bias=True)\n",
              "              (value): Linear(in_features=768, out_features=768, bias=True)\n",
              "              (dropout): Dropout(p=0.0, inplace=False)\n",
              "            )\n",
              "            (output): ViltSelfOutput(\n",
              "              (dense): Linear(in_features=768, out_features=768, bias=True)\n",
              "              (dropout): Dropout(p=0.0, inplace=False)\n",
              "            )\n",
              "          )\n",
              "          (intermediate): ViltIntermediate(\n",
              "            (dense): Linear(in_features=768, out_features=3072, bias=True)\n",
              "            (intermediate_act_fn): GELUActivation()\n",
              "          )\n",
              "          (output): ViltOutput(\n",
              "            (dense): Linear(in_features=3072, out_features=768, bias=True)\n",
              "            (dropout): Dropout(p=0.0, inplace=False)\n",
              "          )\n",
              "          (layernorm_before): LayerNorm((768,), eps=1e-12, elementwise_affine=True)\n",
              "          (layernorm_after): LayerNorm((768,), eps=1e-12, elementwise_affine=True)\n",
              "        )\n",
              "      )\n",
              "    )\n",
              "    (layernorm): LayerNorm((768,), eps=1e-12, elementwise_affine=True)\n",
              "    (pooler): ViltPooler(\n",
              "      (dense): Linear(in_features=768, out_features=768, bias=True)\n",
              "      (activation): Tanh()\n",
              "    )\n",
              "  )\n",
              "  (classifier): Sequential(\n",
              "    (0): Linear(in_features=768, out_features=1536, bias=True)\n",
              "    (1): LayerNorm((1536,), eps=1e-05, elementwise_affine=True)\n",
              "    (2): GELU(approximate='none')\n",
              "    (3): Linear(in_features=1536, out_features=4, bias=True)\n",
              "  )\n",
              ")"
            ]
          },
          "metadata": {},
          "execution_count": 19
        }
      ],
      "source": [
        "from transformers import ViltForQuestionAnswering\n",
        "\n",
        "device = torch.device(\"cuda\" if torch.cuda.is_available() else \"cpu\")\n",
        "\n",
        "model = ViltForQuestionAnswering.from_pretrained(\"dandelin/vilt-b32-mlm\", num_labels=4)\n",
        "\n",
        "model.to(device)"
      ]
    },
    {
      "cell_type": "code",
      "execution_count": 20,
      "metadata": {
        "id": "9C4gCxrbgjqh"
      },
      "outputs": [],
      "source": [
        "from torch.utils.data import DataLoader\n",
        "\n",
        "def collate_fn(batch):\n",
        "  input_ids = [item['input_ids'] for item in batch]\n",
        "  pixel_values = [item['pixel_values'] for item in batch]\n",
        "  attention_mask = [item['attention_mask'] for item in batch]\n",
        "  token_type_ids = [item['token_type_ids'] for item in batch]\n",
        "  labels = [item['labels'] for item in batch]\n",
        "\n",
        "  encoding = processor.image_processor.pad(pixel_values, return_tensors=\"pt\")\n",
        "\n",
        "  batch = {}\n",
        "  batch['input_ids'] = torch.stack(input_ids)\n",
        "  batch['attention_mask'] = torch.stack(attention_mask)\n",
        "  batch['token_type_ids'] = torch.stack(token_type_ids)\n",
        "  batch['pixel_values'] = torch.stack(pixel_values)\n",
        "  batch['pixel_mask'] = encoding['pixel_mask']\n",
        "  batch['labels'] = torch.stack(labels)\n",
        "\n",
        "  return batch\n",
        "\n",
        "train_dataloader = DataLoader(dataset, collate_fn=collate_fn, batch_size=3, shuffle=True)"
      ]
    },
    {
      "cell_type": "code",
      "execution_count": 21,
      "metadata": {
        "id": "yKBOBxq1gqzy"
      },
      "outputs": [],
      "source": [
        "batch = next(iter(train_dataloader))"
      ]
    },
    {
      "cell_type": "code",
      "execution_count": 22,
      "metadata": {
        "colab": {
          "base_uri": "https://localhost:8080/"
        },
        "id": "lZkar-taiq1r",
        "outputId": "29ad633f-1b40-44ab-a906-5021f43fe771"
      },
      "outputs": [
        {
          "output_type": "stream",
          "name": "stdout",
          "text": [
            "input_ids torch.Size([3, 40])\n",
            "attention_mask torch.Size([3, 40])\n",
            "token_type_ids torch.Size([3, 40])\n",
            "pixel_values torch.Size([3, 3, 320, 608])\n",
            "pixel_mask torch.Size([3, 320, 608])\n",
            "labels torch.Size([3, 4])\n"
          ]
        }
      ],
      "source": [
        "for k,v in batch.items():\n",
        "  print(k, v.shape)"
      ]
    },
    {
      "cell_type": "markdown",
      "metadata": {
        "id": "uN8Grgg0gK2x"
      },
      "source": [
        "## Start Training"
      ]
    },
    {
      "cell_type": "code",
      "execution_count": 23,
      "metadata": {
        "colab": {
          "base_uri": "https://localhost:8080/",
          "height": 262,
          "referenced_widgets": [
            "4415aceebe4b466abe0f9577af9ebfe4",
            "edd0bdd5064d446ab6e54146036d347b",
            "f67d24781cc84ed4bc73ae41acff9962",
            "0b4a55303a8b44749430194e85c6d6f4",
            "10674302b6b34191afe3c90caa086b87",
            "74aca5601de94407912e2bd4ad6f8f5e",
            "a4185332d6b14411a7ea5b81ad7727a1",
            "0ec6cb999653402aa626b18d3856405a",
            "cd027bcf20234de9a637477b5a24e97a",
            "b20d97500b254315a5fb02f32071c542",
            "8c7c552443cc46a39a9e2610177aae75",
            "eebce7bdbc7547c6b27e4f48843b8524",
            "1a0b81082bc84bcabfb804f01b138439",
            "12e5ead5707144cc8ab6ab4c40514f81",
            "3b620446a3d14e99b6f276efa560249a",
            "1d115e07d0224fb686bd9f697472bd65",
            "7ccb44f0bd204b94bce3c44f561d77bd",
            "033828edff6f4ef798c9f790e139d545",
            "2e0e0ddc91c440ecb03cb67fa92782d2",
            "886ee2ee491f4b22a3f15398b8a2bebe",
            "cabaa78b04f5490aadc9f3203571654d",
            "5eeedc24a99541caa29d27d205a68166",
            "b5c9ab4c5ee34e3ebc596950dbea04ce",
            "f238ce84e8fd47649f1fd2e4d93a4d28",
            "229aec8d344646bdba3faa43e13c2fe7",
            "7531603d0a484cb08022cb028168e36d",
            "b6195e2b012b474dbf4007024f5b7504",
            "009b8192735343d4b7afd3bd70e5cf61",
            "39d99c8df9e64784a87e0fad13cb1c57",
            "6fb95e62259f47b29f832071a25dfe0f",
            "fd27b6154d2a4fb3989eea3a7c3f33ad",
            "05a6d3d208ee4eb395f6bf5fe7a16fd4",
            "0e67a9a5b1c24061b298b9cc1a1ee9d0",
            "00698e8699a44cd2902cb4f2c7c51a37",
            "aa6f4f755f434dd585b49df68e704037",
            "e476f1a0f7304eac8c52cdbbb81d2e89",
            "31f46252772048c4b4d8c8c8a8e3e63e",
            "4dab3a9c50b143a2a5176548bbf006d4",
            "e55665eacf8d4fe082be6676fe0a1f01",
            "c9c41547d9fe4247bd85fc01d0686837",
            "0f403575ddbc476ea7d63308dfa39ba4",
            "77eec1d484e64025aaa92732c4741835",
            "ceb13f201db341f8bd2d117fd8c095d5",
            "2b66485cad9a40e0b5c651f287df3bdf",
            "6407098c04bd4ca2b49918f65bc402b1",
            "eead2902175649beb7d5b46d041ba74e",
            "30ba14d7c74a4a3b8030fccc6e557f6b",
            "3ec2e1a1db5a4819a59f3b94e75b61e8",
            "a407f62d96e54b9ea62d7b25fb185ed8",
            "fef1e4eee5f04b9d9d26429f027ae23e",
            "6f6b0327603e42cdb34c58225b743519",
            "672347a1fb4a44cab19976e94893682b",
            "067aaa2266d34b288f85e9e79c8cb0d6",
            "7198d21341d447ea893e119157460ba7",
            "171bc18daf724e74a389b0ca4d5bc82f"
          ]
        },
        "id": "57PlqyxXf6L4",
        "outputId": "a48c9a10-e0d2-4cc9-f54d-4cbf7b98b2f4"
      },
      "outputs": [
        {
          "output_type": "stream",
          "name": "stdout",
          "text": [
            "Epoch: 0\n"
          ]
        },
        {
          "output_type": "display_data",
          "data": {
            "text/plain": [
              "  0%|          | 0/67 [00:00<?, ?it/s]"
            ],
            "application/vnd.jupyter.widget-view+json": {
              "version_major": 2,
              "version_minor": 0,
              "model_id": "4415aceebe4b466abe0f9577af9ebfe4"
            }
          },
          "metadata": {}
        },
        {
          "output_type": "stream",
          "name": "stdout",
          "text": [
            "Epoch: 1\n"
          ]
        },
        {
          "output_type": "display_data",
          "data": {
            "text/plain": [
              "  0%|          | 0/67 [00:00<?, ?it/s]"
            ],
            "application/vnd.jupyter.widget-view+json": {
              "version_major": 2,
              "version_minor": 0,
              "model_id": "eebce7bdbc7547c6b27e4f48843b8524"
            }
          },
          "metadata": {}
        },
        {
          "output_type": "stream",
          "name": "stdout",
          "text": [
            "Epoch: 2\n"
          ]
        },
        {
          "output_type": "display_data",
          "data": {
            "text/plain": [
              "  0%|          | 0/67 [00:00<?, ?it/s]"
            ],
            "application/vnd.jupyter.widget-view+json": {
              "version_major": 2,
              "version_minor": 0,
              "model_id": "b5c9ab4c5ee34e3ebc596950dbea04ce"
            }
          },
          "metadata": {}
        },
        {
          "output_type": "stream",
          "name": "stdout",
          "text": [
            "Epoch: 3\n"
          ]
        },
        {
          "output_type": "display_data",
          "data": {
            "text/plain": [
              "  0%|          | 0/67 [00:00<?, ?it/s]"
            ],
            "application/vnd.jupyter.widget-view+json": {
              "version_major": 2,
              "version_minor": 0,
              "model_id": "00698e8699a44cd2902cb4f2c7c51a37"
            }
          },
          "metadata": {}
        },
        {
          "output_type": "stream",
          "name": "stdout",
          "text": [
            "Epoch: 4\n"
          ]
        },
        {
          "output_type": "display_data",
          "data": {
            "text/plain": [
              "  0%|          | 0/67 [00:00<?, ?it/s]"
            ],
            "application/vnd.jupyter.widget-view+json": {
              "version_major": 2,
              "version_minor": 0,
              "model_id": "6407098c04bd4ca2b49918f65bc402b1"
            }
          },
          "metadata": {}
        }
      ],
      "source": [
        "from tqdm.notebook import tqdm\n",
        "optimizer = torch.optim.AdamW(model.parameters(), lr=5e-5)\n",
        "from PIL import ImageFile\n",
        "ImageFile.LOAD_TRUNCATED_IMAGES = True\n",
        "# -- CHANGE BASED ON HOW MANY EPOCHS YOU WANT TO RUN FOR\n",
        "e = 5\n",
        "\n",
        "model.train()\n",
        "for epoch in range(e):\n",
        "   print(f\"Epoch: {epoch}\")\n",
        "   for batch in tqdm(train_dataloader):\n",
        "        batch = {k:v.to(device) for k,v in batch.items()}\n",
        "        optimizer.zero_grad()\n",
        "        outputs = model(**batch)\n",
        "        loss = outputs.loss\n",
        "        #print(\"Loss:\", loss.item())\n",
        "        loss.backward()\n",
        "        optimizer.step()"
      ]
    },
    {
      "cell_type": "markdown",
      "metadata": {
        "id": "aj5anZ-ZyMEY"
      },
      "source": [
        "## Inference"
      ]
    },
    {
      "cell_type": "code",
      "source": [
        "import json\n",
        "import ast\n",
        "datalen = 0\n",
        "dumpdict = { \"info\": {}, \"task_type\": \"Open-Ended\", \"data_type\": \"blocksworld\", \"license\": {}, \"data_subtype\": prefix, \"questions\": [] }\n",
        "\n",
        "with open(home+prefix+'.jsonl') as f:\n",
        "  data = f.readlines()\n",
        "  print(len(data))\n",
        "  global datalen\n",
        "  datalen = len(data)\n",
        "  for i in data[int(datalen*0.8):datalen]:\n",
        "    test_ijson = json.loads(i)\n",
        "    test_imlist = ast.literal_eval(test_ijson['images'])\n",
        "    #print(imlist)\n",
        "    test_anslist = ast.literal_eval(test_ijson['answer_choices'])\n",
        "    if len(test_anslist)==2:\n",
        "      test_anslist.append(\"Unknown\")\n",
        "      test_anslist.append(\"Unanswerable\")\n",
        "    try:\n",
        "      #print(len(anslist))\n",
        "      assert len(test_anslist) == 4\n",
        "    except:\n",
        "      print(i)\n",
        "    im1 = test_imlist[0].lstrip('./images/').rstrip('.jpg')\n",
        "    im2 = test_imlist[1].lstrip('./images/')\n",
        "    dumpdict['questions'].append( { \"image_id\": imroot+\"/Merged_\"+im1+\"#\"+im2, \"question\": test_ijson['question']+\" \"+test_ijson['passage'], \"question_id\": test_ijson['qid'], \"answer_choices\": test_anslist, \"answer_id\": int(test_ijson['answer']) } )\n",
        "\n",
        "with open('/content/'+prefix+'_test.jsonl','w+') as w:\n",
        "  w.write(json.dumps(dumpdict,indent=4))\n",
        "\n",
        "print(dumpdict)"
      ],
      "metadata": {
        "colab": {
          "base_uri": "https://localhost:8080/"
        },
        "id": "q4smRRHOe-yt",
        "outputId": "a1535a1a-6105-4ee3-e693-0c5dbf313fec"
      },
      "execution_count": 24,
      "outputs": [
        {
          "output_type": "stream",
          "name": "stdout",
          "text": [
            "250\n",
            "{'info': {}, 'task_type': 'Open-Ended', 'data_type': 'blocksworld', 'license': {}, 'data_subtype': 'blocksworld', 'questions': [{'image_id': '/content/drive/MyDrive/2ReadyForFineTuning/VLQAv1/Blocksworld/merged_images/Merged_BW_11_0#BW_11_1.jpg', 'question': 'The Yellow block is moved 3 times if image [0] is to be transformed into configuration in image [1]. Consider 6 blocks of colors [Red, Green, Purple, Orange, Yellow and Blue]. Blocks can be moved as per three conditions below. A block can be moved if there is no other block on it. At each time stamp only one block can be moved. A block can be moved OnTable, OutOfTable or on any other block.', 'question_id': 200, 'answer_choices': ['True', 'False', 'Unknown', 'Unanswerable'], 'answer_id': 1}, {'image_id': '/content/drive/MyDrive/2ReadyForFineTuning/VLQAv1/Blocksworld/merged_images/Merged_BW_12_0#BW_12_1.jpg', 'question': 'The Blue block is moved 2 times if image [0] is to be transformed into configuration in image [1]. Consider 6 blocks of colors [Red, Green, Purple, Orange, Yellow and Blue]. Blocks can be moved as per three conditions below. A block can be moved if there is no other block on it. At each time stamp only one block can be moved. A block can be moved OnTable, OutOfTable or on any other block.', 'question_id': 201, 'answer_choices': ['True', 'False', 'Unknown', 'Unanswerable'], 'answer_id': 1}, {'image_id': '/content/drive/MyDrive/2ReadyForFineTuning/VLQAv1/Blocksworld/merged_images/Merged_BW_13_0#BW_13_1.jpg', 'question': 'The Blue block is moved 1 times if image [0] is to be transformed into configuration in image [1]. Consider 6 blocks of colors [Red, Green, Purple, Orange, Yellow and Blue]. Blocks can be moved as per three conditions below. A block can be moved if there is no other block on it. At each time stamp only one block can be moved. A block can be moved OnTable, OutOfTable or on any other block.', 'question_id': 202, 'answer_choices': ['True', 'False', 'Unknown', 'Unanswerable'], 'answer_id': 0}, {'image_id': '/content/drive/MyDrive/2ReadyForFineTuning/VLQAv1/Blocksworld/merged_images/Merged_BW_14_0#BW_14_1.jpg', 'question': 'The Yellow block is moved 1 times if image [0] is to be transformed into configuration in image [1]. Consider 6 blocks of colors [Red, Green, Purple, Orange, Yellow and Blue]. Blocks can be moved as per three conditions below. A block can be moved if there is no other block on it. At each time stamp only one block can be moved. A block can be moved OnTable, OutOfTable or on any other block.', 'question_id': 203, 'answer_choices': ['True', 'False', 'Unknown', 'Unanswerable'], 'answer_id': 0}, {'image_id': '/content/drive/MyDrive/2ReadyForFineTuning/VLQAv1/Blocksworld/merged_images/Merged_BW_15_0#BW_15_1.jpg', 'question': 'The Yellow block is moved 1 times if image [0] is to be transformed into configuration in image [1]. Consider 6 blocks of colors [Red, Green, Purple, Orange, Yellow and Blue]. Blocks can be moved as per three conditions below. A block can be moved if there is no other block on it. At each time stamp only one block can be moved. A block can be moved OnTable, OutOfTable or on any other block.', 'question_id': 204, 'answer_choices': ['True', 'False', 'Unknown', 'Unanswerable'], 'answer_id': 0}, {'image_id': '/content/drive/MyDrive/2ReadyForFineTuning/VLQAv1/Blocksworld/merged_images/Merged_BW_16_0#BW_16_1.jpg', 'question': 'The Red block is moved 1 times if image [0] is to be transformed into configuration in image [1]. Consider 6 blocks of colors [Red, Green, Purple, Orange, Yellow and Blue]. Blocks can be moved as per three conditions below. A block can be moved if there is no other block on it. At each time stamp only one block can be moved. A block can be moved OnTable, OutOfTable or on any other block.', 'question_id': 205, 'answer_choices': ['True', 'False', 'Unknown', 'Unanswerable'], 'answer_id': 0}, {'image_id': '/content/drive/MyDrive/2ReadyForFineTuning/VLQAv1/Blocksworld/merged_images/Merged_BW_17_0#BW_17_1.jpg', 'question': 'The Purple block is moved 3 times if image [0] is to be transformed into configuration in image [1]. Consider 6 blocks of colors [Red, Green, Purple, Orange, Yellow and Blue]. Blocks can be moved as per three conditions below. A block can be moved if there is no other block on it. At each time stamp only one block can be moved. A block can be moved OnTable, OutOfTable or on any other block.', 'question_id': 206, 'answer_choices': ['True', 'False', 'Unknown', 'Unanswerable'], 'answer_id': 1}, {'image_id': '/content/drive/MyDrive/2ReadyForFineTuning/VLQAv1/Blocksworld/merged_images/Merged_BW_18_0#BW_18_1.jpg', 'question': 'The Yellow block is moved 1 times if image [0] is to be transformed into configuration in image [1]. Consider 6 blocks of colors [Red, Green, Purple, Orange, Yellow and Blue]. Blocks can be moved as per three conditions below. A block can be moved if there is no other block on it. At each time stamp only one block can be moved. A block can be moved OnTable, OutOfTable or on any other block.', 'question_id': 207, 'answer_choices': ['True', 'False', 'Unknown', 'Unanswerable'], 'answer_id': 0}, {'image_id': '/content/drive/MyDrive/2ReadyForFineTuning/VLQAv1/Blocksworld/merged_images/Merged_BW_19_0#BW_19_1.jpg', 'question': 'The Purple block is moved 3 times if image [0] is to be transformed into configuration in image [1]. Consider 6 blocks of colors [Red, Green, Purple, Orange, Yellow and Blue]. Blocks can be moved as per three conditions below. A block can be moved if there is no other block on it. At each time stamp only one block can be moved. A block can be moved OnTable, OutOfTable or on any other block.', 'question_id': 208, 'answer_choices': ['True', 'False', 'Unknown', 'Unanswerable'], 'answer_id': 1}, {'image_id': '/content/drive/MyDrive/2ReadyForFineTuning/VLQAv1/Blocksworld/merged_images/Merged_BW_20_0#BW_20_1.jpg', 'question': 'The Yellow block is moved 1 times if image [0] is to be transformed into configuration in image [1]. Consider 6 blocks of colors [Red, Green, Purple, Orange, Yellow and Blue]. Blocks can be moved as per three conditions below. A block can be moved if there is no other block on it. At each time stamp only one block can be moved. A block can be moved OnTable, OutOfTable or on any other block.', 'question_id': 209, 'answer_choices': ['True', 'False', 'Unknown', 'Unanswerable'], 'answer_id': 0}, {'image_id': '/content/drive/MyDrive/2ReadyForFineTuning/VLQAv1/Blocksworld/merged_images/Merged_BW_21_0#BW_21_1.jpg', 'question': 'The Blue block is moved 1 times if image [0] is to be transformed into configuration in image [1]. Consider 6 blocks of colors [Red, Green, Purple, Orange, Yellow and Blue]. Blocks can be moved as per three conditions below. A block can be moved if there is no other block on it. At each time stamp only one block can be moved. A block can be moved OnTable, OutOfTable or on any other block.', 'question_id': 210, 'answer_choices': ['True', 'False', 'Unknown', 'Unanswerable'], 'answer_id': 0}, {'image_id': '/content/drive/MyDrive/2ReadyForFineTuning/VLQAv1/Blocksworld/merged_images/Merged_BW_22_0#BW_22_1.jpg', 'question': 'The Yellow block is moved 2 times if image [0] is to be transformed into configuration in image [1]. Consider 6 blocks of colors [Red, Green, Purple, Orange, Yellow and Blue]. Blocks can be moved as per three conditions below. A block can be moved if there is no other block on it. At each time stamp only one block can be moved. A block can be moved OnTable, OutOfTable or on any other block.', 'question_id': 211, 'answer_choices': ['True', 'False', 'Unknown', 'Unanswerable'], 'answer_id': 1}, {'image_id': '/content/drive/MyDrive/2ReadyForFineTuning/VLQAv1/Blocksworld/merged_images/Merged_BW_23_0#BW_23_1.jpg', 'question': 'The Yellow block is moved 0 times if image [0] is to be transformed into configuration in image [1]. Consider 6 blocks of colors [Red, Green, Purple, Orange, Yellow and Blue]. Blocks can be moved as per three conditions below. A block can be moved if there is no other block on it. At each time stamp only one block can be moved. A block can be moved OnTable, OutOfTable or on any other block.', 'question_id': 212, 'answer_choices': ['True', 'False', 'Unknown', 'Unanswerable'], 'answer_id': 1}, {'image_id': '/content/drive/MyDrive/2ReadyForFineTuning/VLQAv1/Blocksworld/merged_images/Merged_BW_24_0#BW_24_1.jpg', 'question': 'The Orange block is moved 2 times if image [0] is to be transformed into configuration in image [1]. Consider 6 blocks of colors [Red, Green, Purple, Orange, Yellow and Blue]. Blocks can be moved as per three conditions below. A block can be moved if there is no other block on it. At each time stamp only one block can be moved. A block can be moved OnTable, OutOfTable or on any other block.', 'question_id': 213, 'answer_choices': ['True', 'False', 'Unknown', 'Unanswerable'], 'answer_id': 1}, {'image_id': '/content/drive/MyDrive/2ReadyForFineTuning/VLQAv1/Blocksworld/merged_images/Merged_BW_25_0#BW_25_1.jpg', 'question': 'The Red block is moved 1 times if image [0] is to be transformed into configuration in image [1]. Consider 6 blocks of colors [Red, Green, Purple, Orange, Yellow and Blue]. Blocks can be moved as per three conditions below. A block can be moved if there is no other block on it. At each time stamp only one block can be moved. A block can be moved OnTable, OutOfTable or on any other block.', 'question_id': 214, 'answer_choices': ['True', 'False', 'Unknown', 'Unanswerable'], 'answer_id': 0}, {'image_id': '/content/drive/MyDrive/2ReadyForFineTuning/VLQAv1/Blocksworld/merged_images/Merged_BW_26_0#BW_26_1.jpg', 'question': 'The Orange block is moved 1 times if image [0] is to be transformed into configuration in image [1]. Consider 6 blocks of colors [Red, Green, Purple, Orange, Yellow and Blue]. Blocks can be moved as per three conditions below. A block can be moved if there is no other block on it. At each time stamp only one block can be moved. A block can be moved OnTable, OutOfTable or on any other block.', 'question_id': 215, 'answer_choices': ['True', 'False', 'Unknown', 'Unanswerable'], 'answer_id': 0}, {'image_id': '/content/drive/MyDrive/2ReadyForFineTuning/VLQAv1/Blocksworld/merged_images/Merged_BW_27_0#BW_27_1.jpg', 'question': 'The Green block is moved 1 times if image [0] is to be transformed into configuration in image [1]. Consider 6 blocks of colors [Red, Green, Purple, Orange, Yellow and Blue]. Blocks can be moved as per three conditions below. A block can be moved if there is no other block on it. At each time stamp only one block can be moved. A block can be moved OnTable, OutOfTable or on any other block.', 'question_id': 216, 'answer_choices': ['True', 'False', 'Unknown', 'Unanswerable'], 'answer_id': 0}, {'image_id': '/content/drive/MyDrive/2ReadyForFineTuning/VLQAv1/Blocksworld/merged_images/Merged_BW_28_0#BW_28_1.jpg', 'question': 'The Red block is moved 3 times if image [0] is to be transformed into configuration in image [1]. Consider 6 blocks of colors [Red, Green, Purple, Orange, Yellow and Blue]. Blocks can be moved as per three conditions below. A block can be moved if there is no other block on it. At each time stamp only one block can be moved. A block can be moved OnTable, OutOfTable or on any other block.', 'question_id': 217, 'answer_choices': ['True', 'False', 'Unknown', 'Unanswerable'], 'answer_id': 1}, {'image_id': '/content/drive/MyDrive/2ReadyForFineTuning/VLQAv1/Blocksworld/merged_images/Merged_BW_29_0#BW_29_1.jpg', 'question': 'The Yellow block is moved 2 times if image [0] is to be transformed into configuration in image [1]. Consider 6 blocks of colors [Red, Green, Purple, Orange, Yellow and Blue]. Blocks can be moved as per three conditions below. A block can be moved if there is no other block on it. At each time stamp only one block can be moved. A block can be moved OnTable, OutOfTable or on any other block.', 'question_id': 218, 'answer_choices': ['True', 'False', 'Unknown', 'Unanswerable'], 'answer_id': 1}, {'image_id': '/content/drive/MyDrive/2ReadyForFineTuning/VLQAv1/Blocksworld/merged_images/Merged_BW_30_0#BW_30_1.jpg', 'question': 'The Orange block is moved 1 times if image [0] is to be transformed into configuration in image [1]. Consider 6 blocks of colors [Red, Green, Purple, Orange, Yellow and Blue]. Blocks can be moved as per three conditions below. A block can be moved if there is no other block on it. At each time stamp only one block can be moved. A block can be moved OnTable, OutOfTable or on any other block.', 'question_id': 219, 'answer_choices': ['True', 'False', 'Unknown', 'Unanswerable'], 'answer_id': 0}, {'image_id': '/content/drive/MyDrive/2ReadyForFineTuning/VLQAv1/Blocksworld/merged_images/Merged_BW_31_0#BW_31_1.jpg', 'question': 'The Yellow block is moved 1 times if image [0] is to be transformed into configuration in image [1]. Consider 6 blocks of colors [Red, Green, Purple, Orange, Yellow and Blue]. Blocks can be moved as per three conditions below. A block can be moved if there is no other block on it. At each time stamp only one block can be moved. A block can be moved OnTable, OutOfTable or on any other block.', 'question_id': 220, 'answer_choices': ['True', 'False', 'Unknown', 'Unanswerable'], 'answer_id': 0}, {'image_id': '/content/drive/MyDrive/2ReadyForFineTuning/VLQAv1/Blocksworld/merged_images/Merged_BW_32_0#BW_32_1.jpg', 'question': 'The Green block is moved 1 times if image [0] is to be transformed into configuration in image [1]. Consider 6 blocks of colors [Red, Green, Purple, Orange, Yellow and Blue]. Blocks can be moved as per three conditions below. A block can be moved if there is no other block on it. At each time stamp only one block can be moved. A block can be moved OnTable, OutOfTable or on any other block.', 'question_id': 221, 'answer_choices': ['True', 'False', 'Unknown', 'Unanswerable'], 'answer_id': 0}, {'image_id': '/content/drive/MyDrive/2ReadyForFineTuning/VLQAv1/Blocksworld/merged_images/Merged_BW_33_0#BW_33_1.jpg', 'question': 'The Purple block is moved 1 times if image [0] is to be transformed into configuration in image [1]. Consider 6 blocks of colors [Red, Green, Purple, Orange, Yellow and Blue]. Blocks can be moved as per three conditions below. A block can be moved if there is no other block on it. At each time stamp only one block can be moved. A block can be moved OnTable, OutOfTable or on any other block.', 'question_id': 222, 'answer_choices': ['True', 'False', 'Unknown', 'Unanswerable'], 'answer_id': 0}, {'image_id': '/content/drive/MyDrive/2ReadyForFineTuning/VLQAv1/Blocksworld/merged_images/Merged_BW_34_0#BW_34_1.jpg', 'question': 'The Red block is moved 1 times if image [0] is to be transformed into configuration in image [1]. Consider 6 blocks of colors [Red, Green, Purple, Orange, Yellow and Blue]. Blocks can be moved as per three conditions below. A block can be moved if there is no other block on it. At each time stamp only one block can be moved. A block can be moved OnTable, OutOfTable or on any other block.', 'question_id': 223, 'answer_choices': ['True', 'False', 'Unknown', 'Unanswerable'], 'answer_id': 0}, {'image_id': '/content/drive/MyDrive/2ReadyForFineTuning/VLQAv1/Blocksworld/merged_images/Merged_BW_35_0#BW_35_1.jpg', 'question': 'The Red block is moved 2 times if image [0] is to be transformed into configuration in image [1]. Consider 6 blocks of colors [Red, Green, Purple, Orange, Yellow and Blue]. Blocks can be moved as per three conditions below. A block can be moved if there is no other block on it. At each time stamp only one block can be moved. A block can be moved OnTable, OutOfTable or on any other block.', 'question_id': 224, 'answer_choices': ['True', 'False', 'Unknown', 'Unanswerable'], 'answer_id': 1}, {'image_id': '/content/drive/MyDrive/2ReadyForFineTuning/VLQAv1/Blocksworld/merged_images/Merged_BW_36_0#BW_36_1.jpg', 'question': 'The Purple block is moved 1 times if image [0] is to be transformed into configuration in image [1]. Consider 6 blocks of colors [Red, Green, Purple, Orange, Yellow and Blue]. Blocks can be moved as per three conditions below. A block can be moved if there is no other block on it. At each time stamp only one block can be moved. A block can be moved OnTable, OutOfTable or on any other block.', 'question_id': 225, 'answer_choices': ['True', 'False', 'Unknown', 'Unanswerable'], 'answer_id': 0}, {'image_id': '/content/drive/MyDrive/2ReadyForFineTuning/VLQAv1/Blocksworld/merged_images/Merged_BW_37_0#BW_37_1.jpg', 'question': 'The Blue block is moved 2 times if image [0] is to be transformed into configuration in image [1]. Consider 6 blocks of colors [Red, Green, Purple, Orange, Yellow and Blue]. Blocks can be moved as per three conditions below. A block can be moved if there is no other block on it. At each time stamp only one block can be moved. A block can be moved OnTable, OutOfTable or on any other block.', 'question_id': 226, 'answer_choices': ['True', 'False', 'Unknown', 'Unanswerable'], 'answer_id': 1}, {'image_id': '/content/drive/MyDrive/2ReadyForFineTuning/VLQAv1/Blocksworld/merged_images/Merged_BW_38_0#BW_38_1.jpg', 'question': 'The Blue block is moved 3 times if image [0] is to be transformed into configuration in image [1]. Consider 6 blocks of colors [Red, Green, Purple, Orange, Yellow and Blue]. Blocks can be moved as per three conditions below. A block can be moved if there is no other block on it. At each time stamp only one block can be moved. A block can be moved OnTable, OutOfTable or on any other block.', 'question_id': 227, 'answer_choices': ['True', 'False', 'Unknown', 'Unanswerable'], 'answer_id': 1}, {'image_id': '/content/drive/MyDrive/2ReadyForFineTuning/VLQAv1/Blocksworld/merged_images/Merged_BW_39_0#BW_39_1.jpg', 'question': 'The Orange block is moved 2 times if image [0] is to be transformed into configuration in image [1]. Consider 6 blocks of colors [Red, Green, Purple, Orange, Yellow and Blue]. Blocks can be moved as per three conditions below. A block can be moved if there is no other block on it. At each time stamp only one block can be moved. A block can be moved OnTable, OutOfTable or on any other block.', 'question_id': 228, 'answer_choices': ['True', 'False', 'Unknown', 'Unanswerable'], 'answer_id': 1}, {'image_id': '/content/drive/MyDrive/2ReadyForFineTuning/VLQAv1/Blocksworld/merged_images/Merged_BW_40_0#BW_40_1.jpg', 'question': 'The Purple block is moved 1 times if image [0] is to be transformed into configuration in image [1]. Consider 6 blocks of colors [Red, Green, Purple, Orange, Yellow and Blue]. Blocks can be moved as per three conditions below. A block can be moved if there is no other block on it. At each time stamp only one block can be moved. A block can be moved OnTable, OutOfTable or on any other block.', 'question_id': 229, 'answer_choices': ['True', 'False', 'Unknown', 'Unanswerable'], 'answer_id': 0}, {'image_id': '/content/drive/MyDrive/2ReadyForFineTuning/VLQAv1/Blocksworld/merged_images/Merged_BW_41_0#BW_41_1.jpg', 'question': 'There are 5 moves required if image [0] is to be transformed into configuration in image [1]. Consider 6 blocks of colors [Red, Green, Purple, Orange, Yellow and Blue]. Blocks can be moved as per three conditions below. A block can be moved if there is no other block on it. At each time stamp only one block can be moved. A block can be moved OnTable, OutOfTable or on any other block.', 'question_id': 230, 'answer_choices': ['True', 'False', 'Unknown', 'Unanswerable'], 'answer_id': 0}, {'image_id': '/content/drive/MyDrive/2ReadyForFineTuning/VLQAv1/Blocksworld/merged_images/Merged_BW_42_0#BW_42_1.jpg', 'question': 'There are 5 moves required if image [0] is to be transformed into configuration in image [1]. Consider 6 blocks of colors [Red, Green, Purple, Orange, Yellow and Blue]. Blocks can be moved as per three conditions below. A block can be moved if there is no other block on it. At each time stamp only one block can be moved. A block can be moved OnTable, OutOfTable or on any other block.', 'question_id': 231, 'answer_choices': ['True', 'False', 'Unknown', 'Unanswerable'], 'answer_id': 0}, {'image_id': '/content/drive/MyDrive/2ReadyForFineTuning/VLQAv1/Blocksworld/merged_images/Merged_BW_43_0#BW_43_1.jpg', 'question': 'There are 4 moves required if image [0] is to be transformed into configuration in image [1]. Consider 6 blocks of colors [Red, Green, Purple, Orange, Yellow and Blue]. Blocks can be moved as per three conditions below. A block can be moved if there is no other block on it. At each time stamp only one block can be moved. A block can be moved OnTable, OutOfTable or on any other block.', 'question_id': 232, 'answer_choices': ['True', 'False', 'Unknown', 'Unanswerable'], 'answer_id': 1}, {'image_id': '/content/drive/MyDrive/2ReadyForFineTuning/VLQAv1/Blocksworld/merged_images/Merged_BW_44_0#BW_44_1.jpg', 'question': 'There are 2 moves required if image [0] is to be transformed into configuration in image [1]. Consider 6 blocks of colors [Red, Green, Purple, Orange, Yellow and Blue]. Blocks can be moved as per three conditions below. A block can be moved if there is no other block on it. At each time stamp only one block can be moved. A block can be moved OnTable, OutOfTable or on any other block.', 'question_id': 233, 'answer_choices': ['True', 'False', 'Unknown', 'Unanswerable'], 'answer_id': 1}, {'image_id': '/content/drive/MyDrive/2ReadyForFineTuning/VLQAv1/Blocksworld/merged_images/Merged_BW_45_0#BW_45_1.jpg', 'question': 'There are 5 moves required if image [0] is to be transformed into configuration in image [1]. Consider 6 blocks of colors [Red, Green, Purple, Orange, Yellow and Blue]. Blocks can be moved as per three conditions below. A block can be moved if there is no other block on it. At each time stamp only one block can be moved. A block can be moved OnTable, OutOfTable or on any other block.', 'question_id': 234, 'answer_choices': ['True', 'False', 'Unknown', 'Unanswerable'], 'answer_id': 0}, {'image_id': '/content/drive/MyDrive/2ReadyForFineTuning/VLQAv1/Blocksworld/merged_images/Merged_BW_41_0#BW_41_1.jpg', 'question': 'The Orange block is moved 1 times if image [0] is to be transformed into configuration in image [1]. Consider 6 blocks of colors [Red, Green, Purple, Orange, Yellow and Blue]. Blocks can be moved as per three conditions below. A block can be moved if there is no other block on it. At each time stamp only one block can be moved. A block can be moved OnTable, OutOfTable or on any other block.', 'question_id': 235, 'answer_choices': ['True', 'False', 'Unknown', 'Unanswerable'], 'answer_id': 0}, {'image_id': '/content/drive/MyDrive/2ReadyForFineTuning/VLQAv1/Blocksworld/merged_images/Merged_BW_42_0#BW_42_1.jpg', 'question': 'The Yellow block is moved 1 times if image [0] is to be transformed into configuration in image [1]. Consider 6 blocks of colors [Red, Green, Purple, Orange, Yellow and Blue]. Blocks can be moved as per three conditions below. A block can be moved if there is no other block on it. At each time stamp only one block can be moved. A block can be moved OnTable, OutOfTable or on any other block.', 'question_id': 236, 'answer_choices': ['True', 'False', 'Unknown', 'Unanswerable'], 'answer_id': 0}, {'image_id': '/content/drive/MyDrive/2ReadyForFineTuning/VLQAv1/Blocksworld/merged_images/Merged_BW_43_0#BW_43_1.jpg', 'question': 'The Blue block is moved 0 times if image [0] is to be transformed into configuration in image [1]. Consider 6 blocks of colors [Red, Green, Purple, Orange, Yellow and Blue]. Blocks can be moved as per three conditions below. A block can be moved if there is no other block on it. At each time stamp only one block can be moved. A block can be moved OnTable, OutOfTable or on any other block.', 'question_id': 237, 'answer_choices': ['True', 'False', 'Unknown', 'Unanswerable'], 'answer_id': 1}, {'image_id': '/content/drive/MyDrive/2ReadyForFineTuning/VLQAv1/Blocksworld/merged_images/Merged_BW_44_0#BW_44_1.jpg', 'question': 'The Yellow block is moved 0 times if image [0] is to be transformed into configuration in image [1]. Consider 6 blocks of colors [Red, Green, Purple, Orange, Yellow and Blue]. Blocks can be moved as per three conditions below. A block can be moved if there is no other block on it. At each time stamp only one block can be moved. A block can be moved OnTable, OutOfTable or on any other block.', 'question_id': 238, 'answer_choices': ['True', 'False', 'Unknown', 'Unanswerable'], 'answer_id': 1}, {'image_id': '/content/drive/MyDrive/2ReadyForFineTuning/VLQAv1/Blocksworld/merged_images/Merged_BW_45_0#BW_45_1.jpg', 'question': 'The Orange block is moved 2 times if image [0] is to be transformed into configuration in image [1]. Consider 6 blocks of colors [Red, Green, Purple, Orange, Yellow and Blue]. Blocks can be moved as per three conditions below. A block can be moved if there is no other block on it. At each time stamp only one block can be moved. A block can be moved OnTable, OutOfTable or on any other block.', 'question_id': 239, 'answer_choices': ['True', 'False', 'Unknown', 'Unanswerable'], 'answer_id': 1}, {'image_id': '/content/drive/MyDrive/2ReadyForFineTuning/VLQAv1/Blocksworld/merged_images/Merged_BW_46_0#BW_46_1.jpg', 'question': 'There are 5 moves required if image [0] is to be transformed into configuration in image [1]. Consider 6 blocks of colors [Red, Green, Purple, Orange, Yellow and Blue]. Blocks can be moved as per three conditions below. A block can be moved if there is no other block on it. At each time stamp only one block can be moved. A block can be moved OnTable, OutOfTable or on any other block.', 'question_id': 240, 'answer_choices': ['True', 'False', 'Unknown', 'Unanswerable'], 'answer_id': 0}, {'image_id': '/content/drive/MyDrive/2ReadyForFineTuning/VLQAv1/Blocksworld/merged_images/Merged_BW_47_0#BW_47_1.jpg', 'question': 'There are 1 moves required if image [0] is to be transformed into configuration in image [1]. Consider 6 blocks of colors [Red, Green, Purple, Orange, Yellow and Blue]. Blocks can be moved as per three conditions below. A block can be moved if there is no other block on it. At each time stamp only one block can be moved. A block can be moved OnTable, OutOfTable or on any other block.', 'question_id': 241, 'answer_choices': ['True', 'False', 'Unknown', 'Unanswerable'], 'answer_id': 1}, {'image_id': '/content/drive/MyDrive/2ReadyForFineTuning/VLQAv1/Blocksworld/merged_images/Merged_BW_48_0#BW_48_1.jpg', 'question': 'There are 5 moves required if image [0] is to be transformed into configuration in image [1]. Consider 6 blocks of colors [Red, Green, Purple, Orange, Yellow and Blue]. Blocks can be moved as per three conditions below. A block can be moved if there is no other block on it. At each time stamp only one block can be moved. A block can be moved OnTable, OutOfTable or on any other block.', 'question_id': 242, 'answer_choices': ['True', 'False', 'Unknown', 'Unanswerable'], 'answer_id': 0}, {'image_id': '/content/drive/MyDrive/2ReadyForFineTuning/VLQAv1/Blocksworld/merged_images/Merged_BW_49_0#BW_49_1.jpg', 'question': 'There are 4 moves required if image [0] is to be transformed into configuration in image [1]. Consider 6 blocks of colors [Red, Green, Purple, Orange, Yellow and Blue]. Blocks can be moved as per three conditions below. A block can be moved if there is no other block on it. At each time stamp only one block can be moved. A block can be moved OnTable, OutOfTable or on any other block.', 'question_id': 243, 'answer_choices': ['True', 'False', 'Unknown', 'Unanswerable'], 'answer_id': 1}, {'image_id': '/content/drive/MyDrive/2ReadyForFineTuning/VLQAv1/Blocksworld/merged_images/Merged_BW_50_0#BW_50_1.jpg', 'question': 'There are 4 moves required if image [0] is to be transformed into configuration in image [1]. Consider 6 blocks of colors [Red, Green, Purple, Orange, Yellow and Blue]. Blocks can be moved as per three conditions below. A block can be moved if there is no other block on it. At each time stamp only one block can be moved. A block can be moved OnTable, OutOfTable or on any other block.', 'question_id': 244, 'answer_choices': ['True', 'False', 'Unknown', 'Unanswerable'], 'answer_id': 1}, {'image_id': '/content/drive/MyDrive/2ReadyForFineTuning/VLQAv1/Blocksworld/merged_images/Merged_BW_46_0#BW_46_1.jpg', 'question': 'The Blue block is moved 1 times if image [0] is to be transformed into configuration in image [1]. Consider 6 blocks of colors [Red, Green, Purple, Orange, Yellow and Blue]. Blocks can be moved as per three conditions below. A block can be moved if there is no other block on it. At each time stamp only one block can be moved. A block can be moved OnTable, OutOfTable or on any other block.', 'question_id': 245, 'answer_choices': ['True', 'False', 'Unknown', 'Unanswerable'], 'answer_id': 0}, {'image_id': '/content/drive/MyDrive/2ReadyForFineTuning/VLQAv1/Blocksworld/merged_images/Merged_BW_47_0#BW_47_1.jpg', 'question': 'The Red block is moved 2 times if image [0] is to be transformed into configuration in image [1]. Consider 6 blocks of colors [Red, Green, Purple, Orange, Yellow and Blue]. Blocks can be moved as per three conditions below. A block can be moved if there is no other block on it. At each time stamp only one block can be moved. A block can be moved OnTable, OutOfTable or on any other block.', 'question_id': 246, 'answer_choices': ['True', 'False', 'Unknown', 'Unanswerable'], 'answer_id': 1}, {'image_id': '/content/drive/MyDrive/2ReadyForFineTuning/VLQAv1/Blocksworld/merged_images/Merged_BW_48_0#BW_48_1.jpg', 'question': 'The Yellow block is moved 2 times if image [0] is to be transformed into configuration in image [1]. Consider 6 blocks of colors [Red, Green, Purple, Orange, Yellow and Blue]. Blocks can be moved as per three conditions below. A block can be moved if there is no other block on it. At each time stamp only one block can be moved. A block can be moved OnTable, OutOfTable or on any other block.', 'question_id': 247, 'answer_choices': ['True', 'False', 'Unknown', 'Unanswerable'], 'answer_id': 1}, {'image_id': '/content/drive/MyDrive/2ReadyForFineTuning/VLQAv1/Blocksworld/merged_images/Merged_BW_49_0#BW_49_1.jpg', 'question': 'The Red block is moved 0 times if image [0] is to be transformed into configuration in image [1]. Consider 6 blocks of colors [Red, Green, Purple, Orange, Yellow and Blue]. Blocks can be moved as per three conditions below. A block can be moved if there is no other block on it. At each time stamp only one block can be moved. A block can be moved OnTable, OutOfTable or on any other block.', 'question_id': 248, 'answer_choices': ['True', 'False', 'Unknown', 'Unanswerable'], 'answer_id': 1}, {'image_id': '/content/drive/MyDrive/2ReadyForFineTuning/VLQAv1/Blocksworld/merged_images/Merged_BW_50_0#BW_50_1.jpg', 'question': 'The Blue block is moved 2 times if image [0] is to be transformed into configuration in image [1]. Consider 6 blocks of colors [Red, Green, Purple, Orange, Yellow and Blue]. Blocks can be moved as per three conditions below. A block can be moved if there is no other block on it. At each time stamp only one block can be moved. A block can be moved OnTable, OutOfTable or on any other block.', 'question_id': 249, 'answer_choices': ['True', 'False', 'Unknown', 'Unanswerable'], 'answer_id': 1}]}\n"
          ]
        }
      ]
    },
    {
      "cell_type": "code",
      "source": [
        "import json\n",
        "f = open('/content/'+prefix+'_test.jsonl','r')\n",
        "test_data_questions = json.load(f)\n",
        "test_questions = test_data_questions['questions']\n",
        "\n",
        "print(test_data_questions.keys())\n",
        "print(\"Number of questions:\", len(test_questions))"
      ],
      "metadata": {
        "colab": {
          "base_uri": "https://localhost:8080/"
        },
        "id": "ARZqNrMurK_u",
        "outputId": "099d79e2-dd91-454e-9f2f-02667b2ba383"
      },
      "execution_count": 25,
      "outputs": [
        {
          "output_type": "stream",
          "name": "stdout",
          "text": [
            "dict_keys(['info', 'task_type', 'data_type', 'license', 'data_subtype', 'questions'])\n",
            "Number of questions: 50\n"
          ]
        }
      ]
    },
    {
      "cell_type": "code",
      "source": [
        "test_dataset = VQADataset(questions=test_questions,processor=processor)"
      ],
      "metadata": {
        "id": "rsF0MMk5ryy7"
      },
      "execution_count": 26,
      "outputs": []
    },
    {
      "cell_type": "code",
      "source": [
        "len(test_dataset)"
      ],
      "metadata": {
        "colab": {
          "base_uri": "https://localhost:8080/"
        },
        "id": "uLK_Uqw4sQJl",
        "outputId": "fd516533-a9b8-4926-e157-15fb9480c00c"
      },
      "execution_count": 27,
      "outputs": [
        {
          "output_type": "execute_result",
          "data": {
            "text/plain": [
              "50"
            ]
          },
          "metadata": {},
          "execution_count": 27
        }
      ]
    },
    {
      "cell_type": "markdown",
      "metadata": {
        "id": "4SkLrjIRCJhp"
      },
      "source": [
        "# Single Instance Inference"
      ]
    },
    {
      "cell_type": "code",
      "execution_count": 28,
      "metadata": {
        "id": "qG0UzoCfgpEF",
        "colab": {
          "base_uri": "https://localhost:8080/"
        },
        "outputId": "e4897d50-a66b-405e-af8b-ff54cd3d2f7a"
      },
      "outputs": [
        {
          "output_type": "stream",
          "name": "stdout",
          "text": [
            "dict_keys(['input_ids', 'token_type_ids', 'attention_mask', 'pixel_values', 'pixel_mask', 'labels'])\n"
          ]
        }
      ],
      "source": [
        "exid = 1\n",
        "example = test_dataset[exid]\n",
        "print(example.keys())"
      ]
    },
    {
      "cell_type": "code",
      "execution_count": 29,
      "metadata": {
        "id": "eszu33n7yS4f"
      },
      "outputs": [],
      "source": [
        "# add batch dimension + move to GPU\n",
        "example = {k: v.unsqueeze(0).to(device) for k,v in example.items()}\n",
        "\n",
        "# forward pass\n",
        "outputs = model(**example)"
      ]
    },
    {
      "cell_type": "code",
      "execution_count": 30,
      "metadata": {
        "id": "xZ4_ceydyePt",
        "colab": {
          "base_uri": "https://localhost:8080/"
        },
        "outputId": "86cd4e66-5902-4d0f-d375-dc410bb3a278"
      },
      "outputs": [
        {
          "output_type": "stream",
          "name": "stdout",
          "text": [
            "Predicted answer: 0\n",
            "Ground-truth answer: 1\n"
          ]
        }
      ],
      "source": [
        "logits = outputs.logits\n",
        "predicted_class = logits.argmax(-1).item()\n",
        "print(\"Predicted answer:\", predicted_class)\n",
        "print(\"Ground-truth answer:\", test_dataset[exid]['labels'].argmax(-1).item())"
      ]
    },
    {
      "cell_type": "markdown",
      "metadata": {
        "id": "u9KPb-kxCNC9"
      },
      "source": [
        "# Batch Inference"
      ]
    },
    {
      "cell_type": "code",
      "execution_count": 31,
      "metadata": {
        "id": "KOOVAOc5yvbT"
      },
      "outputs": [],
      "source": [
        "import csv\n",
        "filprefix = prefix+\"_result\"\n",
        "\n",
        "count = 0\n",
        "st = 0\n",
        "end = datalen-int(datalen*0.8)\n",
        "with open(filprefix+'.csv', 'w+') as k:\n",
        "  spamwriter = csv.writer(k)\n",
        "  spamwriter.writerow([\"qid\",\"pred_ans\",\"gt_ans\",\"correctness\"])\n",
        "  for exid in range(st,end):\n",
        "    correctness = 0\n",
        "    example = test_dataset[exid]\n",
        "    example = {k: v.unsqueeze(0).to(device) for k,v in example.items()}\n",
        "    outputs = model(**example)\n",
        "    logits = outputs.logits\n",
        "    predicted_class = logits.argmax(-1).item()\n",
        "    gtclass = test_dataset[exid]['labels'].argmax(-1).item()\n",
        "    if gtclass==predicted_class:\n",
        "      count+=1\n",
        "      correctness = 1\n",
        "    spamwriter.writerow([exid,predicted_class, gtclass,correctness])"
      ]
    }
  ],
  "metadata": {
    "colab": {
      "provenance": [],
      "gpuType": "T4"
    },
    "kernelspec": {
      "display_name": "Python 3",
      "name": "python3"
    },
    "language_info": {
      "name": "python"
    },
    "widgets": {
      "application/vnd.jupyter.widget-state+json": {
        "4415aceebe4b466abe0f9577af9ebfe4": {
          "model_module": "@jupyter-widgets/controls",
          "model_name": "HBoxModel",
          "model_module_version": "1.5.0",
          "state": {
            "_dom_classes": [],
            "_model_module": "@jupyter-widgets/controls",
            "_model_module_version": "1.5.0",
            "_model_name": "HBoxModel",
            "_view_count": null,
            "_view_module": "@jupyter-widgets/controls",
            "_view_module_version": "1.5.0",
            "_view_name": "HBoxView",
            "box_style": "",
            "children": [
              "IPY_MODEL_edd0bdd5064d446ab6e54146036d347b",
              "IPY_MODEL_f67d24781cc84ed4bc73ae41acff9962",
              "IPY_MODEL_0b4a55303a8b44749430194e85c6d6f4"
            ],
            "layout": "IPY_MODEL_10674302b6b34191afe3c90caa086b87"
          }
        },
        "edd0bdd5064d446ab6e54146036d347b": {
          "model_module": "@jupyter-widgets/controls",
          "model_name": "HTMLModel",
          "model_module_version": "1.5.0",
          "state": {
            "_dom_classes": [],
            "_model_module": "@jupyter-widgets/controls",
            "_model_module_version": "1.5.0",
            "_model_name": "HTMLModel",
            "_view_count": null,
            "_view_module": "@jupyter-widgets/controls",
            "_view_module_version": "1.5.0",
            "_view_name": "HTMLView",
            "description": "",
            "description_tooltip": null,
            "layout": "IPY_MODEL_74aca5601de94407912e2bd4ad6f8f5e",
            "placeholder": "​",
            "style": "IPY_MODEL_a4185332d6b14411a7ea5b81ad7727a1",
            "value": "100%"
          }
        },
        "f67d24781cc84ed4bc73ae41acff9962": {
          "model_module": "@jupyter-widgets/controls",
          "model_name": "FloatProgressModel",
          "model_module_version": "1.5.0",
          "state": {
            "_dom_classes": [],
            "_model_module": "@jupyter-widgets/controls",
            "_model_module_version": "1.5.0",
            "_model_name": "FloatProgressModel",
            "_view_count": null,
            "_view_module": "@jupyter-widgets/controls",
            "_view_module_version": "1.5.0",
            "_view_name": "ProgressView",
            "bar_style": "success",
            "description": "",
            "description_tooltip": null,
            "layout": "IPY_MODEL_0ec6cb999653402aa626b18d3856405a",
            "max": 67,
            "min": 0,
            "orientation": "horizontal",
            "style": "IPY_MODEL_cd027bcf20234de9a637477b5a24e97a",
            "value": 67
          }
        },
        "0b4a55303a8b44749430194e85c6d6f4": {
          "model_module": "@jupyter-widgets/controls",
          "model_name": "HTMLModel",
          "model_module_version": "1.5.0",
          "state": {
            "_dom_classes": [],
            "_model_module": "@jupyter-widgets/controls",
            "_model_module_version": "1.5.0",
            "_model_name": "HTMLModel",
            "_view_count": null,
            "_view_module": "@jupyter-widgets/controls",
            "_view_module_version": "1.5.0",
            "_view_name": "HTMLView",
            "description": "",
            "description_tooltip": null,
            "layout": "IPY_MODEL_b20d97500b254315a5fb02f32071c542",
            "placeholder": "​",
            "style": "IPY_MODEL_8c7c552443cc46a39a9e2610177aae75",
            "value": " 67/67 [00:12&lt;00:00,  3.42it/s]"
          }
        },
        "10674302b6b34191afe3c90caa086b87": {
          "model_module": "@jupyter-widgets/base",
          "model_name": "LayoutModel",
          "model_module_version": "1.2.0",
          "state": {
            "_model_module": "@jupyter-widgets/base",
            "_model_module_version": "1.2.0",
            "_model_name": "LayoutModel",
            "_view_count": null,
            "_view_module": "@jupyter-widgets/base",
            "_view_module_version": "1.2.0",
            "_view_name": "LayoutView",
            "align_content": null,
            "align_items": null,
            "align_self": null,
            "border": null,
            "bottom": null,
            "display": null,
            "flex": null,
            "flex_flow": null,
            "grid_area": null,
            "grid_auto_columns": null,
            "grid_auto_flow": null,
            "grid_auto_rows": null,
            "grid_column": null,
            "grid_gap": null,
            "grid_row": null,
            "grid_template_areas": null,
            "grid_template_columns": null,
            "grid_template_rows": null,
            "height": null,
            "justify_content": null,
            "justify_items": null,
            "left": null,
            "margin": null,
            "max_height": null,
            "max_width": null,
            "min_height": null,
            "min_width": null,
            "object_fit": null,
            "object_position": null,
            "order": null,
            "overflow": null,
            "overflow_x": null,
            "overflow_y": null,
            "padding": null,
            "right": null,
            "top": null,
            "visibility": null,
            "width": null
          }
        },
        "74aca5601de94407912e2bd4ad6f8f5e": {
          "model_module": "@jupyter-widgets/base",
          "model_name": "LayoutModel",
          "model_module_version": "1.2.0",
          "state": {
            "_model_module": "@jupyter-widgets/base",
            "_model_module_version": "1.2.0",
            "_model_name": "LayoutModel",
            "_view_count": null,
            "_view_module": "@jupyter-widgets/base",
            "_view_module_version": "1.2.0",
            "_view_name": "LayoutView",
            "align_content": null,
            "align_items": null,
            "align_self": null,
            "border": null,
            "bottom": null,
            "display": null,
            "flex": null,
            "flex_flow": null,
            "grid_area": null,
            "grid_auto_columns": null,
            "grid_auto_flow": null,
            "grid_auto_rows": null,
            "grid_column": null,
            "grid_gap": null,
            "grid_row": null,
            "grid_template_areas": null,
            "grid_template_columns": null,
            "grid_template_rows": null,
            "height": null,
            "justify_content": null,
            "justify_items": null,
            "left": null,
            "margin": null,
            "max_height": null,
            "max_width": null,
            "min_height": null,
            "min_width": null,
            "object_fit": null,
            "object_position": null,
            "order": null,
            "overflow": null,
            "overflow_x": null,
            "overflow_y": null,
            "padding": null,
            "right": null,
            "top": null,
            "visibility": null,
            "width": null
          }
        },
        "a4185332d6b14411a7ea5b81ad7727a1": {
          "model_module": "@jupyter-widgets/controls",
          "model_name": "DescriptionStyleModel",
          "model_module_version": "1.5.0",
          "state": {
            "_model_module": "@jupyter-widgets/controls",
            "_model_module_version": "1.5.0",
            "_model_name": "DescriptionStyleModel",
            "_view_count": null,
            "_view_module": "@jupyter-widgets/base",
            "_view_module_version": "1.2.0",
            "_view_name": "StyleView",
            "description_width": ""
          }
        },
        "0ec6cb999653402aa626b18d3856405a": {
          "model_module": "@jupyter-widgets/base",
          "model_name": "LayoutModel",
          "model_module_version": "1.2.0",
          "state": {
            "_model_module": "@jupyter-widgets/base",
            "_model_module_version": "1.2.0",
            "_model_name": "LayoutModel",
            "_view_count": null,
            "_view_module": "@jupyter-widgets/base",
            "_view_module_version": "1.2.0",
            "_view_name": "LayoutView",
            "align_content": null,
            "align_items": null,
            "align_self": null,
            "border": null,
            "bottom": null,
            "display": null,
            "flex": null,
            "flex_flow": null,
            "grid_area": null,
            "grid_auto_columns": null,
            "grid_auto_flow": null,
            "grid_auto_rows": null,
            "grid_column": null,
            "grid_gap": null,
            "grid_row": null,
            "grid_template_areas": null,
            "grid_template_columns": null,
            "grid_template_rows": null,
            "height": null,
            "justify_content": null,
            "justify_items": null,
            "left": null,
            "margin": null,
            "max_height": null,
            "max_width": null,
            "min_height": null,
            "min_width": null,
            "object_fit": null,
            "object_position": null,
            "order": null,
            "overflow": null,
            "overflow_x": null,
            "overflow_y": null,
            "padding": null,
            "right": null,
            "top": null,
            "visibility": null,
            "width": null
          }
        },
        "cd027bcf20234de9a637477b5a24e97a": {
          "model_module": "@jupyter-widgets/controls",
          "model_name": "ProgressStyleModel",
          "model_module_version": "1.5.0",
          "state": {
            "_model_module": "@jupyter-widgets/controls",
            "_model_module_version": "1.5.0",
            "_model_name": "ProgressStyleModel",
            "_view_count": null,
            "_view_module": "@jupyter-widgets/base",
            "_view_module_version": "1.2.0",
            "_view_name": "StyleView",
            "bar_color": null,
            "description_width": ""
          }
        },
        "b20d97500b254315a5fb02f32071c542": {
          "model_module": "@jupyter-widgets/base",
          "model_name": "LayoutModel",
          "model_module_version": "1.2.0",
          "state": {
            "_model_module": "@jupyter-widgets/base",
            "_model_module_version": "1.2.0",
            "_model_name": "LayoutModel",
            "_view_count": null,
            "_view_module": "@jupyter-widgets/base",
            "_view_module_version": "1.2.0",
            "_view_name": "LayoutView",
            "align_content": null,
            "align_items": null,
            "align_self": null,
            "border": null,
            "bottom": null,
            "display": null,
            "flex": null,
            "flex_flow": null,
            "grid_area": null,
            "grid_auto_columns": null,
            "grid_auto_flow": null,
            "grid_auto_rows": null,
            "grid_column": null,
            "grid_gap": null,
            "grid_row": null,
            "grid_template_areas": null,
            "grid_template_columns": null,
            "grid_template_rows": null,
            "height": null,
            "justify_content": null,
            "justify_items": null,
            "left": null,
            "margin": null,
            "max_height": null,
            "max_width": null,
            "min_height": null,
            "min_width": null,
            "object_fit": null,
            "object_position": null,
            "order": null,
            "overflow": null,
            "overflow_x": null,
            "overflow_y": null,
            "padding": null,
            "right": null,
            "top": null,
            "visibility": null,
            "width": null
          }
        },
        "8c7c552443cc46a39a9e2610177aae75": {
          "model_module": "@jupyter-widgets/controls",
          "model_name": "DescriptionStyleModel",
          "model_module_version": "1.5.0",
          "state": {
            "_model_module": "@jupyter-widgets/controls",
            "_model_module_version": "1.5.0",
            "_model_name": "DescriptionStyleModel",
            "_view_count": null,
            "_view_module": "@jupyter-widgets/base",
            "_view_module_version": "1.2.0",
            "_view_name": "StyleView",
            "description_width": ""
          }
        },
        "eebce7bdbc7547c6b27e4f48843b8524": {
          "model_module": "@jupyter-widgets/controls",
          "model_name": "HBoxModel",
          "model_module_version": "1.5.0",
          "state": {
            "_dom_classes": [],
            "_model_module": "@jupyter-widgets/controls",
            "_model_module_version": "1.5.0",
            "_model_name": "HBoxModel",
            "_view_count": null,
            "_view_module": "@jupyter-widgets/controls",
            "_view_module_version": "1.5.0",
            "_view_name": "HBoxView",
            "box_style": "",
            "children": [
              "IPY_MODEL_1a0b81082bc84bcabfb804f01b138439",
              "IPY_MODEL_12e5ead5707144cc8ab6ab4c40514f81",
              "IPY_MODEL_3b620446a3d14e99b6f276efa560249a"
            ],
            "layout": "IPY_MODEL_1d115e07d0224fb686bd9f697472bd65"
          }
        },
        "1a0b81082bc84bcabfb804f01b138439": {
          "model_module": "@jupyter-widgets/controls",
          "model_name": "HTMLModel",
          "model_module_version": "1.5.0",
          "state": {
            "_dom_classes": [],
            "_model_module": "@jupyter-widgets/controls",
            "_model_module_version": "1.5.0",
            "_model_name": "HTMLModel",
            "_view_count": null,
            "_view_module": "@jupyter-widgets/controls",
            "_view_module_version": "1.5.0",
            "_view_name": "HTMLView",
            "description": "",
            "description_tooltip": null,
            "layout": "IPY_MODEL_7ccb44f0bd204b94bce3c44f561d77bd",
            "placeholder": "​",
            "style": "IPY_MODEL_033828edff6f4ef798c9f790e139d545",
            "value": "100%"
          }
        },
        "12e5ead5707144cc8ab6ab4c40514f81": {
          "model_module": "@jupyter-widgets/controls",
          "model_name": "FloatProgressModel",
          "model_module_version": "1.5.0",
          "state": {
            "_dom_classes": [],
            "_model_module": "@jupyter-widgets/controls",
            "_model_module_version": "1.5.0",
            "_model_name": "FloatProgressModel",
            "_view_count": null,
            "_view_module": "@jupyter-widgets/controls",
            "_view_module_version": "1.5.0",
            "_view_name": "ProgressView",
            "bar_style": "success",
            "description": "",
            "description_tooltip": null,
            "layout": "IPY_MODEL_2e0e0ddc91c440ecb03cb67fa92782d2",
            "max": 67,
            "min": 0,
            "orientation": "horizontal",
            "style": "IPY_MODEL_886ee2ee491f4b22a3f15398b8a2bebe",
            "value": 67
          }
        },
        "3b620446a3d14e99b6f276efa560249a": {
          "model_module": "@jupyter-widgets/controls",
          "model_name": "HTMLModel",
          "model_module_version": "1.5.0",
          "state": {
            "_dom_classes": [],
            "_model_module": "@jupyter-widgets/controls",
            "_model_module_version": "1.5.0",
            "_model_name": "HTMLModel",
            "_view_count": null,
            "_view_module": "@jupyter-widgets/controls",
            "_view_module_version": "1.5.0",
            "_view_name": "HTMLView",
            "description": "",
            "description_tooltip": null,
            "layout": "IPY_MODEL_cabaa78b04f5490aadc9f3203571654d",
            "placeholder": "​",
            "style": "IPY_MODEL_5eeedc24a99541caa29d27d205a68166",
            "value": " 67/67 [00:11&lt;00:00,  6.62it/s]"
          }
        },
        "1d115e07d0224fb686bd9f697472bd65": {
          "model_module": "@jupyter-widgets/base",
          "model_name": "LayoutModel",
          "model_module_version": "1.2.0",
          "state": {
            "_model_module": "@jupyter-widgets/base",
            "_model_module_version": "1.2.0",
            "_model_name": "LayoutModel",
            "_view_count": null,
            "_view_module": "@jupyter-widgets/base",
            "_view_module_version": "1.2.0",
            "_view_name": "LayoutView",
            "align_content": null,
            "align_items": null,
            "align_self": null,
            "border": null,
            "bottom": null,
            "display": null,
            "flex": null,
            "flex_flow": null,
            "grid_area": null,
            "grid_auto_columns": null,
            "grid_auto_flow": null,
            "grid_auto_rows": null,
            "grid_column": null,
            "grid_gap": null,
            "grid_row": null,
            "grid_template_areas": null,
            "grid_template_columns": null,
            "grid_template_rows": null,
            "height": null,
            "justify_content": null,
            "justify_items": null,
            "left": null,
            "margin": null,
            "max_height": null,
            "max_width": null,
            "min_height": null,
            "min_width": null,
            "object_fit": null,
            "object_position": null,
            "order": null,
            "overflow": null,
            "overflow_x": null,
            "overflow_y": null,
            "padding": null,
            "right": null,
            "top": null,
            "visibility": null,
            "width": null
          }
        },
        "7ccb44f0bd204b94bce3c44f561d77bd": {
          "model_module": "@jupyter-widgets/base",
          "model_name": "LayoutModel",
          "model_module_version": "1.2.0",
          "state": {
            "_model_module": "@jupyter-widgets/base",
            "_model_module_version": "1.2.0",
            "_model_name": "LayoutModel",
            "_view_count": null,
            "_view_module": "@jupyter-widgets/base",
            "_view_module_version": "1.2.0",
            "_view_name": "LayoutView",
            "align_content": null,
            "align_items": null,
            "align_self": null,
            "border": null,
            "bottom": null,
            "display": null,
            "flex": null,
            "flex_flow": null,
            "grid_area": null,
            "grid_auto_columns": null,
            "grid_auto_flow": null,
            "grid_auto_rows": null,
            "grid_column": null,
            "grid_gap": null,
            "grid_row": null,
            "grid_template_areas": null,
            "grid_template_columns": null,
            "grid_template_rows": null,
            "height": null,
            "justify_content": null,
            "justify_items": null,
            "left": null,
            "margin": null,
            "max_height": null,
            "max_width": null,
            "min_height": null,
            "min_width": null,
            "object_fit": null,
            "object_position": null,
            "order": null,
            "overflow": null,
            "overflow_x": null,
            "overflow_y": null,
            "padding": null,
            "right": null,
            "top": null,
            "visibility": null,
            "width": null
          }
        },
        "033828edff6f4ef798c9f790e139d545": {
          "model_module": "@jupyter-widgets/controls",
          "model_name": "DescriptionStyleModel",
          "model_module_version": "1.5.0",
          "state": {
            "_model_module": "@jupyter-widgets/controls",
            "_model_module_version": "1.5.0",
            "_model_name": "DescriptionStyleModel",
            "_view_count": null,
            "_view_module": "@jupyter-widgets/base",
            "_view_module_version": "1.2.0",
            "_view_name": "StyleView",
            "description_width": ""
          }
        },
        "2e0e0ddc91c440ecb03cb67fa92782d2": {
          "model_module": "@jupyter-widgets/base",
          "model_name": "LayoutModel",
          "model_module_version": "1.2.0",
          "state": {
            "_model_module": "@jupyter-widgets/base",
            "_model_module_version": "1.2.0",
            "_model_name": "LayoutModel",
            "_view_count": null,
            "_view_module": "@jupyter-widgets/base",
            "_view_module_version": "1.2.0",
            "_view_name": "LayoutView",
            "align_content": null,
            "align_items": null,
            "align_self": null,
            "border": null,
            "bottom": null,
            "display": null,
            "flex": null,
            "flex_flow": null,
            "grid_area": null,
            "grid_auto_columns": null,
            "grid_auto_flow": null,
            "grid_auto_rows": null,
            "grid_column": null,
            "grid_gap": null,
            "grid_row": null,
            "grid_template_areas": null,
            "grid_template_columns": null,
            "grid_template_rows": null,
            "height": null,
            "justify_content": null,
            "justify_items": null,
            "left": null,
            "margin": null,
            "max_height": null,
            "max_width": null,
            "min_height": null,
            "min_width": null,
            "object_fit": null,
            "object_position": null,
            "order": null,
            "overflow": null,
            "overflow_x": null,
            "overflow_y": null,
            "padding": null,
            "right": null,
            "top": null,
            "visibility": null,
            "width": null
          }
        },
        "886ee2ee491f4b22a3f15398b8a2bebe": {
          "model_module": "@jupyter-widgets/controls",
          "model_name": "ProgressStyleModel",
          "model_module_version": "1.5.0",
          "state": {
            "_model_module": "@jupyter-widgets/controls",
            "_model_module_version": "1.5.0",
            "_model_name": "ProgressStyleModel",
            "_view_count": null,
            "_view_module": "@jupyter-widgets/base",
            "_view_module_version": "1.2.0",
            "_view_name": "StyleView",
            "bar_color": null,
            "description_width": ""
          }
        },
        "cabaa78b04f5490aadc9f3203571654d": {
          "model_module": "@jupyter-widgets/base",
          "model_name": "LayoutModel",
          "model_module_version": "1.2.0",
          "state": {
            "_model_module": "@jupyter-widgets/base",
            "_model_module_version": "1.2.0",
            "_model_name": "LayoutModel",
            "_view_count": null,
            "_view_module": "@jupyter-widgets/base",
            "_view_module_version": "1.2.0",
            "_view_name": "LayoutView",
            "align_content": null,
            "align_items": null,
            "align_self": null,
            "border": null,
            "bottom": null,
            "display": null,
            "flex": null,
            "flex_flow": null,
            "grid_area": null,
            "grid_auto_columns": null,
            "grid_auto_flow": null,
            "grid_auto_rows": null,
            "grid_column": null,
            "grid_gap": null,
            "grid_row": null,
            "grid_template_areas": null,
            "grid_template_columns": null,
            "grid_template_rows": null,
            "height": null,
            "justify_content": null,
            "justify_items": null,
            "left": null,
            "margin": null,
            "max_height": null,
            "max_width": null,
            "min_height": null,
            "min_width": null,
            "object_fit": null,
            "object_position": null,
            "order": null,
            "overflow": null,
            "overflow_x": null,
            "overflow_y": null,
            "padding": null,
            "right": null,
            "top": null,
            "visibility": null,
            "width": null
          }
        },
        "5eeedc24a99541caa29d27d205a68166": {
          "model_module": "@jupyter-widgets/controls",
          "model_name": "DescriptionStyleModel",
          "model_module_version": "1.5.0",
          "state": {
            "_model_module": "@jupyter-widgets/controls",
            "_model_module_version": "1.5.0",
            "_model_name": "DescriptionStyleModel",
            "_view_count": null,
            "_view_module": "@jupyter-widgets/base",
            "_view_module_version": "1.2.0",
            "_view_name": "StyleView",
            "description_width": ""
          }
        },
        "b5c9ab4c5ee34e3ebc596950dbea04ce": {
          "model_module": "@jupyter-widgets/controls",
          "model_name": "HBoxModel",
          "model_module_version": "1.5.0",
          "state": {
            "_dom_classes": [],
            "_model_module": "@jupyter-widgets/controls",
            "_model_module_version": "1.5.0",
            "_model_name": "HBoxModel",
            "_view_count": null,
            "_view_module": "@jupyter-widgets/controls",
            "_view_module_version": "1.5.0",
            "_view_name": "HBoxView",
            "box_style": "",
            "children": [
              "IPY_MODEL_f238ce84e8fd47649f1fd2e4d93a4d28",
              "IPY_MODEL_229aec8d344646bdba3faa43e13c2fe7",
              "IPY_MODEL_7531603d0a484cb08022cb028168e36d"
            ],
            "layout": "IPY_MODEL_b6195e2b012b474dbf4007024f5b7504"
          }
        },
        "f238ce84e8fd47649f1fd2e4d93a4d28": {
          "model_module": "@jupyter-widgets/controls",
          "model_name": "HTMLModel",
          "model_module_version": "1.5.0",
          "state": {
            "_dom_classes": [],
            "_model_module": "@jupyter-widgets/controls",
            "_model_module_version": "1.5.0",
            "_model_name": "HTMLModel",
            "_view_count": null,
            "_view_module": "@jupyter-widgets/controls",
            "_view_module_version": "1.5.0",
            "_view_name": "HTMLView",
            "description": "",
            "description_tooltip": null,
            "layout": "IPY_MODEL_009b8192735343d4b7afd3bd70e5cf61",
            "placeholder": "​",
            "style": "IPY_MODEL_39d99c8df9e64784a87e0fad13cb1c57",
            "value": "100%"
          }
        },
        "229aec8d344646bdba3faa43e13c2fe7": {
          "model_module": "@jupyter-widgets/controls",
          "model_name": "FloatProgressModel",
          "model_module_version": "1.5.0",
          "state": {
            "_dom_classes": [],
            "_model_module": "@jupyter-widgets/controls",
            "_model_module_version": "1.5.0",
            "_model_name": "FloatProgressModel",
            "_view_count": null,
            "_view_module": "@jupyter-widgets/controls",
            "_view_module_version": "1.5.0",
            "_view_name": "ProgressView",
            "bar_style": "success",
            "description": "",
            "description_tooltip": null,
            "layout": "IPY_MODEL_6fb95e62259f47b29f832071a25dfe0f",
            "max": 67,
            "min": 0,
            "orientation": "horizontal",
            "style": "IPY_MODEL_fd27b6154d2a4fb3989eea3a7c3f33ad",
            "value": 67
          }
        },
        "7531603d0a484cb08022cb028168e36d": {
          "model_module": "@jupyter-widgets/controls",
          "model_name": "HTMLModel",
          "model_module_version": "1.5.0",
          "state": {
            "_dom_classes": [],
            "_model_module": "@jupyter-widgets/controls",
            "_model_module_version": "1.5.0",
            "_model_name": "HTMLModel",
            "_view_count": null,
            "_view_module": "@jupyter-widgets/controls",
            "_view_module_version": "1.5.0",
            "_view_name": "HTMLView",
            "description": "",
            "description_tooltip": null,
            "layout": "IPY_MODEL_05a6d3d208ee4eb395f6bf5fe7a16fd4",
            "placeholder": "​",
            "style": "IPY_MODEL_0e67a9a5b1c24061b298b9cc1a1ee9d0",
            "value": " 67/67 [00:12&lt;00:00,  6.55it/s]"
          }
        },
        "b6195e2b012b474dbf4007024f5b7504": {
          "model_module": "@jupyter-widgets/base",
          "model_name": "LayoutModel",
          "model_module_version": "1.2.0",
          "state": {
            "_model_module": "@jupyter-widgets/base",
            "_model_module_version": "1.2.0",
            "_model_name": "LayoutModel",
            "_view_count": null,
            "_view_module": "@jupyter-widgets/base",
            "_view_module_version": "1.2.0",
            "_view_name": "LayoutView",
            "align_content": null,
            "align_items": null,
            "align_self": null,
            "border": null,
            "bottom": null,
            "display": null,
            "flex": null,
            "flex_flow": null,
            "grid_area": null,
            "grid_auto_columns": null,
            "grid_auto_flow": null,
            "grid_auto_rows": null,
            "grid_column": null,
            "grid_gap": null,
            "grid_row": null,
            "grid_template_areas": null,
            "grid_template_columns": null,
            "grid_template_rows": null,
            "height": null,
            "justify_content": null,
            "justify_items": null,
            "left": null,
            "margin": null,
            "max_height": null,
            "max_width": null,
            "min_height": null,
            "min_width": null,
            "object_fit": null,
            "object_position": null,
            "order": null,
            "overflow": null,
            "overflow_x": null,
            "overflow_y": null,
            "padding": null,
            "right": null,
            "top": null,
            "visibility": null,
            "width": null
          }
        },
        "009b8192735343d4b7afd3bd70e5cf61": {
          "model_module": "@jupyter-widgets/base",
          "model_name": "LayoutModel",
          "model_module_version": "1.2.0",
          "state": {
            "_model_module": "@jupyter-widgets/base",
            "_model_module_version": "1.2.0",
            "_model_name": "LayoutModel",
            "_view_count": null,
            "_view_module": "@jupyter-widgets/base",
            "_view_module_version": "1.2.0",
            "_view_name": "LayoutView",
            "align_content": null,
            "align_items": null,
            "align_self": null,
            "border": null,
            "bottom": null,
            "display": null,
            "flex": null,
            "flex_flow": null,
            "grid_area": null,
            "grid_auto_columns": null,
            "grid_auto_flow": null,
            "grid_auto_rows": null,
            "grid_column": null,
            "grid_gap": null,
            "grid_row": null,
            "grid_template_areas": null,
            "grid_template_columns": null,
            "grid_template_rows": null,
            "height": null,
            "justify_content": null,
            "justify_items": null,
            "left": null,
            "margin": null,
            "max_height": null,
            "max_width": null,
            "min_height": null,
            "min_width": null,
            "object_fit": null,
            "object_position": null,
            "order": null,
            "overflow": null,
            "overflow_x": null,
            "overflow_y": null,
            "padding": null,
            "right": null,
            "top": null,
            "visibility": null,
            "width": null
          }
        },
        "39d99c8df9e64784a87e0fad13cb1c57": {
          "model_module": "@jupyter-widgets/controls",
          "model_name": "DescriptionStyleModel",
          "model_module_version": "1.5.0",
          "state": {
            "_model_module": "@jupyter-widgets/controls",
            "_model_module_version": "1.5.0",
            "_model_name": "DescriptionStyleModel",
            "_view_count": null,
            "_view_module": "@jupyter-widgets/base",
            "_view_module_version": "1.2.0",
            "_view_name": "StyleView",
            "description_width": ""
          }
        },
        "6fb95e62259f47b29f832071a25dfe0f": {
          "model_module": "@jupyter-widgets/base",
          "model_name": "LayoutModel",
          "model_module_version": "1.2.0",
          "state": {
            "_model_module": "@jupyter-widgets/base",
            "_model_module_version": "1.2.0",
            "_model_name": "LayoutModel",
            "_view_count": null,
            "_view_module": "@jupyter-widgets/base",
            "_view_module_version": "1.2.0",
            "_view_name": "LayoutView",
            "align_content": null,
            "align_items": null,
            "align_self": null,
            "border": null,
            "bottom": null,
            "display": null,
            "flex": null,
            "flex_flow": null,
            "grid_area": null,
            "grid_auto_columns": null,
            "grid_auto_flow": null,
            "grid_auto_rows": null,
            "grid_column": null,
            "grid_gap": null,
            "grid_row": null,
            "grid_template_areas": null,
            "grid_template_columns": null,
            "grid_template_rows": null,
            "height": null,
            "justify_content": null,
            "justify_items": null,
            "left": null,
            "margin": null,
            "max_height": null,
            "max_width": null,
            "min_height": null,
            "min_width": null,
            "object_fit": null,
            "object_position": null,
            "order": null,
            "overflow": null,
            "overflow_x": null,
            "overflow_y": null,
            "padding": null,
            "right": null,
            "top": null,
            "visibility": null,
            "width": null
          }
        },
        "fd27b6154d2a4fb3989eea3a7c3f33ad": {
          "model_module": "@jupyter-widgets/controls",
          "model_name": "ProgressStyleModel",
          "model_module_version": "1.5.0",
          "state": {
            "_model_module": "@jupyter-widgets/controls",
            "_model_module_version": "1.5.0",
            "_model_name": "ProgressStyleModel",
            "_view_count": null,
            "_view_module": "@jupyter-widgets/base",
            "_view_module_version": "1.2.0",
            "_view_name": "StyleView",
            "bar_color": null,
            "description_width": ""
          }
        },
        "05a6d3d208ee4eb395f6bf5fe7a16fd4": {
          "model_module": "@jupyter-widgets/base",
          "model_name": "LayoutModel",
          "model_module_version": "1.2.0",
          "state": {
            "_model_module": "@jupyter-widgets/base",
            "_model_module_version": "1.2.0",
            "_model_name": "LayoutModel",
            "_view_count": null,
            "_view_module": "@jupyter-widgets/base",
            "_view_module_version": "1.2.0",
            "_view_name": "LayoutView",
            "align_content": null,
            "align_items": null,
            "align_self": null,
            "border": null,
            "bottom": null,
            "display": null,
            "flex": null,
            "flex_flow": null,
            "grid_area": null,
            "grid_auto_columns": null,
            "grid_auto_flow": null,
            "grid_auto_rows": null,
            "grid_column": null,
            "grid_gap": null,
            "grid_row": null,
            "grid_template_areas": null,
            "grid_template_columns": null,
            "grid_template_rows": null,
            "height": null,
            "justify_content": null,
            "justify_items": null,
            "left": null,
            "margin": null,
            "max_height": null,
            "max_width": null,
            "min_height": null,
            "min_width": null,
            "object_fit": null,
            "object_position": null,
            "order": null,
            "overflow": null,
            "overflow_x": null,
            "overflow_y": null,
            "padding": null,
            "right": null,
            "top": null,
            "visibility": null,
            "width": null
          }
        },
        "0e67a9a5b1c24061b298b9cc1a1ee9d0": {
          "model_module": "@jupyter-widgets/controls",
          "model_name": "DescriptionStyleModel",
          "model_module_version": "1.5.0",
          "state": {
            "_model_module": "@jupyter-widgets/controls",
            "_model_module_version": "1.5.0",
            "_model_name": "DescriptionStyleModel",
            "_view_count": null,
            "_view_module": "@jupyter-widgets/base",
            "_view_module_version": "1.2.0",
            "_view_name": "StyleView",
            "description_width": ""
          }
        },
        "00698e8699a44cd2902cb4f2c7c51a37": {
          "model_module": "@jupyter-widgets/controls",
          "model_name": "HBoxModel",
          "model_module_version": "1.5.0",
          "state": {
            "_dom_classes": [],
            "_model_module": "@jupyter-widgets/controls",
            "_model_module_version": "1.5.0",
            "_model_name": "HBoxModel",
            "_view_count": null,
            "_view_module": "@jupyter-widgets/controls",
            "_view_module_version": "1.5.0",
            "_view_name": "HBoxView",
            "box_style": "",
            "children": [
              "IPY_MODEL_aa6f4f755f434dd585b49df68e704037",
              "IPY_MODEL_e476f1a0f7304eac8c52cdbbb81d2e89",
              "IPY_MODEL_31f46252772048c4b4d8c8c8a8e3e63e"
            ],
            "layout": "IPY_MODEL_4dab3a9c50b143a2a5176548bbf006d4"
          }
        },
        "aa6f4f755f434dd585b49df68e704037": {
          "model_module": "@jupyter-widgets/controls",
          "model_name": "HTMLModel",
          "model_module_version": "1.5.0",
          "state": {
            "_dom_classes": [],
            "_model_module": "@jupyter-widgets/controls",
            "_model_module_version": "1.5.0",
            "_model_name": "HTMLModel",
            "_view_count": null,
            "_view_module": "@jupyter-widgets/controls",
            "_view_module_version": "1.5.0",
            "_view_name": "HTMLView",
            "description": "",
            "description_tooltip": null,
            "layout": "IPY_MODEL_e55665eacf8d4fe082be6676fe0a1f01",
            "placeholder": "​",
            "style": "IPY_MODEL_c9c41547d9fe4247bd85fc01d0686837",
            "value": "100%"
          }
        },
        "e476f1a0f7304eac8c52cdbbb81d2e89": {
          "model_module": "@jupyter-widgets/controls",
          "model_name": "FloatProgressModel",
          "model_module_version": "1.5.0",
          "state": {
            "_dom_classes": [],
            "_model_module": "@jupyter-widgets/controls",
            "_model_module_version": "1.5.0",
            "_model_name": "FloatProgressModel",
            "_view_count": null,
            "_view_module": "@jupyter-widgets/controls",
            "_view_module_version": "1.5.0",
            "_view_name": "ProgressView",
            "bar_style": "success",
            "description": "",
            "description_tooltip": null,
            "layout": "IPY_MODEL_0f403575ddbc476ea7d63308dfa39ba4",
            "max": 67,
            "min": 0,
            "orientation": "horizontal",
            "style": "IPY_MODEL_77eec1d484e64025aaa92732c4741835",
            "value": 67
          }
        },
        "31f46252772048c4b4d8c8c8a8e3e63e": {
          "model_module": "@jupyter-widgets/controls",
          "model_name": "HTMLModel",
          "model_module_version": "1.5.0",
          "state": {
            "_dom_classes": [],
            "_model_module": "@jupyter-widgets/controls",
            "_model_module_version": "1.5.0",
            "_model_name": "HTMLModel",
            "_view_count": null,
            "_view_module": "@jupyter-widgets/controls",
            "_view_module_version": "1.5.0",
            "_view_name": "HTMLView",
            "description": "",
            "description_tooltip": null,
            "layout": "IPY_MODEL_ceb13f201db341f8bd2d117fd8c095d5",
            "placeholder": "​",
            "style": "IPY_MODEL_2b66485cad9a40e0b5c651f287df3bdf",
            "value": " 67/67 [00:10&lt;00:00,  6.40it/s]"
          }
        },
        "4dab3a9c50b143a2a5176548bbf006d4": {
          "model_module": "@jupyter-widgets/base",
          "model_name": "LayoutModel",
          "model_module_version": "1.2.0",
          "state": {
            "_model_module": "@jupyter-widgets/base",
            "_model_module_version": "1.2.0",
            "_model_name": "LayoutModel",
            "_view_count": null,
            "_view_module": "@jupyter-widgets/base",
            "_view_module_version": "1.2.0",
            "_view_name": "LayoutView",
            "align_content": null,
            "align_items": null,
            "align_self": null,
            "border": null,
            "bottom": null,
            "display": null,
            "flex": null,
            "flex_flow": null,
            "grid_area": null,
            "grid_auto_columns": null,
            "grid_auto_flow": null,
            "grid_auto_rows": null,
            "grid_column": null,
            "grid_gap": null,
            "grid_row": null,
            "grid_template_areas": null,
            "grid_template_columns": null,
            "grid_template_rows": null,
            "height": null,
            "justify_content": null,
            "justify_items": null,
            "left": null,
            "margin": null,
            "max_height": null,
            "max_width": null,
            "min_height": null,
            "min_width": null,
            "object_fit": null,
            "object_position": null,
            "order": null,
            "overflow": null,
            "overflow_x": null,
            "overflow_y": null,
            "padding": null,
            "right": null,
            "top": null,
            "visibility": null,
            "width": null
          }
        },
        "e55665eacf8d4fe082be6676fe0a1f01": {
          "model_module": "@jupyter-widgets/base",
          "model_name": "LayoutModel",
          "model_module_version": "1.2.0",
          "state": {
            "_model_module": "@jupyter-widgets/base",
            "_model_module_version": "1.2.0",
            "_model_name": "LayoutModel",
            "_view_count": null,
            "_view_module": "@jupyter-widgets/base",
            "_view_module_version": "1.2.0",
            "_view_name": "LayoutView",
            "align_content": null,
            "align_items": null,
            "align_self": null,
            "border": null,
            "bottom": null,
            "display": null,
            "flex": null,
            "flex_flow": null,
            "grid_area": null,
            "grid_auto_columns": null,
            "grid_auto_flow": null,
            "grid_auto_rows": null,
            "grid_column": null,
            "grid_gap": null,
            "grid_row": null,
            "grid_template_areas": null,
            "grid_template_columns": null,
            "grid_template_rows": null,
            "height": null,
            "justify_content": null,
            "justify_items": null,
            "left": null,
            "margin": null,
            "max_height": null,
            "max_width": null,
            "min_height": null,
            "min_width": null,
            "object_fit": null,
            "object_position": null,
            "order": null,
            "overflow": null,
            "overflow_x": null,
            "overflow_y": null,
            "padding": null,
            "right": null,
            "top": null,
            "visibility": null,
            "width": null
          }
        },
        "c9c41547d9fe4247bd85fc01d0686837": {
          "model_module": "@jupyter-widgets/controls",
          "model_name": "DescriptionStyleModel",
          "model_module_version": "1.5.0",
          "state": {
            "_model_module": "@jupyter-widgets/controls",
            "_model_module_version": "1.5.0",
            "_model_name": "DescriptionStyleModel",
            "_view_count": null,
            "_view_module": "@jupyter-widgets/base",
            "_view_module_version": "1.2.0",
            "_view_name": "StyleView",
            "description_width": ""
          }
        },
        "0f403575ddbc476ea7d63308dfa39ba4": {
          "model_module": "@jupyter-widgets/base",
          "model_name": "LayoutModel",
          "model_module_version": "1.2.0",
          "state": {
            "_model_module": "@jupyter-widgets/base",
            "_model_module_version": "1.2.0",
            "_model_name": "LayoutModel",
            "_view_count": null,
            "_view_module": "@jupyter-widgets/base",
            "_view_module_version": "1.2.0",
            "_view_name": "LayoutView",
            "align_content": null,
            "align_items": null,
            "align_self": null,
            "border": null,
            "bottom": null,
            "display": null,
            "flex": null,
            "flex_flow": null,
            "grid_area": null,
            "grid_auto_columns": null,
            "grid_auto_flow": null,
            "grid_auto_rows": null,
            "grid_column": null,
            "grid_gap": null,
            "grid_row": null,
            "grid_template_areas": null,
            "grid_template_columns": null,
            "grid_template_rows": null,
            "height": null,
            "justify_content": null,
            "justify_items": null,
            "left": null,
            "margin": null,
            "max_height": null,
            "max_width": null,
            "min_height": null,
            "min_width": null,
            "object_fit": null,
            "object_position": null,
            "order": null,
            "overflow": null,
            "overflow_x": null,
            "overflow_y": null,
            "padding": null,
            "right": null,
            "top": null,
            "visibility": null,
            "width": null
          }
        },
        "77eec1d484e64025aaa92732c4741835": {
          "model_module": "@jupyter-widgets/controls",
          "model_name": "ProgressStyleModel",
          "model_module_version": "1.5.0",
          "state": {
            "_model_module": "@jupyter-widgets/controls",
            "_model_module_version": "1.5.0",
            "_model_name": "ProgressStyleModel",
            "_view_count": null,
            "_view_module": "@jupyter-widgets/base",
            "_view_module_version": "1.2.0",
            "_view_name": "StyleView",
            "bar_color": null,
            "description_width": ""
          }
        },
        "ceb13f201db341f8bd2d117fd8c095d5": {
          "model_module": "@jupyter-widgets/base",
          "model_name": "LayoutModel",
          "model_module_version": "1.2.0",
          "state": {
            "_model_module": "@jupyter-widgets/base",
            "_model_module_version": "1.2.0",
            "_model_name": "LayoutModel",
            "_view_count": null,
            "_view_module": "@jupyter-widgets/base",
            "_view_module_version": "1.2.0",
            "_view_name": "LayoutView",
            "align_content": null,
            "align_items": null,
            "align_self": null,
            "border": null,
            "bottom": null,
            "display": null,
            "flex": null,
            "flex_flow": null,
            "grid_area": null,
            "grid_auto_columns": null,
            "grid_auto_flow": null,
            "grid_auto_rows": null,
            "grid_column": null,
            "grid_gap": null,
            "grid_row": null,
            "grid_template_areas": null,
            "grid_template_columns": null,
            "grid_template_rows": null,
            "height": null,
            "justify_content": null,
            "justify_items": null,
            "left": null,
            "margin": null,
            "max_height": null,
            "max_width": null,
            "min_height": null,
            "min_width": null,
            "object_fit": null,
            "object_position": null,
            "order": null,
            "overflow": null,
            "overflow_x": null,
            "overflow_y": null,
            "padding": null,
            "right": null,
            "top": null,
            "visibility": null,
            "width": null
          }
        },
        "2b66485cad9a40e0b5c651f287df3bdf": {
          "model_module": "@jupyter-widgets/controls",
          "model_name": "DescriptionStyleModel",
          "model_module_version": "1.5.0",
          "state": {
            "_model_module": "@jupyter-widgets/controls",
            "_model_module_version": "1.5.0",
            "_model_name": "DescriptionStyleModel",
            "_view_count": null,
            "_view_module": "@jupyter-widgets/base",
            "_view_module_version": "1.2.0",
            "_view_name": "StyleView",
            "description_width": ""
          }
        },
        "6407098c04bd4ca2b49918f65bc402b1": {
          "model_module": "@jupyter-widgets/controls",
          "model_name": "HBoxModel",
          "model_module_version": "1.5.0",
          "state": {
            "_dom_classes": [],
            "_model_module": "@jupyter-widgets/controls",
            "_model_module_version": "1.5.0",
            "_model_name": "HBoxModel",
            "_view_count": null,
            "_view_module": "@jupyter-widgets/controls",
            "_view_module_version": "1.5.0",
            "_view_name": "HBoxView",
            "box_style": "",
            "children": [
              "IPY_MODEL_eead2902175649beb7d5b46d041ba74e",
              "IPY_MODEL_30ba14d7c74a4a3b8030fccc6e557f6b",
              "IPY_MODEL_3ec2e1a1db5a4819a59f3b94e75b61e8"
            ],
            "layout": "IPY_MODEL_a407f62d96e54b9ea62d7b25fb185ed8"
          }
        },
        "eead2902175649beb7d5b46d041ba74e": {
          "model_module": "@jupyter-widgets/controls",
          "model_name": "HTMLModel",
          "model_module_version": "1.5.0",
          "state": {
            "_dom_classes": [],
            "_model_module": "@jupyter-widgets/controls",
            "_model_module_version": "1.5.0",
            "_model_name": "HTMLModel",
            "_view_count": null,
            "_view_module": "@jupyter-widgets/controls",
            "_view_module_version": "1.5.0",
            "_view_name": "HTMLView",
            "description": "",
            "description_tooltip": null,
            "layout": "IPY_MODEL_fef1e4eee5f04b9d9d26429f027ae23e",
            "placeholder": "​",
            "style": "IPY_MODEL_6f6b0327603e42cdb34c58225b743519",
            "value": "100%"
          }
        },
        "30ba14d7c74a4a3b8030fccc6e557f6b": {
          "model_module": "@jupyter-widgets/controls",
          "model_name": "FloatProgressModel",
          "model_module_version": "1.5.0",
          "state": {
            "_dom_classes": [],
            "_model_module": "@jupyter-widgets/controls",
            "_model_module_version": "1.5.0",
            "_model_name": "FloatProgressModel",
            "_view_count": null,
            "_view_module": "@jupyter-widgets/controls",
            "_view_module_version": "1.5.0",
            "_view_name": "ProgressView",
            "bar_style": "success",
            "description": "",
            "description_tooltip": null,
            "layout": "IPY_MODEL_672347a1fb4a44cab19976e94893682b",
            "max": 67,
            "min": 0,
            "orientation": "horizontal",
            "style": "IPY_MODEL_067aaa2266d34b288f85e9e79c8cb0d6",
            "value": 67
          }
        },
        "3ec2e1a1db5a4819a59f3b94e75b61e8": {
          "model_module": "@jupyter-widgets/controls",
          "model_name": "HTMLModel",
          "model_module_version": "1.5.0",
          "state": {
            "_dom_classes": [],
            "_model_module": "@jupyter-widgets/controls",
            "_model_module_version": "1.5.0",
            "_model_name": "HTMLModel",
            "_view_count": null,
            "_view_module": "@jupyter-widgets/controls",
            "_view_module_version": "1.5.0",
            "_view_name": "HTMLView",
            "description": "",
            "description_tooltip": null,
            "layout": "IPY_MODEL_7198d21341d447ea893e119157460ba7",
            "placeholder": "​",
            "style": "IPY_MODEL_171bc18daf724e74a389b0ca4d5bc82f",
            "value": " 67/67 [00:10&lt;00:00,  6.23it/s]"
          }
        },
        "a407f62d96e54b9ea62d7b25fb185ed8": {
          "model_module": "@jupyter-widgets/base",
          "model_name": "LayoutModel",
          "model_module_version": "1.2.0",
          "state": {
            "_model_module": "@jupyter-widgets/base",
            "_model_module_version": "1.2.0",
            "_model_name": "LayoutModel",
            "_view_count": null,
            "_view_module": "@jupyter-widgets/base",
            "_view_module_version": "1.2.0",
            "_view_name": "LayoutView",
            "align_content": null,
            "align_items": null,
            "align_self": null,
            "border": null,
            "bottom": null,
            "display": null,
            "flex": null,
            "flex_flow": null,
            "grid_area": null,
            "grid_auto_columns": null,
            "grid_auto_flow": null,
            "grid_auto_rows": null,
            "grid_column": null,
            "grid_gap": null,
            "grid_row": null,
            "grid_template_areas": null,
            "grid_template_columns": null,
            "grid_template_rows": null,
            "height": null,
            "justify_content": null,
            "justify_items": null,
            "left": null,
            "margin": null,
            "max_height": null,
            "max_width": null,
            "min_height": null,
            "min_width": null,
            "object_fit": null,
            "object_position": null,
            "order": null,
            "overflow": null,
            "overflow_x": null,
            "overflow_y": null,
            "padding": null,
            "right": null,
            "top": null,
            "visibility": null,
            "width": null
          }
        },
        "fef1e4eee5f04b9d9d26429f027ae23e": {
          "model_module": "@jupyter-widgets/base",
          "model_name": "LayoutModel",
          "model_module_version": "1.2.0",
          "state": {
            "_model_module": "@jupyter-widgets/base",
            "_model_module_version": "1.2.0",
            "_model_name": "LayoutModel",
            "_view_count": null,
            "_view_module": "@jupyter-widgets/base",
            "_view_module_version": "1.2.0",
            "_view_name": "LayoutView",
            "align_content": null,
            "align_items": null,
            "align_self": null,
            "border": null,
            "bottom": null,
            "display": null,
            "flex": null,
            "flex_flow": null,
            "grid_area": null,
            "grid_auto_columns": null,
            "grid_auto_flow": null,
            "grid_auto_rows": null,
            "grid_column": null,
            "grid_gap": null,
            "grid_row": null,
            "grid_template_areas": null,
            "grid_template_columns": null,
            "grid_template_rows": null,
            "height": null,
            "justify_content": null,
            "justify_items": null,
            "left": null,
            "margin": null,
            "max_height": null,
            "max_width": null,
            "min_height": null,
            "min_width": null,
            "object_fit": null,
            "object_position": null,
            "order": null,
            "overflow": null,
            "overflow_x": null,
            "overflow_y": null,
            "padding": null,
            "right": null,
            "top": null,
            "visibility": null,
            "width": null
          }
        },
        "6f6b0327603e42cdb34c58225b743519": {
          "model_module": "@jupyter-widgets/controls",
          "model_name": "DescriptionStyleModel",
          "model_module_version": "1.5.0",
          "state": {
            "_model_module": "@jupyter-widgets/controls",
            "_model_module_version": "1.5.0",
            "_model_name": "DescriptionStyleModel",
            "_view_count": null,
            "_view_module": "@jupyter-widgets/base",
            "_view_module_version": "1.2.0",
            "_view_name": "StyleView",
            "description_width": ""
          }
        },
        "672347a1fb4a44cab19976e94893682b": {
          "model_module": "@jupyter-widgets/base",
          "model_name": "LayoutModel",
          "model_module_version": "1.2.0",
          "state": {
            "_model_module": "@jupyter-widgets/base",
            "_model_module_version": "1.2.0",
            "_model_name": "LayoutModel",
            "_view_count": null,
            "_view_module": "@jupyter-widgets/base",
            "_view_module_version": "1.2.0",
            "_view_name": "LayoutView",
            "align_content": null,
            "align_items": null,
            "align_self": null,
            "border": null,
            "bottom": null,
            "display": null,
            "flex": null,
            "flex_flow": null,
            "grid_area": null,
            "grid_auto_columns": null,
            "grid_auto_flow": null,
            "grid_auto_rows": null,
            "grid_column": null,
            "grid_gap": null,
            "grid_row": null,
            "grid_template_areas": null,
            "grid_template_columns": null,
            "grid_template_rows": null,
            "height": null,
            "justify_content": null,
            "justify_items": null,
            "left": null,
            "margin": null,
            "max_height": null,
            "max_width": null,
            "min_height": null,
            "min_width": null,
            "object_fit": null,
            "object_position": null,
            "order": null,
            "overflow": null,
            "overflow_x": null,
            "overflow_y": null,
            "padding": null,
            "right": null,
            "top": null,
            "visibility": null,
            "width": null
          }
        },
        "067aaa2266d34b288f85e9e79c8cb0d6": {
          "model_module": "@jupyter-widgets/controls",
          "model_name": "ProgressStyleModel",
          "model_module_version": "1.5.0",
          "state": {
            "_model_module": "@jupyter-widgets/controls",
            "_model_module_version": "1.5.0",
            "_model_name": "ProgressStyleModel",
            "_view_count": null,
            "_view_module": "@jupyter-widgets/base",
            "_view_module_version": "1.2.0",
            "_view_name": "StyleView",
            "bar_color": null,
            "description_width": ""
          }
        },
        "7198d21341d447ea893e119157460ba7": {
          "model_module": "@jupyter-widgets/base",
          "model_name": "LayoutModel",
          "model_module_version": "1.2.0",
          "state": {
            "_model_module": "@jupyter-widgets/base",
            "_model_module_version": "1.2.0",
            "_model_name": "LayoutModel",
            "_view_count": null,
            "_view_module": "@jupyter-widgets/base",
            "_view_module_version": "1.2.0",
            "_view_name": "LayoutView",
            "align_content": null,
            "align_items": null,
            "align_self": null,
            "border": null,
            "bottom": null,
            "display": null,
            "flex": null,
            "flex_flow": null,
            "grid_area": null,
            "grid_auto_columns": null,
            "grid_auto_flow": null,
            "grid_auto_rows": null,
            "grid_column": null,
            "grid_gap": null,
            "grid_row": null,
            "grid_template_areas": null,
            "grid_template_columns": null,
            "grid_template_rows": null,
            "height": null,
            "justify_content": null,
            "justify_items": null,
            "left": null,
            "margin": null,
            "max_height": null,
            "max_width": null,
            "min_height": null,
            "min_width": null,
            "object_fit": null,
            "object_position": null,
            "order": null,
            "overflow": null,
            "overflow_x": null,
            "overflow_y": null,
            "padding": null,
            "right": null,
            "top": null,
            "visibility": null,
            "width": null
          }
        },
        "171bc18daf724e74a389b0ca4d5bc82f": {
          "model_module": "@jupyter-widgets/controls",
          "model_name": "DescriptionStyleModel",
          "model_module_version": "1.5.0",
          "state": {
            "_model_module": "@jupyter-widgets/controls",
            "_model_module_version": "1.5.0",
            "_model_name": "DescriptionStyleModel",
            "_view_count": null,
            "_view_module": "@jupyter-widgets/base",
            "_view_module_version": "1.2.0",
            "_view_name": "StyleView",
            "description_width": ""
          }
        }
      }
    },
    "accelerator": "GPU"
  },
  "nbformat": 4,
  "nbformat_minor": 0
}