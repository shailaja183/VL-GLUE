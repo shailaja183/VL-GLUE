{
  "cells": [
    {
      "cell_type": "code",
      "execution_count": 1,
      "metadata": {
        "colab": {
          "base_uri": "https://localhost:8080/"
        },
        "id": "kNEY3RdiynHE",
        "outputId": "5573ed65-ddc7-4729-ff94-c6a46f1d46e1"
      },
      "outputs": [
        {
          "output_type": "stream",
          "name": "stdout",
          "text": [
            "Drive already mounted at /content/drive; to attempt to forcibly remount, call drive.mount(\"/content/drive\", force_remount=True).\n"
          ]
        }
      ],
      "source": [
        "from google.colab import drive\n",
        "drive.mount('/content/drive')"
      ]
    },
    {
      "cell_type": "code",
      "execution_count": 2,
      "metadata": {
        "colab": {
          "base_uri": "https://localhost:8080/"
        },
        "id": "3CEYz9215-vH",
        "outputId": "6790e966-805b-43cc-c39f-c94cee2aec1b"
      },
      "outputs": [
        {
          "output_type": "stream",
          "name": "stdout",
          "text": [
            "  Installing build dependencies ... \u001b[?25l\u001b[?25hdone\n",
            "  Getting requirements to build wheel ... \u001b[?25l\u001b[?25hdone\n",
            "  Preparing metadata (pyproject.toml) ... \u001b[?25l\u001b[?25hdone\n"
          ]
        }
      ],
      "source": [
        "!pip install -q git+https://github.com/huggingface/transformers.git"
      ]
    },
    {
      "cell_type": "code",
      "execution_count": 24,
      "metadata": {
        "id": "P0a9maoNyrja"
      },
      "outputs": [],
      "source": [
        "import os\n",
        "\n",
        "home = '/content/drive/MyDrive/2ReadyForFineTuning/VLQAv1/Charts/'\n",
        "\n",
        "imroot = home+'images'\n",
        "os.chdir(home)"
      ]
    },
    {
      "cell_type": "code",
      "execution_count": 25,
      "metadata": {
        "id": "SEJyeCl-IjN-"
      },
      "outputs": [],
      "source": [
        "prefix = 'charts'"
      ]
    },
    {
      "cell_type": "code",
      "execution_count": 26,
      "metadata": {
        "colab": {
          "base_uri": "https://localhost:8080/"
        },
        "id": "bWWyIF0gEb3O",
        "outputId": "4cacf707-4937-4a9e-a4fb-9a1612b77aba"
      },
      "outputs": [
        {
          "output_type": "stream",
          "name": "stdout",
          "text": [
            "251\n",
            "{'info': {}, 'task_type': 'Open-Ended', 'data_type': 'charts', 'license': {}, 'data_subtype': 'charts', 'questions': [{'image_id': '/content/drive/MyDrive/2ReadyForFineTuning/VLQAv1/Charts/images/21.png', 'question': 'From the above graph infer comparatively which country is most likely to have highest per capita income? The above visualization shows health care expenditure across countries. There is a strong correlation between health care expenditure and national income. The countries which spend more on health care are more likely to have highest per capita income.', 'question_id': 2218, 'answer_choices': ['United States', 'United Kingdom', 'India', 'Iraq'], 'answer_id': 0}, {'image_id': '/content/drive/MyDrive/2ReadyForFineTuning/VLQAv1/Charts/images/21.png', 'question': 'How many countries are most likely to have better per capita income level than Iraq? The above visualization shows health care expenditure across countries. There is a strong correlation between health care expenditure and national income. The countries which spend more on health care are more likely to have highest per capita income.', 'question_id': 2219, 'answer_choices': [2, 3, 4, 1], 'answer_id': 0}, {'image_id': '/content/drive/MyDrive/2ReadyForFineTuning/VLQAv1/Charts/images/21.png', 'question': 'Sorted in descending order by it’s per capita income, which country will stand third? The above visualization shows health care expenditure across countries. There is a strong correlation between health care expenditure and national income. The countries which spend more on health care are more likely to have highest per capita income.', 'question_id': 2220, 'answer_choices': ['Iraq', 'India', 'South Sudan', 'United States'], 'answer_id': 0}, {'image_id': '/content/drive/MyDrive/2ReadyForFineTuning/VLQAv1/Charts/images/22.png', 'question': 'As per the data, Which country is most likely to have the least tax revenue? The above visualization shows the percentage distribution of GDP for health expenditures across countries. Tax revenue is an important statistical determinant towards universal health coverage and it is determined that developing countries with higher tax revenues tend to spend more on healthcare.', 'question_id': 2221, 'answer_choices': ['Iraq', 'Indonesia', 'Pakistan', 'Maldives'], 'answer_id': 2}, {'image_id': '/content/drive/MyDrive/2ReadyForFineTuning/VLQAv1/Charts/images/22.png', 'question': 'Based on the relationship, which country stands third if sorted in ascending order by it’s tax revenue? The above visualization shows the percentage distribution of GDP for health expenditures across countries. Tax revenue is an important statistical determinant towards universal health coverage and it is determined that developing countries with higher tax revenues tend to spend more on healthcare.', 'question_id': 2222, 'answer_choices': ['Iraq', 'Maldives', 'Pakistan', 'United Kingdom'], 'answer_id': 0}, {'image_id': '/content/drive/MyDrive/2ReadyForFineTuning/VLQAv1/Charts/images/22.png', 'question': 'How many countries are most likely to have better tax revenues in comparison with costa rica? The above visualization shows the percentage distribution of GDP for health expenditures across countries. Tax revenue is an important statistical determinant towards universal health coverage and it is determined that developing countries with higher tax revenues tend to spend more on healthcare.', 'question_id': 2223, 'answer_choices': [4, 3, 5, 2], 'answer_id': 1}, {'image_id': '/content/drive/MyDrive/2ReadyForFineTuning/VLQAv1/Charts/images/22.png', 'question': 'Which country is expected to have the least child mortality rate? No matter whether it is a rich country in Europe or a much poorer country in Africa, the proportional decline in child mortality associated with a proportional increase in health expenditure is remarkably similar.', 'question_id': 2224, 'answer_choices': ['Maldives', 'United States', 'United Kingdom', 'Pakistan'], 'answer_id': 1}, {'image_id': '/content/drive/MyDrive/2ReadyForFineTuning/VLQAv1/Charts/images/22.png', 'question': 'Based on the association, which country is likely to have the second highest child mortality rate? No matter whether it is a rich country in Europe or a much poorer country in Africa, the proportional decline in child mortality associated with a proportional increase in health expenditure is remarkably similar.', 'question_id': 2225, 'answer_choices': ['Costa Rica', 'Indonesia', 'Pakistan', 'United States'], 'answer_id': 1}, {'image_id': '/content/drive/MyDrive/2ReadyForFineTuning/VLQAv1/Charts/images/22.png', 'question': 'Based on the association, how many countries is expected to have lesser mortality rate than Maldives? No matter whether it is a rich country in Europe or a much poorer country in Africa, the proportional decline in child mortality associated with a proportional increase in health expenditure is remarkably similar.', 'question_id': 2226, 'answer_choices': [2, 1, 3, 5], 'answer_id': 0}, {'image_id': '/content/drive/MyDrive/2ReadyForFineTuning/VLQAv1/Charts/images/27.png', 'question': 'Which country students are most likely to score best in PISA reading? The visualization above shows the percentage of GDP spent on education purpose in countries across the world. There is a positive correlation between the PISA reading outcomes and the expenditure on education.', 'question_id': 2227, 'answer_choices': ['Kenya', 'India', 'Sweden', 'Australia'], 'answer_id': 2}, {'image_id': '/content/drive/MyDrive/2ReadyForFineTuning/VLQAv1/Charts/images/27.png', 'question': 'Compared to Australia, how many countries are not likely to score better in PISA reading? The visualization above shows the percentage of GDP spent on education purpose in countries across the world. There is a positive correlation between the PISA reading outcomes and the expenditure on education.', 'question_id': 2228, 'answer_choices': [2, 3, 1, 4], 'answer_id': 0}, {'image_id': '/content/drive/MyDrive/2ReadyForFineTuning/VLQAv1/Charts/images/27.png', 'question': 'Which country’s students are likely to score in PISA reading better than United States but lesser than Kenya? The visualization above shows the percentage of GDP spent on education purpose in countries across the world. There is a positive correlation between the PISA reading outcomes and the expenditure on education.', 'question_id': 2229, 'answer_choices': ['India', 'Australia', 'Sweden', 'Denmark'], 'answer_id': 1}, {'image_id': '/content/drive/MyDrive/2ReadyForFineTuning/VLQAv1/Charts/images/28.png', 'question': 'Based on the data, which country has the lowest after-tax inequality? The figure above shows the percentage of GDP for taxes and revenues in countries across the world. The countries that achieve the largest redistribution through taxes and transfers tend to be those with the lowest after-tax inequality.', 'question_id': 2230, 'answer_choices': ['Sri Lanka', 'Pakistan', 'New Zealand', 'European Union'], 'answer_id': 3}, {'image_id': '/content/drive/MyDrive/2ReadyForFineTuning/VLQAv1/Charts/images/28.png', 'question': 'How many countries achieve good after tax equality in comparison with United States? The figure above shows the percentage of GDP for taxes and revenues in countries across the world. The countries that achieve the largest redistribution through taxes and transfers tend to be those with the lowest after-tax inequality.', 'question_id': 2231, 'answer_choices': [2, 3, 4, 1], 'answer_id': 0}, {'image_id': '/content/drive/MyDrive/2ReadyForFineTuning/VLQAv1/Charts/images/28.png', 'question': 'Which country has the highest after after-tax inequality? The figure above shows the percentage of GDP for taxes and revenues in countries across the world. The countries that achieve the largest redistribution through taxes and transfers tend to be those with the lowest after-tax inequality.', 'question_id': 2232, 'answer_choices': ['European Union', 'India', 'Pakistan', 'New Zealand'], 'answer_id': 1}, {'image_id': '/content/drive/MyDrive/2ReadyForFineTuning/VLQAv1/Charts/images/29.png', 'question': 'Based on the stated correlation, which country is the richest? The figure above shows the percentage of GDP for taxes and revenues in countries across the world. Rise in GDP has a positive correlation with the increase in tax. That is rich countries tend to collect much higher tax revenues than poor countries', 'question_id': 2233, 'answer_choices': ['United Kingdom', 'United States ', 'India', 'European Union'], 'answer_id': 3}, {'image_id': '/content/drive/MyDrive/2ReadyForFineTuning/VLQAv1/Charts/images/29.png', 'question': 'Which country has immediately has better GDP per capita compared to Pakistan? The figure above shows the percentage of GDP for taxes and revenues in countries across the world. Rise in GDP has a positive correlation with the increase in tax. That is rich countries tend to collect much higher tax revenues than poor countries', 'question_id': 2234, 'answer_choices': ['European Union', 'India', 'Sri Lanka', 'United States'], 'answer_id': 3}, {'image_id': '/content/drive/MyDrive/2ReadyForFineTuning/VLQAv1/Charts/images/29.png', 'question': 'How many countries are richer than United states based on the given data? The figure above shows the percentage of GDP for taxes and revenues in countries across the world. Rise in GDP has a positive correlation with the increase in tax. That is rich countries tend to collect much higher tax revenues than poor countries', 'question_id': 2235, 'answer_choices': [2, 3, 4, 1], 'answer_id': 1}, {'image_id': '/content/drive/MyDrive/2ReadyForFineTuning/VLQAv1/Charts/images/29.png', 'question': 'Based on the stated correlation, which country has the strong political institutions? The figure above shows the percentage of GDP for taxes and revenues in countries across the world. There is a correlation between tax revenues and political institutions conditional on GDP levels. The countries with strong executive constraints collect higher tax revenues than do countries with weak executive constraints.', 'question_id': 2236, 'answer_choices': ['United Kingdom', 'United States ', 'India ', 'European Union '], 'answer_id': 3}, {'image_id': '/content/drive/MyDrive/2ReadyForFineTuning/VLQAv1/Charts/images/29.png', 'question': 'Which country has relatively strongly political institutions than pakistan but weaker than New Zealand? The figure above shows the percentage of GDP for taxes and revenues in countries across the world. There is a correlation between tax revenues and political institutions conditional on GDP levels. The countries with strong executive constraints collect higher tax revenues than do countries with weak executive constraints.', 'question_id': 2237, 'answer_choices': ['European Union ', 'India', 'Sri Lanka', 'United States'], 'answer_id': 3}, {'image_id': '/content/drive/MyDrive/2ReadyForFineTuning/VLQAv1/Charts/images/29.png', 'question': 'How many countries have stronger political institutions than United states based on the given data? The figure above shows the percentage of GDP for taxes and revenues in countries across the world. There is a correlation between tax revenues and political institutions conditional on GDP levels. The countries with strong executive constraints collect higher tax revenues than do countries with weak executive constraints.', 'question_id': 2238, 'answer_choices': [2, 3, 4, 1], 'answer_id': 1}, {'image_id': '/content/drive/MyDrive/2ReadyForFineTuning/VLQAv1/Charts/images/30.png', 'question': 'Which country is shifting fast away from agriculture? The figure shows percentage rate of urbanization in countries around the world. Rural-urban migration has been empirically linked with the structural transformation process: as urban population shares increase, employment tends to shift from agriculture towards industry/manufacturing, or services', 'question_id': 2239, 'answer_choices': ['Pakistan', 'New Zealand', 'India', 'Sri Lanka'], 'answer_id': 0}, {'image_id': '/content/drive/MyDrive/2ReadyForFineTuning/VLQAv1/Charts/images/30.png', 'question': 'How many countries have greater shift from agriculture towards industry in comparison with India ? The figure shows percentage rate of urbanization in countries around the world. Rural-urban migration has been empirically linked with the structural transformation process: as urban population shares increase, employment tends to shift from agriculture towards industry/manufacturing, or services', 'question_id': 2240, 'answer_choices': [1, 2, 3, 4], 'answer_id': 0}, {'image_id': '/content/drive/MyDrive/2ReadyForFineTuning/VLQAv1/Charts/images/30.png', 'question': 'Which country falls fourth in the rate of shift from agriculture to industry? The figure shows percentage rate of urbanization in countries around the world. Rural-urban migration has been empirically linked with the structural transformation process: as urban population shares increase, employment tends to shift from agriculture towards industry/manufacturing, or services', 'question_id': 2241, 'answer_choices': ['Pakistan', 'New Zealand', 'India', 'Sri Lanka'], 'answer_id': 1}, {'image_id': '/content/drive/MyDrive/2ReadyForFineTuning/VLQAv1/Charts/images/3.png', 'question': \"In how many age groups is the number of male users greater than number of female users? The Facebook service can be accessed from devices with Internet connectivity, such as personal computers, tablets and smartphones. After registering, users can create a customized profile revealing information about themselves. Users can post text, photos and multimedia of their own devising and share it with other users as ‘friends’. Users can use various embedded apps, and receive notifications of their friends' activities. Users may join common-interest groups. The figure shows the Population pyramid of Facebook users by age as of January 1, 2010. The blue bar indicates the male users while the pink bar indicates female users.\", 'question_id': 2242, 'answer_choices': [0, 1, 2, 3], 'answer_id': 0}, {'image_id': '/content/drive/MyDrive/2ReadyForFineTuning/VLQAv1/Charts/images/3.png', 'question': \"The number of male users in the age-group 18-25 is greater than the number of female users in how many age groups? The Facebook service can be accessed from devices with Internet connectivity, such as personal computers, tablets and smartphones. After registering, users can create a customized profile revealing information about themselves. Users can post text, photos and multimedia of their own devising and share it with other users as ‘friends’. Users can use various embedded apps, and receive notifications of their friends' activities. Users may join common-interest groups. The figure shows the Population pyramid of Facebook users by age as of January 1, 2010. The blue bar indicates the male users while the pink bar indicates female users.\", 'question_id': 2243, 'answer_choices': [2, 3, 4, 5], 'answer_id': 3}, {'image_id': '/content/drive/MyDrive/2ReadyForFineTuning/VLQAv1/Charts/images/Electricity-from_fossil_fuels.png', 'question': 'Which country has the highest chance of climate being affected by generating electricity from fossil fuels ? The bar graph shows the percentage of electricity being generated by fossil fuels in south asian coutries. Fossil fuel power plants burn carbon fuels such coal, oil or gas to generate steam that drives large turbines that produce electricity. These plants can generate electricity reliably over long periods of time. However, by burning carbon fuels they produce large amounts carbon dioxide, which causes climate change. China and India, two of the most polluted coutries, produces equal amount of electricity from fossil fuels.', 'question_id': 2244, 'answer_choices': ['India', 'Pakistan', 'Bangladesh', 'Sri Lanka'], 'answer_id': 2}, {'image_id': '/content/drive/MyDrive/2ReadyForFineTuning/VLQAv1/Charts/images/Electricity-from_fossil_fuels.png', 'question': 'Is Sri Lanka less dependant on electricity form fossil fuels than China? The bar graph shows the percentage of electricity being generated by fossil fuels in south asian coutries. Fossil fuel power plants burn carbon fuels such coal, oil or gas to generate steam that drives large turbines that produce electricity. These plants can generate electricity reliably over long periods of time. However, by burning carbon fuels they produce large amounts carbon dioxide, which causes climate change. China and India, two of the most polluted coutries, produces equal amount of electricity from fossil fuels.', 'question_id': 2245, 'answer_choices': ['True', 'False', 'Unknown', 'Unanswerable'], 'answer_id': 0}, {'image_id': '/content/drive/MyDrive/2ReadyForFineTuning/VLQAv1/Charts/images/Electricity-from_fossil_fuels.png', 'question': 'How much approximate percentage of electricity form fossil fuels by China? The bar graph shows the percentage of electricity being generated by fossil fuels in south asian coutries. Fossil fuel power plants burn carbon fuels such coal, oil or gas to generate steam that drives large turbines that produce electricity. These plants can generate electricity reliably over long periods of time. However, by burning carbon fuels they produce large amounts carbon dioxide, which causes climate change. China and India, two of the most polluted coutries, produces equal amount of electricity from fossil fuels.', 'question_id': 2246, 'answer_choices': ['10%', '55%', '70%', '95%'], 'answer_id': 2}, {'image_id': '/content/drive/MyDrive/2ReadyForFineTuning/VLQAv1/Charts/images/Irrigated_land.png', 'question': \"Which country has the highest percentage area used for irrigation? The figure give us details about Irrigated lands in South American coutries. Given the area of Argentina, Peru, Uruguay, Chile and Brazil are 1.7 million square meter, 0.49 million square meter, 68 thousand square meter, 293 thousand square meter and 3.29 million square meter respectively. South American countries' major exports comes from agriculture. Ecuador have half irrigated land as Peru.\", 'question_id': 2247, 'answer_choices': ['Brazil', 'Uruguay', 'Argentina', 'Peru'], 'answer_id': 3}, {'image_id': '/content/drive/MyDrive/2ReadyForFineTuning/VLQAv1/Charts/images/Irrigated_land.png', 'question': \"Which country has highest exports? The figure give us details about Irrigated lands in South American coutries. Given the area of Argentina, Peru, Uruguay, Chile and Brazil are 1.7 million square meter, 0.49 million square meter, 68 thousand square meter, 293 thousand square meter and 3.29 million square meter respectively. South American countries' major exports comes from agriculture. Ecuador have half irrigated land as Peru.\", 'question_id': 2248, 'answer_choices': ['Brazil', 'Uruguay', 'Argentina', 'Peru'], 'answer_id': 0}, {'image_id': '/content/drive/MyDrive/2ReadyForFineTuning/VLQAv1/Charts/images/Irrigated_land.png', 'question': \"Area of irrigated land in Ecuador? The figure give us details about Irrigated lands in South American coutries. Given the area of Argentina, Peru, Uruguay, Chile and Brazil are 1.7 million square meter, 0.49 million square meter, 68 thousand square meter, 293 thousand square meter and 3.29 million square meter respectively. South American countries' major exports comes from agriculture. Ecuador have half irrigated land as Peru.\", 'question_id': 2249, 'answer_choices': ['10000 sq km', '13000 sq km', '20000 sq km', '0 sq km'], 'answer_id': 1}, {'image_id': '/content/drive/MyDrive/2ReadyForFineTuning/VLQAv1/Charts/images/Net_migration_rate.png', 'question': 'Which country have higest count of immigrants going out? The bar graph show Net migration rate of few countries. The net migration rate is the difference between the number of immigrants (people coming into an area) and the number of emigrants (people leaving an area) throughout the year. Like mentioned before if a country has a high migration rate is it seen as wealthy and developed. In contrast a country with a low rate is seen as undeveloped, having political problems, and lacking resources its citizens need. Russia has a net migration rate of 1.7 migrants per 1000 population. Population of China 1.39 Billion, France 67.2 million, Canada 37.06 million, Finland 5.5 million, South Africa 56.72 million.', 'question_id': 2250, 'answer_choices': ['China', 'South Africa', 'France', 'Finland'], 'answer_id': 0}, {'image_id': '/content/drive/MyDrive/2ReadyForFineTuning/VLQAv1/Charts/images/Net_migration_rate.png', 'question': 'How many of the given countries have better net migration rate than Russia? The bar graph show Net migration rate of few countries. The net migration rate is the difference between the number of immigrants (people coming into an area) and the number of emigrants (people leaving an area) throughout the year. Like mentioned before if a country has a high migration rate is it seen as wealthy and developed. In contrast a country with a low rate is seen as undeveloped, having political problems, and lacking resources its citizens need. Russia has a net migration rate of 1.7 migrants per 1000 population. Population of China 1.39 Billion, France 67.2 million, Canada 37.06 million, Finland 5.5 million, South Africa 56.72 million.', 'question_id': 2251, 'answer_choices': [1, 2, 3, 4], 'answer_id': 1}, {'image_id': '/content/drive/MyDrive/2ReadyForFineTuning/VLQAv1/Charts/images/Net_migration_rate.png', 'question': 'Which country can be seen as undeveloped, having political problems, and lacking resources its citizens need? The bar graph show Net migration rate of few countries. The net migration rate is the difference between the number of immigrants (people coming into an area) and the number of emigrants (people leaving an area) throughout the year. Like mentioned before if a country has a high migration rate is it seen as wealthy and developed. In contrast a country with a low rate is seen as undeveloped, having political problems, and lacking resources its citizens need. Russia has a net migration rate of 1.7 migrants per 1000 population. Population of China 1.39 Billion, France 67.2 million, Canada 37.06 million, Finland 5.5 million, South Africa 56.72 million.', 'question_id': 2252, 'answer_choices': ['Russia', 'South Africa', 'France', 'Finland'], 'answer_id': 1}, {'image_id': '/content/drive/MyDrive/2ReadyForFineTuning/VLQAv1/Charts/images/Education27year.jpeg', 'question': \"What nearest percentage of total population at the age of 27 is earning more than $27/hour? The above bar graph shows percentage of education level of people at the age of 27 for a country. Given the population of the country as 20 million of which 10% of population is of age 27. Study shows the salary of person not completed High school is $10/hour, completed high school $15/hour, Person just enrolled in college have a salary of $18/hour, having Undergraduate certificate can get a pay up to $25/hour, Associate degree $30/Hour and Bachelor's degree and higher can get a min of $40/hour.\", 'question_id': 2253, 'answer_choices': ['10%', '4%', '42%', '17%'], 'answer_id': 2}, {'image_id': '/content/drive/MyDrive/2ReadyForFineTuning/VLQAv1/Charts/images/Education27year.jpeg', 'question': \"Given the data how many people at age of 27 earn less than $20/hour? The above bar graph shows percentage of education level of people at the age of 27 for a country. Given the population of the country as 20 million of which 10% of population is of age 27. Study shows the salary of person not completed High school is $10/hour, completed high school $15/hour, Person just enrolled in college have a salary of $18/hour, having Undergraduate certificate can get a pay up to $25/hour, Associate degree $30/Hour and Bachelor's degree and higher can get a min of $40/hour.\", 'question_id': 2254, 'answer_choices': ['200000', '300000', '960000', '750000'], 'answer_id': 2}, {'image_id': '/content/drive/MyDrive/2ReadyForFineTuning/VLQAv1/Charts/images/sugar-content.jpg', 'question': 'Which food is worse for intake for a person suffering from diabetes? The given image talks about ./images/sugar contents in certain food. Many people rely on quick, processed foods for meals and snacks. Since these products often contain added sugar, it makes up a large proportion of their daily calorie intake. Experts believe that sugar consumption is a major cause of obesity and many chronic diseases, such as diabetes.', 'question_id': 2255, 'answer_choices': ['Chocolate Bar', 'Peanut Butter', 'Ice Cream', 'Soda'], 'answer_id': 0}, {'image_id': '/content/drive/MyDrive/2ReadyForFineTuning/VLQAv1/Charts/images/sugar-content.jpg', 'question': 'How many food have more sugar content than Ice cream? The given image talks about ./images/sugar contents in certain food. Many people rely on quick, processed foods for meals and snacks. Since these products often contain added sugar, it makes up a large proportion of their daily calorie intake. Experts believe that sugar consumption is a major cause of obesity and many chronic diseases, such as diabetes.', 'question_id': 2256, 'answer_choices': [3, 2, 1, 0], 'answer_id': 0}, {'image_id': '/content/drive/MyDrive/2ReadyForFineTuning/VLQAv1/Charts/images/PRE_3.png', 'question': 'How many countries have agricultural production less than Philippines? The distribution shows the percentage contribution of agriculture to total GDP.  Agriculture includes farming, fishing, and forestry. Productivity is directly related to economic growth and national gross domestic product(GDP). Population and agricultural contribution to GDP are inversely related to each other as increase in population results in land degradation. Demand pull inflation is directly proportional to percentage contribution of agriculture to GDP.', 'question_id': 2257, 'answer_choices': [1, 2, 3, 4], 'answer_id': 3}, {'image_id': '/content/drive/MyDrive/2ReadyForFineTuning/VLQAv1/Charts/images/PRE_3.png', 'question': 'Which country is having population more than Israel? The distribution shows the percentage contribution of agriculture to total GDP.  Agriculture includes farming, fishing, and forestry. Productivity is directly related to economic growth and national gross domestic product(GDP). Population and agricultural contribution to GDP are inversely related to each other as increase in population results in land degradation. Demand pull inflation is directly proportional to percentage contribution of agriculture to GDP.', 'question_id': 2258, 'answer_choices': ['Mauritius', 'Philippines', 'Korea, South', 'Samoa'], 'answer_id': 2}, {'image_id': '/content/drive/MyDrive/2ReadyForFineTuning/VLQAv1/Charts/images/PRE_3.png', 'question': 'Which country is having more demand-pull inflation than Greenland? The distribution shows the percentage contribution of agriculture to total GDP.  Agriculture includes farming, fishing, and forestry. Productivity is directly related to economic growth and national gross domestic product(GDP). Population and agricultural contribution to GDP are inversely related to each other as increase in population results in land degradation. Demand pull inflation is directly proportional to percentage contribution of agriculture to GDP.', 'question_id': 2259, 'answer_choices': ['Philippines', 'Moldova', 'Korea, South', 'Samoa'], 'answer_id': 1}, {'image_id': '/content/drive/MyDrive/2ReadyForFineTuning/VLQAv1/Charts/images/PRE_4.png', 'question': 'Which country has the total manufacturing output less than Afghanistan? The above visualization shows percentage of Industrial production growth rate to GDP for various countries. Industrial production measures the output of the industrial sector, which typically comprises mining, manufacturing, utilities and, in some cases, construction. Increased share of manufacturing in total output has the potential to raise GDP growth and reduce growth volatility.', 'question_id': 2260, 'answer_choices': ['Canada', 'Saudi Arabia', 'India', 'Kuwait'], 'answer_id': 1}, {'image_id': '/content/drive/MyDrive/2ReadyForFineTuning/VLQAv1/Charts/images/PRE_4.png', 'question': 'Which country is having the total output of manufacturing same as Germany? The above visualization shows percentage of Industrial production growth rate to GDP for various countries. Industrial production measures the output of the industrial sector, which typically comprises mining, manufacturing, utilities and, in some cases, construction. Increased share of manufacturing in total output has the potential to raise GDP growth and reduce growth volatility.', 'question_id': 2261, 'answer_choices': ['India', 'Kuwait', 'Afghanistan', 'Papua New Guinea'], 'answer_id': 3}, {'image_id': '/content/drive/MyDrive/2ReadyForFineTuning/VLQAv1/Charts/images/PRE_4.png', 'question': 'Which country is most likely to have the highest manufacturing outcome ? The above visualization shows percentage of Industrial production growth rate to GDP for various countries. Industrial production measures the output of the industrial sector, which typically comprises mining, manufacturing, utilities and, in some cases, construction. Increased share of manufacturing in total output has the potential to raise GDP growth and reduce growth volatility.', 'question_id': 2262, 'answer_choices': ['India', 'Kuwait', 'Canada', 'Saudi Arabia'], 'answer_id': 0}, {'image_id': '/content/drive/MyDrive/2ReadyForFineTuning/VLQAv1/Charts/images/PRE_6.png', 'question': 'Which country is likely to be colder than Netherlands? The plot describes the amount of Natural gas produced in cubic meters of four countries. Natural gas production increases during winters and reduces during summer season. Natural gas is used to produce electricity. Electricity usage increases as population increases which in turn increases the GDP as more goods and services gets generated.', 'question_id': 2263, 'answer_choices': ['Argentina', 'Burma', 'Qatar', 'None of the above'], 'answer_id': 2}, {'image_id': '/content/drive/MyDrive/2ReadyForFineTuning/VLQAv1/Charts/images/PRE_6.png', 'question': 'Which country is most likely to have population less than Argentina? The plot describes the amount of Natural gas produced in cubic meters of four countries. Natural gas production increases during winters and reduces during summer season. Natural gas is used to produce electricity. Electricity usage increases as population increases which in turn increases the GDP as more goods and services gets generated.', 'question_id': 2264, 'answer_choices': ['India', 'Burma', 'Qatar', 'Netherlands'], 'answer_id': 1}, {'image_id': '/content/drive/MyDrive/2ReadyForFineTuning/VLQAv1/Charts/images/PRE_9.png', 'question': 'Which country is most likely to have a smaller number of migrants that enters country when compared to Russia? The average annual percent change in the population (resulting from a surplus (or deficit) of births over deaths and the balance of migrants entering and leaving a country) is denoted as population growth rate. The plot shows the percentage of population growth rate for a set of countries for the year 2018. Child mortality rate is inversely correlated to the population growth rate whereas fertility is directly related to population growth rate.', 'question_id': 2265, 'answer_choices': ['India', 'Germany', 'Nigeria', 'China'], 'answer_id': 1}, {'image_id': '/content/drive/MyDrive/2ReadyForFineTuning/VLQAv1/Charts/images/PRE_9.png', 'question': 'Which country is having poor child mortality rate? The average annual percent change in the population (resulting from a surplus (or deficit) of births over deaths and the balance of migrants entering and leaving a country) is denoted as population growth rate. The plot shows the percentage of population growth rate for a set of countries for the year 2018. Child mortality rate is inversely correlated to the population growth rate whereas fertility is directly related to population growth rate.', 'question_id': 2266, 'answer_choices': ['India', 'China', 'Nigeria', 'Germany'], 'answer_id': 2}, {'image_id': '/content/drive/MyDrive/2ReadyForFineTuning/VLQAv1/Charts/images/PRE_9.png', 'question': 'How many countries have less fertility rate when compared to China? The average annual percent change in the population (resulting from a surplus (or deficit) of births over deaths and the balance of migrants entering and leaving a country) is denoted as population growth rate. The plot shows the percentage of population growth rate for a set of countries for the year 2018. Child mortality rate is inversely correlated to the population growth rate whereas fertility is directly related to population growth rate.', 'question_id': 2267, 'answer_choices': [4, 2, 3, 1], 'answer_id': 1}, {'image_id': '/content/drive/MyDrive/2ReadyForFineTuning/VLQAv1/Charts/images/PRE_15.png', 'question': 'Based on the above graph, which country might have less number of houses? The above bar graph shows the total fixed lines subscriptions for different countries. Fixed telephone subscriptions refers to the sum of active number of analogue fixed telephone lines, voice-over-IP (VoIP) subscriptions, fixed wireless local loop (WLL) subscriptions, ISDN voice-channel equivalents and fixed public payphones. Precise measure of telephones access is the penetration rate - the share of households with access to telecommunications. Ideally, statistics on telecommunications should be compiled for all three measures: subscriptions, access, and use. The total number of subscriptions has impact on the economy because of the revenue generation.', 'question_id': 2268, 'answer_choices': ['Ukraine', 'Denmark', 'Colombia', 'Yemen'], 'answer_id': 3}, {'image_id': '/content/drive/MyDrive/2ReadyForFineTuning/VLQAv1/Charts/images/PRE_15.png', 'question': 'From the above graph, which country is likely to have more usage of telecommunications? The above bar graph shows the total fixed lines subscriptions for different countries. Fixed telephone subscriptions refers to the sum of active number of analogue fixed telephone lines, voice-over-IP (VoIP) subscriptions, fixed wireless local loop (WLL) subscriptions, ISDN voice-channel equivalents and fixed public payphones. Precise measure of telephones access is the penetration rate - the share of households with access to telecommunications. Ideally, statistics on telecommunications should be compiled for all three measures: subscriptions, access, and use. The total number of subscriptions has impact on the economy because of the revenue generation.', 'question_id': 2269, 'answer_choices': ['Yemen', 'Venezuela', 'Ukraine', 'Denmark'], 'answer_id': 2}, {'image_id': '/content/drive/MyDrive/2ReadyForFineTuning/VLQAv1/Charts/images/PRE_15.png', 'question': 'According to the data given, how many countries are likely to be above average revenue? The above bar graph shows the total fixed lines subscriptions for different countries. Fixed telephone subscriptions refers to the sum of active number of analogue fixed telephone lines, voice-over-IP (VoIP) subscriptions, fixed wireless local loop (WLL) subscriptions, ISDN voice-channel equivalents and fixed public payphones. Precise measure of telephones access is the penetration rate - the share of households with access to telecommunications. Ideally, statistics on telecommunications should be compiled for all three measures: subscriptions, access, and use. The total number of subscriptions has impact on the economy because of the revenue generation.', 'question_id': 2270, 'answer_choices': ['Two', 'Three', 'One', 'Five'], 'answer_id': 1}, {'image_id': '/content/drive/MyDrive/2ReadyForFineTuning/VLQAv1/Charts/images/PRE_17.png', 'question': 'Based on the above data, which country needs to focus on economic growth? The above graph depicts the electricity production of different countries in kWh units. Electricity is a crucial for poverty alleviation, economic growth and improved living standards. The generation and transmission of electricity affects the environment. Nearly all types of electric power plants have an effect on the environment, but some power plants have larger effects than others. In each of the past five recessions annual growth in both total and industrial/commercial retail electricity sales has moved closely with annual growth in real GDP.', 'question_id': 2271, 'answer_choices': ['Ethiopia', 'Lithuania', 'Bahrain', 'Cambodia'], 'answer_id': 1}, {'image_id': '/content/drive/MyDrive/2ReadyForFineTuning/VLQAv1/Charts/images/PRE_17.png', 'question': 'How many countries are beneath Sri Lanka in terms of effecting the environment? The above graph depicts the electricity production of different countries in kWh units. Electricity is a crucial for poverty alleviation, economic growth and improved living standards. The generation and transmission of electricity affects the environment. Nearly all types of electric power plants have an effect on the environment, but some power plants have larger effects than others. In each of the past five recessions annual growth in both total and industrial/commercial retail electricity sales has moved closely with annual growth in real GDP.', 'question_id': 2272, 'answer_choices': ['Six', 'Four', 'Three', 'One'], 'answer_id': 2}, {'image_id': '/content/drive/MyDrive/2ReadyForFineTuning/VLQAv1/Charts/images/PRE_17.png', 'question': 'Which country among the listed data has outshined in the GDP sector? The above graph depicts the electricity production of different countries in kWh units. Electricity is a crucial for poverty alleviation, economic growth and improved living standards. The generation and transmission of electricity affects the environment. Nearly all types of electric power plants have an effect on the environment, but some power plants have larger effects than others. In each of the past five recessions annual growth in both total and industrial/commercial retail electricity sales has moved closely with annual growth in real GDP.', 'question_id': 2273, 'answer_choices': ['Kuwait', 'Ethiopia', 'Bahrain', 'Sri Lanka'], 'answer_id': 0}, {'image_id': '/content/drive/MyDrive/2ReadyForFineTuning/VLQAv1/Charts/images/19.png', 'question': 'Compared to australia, which of these countries has relatively more world population and also higher average life expectancy at birth? The figure shows the life expectancy at birth and percentage of the world’s population by region for the year 2015. For the same year, Australia had 20% of world population and had an average life expectancy at birth of 68 years.', 'question_id': 2274, 'answer_choices': ['Africa', 'Asia', 'Europe', 'Northern America'], 'answer_id': 1}, {'image_id': '/content/drive/MyDrive/2ReadyForFineTuning/VLQAv1/Charts/images/19.png', 'question': 'Out of all the countries that has less percent of world population than Australia in 2015, which country has the least life expectancy at birth? The figure shows the life expectancy at birth and percentage of the world’s population by region for the year 2015. For the same year, Australia had 20% of world population and had an average life expectancy at birth of 68 years.', 'question_id': 2275, 'answer_choices': ['Africa', 'Asia', 'Europe', 'Northern America'], 'answer_id': 0}, {'image_id': '/content/drive/MyDrive/2ReadyForFineTuning/VLQAv1/Charts/images/19.png', 'question': 'Out of 7 countries, how many countries exceeds 75% of life expectancy? The figure shows the life expectancy at birth and percentage of the world’s population by region for the year 2015. For the same year, Australia had 20% of world population and had an average life expectancy at birth of 68 years.', 'question_id': 2276, 'answer_choices': [3, 4, 5, 2], 'answer_id': 0}, {'image_id': '/content/drive/MyDrive/2ReadyForFineTuning/VLQAv1/Charts/images/7.png', 'question': 'Which of the following countries is not a G7 country? Figure given shows the healthcare spending as a percentage of GDP for all G7 countries. Although healthcare spending as a share of GDP has increased in the UK over the past 50 years, the UK still currently spends less as a share of GDP than nearly all of the other G7 countries.', 'question_id': 2277, 'answer_choices': ['Canada', 'China', 'Japan', 'USA'], 'answer_id': 1}, {'image_id': '/content/drive/MyDrive/2ReadyForFineTuning/VLQAv1/Charts/images/7.png', 'question': 'Healthcare spending as a share of GDP for UK is less than all other G7 countries except Figure given shows the healthcare spending as a percentage of GDP for all G7 countries. Although healthcare spending as a share of GDP has increased in the UK over the past 50 years, the UK still currently spends less as a share of GDP than nearly all of the other G7 countries.', 'question_id': 2278, 'answer_choices': ['Japan', 'France', 'Italy', 'Germany'], 'answer_id': 2}, {'image_id': '/content/drive/MyDrive/2ReadyForFineTuning/VLQAv1/Charts/images/central-bank-discount-rate_France.png', 'question': 'Is France combating inflation? To combat inflation, central bank raises the discount rate. This reduces money supply, slows lending, and therefore slows economic growth.', 'question_id': 2279, 'answer_choices': ['yes', 'no', 'Unknown', 'Unanswerable'], 'answer_id': 1}, {'image_id': '/content/drive/MyDrive/2ReadyForFineTuning/VLQAv1/Charts/images/central-bank-discount-rate_France.png', 'question': 'In which year was the money supply the lowest for France? To combat inflation, central bank raises the discount rate. This reduces money supply, slows lending, and therefore slows economic growth.', 'question_id': 2280, 'answer_choices': ['2010', '2012', '2014', '2016'], 'answer_id': 0}, {'image_id': '/content/drive/MyDrive/2ReadyForFineTuning/VLQAv1/Charts/images/central-bank-discount-rate_Germany_France.png', 'question': 'In the year 2015, which country should have a higher economic growth? To combat inflation, central bank raises the discount rate. This reduces money supply, slows lending, and therefore slows economic growth.', 'question_id': 2281, 'answer_choices': ['France', 'Germany', 'United States', 'Canada'], 'answer_id': 0}, {'image_id': '/content/drive/MyDrive/2ReadyForFineTuning/VLQAv1/Charts/images/central-bank-discount-rate_Germany_France.png', 'question': 'In the year 2010, which country should have a lower economic growth? To combat inflation, central bank raises the discount rate. This reduces money supply, slows lending, and therefore slows economic growth.', 'question_id': 2282, 'answer_choices': ['France', 'Germany', 'United States', 'Canada'], 'answer_id': 0}, {'image_id': '/content/drive/MyDrive/2ReadyForFineTuning/VLQAv1/Charts/images/central-bank-discount-rate_Mexico.png', 'question': 'In Mexico, for which year would the banks have their lending rates the highest? When the discount rate is high, the banks raise their lending rates. This makes it expensive to borrow money and people generally refrain from borrowing money.', 'question_id': 2283, 'answer_choices': ['2011', '2013', '2015', '2017'], 'answer_id': 3}, {'image_id': '/content/drive/MyDrive/2ReadyForFineTuning/VLQAv1/Charts/images/central-bank-discount-rate_Mexico.png', 'question': 'In Mexico, for which year is it the most expensive for people to borrow money? When the discount rate is high, the banks raise their lending rates. This makes it expensive to borrow money and people generally refrain from borrowing money.', 'question_id': 2284, 'answer_choices': ['2011', '2013', '2015', '2017'], 'answer_id': 3}, {'image_id': '/content/drive/MyDrive/2ReadyForFineTuning/VLQAv1/Charts/images/central-bank-discount-rate_Germany_France.png', 'question': 'In the year 2015, in which country is it going to be economical to borrow money from banks? When the discount rate is high, the banks raise their lending rates. This makes it expensive to borrow money and people generally refrain from borrowing money.', 'question_id': 2285, 'answer_choices': ['Germany', 'France', 'United States', 'Canada'], 'answer_id': 1}, {'image_id': '/content/drive/MyDrive/2ReadyForFineTuning/VLQAv1/Charts/images/distribution-of-family-income-gini-index_United_States.png', 'question': 'In which year was the economic inequality the highest in United States? Gini Index is a measure of wealth distribution of a nation’s residents. Higher the number, higher the inequality. Researchers have concluded that economic inequality leads to higher rates of health problems in a nation.', 'question_id': 2286, 'answer_choices': ['2000', '2002', '2004', '2007'], 'answer_id': 3}, {'image_id': '/content/drive/MyDrive/2ReadyForFineTuning/VLQAv1/Charts/images/distribution-of-family-income-gini-index_United_States.png', 'question': 'In which year did citizens of United States experience highest rates of health problems? Gini Index is a measure of wealth distribution of a nation’s residents. Higher the number, higher the inequality. Researchers have concluded that economic inequality leads to higher rates of health problems in a nation.', 'question_id': 2287, 'answer_choices': ['2000', '2001', '2004', '2007'], 'answer_id': 3}, {'image_id': '/content/drive/MyDrive/2ReadyForFineTuning/VLQAv1/Charts/images/distribution-of-family-income-gini-index_India.png', 'question': 'Is India moving towards a future of economic equality? Gini Index is a measure of wealth distribution of a nation’s residents. Higher the number, higher the inequality.', 'question_id': 2288, 'answer_choices': ['yes', 'no', 'Unknown', 'Unanswerable'], 'answer_id': 0}, {'image_id': '/content/drive/MyDrive/2ReadyForFineTuning/VLQAv1/Charts/images/distribution-of-family-income-gini-index_India.png', 'question': 'In India, for which year was economic equality the highest? Gini Index is a measure of wealth distribution of a nation’s residents. Higher the number, higher the inequality.', 'question_id': 2289, 'answer_choices': ['2006', '2008', '2010', '2011'], 'answer_id': 3}, {'image_id': '/content/drive/MyDrive/2ReadyForFineTuning/VLQAv1/Charts/images/distribution-of-family-income-gini-index_India.png', 'question': 'In India, in which year did the people experienced lowest satisfaction and happiness due to income inequality? Gini Index is a measure of wealth distribution of a nation’s residents. Higher the number, higher the inequality. Researchers have concluded that economic inequality leads to lower population-wide satisfaction and happiness.', 'question_id': 2290, 'answer_choices': ['1997', '2000', '2004', '2010'], 'answer_id': 0}, {'image_id': '/content/drive/MyDrive/2ReadyForFineTuning/VLQAv1/Charts/images/distribution-of-family-income-gini-index_United_States_Canada_Mexico.png', 'question': 'People of which country would be more prone to health problems? Gini Index is a measure of wealth distribution of a nation’s residents. Higher the number, higher the inequality. Researchers have concluded that economic inequality leads to higher rates of health problems in a nation.', 'question_id': 2291, 'answer_choices': ['Canada', 'Mexico', 'United States', 'Germany'], 'answer_id': 1}, {'image_id': '/content/drive/MyDrive/2ReadyForFineTuning/VLQAv1/Charts/images/distribution-of-family-income-gini-index_United_States_Canada_Mexico.png', 'question': 'Based on the Gini Index, people of which country would have the highest satisafaction and happiness? Gini Index is a measure of wealth distribution of a nation’s residents. Higher the number, higher the inequality. Researchers have concluded that economic inequality leads to lower population-wide satisfaction and happiness.', 'question_id': 2292, 'answer_choices': ['United States', 'Canada', 'Germany', 'Mexico'], 'answer_id': 1}, {'image_id': '/content/drive/MyDrive/2ReadyForFineTuning/VLQAv1/Charts/images/commercial-bank-prime-lending-rate_Argentina.png', 'question': 'In Argentina, in which year was it easiest to get loans? The prime rate affects liquidity in the financial markets. A low rate increases liquidity by making loans less expensive and easier to get. When prime lending rates are low, businesses expand and so does the economy. Similarly, when rates are high, liquidity dries up, and the economy slows down.', 'question_id': 2293, 'answer_choices': ['2012', '2013', '2014', '2015'], 'answer_id': 0}, {'image_id': '/content/drive/MyDrive/2ReadyForFineTuning/VLQAv1/Charts/images/commercial-bank-prime-lending-rate_Argentina.png', 'question': 'In Argentina, in which year was the liquidity in the financial markets the lowest? The prime rate affects liquidity in the financial markets. A low rate increases liquidity by making loans less expensive and easier to get. When prime lending rates are low, businesses expand and so does the economy. Similarly, when rates are high, liquidity dries up, and the economy slows down.', 'question_id': 2294, 'answer_choices': ['2012', '2014', '2016', '2017'], 'answer_id': 2}, {'image_id': '/content/drive/MyDrive/2ReadyForFineTuning/VLQAv1/Charts/images/commercial-bank-prime-lending-rate_Argentina.png', 'question': 'In the year 2017, did the economy expand? The prime rate affects liquidity in the financial markets. A low rate increases liquidity by making loans less expensive and easier to get. When prime lending rates are low, businesses expand and so does the economy. Similarly, when rates are high, liquidity dries up, and the economy slows down.', 'question_id': 2295, 'answer_choices': ['yes', 'no', 'Unknown', 'Unanswerable'], 'answer_id': 0}, {'image_id': '/content/drive/MyDrive/2ReadyForFineTuning/VLQAv1/Charts/images/commercial-bank-prime-lending-rate_Argentina_Brazil.png', 'question': 'In the year 2013, for which country did the economy expand in comparison to the previous year? The prime rate affects liquidity in the financial markets. A low rate increases liquidity by making loans less expensive and easier to get. When prime lending rates are low, businesses expand and so does the economy. Similarly, when rates are high, liquidity dries up, and the economy slows down.', 'question_id': 2296, 'answer_choices': ['Brazil', 'Argentina', 'Mexico', 'France'], 'answer_id': 0}, {'image_id': '/content/drive/MyDrive/2ReadyForFineTuning/VLQAv1/Charts/images/commercial-bank-prime-lending-rate_Argentina_Brazil.png', 'question': 'Based on the graph, which country has higher increase in liquidity in the financial markets? The prime rate affects liquidity in the financial markets. A low rate increases liquidity by making loans less expensive and easier to get. When prime lending rates are low, businesses expand and so does the economy. Similarly, when rates are high, liquidity dries up, and the economy slows down.', 'question_id': 2297, 'answer_choices': ['Brazil', 'Argentina', 'Mexico', 'France'], 'answer_id': 1}, {'image_id': '/content/drive/MyDrive/2ReadyForFineTuning/VLQAv1/Charts/images/gross-national-saving_South_Africa.png', 'question': 'In which year is spending likely to be the lowest? An increase in Gross National savings means a reduction in spending. In the short run, that is likely to result in slower economic growth than would otherwise have been the case.', 'question_id': 2298, 'answer_choices': ['2014', '2015', '2016', '2017'], 'answer_id': 2}, {'image_id': '/content/drive/MyDrive/2ReadyForFineTuning/VLQAv1/Charts/images/gross-national-saving_South_Africa.png', 'question': 'In which year did the economy likely grow the slowest? An increase in Gross National savings means a reduction in spending. In the short run, that is likely to result in slower economic growth than would otherwise have been the case.', 'question_id': 2299, 'answer_choices': ['2014', '2015', '2016', '2017'], 'answer_id': 2}, {'image_id': '/content/drive/MyDrive/2ReadyForFineTuning/VLQAv1/Charts/images/gross-national-saving_United_States.png', 'question': 'In which year was the demand for financial assets the highest? When the gross national saving rate rises, demand for financial assets rises as well. The increase in demand for assets puts upward pressure on their prices and that results in a decline in their yields and so interest rates fall.', 'question_id': 2300, 'answer_choices': ['2014', '2015', '2016', '2017'], 'answer_id': 1}, {'image_id': '/content/drive/MyDrive/2ReadyForFineTuning/VLQAv1/Charts/images/gross-national-saving_United_States.png', 'question': 'In which year will the interest rates likely be the lowest? When the gross national saving rate rises, demand for financial assets rises as well. The increase in demand for assets puts upward pressure on their prices and that results in a decline in their yields and so interest rates fall.', 'question_id': 2301, 'answer_choices': ['2014', '2015', '2016', '2017'], 'answer_id': 1}, {'image_id': '/content/drive/MyDrive/2ReadyForFineTuning/VLQAv1/Charts/images/inflation-rate-consumer-prices_Saudi_Arabia.png', 'question': \"Is Saudi Arabia heading towards inflation or deflation? Inflation rate (consumer prices) compares the annual percent change in consumer prices with the previous year's consumer prices.A positive increase, suggests that the economy is in inflation. A decrease in change of consumer prices indicates deflation. \", 'question_id': 2302, 'answer_choices': ['inflation', 'deflation', 'no change', 'none'], 'answer_id': 1}, {'image_id': '/content/drive/MyDrive/2ReadyForFineTuning/VLQAv1/Charts/images/inflation-rate-consumer-prices_Saudi_Arabia.png', 'question': \"In which year did Saudi Arabia experience inflation? Inflation rate (consumer prices) compares the annual percent change in consumer prices with the previous year's consumer prices.A positive increase, suggests that the economy is in inflation. A decrease in change of consumer prices indicates deflation.\", 'question_id': 2303, 'answer_choices': ['2012', '2013', '2014', '2015'], 'answer_id': 1}, {'image_id': '/content/drive/MyDrive/2ReadyForFineTuning/VLQAv1/Charts/images/inflation-rate-consumer-prices_United_States_Russia.png', 'question': \"What correlation does United States and Russia have in terms of inflation and deflation of their economy? Inflation rate (consumer prices) compares the annual percent change in consumer prices with the previous year's consumer prices.A positive increase, suggests that the economy is in inflation. A decrease in change of consumer prices indicates deflation.\", 'question_id': 2304, 'answer_choices': ['positive', 'negative', 'none', 'no correlation'], 'answer_id': 1}, {'image_id': '/content/drive/MyDrive/2ReadyForFineTuning/VLQAv1/Charts/images/current-account-balance_India.png', 'question': \"In the year 2013, was India a net borrower or a net lender? Current account balance compares a country's net trade in goods and services, plus net earnings, and net transfer payments to and from the rest of the world during the period specified. A positive current account balance indicates that the nation is a net lender to the rest of the world, while a negative current account balance indicates that it is a net borrower.\", 'question_id': 2305, 'answer_choices': ['net borrower', ' net lender', 'neither borrower nor lender', 'zero'], 'answer_id': 1}, {'image_id': '/content/drive/MyDrive/2ReadyForFineTuning/VLQAv1/Charts/images/current-account-balance_India.png', 'question': \"In which year, India is likely to have lent the highest amount of money? Current account balance compares a country's net trade in goods and services, plus net earnings, and net transfer payments to and from the rest of the world during the period specified. A positive current account balance indicates that the nation is a net lender to the rest of the world, while a negative current account balance indicates that it is a net borrower.\", 'question_id': 2306, 'answer_choices': ['2012', '2013', '2014', '2015'], 'answer_id': 0}, {'image_id': '/content/drive/MyDrive/2ReadyForFineTuning/VLQAv1/Charts/images/current-account-balance_India_European_Union.png', 'question': \"Based on the graph, is it likely for India to have increased their imports from European Union? Current account balance compares a country's net trade in goods and services, plus net earnings, and net transfer payments to and from the rest of the world during the period specified. A current account surplus increases a nation's net foreign assets by the amount of the surplus, while a current account deficit decreases it by the amount of the deficit. European Union is India's largest trading partner.\", 'question_id': 2307, 'answer_choices': ['yes', 'no', 'Unknown', 'Unanswerable'], 'answer_id': 0}, {'image_id': '/content/drive/MyDrive/2ReadyForFineTuning/VLQAv1/Charts/images/current-account-balance_India_European_Union.png', 'question': \"What is the correlation between the amount of foreign assets of Europen Union and India? Current account balance compares a country's net trade in goods and services, plus net earnings, and net transfer payments to and from the rest of the world during the period specified. A current account surplus increases a nation's net foreign assets by the amount of the surplus, while a current account deficit decreases it by the amount of the deficit. European Union is India's largest trading partner.\", 'question_id': 2308, 'answer_choices': ['positive', 'negative', 'none', 'no correlation'], 'answer_id': 1}, {'image_id': '/content/drive/MyDrive/2ReadyForFineTuning/VLQAv1/Charts/images/stock-of-direct-foreign-investment-abroad_United_States.png', 'question': 'According to the authors of the study, in which year are the multinational companies likely to have invested the most at home? Stock of direct foreign investment - abroad compares the cumulative US dollar value of all investments in foreign countries made directly by residents - primarily companies - of the home country. In their recent study, Foreign Direct Investment and the Domestic Capital Stock, authors Mihir Desai, C. Fritz Foley, and James Hines conclude that greater foreign investment by U.S. multinational firms is actually linked to greater investments at home as well.', 'question_id': 2309, 'answer_choices': ['2014', '2015', '2016', '2017'], 'answer_id': 3}, {'image_id': '/content/drive/MyDrive/2ReadyForFineTuning/VLQAv1/Charts/images/stock-of-direct-foreign-investment-abroad_United_States.png', 'question': 'Based on the data, do you predict that investment in US by US based multinational companies will increase/decrease/stay the same? Stock of direct foreign investment - abroad compares the cumulative US dollar value of all investments in foreign countries made directly by residents - primarily companies - of the home country. In their recent study, Foreign Direct Investment and the Domestic Capital Stock, authors Mihir Desai, C. Fritz Foley, and James Hines conclude that greater foreign investment by U.S. multinational firms is actually linked to greater investments at home as well.', 'question_id': 2310, 'answer_choices': ['increase', 'decrease', 'stay the same', 'none'], 'answer_id': 0}, {'image_id': '/content/drive/MyDrive/2ReadyForFineTuning/VLQAv1/Charts/images/gdp-real-growth-rate_Puerto_Rico.png', 'question': \"In the year 2015, was the economy of Puerto Rico expanding? GDP - real growth rate compares GDP growth on an annual basis adjusted for inflation and expressed as a percent. When the economy is expanding, the GDP growth rate is positive. If it's growing, so will businesses, jobs and personal income. \", 'question_id': 2311, 'answer_choices': ['yes', 'no', 'Unknown', 'Unanswerable'], 'answer_id': 1}, {'image_id': '/content/drive/MyDrive/2ReadyForFineTuning/VLQAv1/Charts/images/gdp-real-growth-rate_Puerto_Rico.png', 'question': \"Between the years 2008 and 2010, did the businesses fluorish? GDP - real growth rate compares GDP growth on an annual basis adjusted for inflation and expressed as a percent. When the economy is expanding, the GDP growth rate is positive. If it's growing, so will businesses, jobs and personal income. \", 'question_id': 2312, 'answer_choices': ['yes', 'no', 'Unknown', 'Unanswerable'], 'answer_id': 0}, {'image_id': '/content/drive/MyDrive/2ReadyForFineTuning/VLQAv1/Charts/images/gdp-real-growth-rate_Puerto_Rico.png', 'question': 'In which year, the economy of Puerto Rico is in danger of stalling? GDP - real growth rate compares GDP growth on an annual basis adjusted for inflation and expressed as a percent. When the economy is expanding, the GDP growth rate is positive. But if it expands beyond 3-4%, then it could hit the peak. At that point, the bubble bursts and economic growth stalls.', 'question_id': 2313, 'answer_choices': ['2008', '2009', '2010', '2012'], 'answer_id': 2}, {'image_id': '/content/drive/MyDrive/2ReadyForFineTuning/VLQAv1/Charts/images/gdp-real-growth-rate_Saudi_Arabia.png', 'question': \"In which year did the business in Saudi Arabia invested the least in new purchases? GDP - real growth rate compares GDP growth on an annual basis adjusted for inflation and expressed as a percent. When the economy is expanding, the GDP growth rate is positive. If it's contracting, then businesses will hold off investing in new purchases.\", 'question_id': 2314, 'answer_choices': ['2013', '2015', '2016', '2017'], 'answer_id': 3}, {'image_id': '/content/drive/MyDrive/2ReadyForFineTuning/VLQAv1/Charts/images/gdp-real-growth-rate_Saudi_Arabia.png', 'question': \"In which which year, the people in Saudi Arabia are likely to have the least money to spend. GDP - real growth rate compares GDP growth on an annual basis adjusted for inflation and expressed as a percent. When the economy is expanding, the GDP growth rate is positive. If it's contracting, the businesses will delay hiring new employees until they are confident the economy will improve. Those delays further depress the economy. Without jobs, consumers have less money to spend.\", 'question_id': 2315, 'answer_choices': ['2014', '2015', '2016', '2017'], 'answer_id': 3}, {'image_id': '/content/drive/MyDrive/2ReadyForFineTuning/VLQAv1/Charts/images/gdp-real-growth-rate_Saudi_Arabia_Qatar.png', 'question': \"In the year 2017, businesses in which country is more likely to hire new employees? GDP - real growth rate compares GDP growth on an annual basis adjusted for inflation and expressed as a percent. When the economy is expanding, the GDP growth rate is positive. If it's contracting, the businesses will delay hiring new employees until they are confident the economy will improve. Those delays further depress the economy. Without jobs, consumers have less money to spend.\", 'question_id': 2316, 'answer_choices': ['Saudi Arabia', 'Qatar', 'Both', 'None'], 'answer_id': 1}, {'image_id': '/content/drive/MyDrive/2ReadyForFineTuning/VLQAv1/Charts/images/gdp-real-growth-rate_Saudi_Arabia_Qatar.png', 'question': \"In the year 2017, citizens of which country will have a higher chance of having more money to spend? GDP - real growth rate compares GDP growth on an annual basis adjusted for inflation and expressed as a percent. When the economy is expanding, the GDP growth rate is positive. If it's contracting, the businesses will delay hiring new employees until they are confident the economy will improve. Those delays further depress the economy. Without jobs, consumers have less money to spend.\", 'question_id': 2317, 'answer_choices': ['Saudi Arabia', 'Qatar', 'Both', 'None'], 'answer_id': 1}, {'image_id': '/content/drive/MyDrive/2ReadyForFineTuning/VLQAv1/Charts/images/gdp-real-growth-rate_Saudi_Arabia_Qatar.png', 'question': 'In which years, is the economy of both the countries highest in danger of stalling? GDP - real growth rate compares GDP growth on an annual basis adjusted for inflation and expressed as a percent. When the economy is expanding, the GDP growth rate is positive. But if it expands beyond 3-4%, then it could hit the peak. At that point, the bubble bursts and economic growth stalls.', 'question_id': 2318, 'answer_choices': ['2011', '2012', '2013', '2014'], 'answer_id': 0}, {'image_id': '/content/drive/MyDrive/2ReadyForFineTuning/VLQAv1/Charts/images/gdp-real-growth-rate_Venezuela.png', 'question': \"During which year, is the economy of Venezuela likely to have entered a state of recession?  GDP - real growth rate compares GDP growth on an annual basis adjusted for inflation and expressed as a percent. When the economy is expanding, the GDP growth rate is positive.If the GDP growth rate turns negative, then the country's economy is in a recession.\", 'question_id': 2319, 'answer_choices': ['2013', '2014', '2015', '2016'], 'answer_id': 1}, {'image_id': '/content/drive/MyDrive/2ReadyForFineTuning/VLQAv1/Charts/images/gdp-real-growth-rate_Brazil.png', 'question': \"In which year did the GDP growth rate of Brazil hit the trough? GDP - real growth rate compares GDP growth on an annual basis adjusted for inflation and expressed as a percent. When the economy is expanding, the GDP growth rate is positive.If the GDP growth rate turns negative, then the country's economy is in a recession. It will continue to be negative until it hits a trough. That’s the month things start to turn around. After the trough, GDP growth rate turns positive again.\", 'question_id': 2320, 'answer_choices': ['2014', '2015', '2016', '2017'], 'answer_id': 2}, {'image_id': '/content/drive/MyDrive/2ReadyForFineTuning/VLQAv1/Charts/images/gdp-real-growth-rate_Brazil.png', 'question': \"If a company initiated a hiring freeze in the year 2016, in which year will that company likely remove that freeze? GDP - real growth rate compares GDP growth on an annual basis adjusted for inflation and expressed as a percent. When the economy is expanding, the GDP growth rate is positive. If it's contracting, the businesses will delay hiring new employees until they are confident the economy will improve.\", 'question_id': 2321, 'answer_choices': ['2014', '2015', '2016', '2017'], 'answer_id': 3}, {'image_id': '/content/drive/MyDrive/2ReadyForFineTuning/VLQAv1/Charts/images/reserves-of-foreign-exchange-and-gold_India.png', 'question': \"In which year are the exports likely to be the highest? Reserves of foreign exchange and gold compares the dollar value for the stock of all financial assets that are available to the central monetary authority for use in meeting a country's balance of payments. Higher foreign exchange reserves leads to exported goods being cheaper, increasing exports.\", 'question_id': 2322, 'answer_choices': ['2013', '2015', '2016', '2017'], 'answer_id': 3}, {'image_id': '/content/drive/MyDrive/2ReadyForFineTuning/VLQAv1/Charts/images/reserves-of-foreign-exchange-and-gold_India.png', 'question': \"In which year are the exported goods likely to be the cheapest? Reserves of foreign exchange and gold compares the dollar value for the stock of all financial assets that are available to the central monetary authority for use in meeting a country's balance of payments. Higher foreign exchange reserves leads to exported goods being cheaper, increasing exports.\", 'question_id': 2323, 'answer_choices': ['2013', '2015', '2016', '2017'], 'answer_id': 3}, {'image_id': '/content/drive/MyDrive/2ReadyForFineTuning/VLQAv1/Charts/images/stock-of-broad-money_United_States.png', 'question': 'In which year will the businesses in US have th easiest access to financing? Stock of broad money compares the total quantity of time and savings deposits denominated in the national currency, held by nonbank financial institutions, state and local governments, nonfinancial public enterprises, and the private sector of the economy. In simple terms, if there is more money available, the economy tends to accelerate because businesses have easy access to financing. If there is less money in the system, the economy slows and prices may drop or stall. ', 'question_id': 2324, 'answer_choices': ['2010', '2011', '2016', '2017'], 'answer_id': 1}, {'image_id': '/content/drive/MyDrive/2ReadyForFineTuning/VLQAv1/Charts/images/stock-of-broad-money_United_States.png', 'question': 'In which year was the growth in economy the slowest? Stock of broad money compares the total quantity of time and savings deposits denominated in the national currency, held by nonbank financial institutions, state and local governments, nonfinancial public enterprises, and the private sector of the economy. In simple terms, if there is more money available, the economy tends to accelerate because businesses have easy access to financing. If there is less money in the system, the economy slows and prices may drop or stall. ', 'question_id': 2325, 'answer_choices': ['2010', '2011', '2016', '2017'], 'answer_id': 2}, {'image_id': '/content/drive/MyDrive/2ReadyForFineTuning/VLQAv1/Charts/images/exports_United_Kingdom.png', 'question': 'In which year did Britain likely held the referendum? Britain voted to leave the european union following a referendum. This decision, also known as Brexit, had devastating impact on the exports and imports of the United Kingdom.', 'question_id': 2326, 'answer_choices': ['2013', '2014', '2015', '2016'], 'answer_id': 3}, {'image_id': '/content/drive/MyDrive/2ReadyForFineTuning/VLQAv1/Charts/images/military-expenditures_United_States.png', 'question': 'According to the study, in which year the military expenditures likely impacted the national economy of United States the most? A study of six major U.S. wars (World War II, the Korean War, the Vietnam War, the Cold War, and the wars in Afghanistan and Iraq) finds the costs of war and military expenditures to negatively affect the national economy, taxes, debt, jobs, investment, and inflation.', 'question_id': 2327, 'answer_choices': ['2010', '2011', '2012', '2013'], 'answer_id': 1}, {'image_id': '/content/drive/MyDrive/2ReadyForFineTuning/VLQAv1/Charts/images/military-expenditures_United_States.png', 'question': 'According to the study, in which year the military expenditures likely impacted the national economy of the United States the least? A study of six major U.S. wars (World War II, the Korean War, the Vietnam War, the Cold War, and the wars in Afghanistan and Iraq) finds the costs of war and military expenditures to negatively affect the national economy, taxes, debt, jobs, investment, and inflation.', 'question_id': 2328, 'answer_choices': ['2012', '2013', '2014', '2015'], 'answer_id': 3}, {'image_id': '/content/drive/MyDrive/2ReadyForFineTuning/VLQAv1/Charts/images/20.png', 'question': 'Which income level has no change in mortality rate for the year of 2018? The figure shows the child mortality by income level of country. Child mortality refers to the children that die before reaching the age of 5. In 2018, these rates were 5%, 5%, 3%, 0.5% and 2% for Low income, Lower middle income, world, upper middle income and high income respectively.', 'question_id': 2329, 'answer_choices': ['Low Income', 'Lower Middle Income', 'Upper Middle Income', 'High Income'], 'answer_id': 1}, {'image_id': '/content/drive/MyDrive/2ReadyForFineTuning/VLQAv1/Charts/images/20.png', 'question': 'Which income level people had increase in child mortality in 2018? The figure shows the child mortality by income level of country. Child mortality refers to the children that die before reaching the age of 5. In 2018, these rates were 5%, 5%, 3%, 0.5% and 2% for Low income, Lower middle income, world, upper middle income and high income respectively.', 'question_id': 2330, 'answer_choices': ['Low Income', 'Lower Middle Income', 'Upper Middle Income', 'High Income'], 'answer_id': 3}, {'image_id': '/content/drive/MyDrive/2ReadyForFineTuning/VLQAv1/Charts/images/5.png', 'question': 'For how many years was Kingston upon Hull among the top 5 areas in the UK with the highest % of workless households? Households where no-one aged 16 years or over is in employment is called a workless household. These members may be unemployed or economically inactive. Economically inactive members may be unavailable to work because of family commitments, retirement or study, or unable to work through sickness or disability. The figure below shows the top 5 areas in the UK with the highest % of workless households for the years 2004 to 2012.', 'question_id': 2331, 'answer_choices': [3, 4, 5, 6], 'answer_id': 2}, {'image_id': '/content/drive/MyDrive/2ReadyForFineTuning/VLQAv1/Charts/images/5.png', 'question': 'Which of the following countries was never ranked second for the highest % of workless households? Households where no-one aged 16 years or over is in employment is called a workless household. These members may be unemployed or economically inactive. Economically inactive members may be unavailable to work because of family commitments, retirement or study, or unable to work through sickness or disability. The figure below shows the top 5 areas in the UK with the highest % of workless households for the years 2004 to 2013', 'question_id': 2332, 'answer_choices': ['Liverpool', 'Birmingham', 'Kingston upon Hull', 'Glasgow City'], 'answer_id': 1}, {'image_id': '/content/drive/MyDrive/2ReadyForFineTuning/VLQAv1/Charts/images/5.png', 'question': 'Which country’s rank for the highest % of workless households did not decrease from 2008 to 2009? Households where no-one aged 16 years or over is in employment is called a workless household. These members may be unemployed or economically inactive. Economically inactive members may be unavailable to work because of family commitments, retirement or study, or unable to work through sickness or disability. The figure below shows the top 5 areas in the UK with the highest % of workless households for the years 2004 to 2014', 'question_id': 2333, 'answer_choices': ['Kingston upon Hull', 'Wolverhampton', 'Glasgow City', 'Liverpool'], 'answer_id': 3}, {'image_id': '/content/drive/MyDrive/2ReadyForFineTuning/VLQAv1/Charts/images/8.png', 'question': 'Which household consumption was unaffected by the economic downturn? The figure given shows the comparison of household healthcare consumption with the consumption of other goods and services. The consumption in 1997 is given a base value of 100. The vertical dotted-pink line indicates the 2008 economic downturn. The years before this line indicate pre-recession and the years after the line indicate post-recession.', 'question_id': 2334, 'answer_choices': ['Food & Drink', 'Health', 'Communication', 'Clothing & Footwear'], 'answer_id': 3}, {'image_id': '/content/drive/MyDrive/2ReadyForFineTuning/VLQAv1/Charts/images/8.png', 'question': 'From 2006 to 2010 which two household consumption were almost equal? The figure given shows the comparison of household healthcare consumption with the consumption of other goods and services. The consumption in 1997 is given a base value of 100. The vertical dotted-pink line indicates the 2008 economic downturn. The years before this line indicate pre-recession and the years after the line indicate post-recession.', 'question_id': 2335, 'answer_choices': ['Clothing & Footwear and Health', 'Communication and Recreation & Culture', 'Health and Food & Drink', 'Food & Drink and Communication'], 'answer_id': 1}, {'image_id': '/content/drive/MyDrive/2ReadyForFineTuning/VLQAv1/Charts/images/8.png', 'question': 'In which year did Recreation & Culture double its consumption when compared to 1997? The figure given shows the comparison of household healthcare consumption with the consumption of other goods and services. The consumption in 1997 is given a base value of 100. The vertical dotted-pink line indicates the 2008 economic downturn. The years before this line indicate pre-recession and the years after the line indicate post-recession.', 'question_id': 2336, 'answer_choices': ['1999', '2001', '2003', '2005'], 'answer_id': 3}, {'image_id': '/content/drive/MyDrive/2ReadyForFineTuning/VLQAv1/Charts/images/9.png', 'question': 'Who has the highest likelihood of reporting ‘good’ health despite being disabled? The graph given shows how age and gender affects ‘good’ health among the disabled. The way people judge their health is strongly influenced by their age. The likelihood of reporting ‘good’ health despite a disability decreases with age. Nancy, Steve, George, Stacy are all disabled and are 37, 41, 19 and 21 years old respectively.', 'question_id': 2337, 'answer_choices': ['Nancy', 'Steve', 'George', 'Miriam'], 'answer_id': 2}, {'image_id': '/content/drive/MyDrive/2ReadyForFineTuning/VLQAv1/Charts/images/9.png', 'question': 'Who has the lowest likelihood of reporting ‘good’ health despite being disabled? The graph given shows how age and gender affects ‘good’ health among the disabled. The way people judge their health is strongly influenced by their age. The likelihood of reporting ‘good’ health despite a disability decreases with age. Nancy, Steve, George, Stacy are all disabled and are 37, 41, 19 and 21 years old respectively.', 'question_id': 2338, 'answer_choices': ['Nancy', 'Steve', 'George', 'Miriam'], 'answer_id': 0}, {'image_id': '/content/drive/MyDrive/2ReadyForFineTuning/VLQAv1/Charts/images/9.png', 'question': 'How many age groups lie between Nancy and Stacy? The graph given shows how age and gender affects ‘good’ health among the disabled. The way people judge their health is strongly influenced by their age. The likelihood of reporting ‘good’ health despite a disability decreases with age. Nancy, Steve, George, Stacy are all disabled and are 37, 41, 19 and 21 years old respectively.', 'question_id': 2339, 'answer_choices': [0, 1, 2, 3], 'answer_id': 1}, {'image_id': '/content/drive/MyDrive/2ReadyForFineTuning/VLQAv1/Charts/images/10.png', 'question': 'In which year was the human capital of the UK at its peak? Human capital enables people to work and produce something of economic value. The total human capital level of the UK affects the growth of the economy. The sum of the total potential future earnings of everyone in employment is equal to the total employed human capital of the UK. The figure below shows the total employed human capital of the UK for the years 2004 to 2013.', 'question_id': 2340, 'answer_choices': ['2006', '2008', '2010', '2012'], 'answer_id': 1}, {'image_id': '/content/drive/MyDrive/2ReadyForFineTuning/VLQAv1/Charts/images/10.png', 'question': 'The value of human capital of the UK remained broadly flat for which of the following time-period? Human capital enables people to work and produce something of economic value. The total human capital level of the UK affects the growth of the economy. The sum of the total potential future earnings of everyone in employment is equal to the total employed human capital of the UK. The figure below shows the total employed human capital of the UK for the years 2004 to 2014', 'question_id': 2341, 'answer_choices': ['2004 - 2006', '2011 - 2013', '2009 - 2011', '2006 - 2008'], 'answer_id': 1}, {'image_id': '/content/drive/MyDrive/2ReadyForFineTuning/VLQAv1/Charts/images/10.png', 'question': 'For how many years was the human capital of the UK less than the value in 2009? Human capital enables people to work and produce something of economic value. The total human capital level of the UK affects the growth of the economy. The sum of the total potential future earnings of everyone in employment is equal to the total employed human capital of the UK. The figure below shows the total employed human capital of the UK for the years 2004 to 2015', 'question_id': 2342, 'answer_choices': [4, 5, 6, 7], 'answer_id': 3}, {'image_id': '/content/drive/MyDrive/2ReadyForFineTuning/VLQAv1/Charts/images/18.png', 'question': 'During how many events of Mass Extinction was the atmospheric concentration of CO2 greater than that of O2? A history of algal evolution. The timeline maps changes in atmospheric composition and global extinction events from the end of the Precambrian to the present. In total there were a total of 5 Mass Extinction events as indicated by the vertical arrows. The boxes at the bottom show the names of various geological periods.', 'question_id': 2343, 'answer_choices': [1, 2, 3, 4], 'answer_id': 0}, {'image_id': '/content/drive/MyDrive/2ReadyForFineTuning/VLQAv1/Charts/images/18.png', 'question': 'The Jurassic geological period was immediately succeeded by which geological period? A history of algal evolution. The timeline maps changes in atmospheric composition and global extinction events from the end of the Precambrian to the present. In total there were a total of 5 Mass Extinction events as indicated by the vertical arrows. The boxes at the bottom show the names of various geological periods.', 'question_id': 2344, 'answer_choices': ['Triassic', 'Cretaceous', 'Permian', 'Cambrian'], 'answer_id': 1}, {'image_id': '/content/drive/MyDrive/2ReadyForFineTuning/VLQAv1/Charts/images/18.png', 'question': 'In which geological period was the atmospheric concentration of O2 the highest? A history of algal evolution. The timeline maps changes in atmospheric composition and global extinction events from the end of the Precambrian to the present. In total there were a total of 5 Mass Extinction events as indicated by the vertical arrows. The boxes at the bottom show the names of various geological periods.', 'question_id': 2345, 'answer_choices': ['Permian', 'Cambrian', 'Jurassic', 'Triassic'], 'answer_id': 0}, {'image_id': '/content/drive/MyDrive/2ReadyForFineTuning/VLQAv1/Charts/images/gdp-real-growth-rate_RussiaVsUnited_States.png', 'question': \"For which year the GDP of United States was lesser than the previous year? The figure show the GDP Economic growth rate comparison of United States and Russia over the years from 2011 to 2017. The real economic growth rate is expressed as a percentage that shows the rate of change in a country's GDP, typically, from one year to the next. The real GDP growth rate is a more useful measure than the nominal GDP growth rate because it considers the effect of inflation on economic data.\", 'question_id': 2346, 'answer_choices': ['2011', '2012', '2016', 'None'], 'answer_id': 3}, {'image_id': '/content/drive/MyDrive/2ReadyForFineTuning/VLQAv1/Charts/images/gdp-real-growth-rate_RussiaVsUnited_States.png', 'question': \"For which year the GDP of Russia was lesser than the previous year? The figure show the GDP Economic growth rate comparison of United States and Russia over the years from 2011 to 2017. The real economic growth rate is expressed as a percentage that shows the rate of change in a country's GDP, typically, from one year to the next. The real GDP growth rate is a more useful measure than the nominal GDP growth rate because it considers the effect of inflation on economic data.\", 'question_id': 2347, 'answer_choices': ['2011', '2012', '2015', 'None'], 'answer_id': 2}, {'image_id': '/content/drive/MyDrive/2ReadyForFineTuning/VLQAv1/Charts/images/gdp-per-capita-ppp_IndiaVsPakistan.png', 'question': 'Do living standards of India better than Pakistan? The figure show the GDP per capita (PPP) of India and Pakistan over the years from 2011 to 2017. A country’s Gross Domestic Product (GDP) per person is obtained by dividing its GDP for a particular period by its average population for the year. GDP refers to the total value of final (as opposed to interim, or work-in-progress) goods and services produced within a country’s borders during a specific calendar period such as quarterly or annually. While GDP is the most widely used measure of a country’s economic activity, per capita GDP is a better indicator of a nation’s living standards since it adjusts for population.', 'question_id': 2348, 'answer_choices': ['Yes', 'No', 'Unknown', 'Unanswerable'], 'answer_id': 0}, {'image_id': '/content/drive/MyDrive/2ReadyForFineTuning/VLQAv1/Charts/images/gdp-per-capita-ppp_IndiaVsPakistan.png', 'question': 'Which year the difference between the two countries where largest? The figure show the GDP per capita (PPP) of India and Pakistan over the years from 2011 to 2017. A country’s Gross Domestic Product (GDP) per person is obtained by dividing its GDP for a particular period by its average population for the year. GDP refers to the total value of final (as opposed to interim, or work-in-progress) goods and services produced within a country’s borders during a specific calendar period such as quarterly or annually. While GDP is the most widely used measure of a country’s economic activity, per capita GDP is a better indicator of a nation’s living standards since it adjusts for population.', 'question_id': 2349, 'answer_choices': ['2011', '2012', '2015', '2017'], 'answer_id': 3}, {'image_id': '/content/drive/MyDrive/2ReadyForFineTuning/VLQAv1/Charts/images/public-debt_GhanaVsNigeria.png', 'question': \"Which year was risk of investment highest in Ghana? The figure show the public debt(PPP) on Ghana and Nigeria over the years from 2012 to 2017. The public debt is how much a country owes to lenders outside of itself or accumulation of annual budget deficits. The debt-to-GDP ratio gives an indication of how likely the country can pay off its debt. Investors usually don't become concerned until the debt-to-GDP ratio reaches a critical level. When it appears the debt is approaching a critical level, investors usually start demanding a higher interest rate. They want more return for the higher risk. Cameroon, another South African country having same debt to gdp ratio as Nigeria.\", 'question_id': 2350, 'answer_choices': ['2016', '2012', '2015', '2017'], 'answer_id': 0}, {'image_id': '/content/drive/MyDrive/2ReadyForFineTuning/VLQAv1/Charts/images/public-debt_GhanaVsNigeria.png', 'question': \"Does interest rates on debt higher in Cameroon than Ghana? The figure show the public debt(PPP) on Ghana and Nigeria over the years from 2012 to 2017. The public debt is how much a country owes to lenders outside of itself or accumulation of annual budget deficits. The debt-to-GDP ratio gives an indication of how likely the country can pay off its debt. Investors usually don't become concerned until the debt-to-GDP ratio reaches a critical level. When it appears the debt is approaching a critical level, investors usually start demanding a higher interest rate. They want more return for the higher risk. Cameroon, another South African country having same debt to gdp ratio as Nigeria.\", 'question_id': 2351, 'answer_choices': ['True', 'False', 'Unknown', 'Unanswerable'], 'answer_id': 1}, {'image_id': '/content/drive/MyDrive/2ReadyForFineTuning/VLQAv1/Charts/images/public-debt_GhanaVsNigeria.png', 'question': \"Which country you should invest when you want low risk? The figure show the public debt(PPP) on Ghana and Nigeria over the years from 2012 to 2017. The public debt is how much a country owes to lenders outside of itself or accumulation of annual budget deficits. The debt-to-GDP ratio gives an indication of how likely the country can pay off its debt. Investors usually don't become concerned until the debt-to-GDP ratio reaches a critical level. When it appears the debt is approaching a critical level, investors usually start demanding a higher interest rate. They want more return for the higher risk. Cameroon, another South African country having same debt to gdp ratio as Nigeria.\", 'question_id': 2352, 'answer_choices': ['Cameroon', 'Ghana', 'China', 'South Africa'], 'answer_id': 0}, {'image_id': '/content/drive/MyDrive/2ReadyForFineTuning/VLQAv1/Charts/images/PRE_1.png', 'question': 'What is the exchange rate of North Macedonia in the year 2015? The graph shows the exchange rates of India and Singapore from 2013-2017. Exchange rate is the rate at which one currency will be exchanged for another. Exchange rate and currency value are inversely related to each other. The given plot is showing exchange rate with United States of America currency. The exchange rate of North Macedonia is similar to India’s value from 2014-2016. Foreign exchange earnings are less than foreign exchange expenditures, exchange rate increases, and currency value depreciates.', 'question_id': 2353, 'answer_choices': [50, 53, 67, 60], 'answer_id': 2}, {'image_id': '/content/drive/MyDrive/2ReadyForFineTuning/VLQAv1/Charts/images/PRE_1.png', 'question': 'Which country is having same ratio of foreign exchange earnings to expenditure in the years 2013 and 2017? The graph shows the exchange rates of India and Singapore from 2013-2017. Exchange rate is the rate at which one currency will be exchanged for another. Exchange rate and currency value are inversely related to each other. The given plot is showing exchange rate with United States of America currency. The exchange rate of North Macedonia is similar to India’s value from 2014-2016. Foreign exchange earnings are less than foreign exchange expenditures, exchange rate increases, and currency value depreciates.', 'question_id': 2354, 'answer_choices': ['India', 'North Macedonia', 'Singapore', 'USA'], 'answer_id': 2}, {'image_id': '/content/drive/MyDrive/2ReadyForFineTuning/VLQAv1/Charts/images/PRE_1.png', 'question': 'Which year describes India’s best currency value? The graph shows the exchange rates of India and Singapore from 2013-2017. Exchange rate is the rate at which one currency will be exchanged for another. Exchange rate and currency value are inversely related to each other. The given plot is showing exchange rate with United States of America currency. The exchange rate of North Macedonia is similar to India’s value from 2014-2016. Foreign exchange earnings are less than foreign exchange expenditures, exchange rate increases, and currency value depreciates.', 'question_id': 2355, 'answer_choices': ['2017', '2013', '2015', '2014'], 'answer_id': 3}, {'image_id': '/content/drive/MyDrive/2ReadyForFineTuning/VLQAv1/Charts/images/PRE_10.png', 'question': 'France is having constant unemployment rate due to Unemployment rate refers to the percentage of population who are looking for jobs and are not employed yet. Several factors affect the unemployment rate. More the imports more is the unemployment. Country with less unemployment rate is said to have people with more Life satisfaction.', 'question_id': 2356, 'answer_choices': ['Increase in imports', 'Decrease in imports', 'Fixed rate in imports', 'Less exports'], 'answer_id': 2}, {'image_id': '/content/drive/MyDrive/2ReadyForFineTuning/VLQAv1/Charts/images/PRE_10.png', 'question': 'What has happened to India from 2016-2017 with respect to imports? Unemployment rate refers to the percentage of population who are looking for jobs and are not employed yet. Several factors affect the unemployment rate. More the imports more is the unemployment. Country with less unemployment rate is said to have people with more Life satisfaction.', 'question_id': 2357, 'answer_choices': ['Increased', 'Decreased', 'Constant', 'In-sufficient information'], 'answer_id': 1}, {'image_id': '/content/drive/MyDrive/2ReadyForFineTuning/VLQAv1/Charts/images/PRE_10.png', 'question': 'As per the inference made on Life Satisfaction, which country is more likely to have an improvement in it. Unemployment rate refers to the percentage of population who are looking for jobs and are not employed yet. Several factors affect the unemployment rate. More the imports more is the unemployment. Country with less unemployment rate is said to have people with more Life satisfaction.', 'question_id': 2358, 'answer_choices': ['India', 'France', 'both the countries', 'None of the countries'], 'answer_id': 0}, {'image_id': '/content/drive/MyDrive/2ReadyForFineTuning/VLQAv1/Charts/images/PRE_11.png', 'question': 'Which country is most likely to have more claims in 2016-2017? Unemployment rate refers to the percentage of population who are looking for jobs and are not employed yet. Reshuffling of workers results in increase in unemployment. Advances in new technologies( like building robots and computers which have same intelligence as humans) results in unemployment. Trade-exposed labor markets have more unemployment which results in more claims for unemployment. Advanced education is better than basic education which reduces the unemployment rate', 'question_id': 2359, 'answer_choices': ['India', 'France', 'Australia', 'United States'], 'answer_id': 0}, {'image_id': '/content/drive/MyDrive/2ReadyForFineTuning/VLQAv1/Charts/images/PRE_11.png', 'question': 'Which country is more advanced in terms of Technology? Unemployment rate refers to the percentage of population who are looking for jobs and are not employed yet. Reshuffling of workers results in increase in unemployment. Advances in new technologies( like building robots and computers which have same intelligence as humans) results in unemployment. Trade-exposed labor markets have more unemployment which results in more claims for unemployment. Advanced education is better than basic education which reduces the unemployment rate', 'question_id': 2360, 'answer_choices': ['France', 'India', 'Sri Lanka', 'Nepal'], 'answer_id': 1}, {'image_id': '/content/drive/MyDrive/2ReadyForFineTuning/VLQAv1/Charts/images/PRE_11.png', 'question': 'How is the trend of advanced education in India for the year 2016-2017? Unemployment rate refers to the percentage of population who are looking for jobs and are not employed yet. Reshuffling of workers results in increase in unemployment. Advances in new technologies( like building robots and computers which have same intelligence as humans) results in unemployment. Trade-exposed labor markets have more unemployment which results in more claims for unemployment. Advanced education is better than basic education which reduces the unemployment rate', 'question_id': 2361, 'answer_choices': ['Increased', 'Decreased', 'Constant', 'Cannot be determined'], 'answer_id': 0}, {'image_id': '/content/drive/MyDrive/2ReadyForFineTuning/VLQAv1/Charts/images/4.png', 'question': 'A land area with a biotemperature of 15C, a 3.5 potential evapotranspiration ratio and 300 mm of annual precipitation will fall in which category? The Holdridge life zones system is a global bioclimatic scheme for the classification of land areas. Although conceived as three-dimensional by its originator, it is usually shown as a two-dimensional array of hexagons in a triangular frame. The three axes of the subdivisions are: - annual precipitation (shown in blue), biotemperature (shown in green) and potential evapotranspiration ratio (shown in red). Further indicators incorporated into the system are - humidity provinces, latitudinal regions and altitudinal belts.', 'question_id': 2362, 'answer_choices': ['Desert', 'Woodland', 'Tundra', 'Rain forest'], 'answer_id': 1}, {'image_id': '/content/drive/MyDrive/2ReadyForFineTuning/VLQAv1/Charts/images/4.png', 'question': 'Which of the following combinations does not fall under desert category? The Holdridge life zones system is a global bioclimatic scheme for the classification of land areas. Although conceived as three-dimensional by its originator, it is usually shown as a two-dimensional array of hexagons in a triangular frame. The three axes of the subdivisions are: - annual precipitation (shown in blue), biotemperature (shown in green) and potential evapotranspiration ratio (shown in red). Further indicators incorporated into the system are - humidity provinces, latitudinal regions and altitudinal belts.', 'question_id': 2363, 'answer_choices': ['Polar latitudinal region with annual precipitation of 400mm', 'Subalpine altitudinal belt with a potential evapotranspiration ratio of 3', 'Tropical latitudinal region with annual precipitation of 100mm', 'Alpine altitudinal belt with a potential evapotranspiration ratio of 1.5'], 'answer_id': 3}, {'image_id': '/content/drive/MyDrive/2ReadyForFineTuning/VLQAv1/Charts/images/4.png', 'question': 'Which of the following combinations does not exist? The Holdridge life zones system is a global bioclimatic scheme for the classification of land areas. Although conceived as three-dimensional by its originator, it is usually shown as a two-dimensional array of hexagons in a triangular frame. The three axes of the subdivisions are: - annual precipitation (shown in blue), biotemperature (shown in green) and potential evapotranspiration ratio (shown in red). Further indicators incorporated into the system are - humidity provinces, latitudinal regions and altitudinal belts.', 'question_id': 2364, 'answer_choices': ['Sub-humid humidity province in Alpine altitudinal belt', 'An arid humidity province with a biotemperature of 2C', 'A super-humid humidity province in subpolar latitudinal region', 'A subtropical latitudinal region with a biotemperature of 20'], 'answer_id': 1}, {'image_id': '/content/drive/MyDrive/2ReadyForFineTuning/VLQAv1/Charts/images/14.png', 'question': 'Which pair of notes are separated by a half tone interval? The given figure shows the notes of the musical alphabet as a cyclic chromatic scale. The chromatic scale is usually notated with sharp(#) signs when ascending and flat(b) signs when descending. The interval between two adjacent notes is called a half tone. An interval of two semitones is called a whole tone. The sequence of intervals between the notes of a major scale is: whole, whole, half, whole, whole, whole, half. The intervals between the notes of a minor scale follow the sequence below: whole, half, whole, whole, half, whole, whole.', 'question_id': 2365, 'answer_choices': ['D, E', 'E, F', 'F, G', 'G, A'], 'answer_id': 1}, {'image_id': '/content/drive/MyDrive/2ReadyForFineTuning/VLQAv1/Charts/images/14.png', 'question': 'Which pair of notes are not separated by a whole tone interval? The given figure shows the notes of the musical alphabet as a cyclic chromatic scale. The chromatic scale is usually notated with sharp(#) signs when ascending and flat(b) signs when descending. The interval between two adjacent notes is called a half tone. An interval of two semitones is called a whole tone. The sequence of intervals between the notes of a major scale is: whole, whole, half, whole, whole, whole, half. The intervals between the notes of a minor scale follow the sequence below: whole, half, whole, whole, half, whole, whole.', 'question_id': 2366, 'answer_choices': ['A, B', 'B, C', 'C, D', 'D, E'], 'answer_id': 1}, {'image_id': '/content/drive/MyDrive/2ReadyForFineTuning/VLQAv1/Charts/images/14.png', 'question': 'Which note will not generate any notes with sharp or flat signs if the intervals of the major scale are followed? The given figure shows the notes of the musical alphabet as a cyclic chromatic scale. The chromatic scale is usually notated with sharp(#) signs when ascending and flat(b) signs when descending. The interval between two adjacent notes is called a half tone. An interval of two semitones is called a whole tone. The sequence of intervals between the notes of a major scale is: whole, whole, half, whole, whole, whole, half. The intervals between the notes of a minor scale follow the sequence below: whole, half, whole, whole, half, whole, whole.', 'question_id': 2367, 'answer_choices': ['Bb', 'F', 'C', 'G'], 'answer_id': 2}, {'image_id': '/content/drive/MyDrive/2ReadyForFineTuning/VLQAv1/Charts/images/14.png', 'question': 'Which note will not generate any notes with sharp or flat signs if the intervals of the minor scale are followed? The given figure shows the notes of the musical alphabet as a cyclic chromatic scale. The chromatic scale is usually notated with sharp(#) signs when ascending and flat(b) signs when descending. The interval between two adjacent notes is called a half tone. An interval of two semitones is called a whole tone. The sequence of intervals between the notes of a major scale is: whole, whole, half, whole, whole, whole, half. The intervals between the notes of a minor scale follow the sequence below: whole, half, whole, whole, half, whole, whole.', 'question_id': 2368, 'answer_choices': ['A', 'D', 'G', 'C'], 'answer_id': 0}, {'image_id': '/content/drive/MyDrive/2ReadyForFineTuning/VLQAv1/Charts/images/11.png', 'question': 'The percentage of disabled women in Lower managerial positions is greater than the percentage of disabled men in Higher managerial positions by how much? The given figure shows the percentage rates of disability by socio-economic occupations in England and Wales. In the 2011 census, respondents were asked whether their day-to-day activities were ‘Not Limited’, ‘Limited a Lot’ or ‘Limited a Little’. Those assessing themselves as limited can be classified as having a disability. The National Statistics Socio-Economic Classification classifies occupations into seven classes. Higher managerial positions (doctors, lawyers, architects) belong to Class 1. Lower managerial positions (nurses, teachers, journalists) belong to Class 2. Intermediate positions (paramedics, bank staff) belong to Class 3. Small employers (farmers, shopkeepers and driving instructors) belong to Class 4. Lower supervisory positions (plumbers, chefs, electricians) belong to Class 5. Semi-routine positions (receptionists, telephone salesperson) belong to Class 6. Routine positions (labourers, bar staff, lorry drivers) belong to Class 7.', 'question_id': 2369, 'answer_choices': [2.7, 3.4, 1.7, 5.1], 'answer_id': 3}, {'image_id': '/content/drive/MyDrive/2ReadyForFineTuning/VLQAv1/Charts/images/11.png', 'question': 'The percentage of disabled men in a particular occupation lies between 20 to 25%. Which of the following is most likely to be that occupation? The given figure shows the percentage rates of disability by socio-economic occupations in England and Wales. In the 2011 census, respondents were asked whether their day-to-day activities were ‘Not Limited’, ‘Limited a Lot’ or ‘Limited a Little’. Those assessing themselves as limited can be classified as having a disability. The National Statistics Socio-Economic Classification classifies occupations into seven classes. Higher managerial positions (doctors, lawyers, architects) belong to Class 1. Lower managerial positions (nurses, teachers, journalists) belong to Class 2. Intermediate positions (paramedics, bank staff) belong to Class 3. Small employers (farmers, shopkeepers and driving instructors) belong to Class 4. Lower supervisory positions (plumbers, chefs, electricians) belong to Class 5. Semi-routine positions (receptionists, telephone salesperson) belong to Class 6. Routine positions (labourers, bar staff, lorry drivers) belong to Class 8', 'question_id': 2370, 'answer_choices': ['Nurse', 'Bar Staff', 'Bank Staff', 'Receptionist'], 'answer_id': 2}, {'image_id': '/content/drive/MyDrive/2ReadyForFineTuning/VLQAv1/Charts/images/11.png', 'question': 'The percentage of disabled men in a particular occupation is greater than the percentage of disabled women. Which of the following is most likely to be that occupation? The given figure shows the percentage rates of disability by socio-economic occupations in England and Wales. In the 2011 census, respondents were asked whether their day-to-day activities were ‘Not Limited’, ‘Limited a Lot’ or ‘Limited a Little’. Those assessing themselves as limited can be classified as having a disability. The National Statistics Socio-Economic Classification classifies occupations into seven classes. Higher managerial positions (doctors, lawyers, architects) belong to Class 1. Lower managerial positions (nurses, teachers, journalists) belong to Class 2. Intermediate positions (paramedics, bank staff) belong to Class 3. Small employers (farmers, shopkeepers and driving instructors) belong to Class 4. Lower supervisory positions (plumbers, chefs, electricians) belong to Class 5. Semi-routine positions (receptionists, telephone salesperson) belong to Class 6. Routine positions (labourers, bar staff, lorry drivers) belong to Class 9', 'question_id': 2371, 'answer_choices': ['Receptionist', 'Nurse', 'Doctor', 'Farmer'], 'answer_id': 0}, {'image_id': '/content/drive/MyDrive/2ReadyForFineTuning/VLQAv1/Charts/images/17.png', 'question': 'Which of the following nucleotide triplets does not synthesize Ser (S)? The genetic code is the set of rules used by living cells to translate information encoded within genetic material into proteins. The code defines how sequences of nucleotide triplets, called codons, specify which amino acid will be added next during protein synthesis. With some exceptions, a three-nucleotide codon in a nucleic acid sequence specifies a single amino acid. The figure below shows which sequence of triplets generate a particular amino acid. The innermost circle corresponds to the first nucleotide in the triplet while the outermost circle corresponds to the last nucleotide in the triplet. Thus GAG will synthesize Glu (E).', 'question_id': 2372, 'answer_choices': ['TCC', 'TCT', 'AGA', 'AGT'], 'answer_id': 2}, {'image_id': '/content/drive/MyDrive/2ReadyForFineTuning/VLQAv1/Charts/images/17.png', 'question': 'Which amino acid is synthesized for the nucleotide triplet sequence TGC? The genetic code is the set of rules used by living cells to translate information encoded within genetic material into proteins. The code defines how sequences of nucleotide triplets, called codons, specify which amino acid will be added next during protein synthesis. With some exceptions, a three-nucleotide codon in a nucleic acid sequence specifies a single amino acid. The figure below shows which sequence of triplets generate a particular amino acid. The innermost circle corresponds to the first nucleotide in the triplet while the outermost circle corresponds to the last nucleotide in the triplet. Thus GAG will synthesize Glu (E).', 'question_id': 2373, 'answer_choices': ['Arg (R)', 'Val (V)', 'Cys (C)', 'Trp (W)'], 'answer_id': 2}, {'image_id': '/content/drive/MyDrive/2ReadyForFineTuning/VLQAv1/Charts/images/Electricity-Gen.png', 'question': 'How many categories of electricity production is sourced from in the year 2016? The above pie chart shows percentage of source of electricity production for a country. The three major categories of energy for electricity generation are fossil fuels (coal, natural gas, and petroleum), nuclear energy, and renewable energy sources (Wind, Hydro power plants and Solar). In 2017 after the opening of neuclear power plant the electricity generated from the plant reduced electricity generation from coal by 50%.', 'question_id': 2374, 'answer_choices': [1, 2, 3, 0], 'answer_id': 1}, {'image_id': '/content/drive/MyDrive/2ReadyForFineTuning/VLQAv1/Charts/images/Electricity-Gen.png', 'question': 'Given the data how much percent does renewable energy sources account for in total electricity suply? The above pie chart shows percentage of source of electricity production for a country. The three major categories of energy for electricity generation are fossil fuels (coal, natural gas, and petroleum), nuclear energy, and renewable energy sources (Wind, Hydro power plants and Solar). In 2017 after the opening of neuclear power plant the electricity generated from the plant reduced electricity generation from coal by 50%.', 'question_id': 2375, 'answer_choices': ['50%', '27%', '35%', '5%'], 'answer_id': 1}, {'image_id': '/content/drive/MyDrive/2ReadyForFineTuning/VLQAv1/Charts/images/Electricity-Gen.png', 'question': 'Given the data, In year 2017 how much percent does fossil fuel account for in total electricity suply? The above pie chart shows percentage of source of electricity production for a country. The three major categories of energy for electricity generation are fossil fuels (coal, natural gas, and petroleum), nuclear energy, and renewable energy sources (Wind, Hydro power plants and Solar). In 2017 after the opening of neuclear power plant the electricity generated from the plant reduced electricity generation from coal by 50%.', 'question_id': 2376, 'answer_choices': ['50%', '27%', '23%', '75%'], 'answer_id': 0}, {'image_id': '/content/drive/MyDrive/2ReadyForFineTuning/VLQAv1/Charts/images/transportation.png', 'question': 'How much percent of total population uses a healthy mode of transportation? The given pie chart displays mode of transportation of people of a certain city. The population of the city is 2 million. The mode of transportation can be classified as private (Cycle, Car) or public (bus, taxi). Walking and cycle is considered as a healthy mode of transportation as it requires physical efforts.', 'question_id': 2377, 'answer_choices': ['19%', '16%', '35%', '25%'], 'answer_id': 2}, {'image_id': '/content/drive/MyDrive/2ReadyForFineTuning/VLQAv1/Charts/images/transportation.png', 'question': 'Given the data how much percent people use public mode of transportation? The given pie chart displays mode of transportation of people of a certain city. The population of the city is 2 million. The mode of transportation can be classified as private (Cycle, Car) or public (bus, taxi). Walking and cycle is considered as a healthy mode of transportation as it requires physical efforts.', 'question_id': 2378, 'answer_choices': ['50%', '41%', '35%', '32%'], 'answer_id': 1}, {'image_id': '/content/drive/MyDrive/2ReadyForFineTuning/VLQAv1/Charts/images/transportation.png', 'question': 'What is the total number of people who prefer walking? The given pie chart displays mode of transportation of people of a certain city. The population of the city is 2 million. The mode of transportation can be classified as private (Cycle, Car) or public (bus, taxi). Walking and cycle is considered as a healthy mode of transportation as it requires physical efforts.', 'question_id': 2379, 'answer_choices': ['0.3 million', '0.38 million', '1.0 million', '0.7 million'], 'answer_id': 1}, {'image_id': '/content/drive/MyDrive/2ReadyForFineTuning/VLQAv1/Charts/images/Delivery-method.png', 'question': 'How much amount total the company earns from delivery by air? The given donut chart shows the distribution of preferred delivery option for a certain company. Considering the company gets 100,000 customers a month. The cost of delivery for each mode of delivery is $10 for Regular air, $5 for Delivery truck and $25 for Express Air services. The total expenditure of the company is $850,000 for the same month.', 'question_id': 2380, 'answer_choices': ['$710000', '$510000', '$350000', '$540000'], 'answer_id': 0}, {'image_id': '/content/drive/MyDrive/2ReadyForFineTuning/VLQAv1/Charts/images/Delivery-method.png', 'question': 'How much is total profit of the company? The given donut chart shows the distribution of preferred delivery option for a certain company. Considering the company gets 100,000 customers a month. The cost of delivery for each mode of delivery is $10 for Regular air, $5 for Delivery truck and $25 for Express Air services. The total expenditure of the company is $850,000 for the same month.', 'question_id': 2381, 'answer_choices': ['$15000', '$65000', '$30000', '$105000'], 'answer_id': 1}, {'image_id': '/content/drive/MyDrive/2ReadyForFineTuning/VLQAv1/Charts/images/prog-lang.png', 'question': 'What language got the popularity increase in 2018? The given graph talks about the popularity of programming languages in 2014. Computer programming languages allow us to give instructions to a computer in a language the computer understands. Just as many human-based languages exist, there are an array of computer programming languages that programmers can use to communicate with a computer. Thousands of programming languages exist, but there are some trusty ones that developers turn to again and again. In a survey in 2018, the popularity of languages are Java 24%, JavaScript 29%, python 22%, C++ 8%, Php 10%, C# 7%.', 'question_id': 2382, 'answer_choices': ['Java', 'JavaScript', 'python', 'C#'], 'answer_id': 1}, {'image_id': '/content/drive/MyDrive/2ReadyForFineTuning/VLQAv1/Charts/images/prog-lang.png', 'question': 'How many languages are popular than JavaScript in 2014? The given graph talks about the popularity of programming languages in 2014. Computer programming languages allow us to give instructions to a computer in a language the computer understands. Just as many human-based languages exist, there are an array of computer programming languages that programmers can use to communicate with a computer. Thousands of programming languages exist, but there are some trusty ones that developers turn to again and again. In a survey in 2018, the popularity of languages are Java 24%, JavaScript 29%, python 22%, C++ 8%, Php 10%, C# 7%.', 'question_id': 2383, 'answer_choices': [3, 2, 4, 0], 'answer_id': 0}, {'image_id': '/content/drive/MyDrive/2ReadyForFineTuning/VLQAv1/Charts/images/prog-lang.png', 'question': 'How many languages are popular than Java in 2018? The given graph talks about the popularity of programming languages in 2014. Computer programming languages allow us to give instructions to a computer in a language the computer understands. Just as many human-based languages exist, there are an array of computer programming languages that programmers can use to communicate with a computer. Thousands of programming languages exist, but there are some trusty ones that developers turn to again and again. In a survey in 2018, the popularity of languages are Java 24%, JavaScript 29%, python 22%, C++ 8%, Php 10%, C# 7%.', 'question_id': 2384, 'answer_choices': [3, 2, 1, 0], 'answer_id': 2}, {'image_id': '/content/drive/MyDrive/2ReadyForFineTuning/VLQAv1/Charts/images/prog-lang.png', 'question': 'How many languages lost popularity coming in 2018? The given graph talks about the popularity of programming languages in 2014. Computer programming languages allow us to give instructions to a computer in a language the computer understands. Just as many human-based languages exist, there are an array of computer programming languages that programmers can use to communicate with a computer. Thousands of programming languages exist, but there are some trusty ones that developers turn to again and again. In a survey in 2018, the popularity of languages are Java 24%, JavaScript 29%, python 22%, C++ 8%, Php 10%, C# 7%.', 'question_id': 2385, 'answer_choices': [3, 2, 4, 5], 'answer_id': 3}, {'image_id': '/content/drive/MyDrive/2ReadyForFineTuning/VLQAv1/Charts/images/prog-lang.png', 'question': 'In the data given, have java been always more popular than python? The given graph talks about the popularity of programming languages in 2014. Computer programming languages allow us to give instructions to a computer in a language the computer understands. Just as many human-based languages exist, there are an array of computer programming languages that programmers can use to communicate with a computer. Thousands of programming languages exist, but there are some trusty ones that developers turn to again and again. In a survey in 2018, the popularity of languages are Java 24%, JavaScript 29%, python 22%, C++ 8%, Php 10%, C# 7%.', 'question_id': 2386, 'answer_choices': ['Yes', 'No', 'Unknown', 'Unanswerable'], 'answer_id': 0}, {'image_id': '/content/drive/MyDrive/2ReadyForFineTuning/VLQAv1/Charts/images/PRE_2.png', 'question': 'Which two European countries have same government expenditure? The donut chart shows the percentages of GDP composition by Government Consumption for the year 2013. Italy, Spain, Germany and Denmark belong to Europe region. Government Consumption consists of government expenditures on goods and services. The percentage of Government Consumption of every country is correlated to its debt. The countries above 18% of Government Consumption are added to the list of IMF (International Monetary Fund) to relieve the debt burden.', 'question_id': 2387, 'answer_choices': ['Poland, Italy', 'Italy, Spain', 'Spain, Denmark', 'Zimbabwe, Denmark'], 'answer_id': 1}, {'image_id': '/content/drive/MyDrive/2ReadyForFineTuning/VLQAv1/Charts/images/PRE_2.png', 'question': 'Which country is heavily indebted after Denmark? The donut chart shows the percentages of GDP composition by Government Consumption for the year 2013. Italy, Spain, Germany and Denmark belong to Europe region. Government Consumption consists of government expenditures on goods and services. The percentage of Government Consumption of every country is correlated to its debt. The countries above 18% of Government Consumption are added to the list of IMF (International Monetary Fund) to relieve the debt burden.', 'question_id': 2388, 'answer_choices': ['Italy', 'Spain', 'Zimbabwe', 'Germany'], 'answer_id': 2}, {'image_id': '/content/drive/MyDrive/2ReadyForFineTuning/VLQAv1/Charts/images/PRE_2.png', 'question': 'As per the IMF criteria, how many countries are added to the list The donut chart shows the percentages of GDP composition by Government Consumption for the year 2013. Italy, Spain, Germany and Denmark belong to Europe region. Government Consumption consists of government expenditures on goods and services. The percentage of Government Consumption of every country is correlated to its debt. The countries above 18% of Government Consumption are added to the list of IMF (International Monetary Fund) to relieve the debt burden.', 'question_id': 2389, 'answer_choices': [1, 2, 3, 4], 'answer_id': 2}, {'image_id': '/content/drive/MyDrive/2ReadyForFineTuning/VLQAv1/Charts/images/PRE_8.png', 'question': 'Which country is most likely to have more electrical appliances? The above pie chart shows the percentage amount of total electricity generated annually plus imports and minor exports for each of the countries listed in the legend. The correlation analysis reveals that GDP keeps a high relationship with the installation of electrical appliances and eventually leads to an increase in residential electricity consumption.', 'question_id': 2390, 'answer_choices': ['India', 'China', 'Russia', 'Germany'], 'answer_id': 1}, {'image_id': '/content/drive/MyDrive/2ReadyForFineTuning/VLQAv1/Charts/images/PRE_8.png', 'question': 'Which country is standing 2nd  next to Russia for percentage of electricity consumption to GDP? The above pie chart shows the percentage amount of total electricity generated annually plus imports and minor exports for each of the countries listed in the legend. The correlation analysis reveals that GDP keeps a high relationship with the installation of electrical appliances and eventually leads to an increase in residential electricity consumption.', 'question_id': 2391, 'answer_choices': ['Nigeria', 'India', 'China', 'Germany'], 'answer_id': 0}, {'image_id': '/content/drive/MyDrive/2ReadyForFineTuning/VLQAv1/Charts/images/PRE_8.png', 'question': 'How many countries have less value of electricity consumption to GDP when compared with India? The above pie chart shows the percentage amount of total electricity generated annually plus imports and minor exports for each of the countries listed in the legend. The correlation analysis reveals that GDP keeps a high relationship with the installation of electrical appliances and eventually leads to an increase in residential electricity consumption.', 'question_id': 2392, 'answer_choices': [1, 5, 4, 3], 'answer_id': 2}, {'image_id': '/content/drive/MyDrive/2ReadyForFineTuning/VLQAv1/Charts/images/PRE_14.png', 'question': 'As per the given data, which country is expected to have the least economy? The above visualization shows the number of mobile cellular subscriptions with an average of 100 inhabitants per country. In telecommunications, competition in the marketplace, along with sound regulation, is lowering costs, improving quality, and easing access to services around the globe. Access to telecommunication services rose on an unprecedented scale over the past two decades. Increase in the telecommunication has a direct impact on the economy. The increase in telecommunication signals has more effect on the nature impacting the life of bird species', 'question_id': 2393, 'answer_choices': ['Kuwait', 'Seychelles', 'Paraguay', 'Vanuatu'], 'answer_id': 3}, {'image_id': '/content/drive/MyDrive/2ReadyForFineTuning/VLQAv1/Charts/images/PRE_14.png', 'question': 'According to the given data, which country is having better economy than Kuwait? The above visualization shows the number of mobile cellular subscriptions with an average of 100 inhabitants per country. In telecommunications, competition in the marketplace, along with sound regulation, is lowering costs, improving quality, and easing access to services around the globe. Access to telecommunication services rose on an unprecedented scale over the past two decades. Increase in the telecommunication has a direct impact on the economy. The increase in telecommunication signals has more effect on the nature impacting the life of bird species', 'question_id': 2394, 'answer_choices': ['Portugal', 'United Arab Emirates', 'Sweden', 'Iceland'], 'answer_id': 1}, {'image_id': '/content/drive/MyDrive/2ReadyForFineTuning/VLQAv1/Charts/images/PRE_14.png', 'question': 'Based on the data provided, what are the two countries that might have threat to the bird species? The above visualization shows the number of mobile cellular subscriptions with an average of 100 inhabitants per country. In telecommunications, competition in the marketplace, along with sound regulation, is lowering costs, improving quality, and easing access to services around the globe. Access to telecommunication services rose on an unprecedented scale over the past two decades. Increase in the telecommunication has a direct impact on the economy. The increase in telecommunication signals has more effect on the nature impacting the life of bird species', 'question_id': 2395, 'answer_choices': ['United Arab Emirates, Kuwait', 'Paraguay, Vanuatu', 'Sweden, Iceland', 'Bahamas, Portugal'], 'answer_id': 0}, {'image_id': '/content/drive/MyDrive/2ReadyForFineTuning/VLQAv1/Charts/images/23.png', 'question': 'What is the expected population of people below poverty line in United States next year? Above visualization shows the current poverty rate distribution across countries. Over the years, the rate of people living in absolute poverty has been declining. For the past few years, it is steadily declining at a rate of 3% every year. Given the population of United states, United Kingdom, Indonesia, Iraq and pakistan are 320 million, 66 million, 264 million, 38 million and 197 million respectively for the current year.', 'question_id': 2396, 'answer_choices': ['38.4 million', '45 million', '30 million', '4 million'], 'answer_id': 0}, {'image_id': '/content/drive/MyDrive/2ReadyForFineTuning/VLQAv1/Charts/images/23.png', 'question': 'If this decline is steady for upcoming years, how long it will take for United Kingdom to reduce it’s people below poverty range percentage to 3%? Above visualization shows the current poverty rate distribution across countries. Over the years, the rate of people living in absolute poverty has been declining. For the past few years, it is steadily declining at a rate of 3% every year. Given the population of United states, United Kingdom, Indonesia, Iraq and pakistan are 320 million, 66 million, 264 million, 38 million and 197 million respectively for the current year.', 'question_id': 2397, 'answer_choices': ['3 years', '4 years', '5 years', '1 year'], 'answer_id': 1}, {'image_id': '/content/drive/MyDrive/2ReadyForFineTuning/VLQAv1/Charts/images/23.png', 'question': 'Based on the data, which country quantitatively has the least population of people below poverty line? Above visualization shows the current poverty rate distribution across countries. Over the years, the rate of people living in absolute poverty has been declining. For the past few years, it is steadily declining at a rate of 3% every year. Given the population of United states, United Kingdom, Indonesia, Iraq and pakistan are 320 million, 66 million, 264 million, 38 million and 197 million respectively for the current year.', 'question_id': 2398, 'answer_choices': ['Pakistan', 'United States', 'United Kingdom', 'Iraq'], 'answer_id': 3}, {'image_id': '/content/drive/MyDrive/2ReadyForFineTuning/VLQAv1/Charts/images/23.png', 'question': 'From the inferred correlation, which country people among the given is expected to have the least life expectancy? Above visualization shows the percentage of people below poverty line across countries. It is inferred that there is a clear negative relationship between life expectancy and poverty rate. That is, people tend to live longer in countries where poverty is less common.', 'question_id': 2399, 'answer_choices': ['United Kingdom', 'Indonesia', 'Iraq', 'Pakistan'], 'answer_id': 3}, {'image_id': '/content/drive/MyDrive/2ReadyForFineTuning/VLQAv1/Charts/images/23.png', 'question': 'Which two countries has almost same life expectancy? Above visualization shows the percentage of people below poverty line across countries. It is inferred that there is a clear negative relationship between life expectancy and poverty rate. That is, people tend to live longer in countries where poverty is less common.', 'question_id': 2400, 'answer_choices': ['United Kingdom and United States', 'Pakistan and Iraq', 'Iraq and Indonesia', 'Indonesia and Pakistan'], 'answer_id': 0}, {'image_id': '/content/drive/MyDrive/2ReadyForFineTuning/VLQAv1/Charts/images/23.png', 'question': 'Which country comparatively has better life expectancy than United states ? Above visualization shows the percentage of people below poverty line across countries. It is inferred that there is a clear negative relationship between life expectancy and poverty rate. That is, people tend to live longer in countries where poverty is less common.', 'question_id': 2401, 'answer_choices': ['United Kingdom', 'Indonesia', 'Iraq', 'Pakistan'], 'answer_id': 1}, {'image_id': '/content/drive/MyDrive/2ReadyForFineTuning/VLQAv1/Charts/images/24.png', 'question': 'What would have been the nearest value of fertility rate of women in India by 1969? The visualization above shows the children born per average woman present day in countries across the world. The made inference states that the global fertility rate has halved in the last 50 years.', 'question_id': 2402, 'answer_choices': ['1 child born/woman', '5 children/woman', '6 children/woman', '3 children/woman'], 'answer_id': 1}, {'image_id': '/content/drive/MyDrive/2ReadyForFineTuning/VLQAv1/Charts/images/24.png', 'question': 'From given values, How many countries would have had above 4 children/woman as fertility rate back in 1969? The visualization above shows the children born per average woman present day in countries across the world. The made inference states that the global fertility rate has halved in the last 50 years.', 'question_id': 2403, 'answer_choices': [3, 4, 2, 1], 'answer_id': 0}, {'image_id': '/content/drive/MyDrive/2ReadyForFineTuning/VLQAv1/Charts/images/24.png', 'question': 'If this continues at the same percentage, what would be the fertility rate of women in canada by 2069? The visualization above shows the children born per average woman present day in countries across the world. The made inference states that the global fertility rate has halved in the last 50 years.', 'question_id': 2404, 'answer_choices': ['1.5 children/woman', '0.8 children/woman', '1.2 children/woman', '1.6 children/woman'], 'answer_id': 1}, {'image_id': '/content/drive/MyDrive/2ReadyForFineTuning/VLQAv1/Charts/images/24.png', 'question': 'From becker’s argument, which country is likely to have made good improvement in women’s education for the past 5 years? The above visualization shows the current fertility rate of women in countries across the world. Much of the theoretical work in recent decades on how families decide how many children they want rests on the models of the economist Gary Becker. In the framework of Becker, he had argued that improving the education of women leads women to want fewer children. It is observed that fertility rate in 2014 was 2.1, 3.5, 2.8, 2.2 and 2.3 children born/woman for Canada, India, United States, Mexico and Nepal respectively.', 'question_id': 2405, 'answer_choices': ['India', 'Nepal', 'Mexico', 'United States'], 'answer_id': 0}, {'image_id': '/content/drive/MyDrive/2ReadyForFineTuning/VLQAv1/Charts/images/24.png', 'question': 'Applying becker’s theory, which country hasn’t made any improvement in women’s education? The above visualization shows the current fertility rate of women in countries across the world. Much of the theoretical work in recent decades on how families decide how many children they want rests on the models of the economist Gary Becker. In the framework of Becker, he had argued that improving the education of women leads women to want fewer children. It is observed that fertility rate in 2014 was 2.1, 3.5, 2.8, 2.2 and 2.3 children born/woman for Canada, India, United States, Mexico and Nepal respectively.', 'question_id': 2406, 'answer_choices': ['India', 'Nepal', 'Mexico', 'United States'], 'answer_id': 2}, {'image_id': '/content/drive/MyDrive/2ReadyForFineTuning/VLQAv1/Charts/images/24.png', 'question': 'How many countries have done well in improving women’s education in comparison to Nepal? The above visualization shows the current fertility rate of women in countries across the world. Much of the theoretical work in recent decades on how families decide how many children they want rests on the models of the economist Gary Becker. In the framework of Becker, he had argued that improving the education of women leads women to want fewer children. It is observed that fertility rate in 2014 was 2.1, 3.5, 2.8, 2.2 and 2.3 children born/woman for Canada, India, United States, Mexico and Nepal respectively.', 'question_id': 2407, 'answer_choices': [3, 4, 1, 2], 'answer_id': 0}, {'image_id': '/content/drive/MyDrive/2ReadyForFineTuning/VLQAv1/Charts/images/26.png', 'question': \"Based on these facts, which country's scientific progress remains the same from 2014? The scientific understanding and technological progress makes some very efficient public health interventions such as vaccinations, hygiene measures and health measures which in turn increases the life expectancy of people. The above figure shows the current day life expectancy of people in countries around the world. Five years before, the life expectancy at birth was 80, 75, 65, 75, 65, 75 years for Canada, Maldives, India, United States, South Africa and United Kingdom respectively.\", 'question_id': 2408, 'answer_choices': ['Canada', 'Maldives', 'South Africa', 'United Kingdom'], 'answer_id': 2}, {'image_id': '/content/drive/MyDrive/2ReadyForFineTuning/VLQAv1/Charts/images/26.png', 'question': 'Which country has made a very good scientific progress in last 5 years? The scientific understanding and technological progress makes some very efficient public health interventions such as vaccinations, hygiene measures and health measures which in turn increases the life expectancy of people. The above figure shows the current day life expectancy of people in countries around the world. Five years before, the life expectancy at birth was 80, 75, 65, 75, 65, 75 years for Canada, Maldives, India, United States, South Africa and United Kingdom respectively.', 'question_id': 2409, 'answer_choices': ['United States', 'United Kingdom', 'India', 'Canada'], 'answer_id': 1}, {'image_id': '/content/drive/MyDrive/2ReadyForFineTuning/VLQAv1/Charts/images/26.png', 'question': 'How many countries have made better progress in science compared to Maldives? The scientific understanding and technological progress makes some very efficient public health interventions such as vaccinations, hygiene measures and health measures which in turn increases the life expectancy of people. The above figure shows the current day life expectancy of people in countries around the world. Five years before, the life expectancy at birth was 80, 75, 65, 75, 65, 75 years for Canada, Maldives, India, United States, South Africa and United Kingdom respectively.', 'question_id': 2410, 'answer_choices': [3, 4, 5, 2], 'answer_id': 1}, {'image_id': '/content/drive/MyDrive/2ReadyForFineTuning/VLQAv1/Charts/images/26.png', 'question': 'Which country has the people with highest life expectancy at birth? The figure shows the life expectancy at birth of people in countries across the world today. Australia and Mexico has life expectancy at birth of 86 years and 77 years respectively.', 'question_id': 2411, 'answer_choices': ['Canada', 'Australia', 'United Kingdom', 'Maldives'], 'answer_id': 1}, {'image_id': '/content/drive/MyDrive/2ReadyForFineTuning/VLQAv1/Charts/images/26.png', 'question': 'How many countries have people with better life expectancy at birth compared to Mexico? The figure shows the life expectancy at birth of people in countries across the world today. Australia and Mexico has life expectancy at birth of 86 years and 77 years respectively.', 'question_id': 2412, 'answer_choices': [2, 3, 4, 5], 'answer_id': 2}, {'image_id': '/content/drive/MyDrive/2ReadyForFineTuning/VLQAv1/Charts/images/26.png', 'question': 'Which two countries of the given options has almost same life expectancy at birth? The figure shows the life expectancy at birth of people in countries across the world today. Australia and Mexico has life expectancy at birth of 86 years and 77 years respectively.', 'question_id': 2413, 'answer_choices': ['Australia and Canada', 'Mexico and Maldives', 'India and South Africa', 'Maldives and India'], 'answer_id': 1}, {'image_id': '/content/drive/MyDrive/2ReadyForFineTuning/VLQAv1/Charts/images/25.png', 'question': 'From the given data, Which country people are likely to be more intellectual? A recent study by Rosalind Arden et al (2015)9 analyzed the link between intelligence and longer lifespan. They found a positive correlation between them as higher intelligence causing more healthy behavior choices, and shared genetic factors influencing both intelligence and health.', 'question_id': 2414, 'answer_choices': ['Australia', 'India', 'Denmark', 'United States'], 'answer_id': 0}, {'image_id': '/content/drive/MyDrive/2ReadyForFineTuning/VLQAv1/Charts/images/25.png', 'question': 'How many countries has prominent intellectuals than United States? A recent study by Rosalind Arden et al (2015)9 analyzed the link between intelligence and longer lifespan. They found a positive correlation between them as higher intelligence causing more healthy behavior choices, and shared genetic factors influencing both intelligence and health.', 'question_id': 2415, 'answer_choices': [1, 2, 3, 4], 'answer_id': 2}, {'image_id': '/content/drive/MyDrive/2ReadyForFineTuning/VLQAv1/Charts/images/25.png', 'question': 'How many countries have least intellectuals compared to India ? A recent study by Rosalind Arden et al (2015)9 analyzed the link between intelligence and longer lifespan. They found a positive correlation between them as higher intelligence causing more healthy behavior choices, and shared genetic factors influencing both intelligence and health.', 'question_id': 2416, 'answer_choices': [1, 2, 3, 4], 'answer_id': 0}, {'image_id': '/content/drive/MyDrive/2ReadyForFineTuning/VLQAv1/Charts/images/1.png', 'question': 'Which of these countries is most likely to have a rapid inflation when compared to Pakistan? Figure shows the industrial production growth rate for various countries in the year of 2017. Industrial production figures are used by central banks to measure inflation, as high levels of industrial production can lead to uncontrolled levels of consumption and rapid inflation. In 2017, the industrial production growth rate of India was similar to that of Pakistan.', 'question_id': 2417, 'answer_choices': ['India', 'Vietnam', 'Sri Lanka', 'Indonesia'], 'answer_id': 1}]}\n"
          ]
        }
      ],
      "source": [
        "import json\n",
        "import ast\n",
        "datalen = 0\n",
        "dumpdict = { \"info\": {}, \"task_type\": \"Open-Ended\", \"data_type\": \"charts\", \"license\": {}, \"data_subtype\": prefix, \"questions\": [] }\n",
        "\n",
        "with open(home+prefix+'.jsonl') as f:\n",
        "  data = f.readlines()\n",
        "  print(len(data))\n",
        "  global datalen\n",
        "  datalen = len(data)\n",
        "  for i in data[0:int(datalen*0.8)]:\n",
        "    ijson = json.loads(i)\n",
        "    imlist = ast.literal_eval(ijson['images'])\n",
        "    #print(imlist)\n",
        "    anslist = ast.literal_eval(ijson['answer_choices'])\n",
        "    #print(anslist)\n",
        "    if len(anslist)==2:\n",
        "      anslist.append(\"Unknown\")\n",
        "      anslist.append(\"Unanswerable\")\n",
        "    try:\n",
        "      #print(len(anslist))\n",
        "      assert len(anslist) == 4\n",
        "    except:\n",
        "      print(i)\n",
        "    dumpdict['questions'].append( { \"image_id\": imroot+\"/\"+imlist[0].replace(\"./images/\", \"\"), \"question\": ijson['question']+\" \"+ijson['passage'], \"question_id\": ijson['qid'], \"answer_choices\": anslist, \"answer_id\": int(ijson['answer']) } )\n",
        "\n",
        "with open('/content/'+prefix+'_train.jsonl','w+') as w:\n",
        "  w.write(json.dumps(dumpdict,indent=4))\n",
        "\n",
        "print(dumpdict)"
      ]
    },
    {
      "cell_type": "code",
      "execution_count": 27,
      "metadata": {
        "colab": {
          "base_uri": "https://localhost:8080/"
        },
        "id": "XKAWRzGk7mPe",
        "outputId": "32612a0b-2556-42a5-ec6c-f522a8cb6dfc"
      },
      "outputs": [
        {
          "output_type": "stream",
          "name": "stdout",
          "text": [
            "dict_keys(['info', 'task_type', 'data_type', 'license', 'data_subtype', 'questions'])\n",
            "Number of questions: 200\n"
          ]
        }
      ],
      "source": [
        "import json\n",
        "f = open('/content/'+prefix+'_train.jsonl','r')\n",
        "data_questions = json.load(f)\n",
        "questions = data_questions['questions']\n",
        "\n",
        "print(data_questions.keys())\n",
        "print(\"Number of questions:\", len(questions))"
      ]
    },
    {
      "cell_type": "code",
      "execution_count": 28,
      "metadata": {
        "colab": {
          "base_uri": "https://localhost:8080/"
        },
        "id": "6xKiXtLz75co",
        "outputId": "02f266ca-35c7-4a31-fe7e-82986f19832c"
      },
      "outputs": [
        {
          "output_type": "execute_result",
          "data": {
            "text/plain": [
              "{'image_id': '/content/drive/MyDrive/2ReadyForFineTuning/VLQAv1/Charts/images/21.png',\n",
              " 'question': 'From the above graph infer comparatively which country is most likely to have highest per capita income? The above visualization shows health care expenditure across countries. There is a strong correlation between health care expenditure and national income. The countries which spend more on health care are more likely to have highest per capita income.',\n",
              " 'question_id': 2218,\n",
              " 'answer_choices': ['United States', 'United Kingdom', 'India', 'Iraq'],\n",
              " 'answer_id': 0}"
            ]
          },
          "metadata": {},
          "execution_count": 28
        }
      ],
      "source": [
        "questions[0]"
      ]
    },
    {
      "cell_type": "code",
      "execution_count": 29,
      "metadata": {
        "colab": {
          "base_uri": "https://localhost:8080/"
        },
        "id": "LxBw6v-V9Zx0",
        "outputId": "4c376ebd-c690-4992-96c6-70e49288e7d6"
      },
      "outputs": [
        {
          "output_type": "stream",
          "name": "stdout",
          "text": [
            "['central-bank-discount-rate_Mexico.png', 'stock-of-broad-money_United_States.png', 'gdp-real-growth-rate_Puerto_Rico.png', 'gross-national-saving_United_States.png', 'exports_United_Kingdom.png', 'distribution-of-family-income-gini-index_India.png', 'distribution-of-family-income-gini-index_United_States.png', 'stock-of-direct-foreign-investment-abroad_United_States.png', 'gross-national-saving_South_Africa.png', 'gdp-real-growth-rate_Saudi_Arabia_Qatar.png', 'current-account-balance_India_European_Union.png', 'military-expenditures_United_States.png', 'commercial-bank-prime-lending-rate_Argentina.png', 'commercial-bank-prime-lending-rate_Argentina_Brazil.png', 'central-bank-discount-rate_France.png', 'gdp-real-growth-rate_Brazil.png', 'gdp-real-growth-rate_Venezuela.png', 'central-bank-discount-rate_Germany_France.png', 'reserves-of-foreign-exchange-and-gold_India.png', 'distribution-of-family-income-gini-index_United_States_Canada_Mexico.png', 'inflation-rate-consumer-prices_United_States_Russia.png', 'current-account-balance_India.png', 'gdp-real-growth-rate_Saudi_Arabia.png', 'inflation-rate-consumer-prices_Saudi_Arabia.png', '21.png', '27.png', '29.png', '20.png', '23.png', '19.png', '26.png', '28.png', '24.png', '25.png', '22.png', '30.png', '5.png', '2.png', '13.png', '8.png', '7.png', '6.png', '4.png', '9.png', '1.png', '10.png', '14.png', '3.png', '11.png', '16.png', '17.png', '15.png', '18.png', '12.png', 'Obesity-adult_prevalence_rate.png', 'Median_age_total.png', 'Education27year.jpeg', 'Net_migration_rate.png', 'public-debt_GhanaVsNigeria.png', 'Electricity-from_fossil_fuels.png', 'gdp-per-capita-ppp_IndiaVsPakistan.png', 'Irrigated_land.png', 'Electricity-Gen.png', 'Delivery-method.png', 'sugar-content.jpg', 'gdp-real-growth-rate_RussiaVsUnited_States.png', 'transportation.png', 'prog-lang.png', 'Unemployment,_youth_ages_15-24_total.png', 'Infant_mortality_rate_male.png', 'Waterways.png', 'PRE_10.png', 'PRE_6.png', 'PRE_8.png', 'PRE_4.png', 'PRE_9.png', 'PRE_7.png', 'PRE_5.png', 'PRE_1.png', 'PRE_3.png', 'PRE_2.png', 'PRE_11.png', 'PRE_16.png', 'PRE_17.png', 'PRE_13.png', 'PRE_15.png', 'PRE_14.png', 'PRE_12.png']\n",
            "88\n"
          ]
        }
      ],
      "source": [
        "from os import listdir\n",
        "from os.path import isfile, join\n",
        "\n",
        "file_names = [f for f in listdir(imroot) if isfile(join(imroot, f))]\n",
        "print(file_names)\n",
        "print(len(file_names))"
      ]
    },
    {
      "cell_type": "code",
      "execution_count": 30,
      "metadata": {
        "colab": {
          "base_uri": "https://localhost:8080/",
          "height": 611
        },
        "id": "ZeW4M0yU-boe",
        "outputId": "6a39dc5c-13bf-4446-a140-bfe9ac37e8f6"
      },
      "outputs": [
        {
          "output_type": "execute_result",
          "data": {
            "text/plain": [
              "<PIL.PngImagePlugin.PngImageFile image mode=RGB size=782x594>"
            ],
            "image/png": "[encoded data removed]"
          },
          "metadata": {},
          "execution_count": 30
        }
      ],
      "source": [
        "from PIL import Image\n",
        "\n",
        "path = questions[0]['image_id']\n",
        "image = Image.open(path)\n",
        "image"
      ]
    },
    {
      "cell_type": "code",
      "execution_count": 31,
      "metadata": {
        "id": "qQK-4nIa_6SX"
      },
      "outputs": [],
      "source": [
        "from transformers import ViltConfig\n",
        "\n",
        "config = ViltConfig.from_pretrained(\"dandelin/vilt-b32-finetuned-vqa\")"
      ]
    },
    {
      "cell_type": "code",
      "execution_count": 32,
      "metadata": {
        "id": "kJ3sm7qGAyab"
      },
      "outputs": [],
      "source": [
        "import torch\n",
        "from PIL import Image\n",
        "\n",
        "class VQADataset(torch.utils.data.Dataset):\n",
        "\n",
        "    def __init__(self, questions, processor):\n",
        "        self.questions = questions\n",
        "        self.processor = processor\n",
        "\n",
        "    def __len__(self):\n",
        "        return len(self.questions)\n",
        "\n",
        "    def __getitem__(self, idx):\n",
        "        questions = self.questions[idx]\n",
        "        image = Image.open(questions['image_id']).convert(\"RGB\")\n",
        "        text = questions['question']\n",
        "        encoding = self.processor(image, text, padding=\"max_length\", truncation=True, return_tensors=\"pt\")\n",
        "        for k,v in encoding.items():\n",
        "          encoding[k] = v.squeeze()\n",
        "        targets = torch.zeros(len(questions['answer_choices']))\n",
        "        targets[questions['answer_id']] = 1.0\n",
        "        encoding[\"labels\"] = targets\n",
        "        return encoding"
      ]
    },
    {
      "cell_type": "code",
      "execution_count": 33,
      "metadata": {
        "colab": {
          "base_uri": "https://localhost:8080/"
        },
        "id": "Dl2UsPrTHbtu",
        "outputId": "e91c01d2-ade6-4a5f-ce7c-4849d43e3c59"
      },
      "outputs": [
        {
          "output_type": "stream",
          "name": "stderr",
          "text": [
            "/usr/local/lib/python3.10/dist-packages/transformers/tokenization_utils_base.py:1617: FutureWarning: `clean_up_tokenization_spaces` was not set. It will be set to `True` by default. This behavior will be deprecated in transformers v4.45, and will be then set to `False` by default. For more details check this issue: https://github.com/huggingface/transformers/issues/31884\n",
            "  warnings.warn(\n"
          ]
        }
      ],
      "source": [
        "from transformers import ViltProcessor\n",
        "\n",
        "processor = ViltProcessor.from_pretrained(\"dandelin/vilt-b32-mlm\")"
      ]
    },
    {
      "cell_type": "code",
      "execution_count": 34,
      "metadata": {
        "id": "EagfM_HDRTLT"
      },
      "outputs": [],
      "source": [
        "dataset = VQADataset(questions=questions,processor=processor)"
      ]
    },
    {
      "cell_type": "code",
      "execution_count": 35,
      "metadata": {
        "colab": {
          "base_uri": "https://localhost:8080/"
        },
        "id": "bDngfaTRxXqZ",
        "outputId": "bed16822-11cc-4402-8793-5000d41c4e77"
      },
      "outputs": [
        {
          "output_type": "execute_result",
          "data": {
            "text/plain": [
              "{'input_ids': tensor([  101,  2013,  1996,  2682, 10629,  1999,  7512, 20172,  2029,  2406,\n",
              "         2003,  2087,  3497,  2000,  2031,  3284,  2566,  8353,  3318,  1029,\n",
              "         1996,  2682,  5107,  3989,  3065,  2740,  2729, 20700,  2408,  3032,\n",
              "         1012,  2045,  2003,  1037,  2844, 16902,  2090,  2740,  2729,   102]), 'token_type_ids': tensor([0, 0, 0, 0, 0, 0, 0, 0, 0, 0, 0, 0, 0, 0, 0, 0, 0, 0, 0, 0, 0, 0, 0, 0,\n",
              "        0, 0, 0, 0, 0, 0, 0, 0, 0, 0, 0, 0, 0, 0, 0, 0]), 'attention_mask': tensor([1, 1, 1, 1, 1, 1, 1, 1, 1, 1, 1, 1, 1, 1, 1, 1, 1, 1, 1, 1, 1, 1, 1, 1,\n",
              "        1, 1, 1, 1, 1, 1, 1, 1, 1, 1, 1, 1, 1, 1, 1, 1]), 'pixel_values': tensor([[[1., 1., 1.,  ..., 1., 1., 1.],\n",
              "         [1., 1., 1.,  ..., 1., 1., 1.],\n",
              "         [1., 1., 1.,  ..., 1., 1., 1.],\n",
              "         ...,\n",
              "         [1., 1., 1.,  ..., 1., 1., 1.],\n",
              "         [1., 1., 1.,  ..., 1., 1., 1.],\n",
              "         [1., 1., 1.,  ..., 1., 1., 1.]],\n",
              "\n",
              "        [[1., 1., 1.,  ..., 1., 1., 1.],\n",
              "         [1., 1., 1.,  ..., 1., 1., 1.],\n",
              "         [1., 1., 1.,  ..., 1., 1., 1.],\n",
              "         ...,\n",
              "         [1., 1., 1.,  ..., 1., 1., 1.],\n",
              "         [1., 1., 1.,  ..., 1., 1., 1.],\n",
              "         [1., 1., 1.,  ..., 1., 1., 1.]],\n",
              "\n",
              "        [[1., 1., 1.,  ..., 1., 1., 1.],\n",
              "         [1., 1., 1.,  ..., 1., 1., 1.],\n",
              "         [1., 1., 1.,  ..., 1., 1., 1.],\n",
              "         ...,\n",
              "         [1., 1., 1.,  ..., 1., 1., 1.],\n",
              "         [1., 1., 1.,  ..., 1., 1., 1.],\n",
              "         [1., 1., 1.,  ..., 1., 1., 1.]]]), 'pixel_mask': tensor([[1, 1, 1,  ..., 1, 1, 1],\n",
              "        [1, 1, 1,  ..., 1, 1, 1],\n",
              "        [1, 1, 1,  ..., 1, 1, 1],\n",
              "        ...,\n",
              "        [1, 1, 1,  ..., 1, 1, 1],\n",
              "        [1, 1, 1,  ..., 1, 1, 1],\n",
              "        [1, 1, 1,  ..., 1, 1, 1]]), 'labels': tensor([1., 0., 0., 0.])}"
            ]
          },
          "metadata": {},
          "execution_count": 35
        }
      ],
      "source": [
        "dataset[0]"
      ]
    },
    {
      "cell_type": "code",
      "execution_count": 36,
      "metadata": {
        "colab": {
          "base_uri": "https://localhost:8080/"
        },
        "id": "bKFd8ozdIY_q",
        "outputId": "0b6b65d8-ef6f-42d4-bf69-31cea4692ef8"
      },
      "outputs": [
        {
          "output_type": "execute_result",
          "data": {
            "text/plain": [
              "dict_keys(['input_ids', 'token_type_ids', 'attention_mask', 'pixel_values', 'pixel_mask', 'labels'])"
            ]
          },
          "metadata": {},
          "execution_count": 36
        }
      ],
      "source": [
        "dataset[1].keys()"
      ]
    },
    {
      "cell_type": "code",
      "source": [
        "len(dataset)"
      ],
      "metadata": {
        "colab": {
          "base_uri": "https://localhost:8080/"
        },
        "id": "0eqUk0ioe-6u",
        "outputId": "a01e0994-fa9b-4b61-f405-8ce35bb547a2"
      },
      "execution_count": 37,
      "outputs": [
        {
          "output_type": "execute_result",
          "data": {
            "text/plain": [
              "200"
            ]
          },
          "metadata": {},
          "execution_count": 37
        }
      ]
    },
    {
      "cell_type": "code",
      "execution_count": 38,
      "metadata": {
        "colab": {
          "base_uri": "https://localhost:8080/",
          "height": 54
        },
        "id": "F0xtCsxr2B4S",
        "outputId": "82c333c4-896a-4bd5-abfb-9b648f31e71e"
      },
      "outputs": [
        {
          "output_type": "execute_result",
          "data": {
            "text/plain": [
              "'[CLS] from the above graph infer comparatively which country is most likely to have highest per capita income? the above visualization shows health care expenditure across countries. there is a strong correlation between health care [SEP]'"
            ],
            "application/vnd.google.colaboratory.intrinsic+json": {
              "type": "string"
            }
          },
          "metadata": {},
          "execution_count": 38
        }
      ],
      "source": [
        "processor.decode(dataset[0]['input_ids'])"
      ]
    },
    {
      "cell_type": "code",
      "execution_count": 39,
      "metadata": {
        "colab": {
          "base_uri": "https://localhost:8080/"
        },
        "id": "AGxYDVSve-O6",
        "outputId": "ec730369-e90a-4d69-8018-eaebb2822099"
      },
      "outputs": [
        {
          "output_type": "execute_result",
          "data": {
            "text/plain": [
              "0"
            ]
          },
          "metadata": {},
          "execution_count": 39
        }
      ],
      "source": [
        "labels = torch.nonzero(dataset[0]['labels']).squeeze().tolist()\n",
        "labels"
      ]
    },
    {
      "cell_type": "code",
      "execution_count": 40,
      "metadata": {
        "colab": {
          "base_uri": "https://localhost:8080/"
        },
        "id": "sjOH0jYcfkAk",
        "outputId": "2049ec67-ca0d-4047-e703-02040fb4f324"
      },
      "outputs": [
        {
          "output_type": "stream",
          "name": "stderr",
          "text": [
            "Some weights of ViltForQuestionAnswering were not initialized from the model checkpoint at dandelin/vilt-b32-mlm and are newly initialized: ['classifier.0.bias', 'classifier.0.weight', 'classifier.1.bias', 'classifier.1.weight', 'classifier.3.bias', 'classifier.3.weight']\n",
            "You should probably TRAIN this model on a down-stream task to be able to use it for predictions and inference.\n"
          ]
        },
        {
          "output_type": "execute_result",
          "data": {
            "text/plain": [
              "ViltForQuestionAnswering(\n",
              "  (vilt): ViltModel(\n",
              "    (embeddings): ViltEmbeddings(\n",
              "      (text_embeddings): TextEmbeddings(\n",
              "        (word_embeddings): Embedding(30522, 768)\n",
              "        (position_embeddings): Embedding(40, 768)\n",
              "        (token_type_embeddings): Embedding(2, 768)\n",
              "        (LayerNorm): LayerNorm((768,), eps=1e-12, elementwise_affine=True)\n",
              "        (dropout): Dropout(p=0.0, inplace=False)\n",
              "      )\n",
              "      (patch_embeddings): ViltPatchEmbeddings(\n",
              "        (projection): Conv2d(3, 768, kernel_size=(32, 32), stride=(32, 32))\n",
              "      )\n",
              "      (token_type_embeddings): Embedding(2, 768)\n",
              "      (dropout): Dropout(p=0.0, inplace=False)\n",
              "    )\n",
              "    (encoder): ViltEncoder(\n",
              "      (layer): ModuleList(\n",
              "        (0-11): 12 x ViltLayer(\n",
              "          (attention): ViltAttention(\n",
              "            (attention): ViltSelfAttention(\n",
              "              (query): Linear(in_features=768, out_features=768, bias=True)\n",
              "              (key): Linear(in_features=768, out_features=768, bias=True)\n",
              "              (value): Linear(in_features=768, out_features=768, bias=True)\n",
              "              (dropout): Dropout(p=0.0, inplace=False)\n",
              "            )\n",
              "            (output): ViltSelfOutput(\n",
              "              (dense): Linear(in_features=768, out_features=768, bias=True)\n",
              "              (dropout): Dropout(p=0.0, inplace=False)\n",
              "            )\n",
              "          )\n",
              "          (intermediate): ViltIntermediate(\n",
              "            (dense): Linear(in_features=768, out_features=3072, bias=True)\n",
              "            (intermediate_act_fn): GELUActivation()\n",
              "          )\n",
              "          (output): ViltOutput(\n",
              "            (dense): Linear(in_features=3072, out_features=768, bias=True)\n",
              "            (dropout): Dropout(p=0.0, inplace=False)\n",
              "          )\n",
              "          (layernorm_before): LayerNorm((768,), eps=1e-12, elementwise_affine=True)\n",
              "          (layernorm_after): LayerNorm((768,), eps=1e-12, elementwise_affine=True)\n",
              "        )\n",
              "      )\n",
              "    )\n",
              "    (layernorm): LayerNorm((768,), eps=1e-12, elementwise_affine=True)\n",
              "    (pooler): ViltPooler(\n",
              "      (dense): Linear(in_features=768, out_features=768, bias=True)\n",
              "      (activation): Tanh()\n",
              "    )\n",
              "  )\n",
              "  (classifier): Sequential(\n",
              "    (0): Linear(in_features=768, out_features=1536, bias=True)\n",
              "    (1): LayerNorm((1536,), eps=1e-05, elementwise_affine=True)\n",
              "    (2): GELU(approximate='none')\n",
              "    (3): Linear(in_features=1536, out_features=4, bias=True)\n",
              "  )\n",
              ")"
            ]
          },
          "metadata": {},
          "execution_count": 40
        }
      ],
      "source": [
        "from transformers import ViltForQuestionAnswering\n",
        "\n",
        "device = torch.device(\"cuda\" if torch.cuda.is_available() else \"cpu\")\n",
        "\n",
        "model = ViltForQuestionAnswering.from_pretrained(\"dandelin/vilt-b32-mlm\", num_labels=4)\n",
        "\n",
        "model.to(device)"
      ]
    },
    {
      "cell_type": "code",
      "execution_count": 41,
      "metadata": {
        "id": "9C4gCxrbgjqh"
      },
      "outputs": [],
      "source": [
        "from torch.utils.data import DataLoader\n",
        "\n",
        "def collate_fn(batch):\n",
        "  input_ids = [item['input_ids'] for item in batch]\n",
        "  pixel_values = [item['pixel_values'] for item in batch]\n",
        "  attention_mask = [item['attention_mask'] for item in batch]\n",
        "  token_type_ids = [item['token_type_ids'] for item in batch]\n",
        "  labels = [item['labels'] for item in batch]\n",
        "\n",
        "  encoding = processor.image_processor.pad(pixel_values, return_tensors=\"pt\")\n",
        "\n",
        "  batch = {}\n",
        "  batch['input_ids'] = torch.stack(input_ids)\n",
        "  batch['attention_mask'] = torch.stack(attention_mask)\n",
        "  batch['token_type_ids'] = torch.stack(token_type_ids)\n",
        "  batch['pixel_values'] = torch.stack(pixel_values)\n",
        "  batch['pixel_mask'] = encoding['pixel_mask']\n",
        "  batch['labels'] = torch.stack(labels)\n",
        "\n",
        "  return batch\n",
        "\n",
        "train_dataloader = DataLoader(dataset, collate_fn=collate_fn, batch_size=1, shuffle=True)"
      ]
    },
    {
      "cell_type": "code",
      "execution_count": 42,
      "metadata": {
        "id": "yKBOBxq1gqzy"
      },
      "outputs": [],
      "source": [
        "batch = next(iter(train_dataloader))"
      ]
    },
    {
      "cell_type": "code",
      "execution_count": 43,
      "metadata": {
        "colab": {
          "base_uri": "https://localhost:8080/"
        },
        "id": "lZkar-taiq1r",
        "outputId": "9a005afa-2fbf-411d-9448-b06388b0fc3b"
      },
      "outputs": [
        {
          "output_type": "stream",
          "name": "stdout",
          "text": [
            "input_ids torch.Size([1, 40])\n",
            "attention_mask torch.Size([1, 40])\n",
            "token_type_ids torch.Size([1, 40])\n",
            "pixel_values torch.Size([1, 3, 384, 448])\n",
            "pixel_mask torch.Size([1, 384, 448])\n",
            "labels torch.Size([1, 4])\n"
          ]
        }
      ],
      "source": [
        "for k,v in batch.items():\n",
        "  print(k, v.shape)"
      ]
    },
    {
      "cell_type": "markdown",
      "metadata": {
        "id": "uN8Grgg0gK2x"
      },
      "source": [
        "## Start Training"
      ]
    },
    {
      "cell_type": "code",
      "execution_count": 44,
      "metadata": {
        "colab": {
          "base_uri": "https://localhost:8080/",
          "height": 262,
          "referenced_widgets": [
            "a5a8f838f8d645ca97d6a09a77b49a1a",
            "1c808720707847d9928f98311bfed69d",
            "025a3d2685094c729559d28650fe09f9",
            "f2ed56287e0e4e1284be3711a5d5fb01",
            "708ba393bd5e4b14bc6f28d85e7a9915",
            "d27adb9e18bf4a0fa7e87f038869786d",
            "51ef769b23784bfd8ee35f769291474f",
            "06f3841123f74798bbd58e7bf5e3eda2",
            "f6de26e95a98420786e24417475d770b",
            "34ef4d568a144d1289d154b60ab93568",
            "4ae104e68c284c4b8a1bf7919b68d850",
            "c32eccea1fd64483a759ccab91e678e0",
            "fc545a4c26df4dc98d59a587a12ff844",
            "54a62c7ff6454ee4b1ea4ca2d86828bc",
            "fc95193938494a55956931f802e49972",
            "2022855d46594e45a42c592c7828ebf7",
            "a02ea54477b34ca6b276b5b178d11f36",
            "351dc05c1aaf4b8c8c3425f031ef6e0f",
            "e2c39fa8f1ee48f7a4c916fd1fce54dd",
            "aebccfa3a91045fba9f85094d5858e32",
            "275348ee52764e7392c87bdfd72dbc9b",
            "5e4c5e0d9b0441278bdccdb8bf88d46e",
            "35d59f7f665842d280b55321e4aebcc5",
            "9a6102c01df741468f3b297a6060cbf4",
            "b13c7f573730464ab6188e71f0e7cccc",
            "90a0e51c2539457c85cca964d5e10b5b",
            "71bcdfe0c606416791c22f2f7aacbcf0",
            "ff9909a6fd9c47bda9cfcf698086abaa",
            "3742a725591a4dddbf1177aa4271f787",
            "cde81d5b38a14b7798686c78b7c7f4f8",
            "ea4db1bfb0b945cebe444d2a187d22ce",
            "849bdae311144b04b2d9858600d26f68",
            "681915c8a2754b748c0809dec6c2211e",
            "fc2f3c00a39f4fbb8fd82d47ba25e9d2",
            "d6d97ed1dc334832a6bf7090a52f9337",
            "88c1cdd7a7e44d069109fcbcebc91412",
            "bd8604faf4c84824905852243303d4e0",
            "f8ce02d02a4d422b937788db9018f6a6",
            "fc63d2c600344e0a8e8191a1ca8ff56f",
            "84afb6cbcac84f40976e564686cac38e",
            "3763df26cde042379e92d0f0aadbe185",
            "a4b1e2a8fa5a4075b94b873fd5ff0c9c",
            "f56b374d1b99485ea51bb5222c9375c8",
            "407edfbf2e6f429494fae825f2d59c3a",
            "63be95ec357c451f8e4668e53464dcc7",
            "b1af4e98dc7640918de27a75d7a33a89",
            "fcc2adc6d46c4f6abafc1b3c330eb57e",
            "bc903e35ab6946a6a4458ee5d8467b26",
            "4834a55636ad484dbecb8df5bba42efb",
            "a78cfd173937473ca687859e35a484c4",
            "b993dff6ee5d4a7ba4b7e98d318898c0",
            "7e82a48b895240858272514b58cee55b",
            "a24aa769477b4194abc0586c27848bdb",
            "0add6dfa14c44b4883fd8c3a707eb6d2",
            "8bda270472934adeb124bd70ff75ba50"
          ]
        },
        "id": "57PlqyxXf6L4",
        "outputId": "04e6b57d-4a13-4322-811c-7cd6df41a5c0"
      },
      "outputs": [
        {
          "output_type": "stream",
          "name": "stdout",
          "text": [
            "Epoch: 0\n"
          ]
        },
        {
          "output_type": "display_data",
          "data": {
            "text/plain": [
              "  0%|          | 0/200 [00:00<?, ?it/s]"
            ],
            "application/vnd.jupyter.widget-view+json": {
              "version_major": 2,
              "version_minor": 0,
              "model_id": "a5a8f838f8d645ca97d6a09a77b49a1a"
            }
          },
          "metadata": {}
        },
        {
          "output_type": "stream",
          "name": "stdout",
          "text": [
            "Epoch: 1\n"
          ]
        },
        {
          "output_type": "display_data",
          "data": {
            "text/plain": [
              "  0%|          | 0/200 [00:00<?, ?it/s]"
            ],
            "application/vnd.jupyter.widget-view+json": {
              "version_major": 2,
              "version_minor": 0,
              "model_id": "c32eccea1fd64483a759ccab91e678e0"
            }
          },
          "metadata": {}
        },
        {
          "output_type": "stream",
          "name": "stdout",
          "text": [
            "Epoch: 2\n"
          ]
        },
        {
          "output_type": "display_data",
          "data": {
            "text/plain": [
              "  0%|          | 0/200 [00:00<?, ?it/s]"
            ],
            "application/vnd.jupyter.widget-view+json": {
              "version_major": 2,
              "version_minor": 0,
              "model_id": "35d59f7f665842d280b55321e4aebcc5"
            }
          },
          "metadata": {}
        },
        {
          "output_type": "stream",
          "name": "stdout",
          "text": [
            "Epoch: 3\n"
          ]
        },
        {
          "output_type": "display_data",
          "data": {
            "text/plain": [
              "  0%|          | 0/200 [00:00<?, ?it/s]"
            ],
            "application/vnd.jupyter.widget-view+json": {
              "version_major": 2,
              "version_minor": 0,
              "model_id": "fc2f3c00a39f4fbb8fd82d47ba25e9d2"
            }
          },
          "metadata": {}
        },
        {
          "output_type": "stream",
          "name": "stdout",
          "text": [
            "Epoch: 4\n"
          ]
        },
        {
          "output_type": "display_data",
          "data": {
            "text/plain": [
              "  0%|          | 0/200 [00:00<?, ?it/s]"
            ],
            "application/vnd.jupyter.widget-view+json": {
              "version_major": 2,
              "version_minor": 0,
              "model_id": "63be95ec357c451f8e4668e53464dcc7"
            }
          },
          "metadata": {}
        }
      ],
      "source": [
        "from tqdm.notebook import tqdm\n",
        "optimizer = torch.optim.AdamW(model.parameters(), lr=5e-5)\n",
        "from PIL import ImageFile\n",
        "ImageFile.LOAD_TRUNCATED_IMAGES = True\n",
        "# -- CHANGE BASED ON HOW MANY EPOCHS YOU WANT TO RUN FOR\n",
        "e = 5\n",
        "\n",
        "model.train()\n",
        "for epoch in range(e):\n",
        "   print(f\"Epoch: {epoch}\")\n",
        "   for batch in tqdm(train_dataloader):\n",
        "        batch = {k:v.to(device) for k,v in batch.items()}\n",
        "        optimizer.zero_grad()\n",
        "        outputs = model(**batch)\n",
        "        loss = outputs.loss\n",
        "        #print(\"Loss:\", loss.item())\n",
        "        loss.backward()\n",
        "        optimizer.step()"
      ]
    },
    {
      "cell_type": "markdown",
      "metadata": {
        "id": "aj5anZ-ZyMEY"
      },
      "source": [
        "## Inference"
      ]
    },
    {
      "cell_type": "code",
      "source": [
        "import json\n",
        "import ast\n",
        "datalen = 0\n",
        "dumpdict = { \"info\": {}, \"task_type\": \"Open-Ended\", \"data_type\": \"charts\", \"license\": {}, \"data_subtype\": prefix, \"questions\": [] }\n",
        "\n",
        "with open(home+prefix+'.jsonl') as f:\n",
        "  data = f.readlines()\n",
        "  print(len(data))\n",
        "  global datalen\n",
        "  datalen = len(data)\n",
        "  for i in data[int(datalen*0.8):datalen]:\n",
        "    test_ijson = json.loads(i)\n",
        "    test_imlist = ast.literal_eval(test_ijson['images'])\n",
        "    #print(imlist)\n",
        "    test_anslist = ast.literal_eval(test_ijson['answer_choices'])\n",
        "    if len(test_anslist)==2:\n",
        "      test_anslist.append(\"Unknown\")\n",
        "      test_anslist.append(\"Unanswerable\")\n",
        "    #print(anslist)\n",
        "    try:\n",
        "      #print(len(anslist))\n",
        "      assert len(test_anslist) == 4\n",
        "    except:\n",
        "      print(i)\n",
        "    dumpdict['questions'].append( { \"image_id\": imroot+\"/\"+test_imlist[0].replace(\"./images/\", \"\"), \"question\": test_ijson['question']+\" \"+test_ijson['passage'], \"question_id\": test_ijson['qid'], \"answer_choices\": test_anslist, \"answer_id\": int(test_ijson['answer']) } )\n",
        "\n",
        "with open('/content/'+prefix+'_test.jsonl','w+') as w:\n",
        "  w.write(json.dumps(dumpdict,indent=4))\n",
        "\n",
        "print(dumpdict)"
      ],
      "metadata": {
        "colab": {
          "base_uri": "https://localhost:8080/"
        },
        "id": "e5qnURwVpHrM",
        "outputId": "dfb89b94-6822-49e8-cb47-5f61b032bca9"
      },
      "execution_count": 46,
      "outputs": [
        {
          "output_type": "stream",
          "name": "stdout",
          "text": [
            "251\n",
            "{'info': {}, 'task_type': 'Open-Ended', 'data_type': 'charts', 'license': {}, 'data_subtype': 'charts', 'questions': [{'image_id': '/content/drive/MyDrive/2ReadyForFineTuning/VLQAv1/Charts/images/1.png', 'question': 'The industrial production growth rate of Pakistan is almost equal to Figure shows the industrial production growth rate for various countries in the year of 2017. Industrial production figures are used by central banks to measure inflation, as high levels of industrial production can lead to uncontrolled levels of consumption and rapid inflation. In 2017, the industrial production growth rate of India was similar to that of Pakistan.', 'question_id': 2418, 'answer_choices': [7.5, 6.5, 5.5, 4.5], 'answer_id': 2}, {'image_id': '/content/drive/MyDrive/2ReadyForFineTuning/VLQAv1/Charts/images/1.png', 'question': 'Consider all the given 6 countries. The industrial production growth rate of Sri Lanka is less than how many countries Figure shows the industrial production growth rate for various countries in the year of 2017. Industrial production figures are used by central banks to measure inflation, as high levels of industrial production can lead to uncontrolled levels of consumption and rapid inflation. In 2017, the industrial production growth rate of India was similar to that of Pakistan.', 'question_id': 2419, 'answer_choices': [1, 2, 3, 4], 'answer_id': 3}, {'image_id': '/content/drive/MyDrive/2ReadyForFineTuning/VLQAv1/Charts/images/Infant_mortality_rate_male.png', 'question': 'Is Algeria more developed than Sudan? The above graph depicts Infant Mortality rate for South African countries. Infant mortality is the death of young children under the age of 1. This death toll is measured by the infant mortality rate (IMR), which is the number of deaths of children under one year of age per 1000 live births. Infant Mortality rate is directly proportional to development of the country. Developing countries have a lack of access to affordable and professional health care resources, and skilled personnel during deliveries. Countries with histories of extreme poverty also have a pattern of epidemics, endemic infectious diseases, and low levels of access to maternal and child healthcare.', 'question_id': 2420, 'answer_choices': ['Yes', 'No', 'Unknown', 'Unanswerable'], 'answer_id': 0}, {'image_id': '/content/drive/MyDrive/2ReadyForFineTuning/VLQAv1/Charts/images/Infant_mortality_rate_male.png', 'question': 'Which of these countries is the least developed country? The above graph depicts Infant Mortality rate for South African countries. Infant mortality is the death of young children under the age of 1. This death toll is measured by the infant mortality rate (IMR), which is the number of deaths of children under one year of age per 1000 live births. Infant Mortality rate is directly proportional to development of the country. Developing countries have a lack of access to affordable and professional health care resources, and skilled personnel during deliveries. Countries with histories of extreme poverty also have a pattern of epidemics, endemic infectious diseases, and low levels of access to maternal and child healthcare.', 'question_id': 2421, 'answer_choices': ['Libya', 'Sudan', 'Algeria', 'Cameroon'], 'answer_id': 3}, {'image_id': '/content/drive/MyDrive/2ReadyForFineTuning/VLQAv1/Charts/images/Infant_mortality_rate_male.png', 'question': 'Which of these countries have the highest chances of epidemics? The above graph depicts Infant Mortality rate for South African countries. Infant mortality is the death of young children under the age of 1. This death toll is measured by the infant mortality rate (IMR), which is the number of deaths of children under one year of age per 1000 live births. Infant Mortality rate is directly proportional to development of the country. Developing countries have a lack of access to affordable and professional health care resources, and skilled personnel during deliveries. Countries with histories of extreme poverty also have a pattern of epidemics, endemic infectious diseases, and low levels of access to maternal and child healthcare.', 'question_id': 2422, 'answer_choices': ['Libya', 'Sudan', 'Algeria', 'Cameroon'], 'answer_id': 3}, {'image_id': '/content/drive/MyDrive/2ReadyForFineTuning/VLQAv1/Charts/images/Obesity-adult_prevalence_rate.png', 'question': \"Which of the given countries is most prone to heart diseases? The above graph depicts Obesity rate of few countries. Obesity - adult prevalence rate gives the percent of a country's population considered to be obese or overweight. Overweight and obesity are known to increase blood pressure. High blood pressure is the leading cause of strokes. Excess weight also increases your chances of developing other problems linked to strokes, including high cholesterol, high blood sugar, and heart disease. Japan is one of the countries with lowest obese population with just 4.3%.\", 'question_id': 2423, 'answer_choices': ['India', 'China', 'United States', 'Germany'], 'answer_id': 2}, {'image_id': '/content/drive/MyDrive/2ReadyForFineTuning/VLQAv1/Charts/images/Obesity-adult_prevalence_rate.png', 'question': \"How many of the given countries have higher obese population than Japan? The above graph depicts Obesity rate of few countries. Obesity - adult prevalence rate gives the percent of a country's population considered to be obese or overweight. Overweight and obesity are known to increase blood pressure. High blood pressure is the leading cause of strokes. Excess weight also increases your chances of developing other problems linked to strokes, including high cholesterol, high blood sugar, and heart disease. Japan is one of the countries with lowest obese population with just 4.3%.\", 'question_id': 2424, 'answer_choices': [2, 3, 4, 1], 'answer_id': 2}, {'image_id': '/content/drive/MyDrive/2ReadyForFineTuning/VLQAv1/Charts/images/Obesity-adult_prevalence_rate.png', 'question': \"How many of the given countries, including Japan have lower obese population than 10%? The above graph depicts Obesity rate of few countries. Obesity - adult prevalence rate gives the percent of a country's population considered to be obese or overweight. Overweight and obesity are known to increase blood pressure. High blood pressure is the leading cause of strokes. Excess weight also increases your chances of developing other problems linked to strokes, including high cholesterol, high blood sugar, and heart disease. Japan is one of the countries with lowest obese population with just 4.3%.\", 'question_id': 2425, 'answer_choices': [2, 3, 4, 1], 'answer_id': 1}, {'image_id': '/content/drive/MyDrive/2ReadyForFineTuning/VLQAv1/Charts/images/Obesity-adult_prevalence_rate.png', 'question': \"Which of the given countries, including Japan, has the third lowest obese population? The above graph depicts Obesity rate of few countries. Obesity - adult prevalence rate gives the percent of a country's population considered to be obese or overweight. Overweight and obesity are known to increase blood pressure. High blood pressure is the leading cause of strokes. Excess weight also increases your chances of developing other problems linked to strokes, including high cholesterol, high blood sugar, and heart disease. Japan is one of the countries with lowest obese population with just 4.3%.\", 'question_id': 2426, 'answer_choices': ['India', 'China', 'United States', 'Germany'], 'answer_id': 1}, {'image_id': '/content/drive/MyDrive/2ReadyForFineTuning/VLQAv1/Charts/images/Obesity-adult_prevalence_rate.png', 'question': \"Is German population have more health issues than Japan due to overweight? The above graph depicts Obesity rate of few countries. Obesity - adult prevalence rate gives the percent of a country's population considered to be obese or overweight. Overweight and obesity are known to increase blood pressure. High blood pressure is the leading cause of strokes. Excess weight also increases your chances of developing other problems linked to strokes, including high cholesterol, high blood sugar, and heart disease. Japan is one of the countries with lowest obese population with just 4.3%.\", 'question_id': 2427, 'answer_choices': ['True', 'False', 'Unknown', 'Unanswerable'], 'answer_id': 0}, {'image_id': '/content/drive/MyDrive/2ReadyForFineTuning/VLQAv1/Charts/images/Unemployment,_youth_ages_15-24_total.png', 'question': 'From the given data how many countries have decrease in unemployment rate from 2015 to 2018? The above graph shows unemployment rate of few countries in the year 2018. Unemployment in a country have adverse effect on country in terms of inflation, average wage, GDP etc. In times of high unemployment, wages typically remain stagnant, and wage inflation (or rising wages) is non-existent. GDP of the country also decreases with increase in unemployment. Unemployment is a very serious issue for a government and many government take it as there top priority. Croatia had a high unemployment rate of 18% in 2015 which the government worked and reduced drastically in 2018 to 8%. Given unemployment rate of United States 10%, Brazil 30%, Italy 35%, Netherlands 12% and Egypt 33% in year 2015.', 'question_id': 2428, 'answer_choices': [2, 3, 4, 1], 'answer_id': 1}, {'image_id': '/content/drive/MyDrive/2ReadyForFineTuning/VLQAv1/Charts/images/Unemployment,_youth_ages_15-24_total.png', 'question': ' The above graph shows unemployment rate of few countries in the year 2018. Unemployment in a country have adverse effect on country in terms of inflation, average wage, GDP etc. In times of high unemployment, wages typically remain stagnant, and wage inflation (or rising wages) is non-existent. GDP of the country also decreases with increase in unemployment. Unemployment is a very serious issue for a government and many government take it as there top priority. Croatia had a high unemployment rate of 18% in 2015 which the government worked and reduced drastically in 2018 to 8%. Given unemployment rate of United States 10%, Brazil 30%, Italy 35%, Netherlands 12% and Egypt 33% in year 2015.', 'question_id': 2429, 'answer_choices': [2, 3, 4, 1], 'answer_id': 2}, {'image_id': '/content/drive/MyDrive/2ReadyForFineTuning/VLQAv1/Charts/images/Unemployment,_youth_ages_15-24_total.png', 'question': 'Which country is likely to have similar wages as of Croatia? The above graph shows unemployment rate of few countries in the year 2018. Unemployment in a country have adverse effect on country in terms of inflation, average wage, GDP etc. In times of high unemployment, wages typically remain stagnant, and wage inflation (or rising wages) is non-existent. GDP of the country also decreases with increase in unemployment. Unemployment is a very serious issue for a government and many government take it as there top priority. Croatia had a high unemployment rate of 18% in 2015 which the government worked and reduced drastically in 2018 to 8%. Given unemployment rate of United States 10%, Brazil 30%, Italy 35%, Netherlands 12% and Egypt 33% in year 2015.', 'question_id': 2430, 'answer_choices': ['Brazil', 'Egypt', 'United States', 'Italy'], 'answer_id': 2}, {'image_id': '/content/drive/MyDrive/2ReadyForFineTuning/VLQAv1/Charts/images/Unemployment,_youth_ages_15-24_total.png', 'question': 'Which country would have the cheapest labor? The above graph shows unemployment rate of few countries in the year 2018. Unemployment in a country have adverse effect on country in terms of inflation, average wage, GDP etc. In times of high unemployment, wages typically remain stagnant, and wage inflation (or rising wages) is non-existent. GDP of the country also decreases with increase in unemployment. Unemployment is a very serious issue for a government and many government take it as there top priority. Croatia had a high unemployment rate of 18% in 2015 which the government worked and reduced drastically in 2018 to 8%. Given unemployment rate of United States 10%, Brazil 30%, Italy 35%, Netherlands 12% and Egypt 33% in year 2015.', 'question_id': 2431, 'answer_choices': ['Brazil', 'Egypt', 'United States', 'Italy'], 'answer_id': 3}, {'image_id': '/content/drive/MyDrive/2ReadyForFineTuning/VLQAv1/Charts/images/Median_age_total.png', 'question': \"Which country, from the given data is more phrone to problems of older population? The given scatter plot talks about median age of the people of Europe. The more the median age, the higher the life expectancy. Low birth rates and higher life expectancy contribute to the transformation of Europe's population pyramid shape. The most significant change is the transition towards a much older population structure, resulting in a decrease in the proportion of the working age while the number of the retired population increases. The total number of the older population is projected to increase greatly within the coming decades, with rising proportions of the post-war baby-boom generations reaching retirement. This will cause a high burden on the working age population as they provide for the increasing number of the older population. Poland is one of the European country with less median age of 41.\", 'question_id': 2432, 'answer_choices': ['France', 'Germany', 'Poland', 'Italy'], 'answer_id': 1}, {'image_id': '/content/drive/MyDrive/2ReadyForFineTuning/VLQAv1/Charts/images/Median_age_total.png', 'question': \"How many countries from the given data has less mdeian age than Poland? The given scatter plot talks about median age of the people of Europe. The more the median age, the higher the life expectancy. Low birth rates and higher life expectancy contribute to the transformation of Europe's population pyramid shape. The most significant change is the transition towards a much older population structure, resulting in a decrease in the proportion of the working age while the number of the retired population increases. The total number of the older population is projected to increase greatly within the coming decades, with rising proportions of the post-war baby-boom generations reaching retirement. This will cause a high burden on the working age population as they provide for the increasing number of the older population. Poland is one of the European country with less median age of 41.\", 'question_id': 2433, 'answer_choices': [3, 5, 1, 0], 'answer_id': 3}, {'image_id': '/content/drive/MyDrive/2ReadyForFineTuning/VLQAv1/Charts/images/Median_age_total.png', 'question': \"How much is the age difference is between germany and Poland? The given scatter plot talks about median age of the people of Europe. The more the median age, the higher the life expectancy. Low birth rates and higher life expectancy contribute to the transformation of Europe's population pyramid shape. The most significant change is the transition towards a much older population structure, resulting in a decrease in the proportion of the working age while the number of the retired population increases. The total number of the older population is projected to increase greatly within the coming decades, with rising proportions of the post-war baby-boom generations reaching retirement. This will cause a high burden on the working age population as they provide for the increasing number of the older population. Poland is one of the European country with less median age of 41.\", 'question_id': 2434, 'answer_choices': [3, 5, 6.5, 9.5], 'answer_id': 2}, {'image_id': '/content/drive/MyDrive/2ReadyForFineTuning/VLQAv1/Charts/images/Waterways.png', 'question': 'In the given data which country has higher exports? The given graph tells us about length of waterways. A waterway is any navigable body of water. Length of waterways affects the exports from a country. The more the waterways have high the country can export. Neighbouring countries do depend on them for there exports. The biggest role in the export market for the inland waterway system has been in the global trade for grains and coal.', 'question_id': 2435, 'answer_choices': ['Japan', 'China', 'United States', 'India'], 'answer_id': 1}, {'image_id': '/content/drive/MyDrive/2ReadyForFineTuning/VLQAv1/Charts/images/Waterways.png', 'question': 'How many country have higher exports than Japan? The given graph tells us about length of waterways. A waterway is any navigable body of water. Length of waterways affects the exports from a country. The more the waterways have high the country can export. Neighbouring countries do depend on them for there exports. The biggest role in the export market for the inland waterway system has been in the global trade for grains and coal.', 'question_id': 2436, 'answer_choices': [3, 2, 4, 0], 'answer_id': 2}, {'image_id': '/content/drive/MyDrive/2ReadyForFineTuning/VLQAv1/Charts/images/PRE_5.png', 'question': 'Which of the following country is not having population approximately same as Marshall Islands? The scatter plot shows the count of labor force in few countries for the year 2017. Labor force is the number of people who are employed plus the unemployed who are looking for work. Labor force is interrelated to size of the population. Educated society results in direct relation to labor force.', 'question_id': 2437, 'answer_choices': ['Norfolk Island', 'Grenada', 'Sweden', 'Kenya'], 'answer_id': 2}, {'image_id': '/content/drive/MyDrive/2ReadyForFineTuning/VLQAv1/Charts/images/PRE_5.png', 'question': 'How many countries have better educational society when compared to Guatemala? The scatter plot shows the count of labor force in few countries for the year 2017. Labor force is the number of people who are employed plus the unemployed who are looking for work. Labor force is interrelated to size of the population. Educated society results in direct relation to labor force.', 'question_id': 2438, 'answer_choices': [2, 5, 4, 3], 'answer_id': 0}, {'image_id': '/content/drive/MyDrive/2ReadyForFineTuning/VLQAv1/Charts/images/PRE_5.png', 'question': 'Which country is having a better education society and highest population? The scatter plot shows the count of labor force in few countries for the year 2017. Labor force is the number of people who are employed plus the unemployed who are looking for work. Labor force is interrelated to size of the population. Educated society results in direct relation to labor force.', 'question_id': 2439, 'answer_choices': ['Kenya', 'Bolivia', 'Sweden', 'Cameroon'], 'answer_id': 0}, {'image_id': '/content/drive/MyDrive/2ReadyForFineTuning/VLQAv1/Charts/images/PRE_7.png', 'question': 'Which country is next to China in exporting rice assuming each country produce and export rice? The graph shows the percentage distribution of labor force by sector of occupation which is Agriculture. Agriculture includes farming, fishing and forestry. Countries which has more agricultural production will have more labor force and more likely to be top exporters.', 'question_id': 2440, 'answer_choices': ['India', 'Germany', 'Russia', 'Nigeria'], 'answer_id': 2}, {'image_id': '/content/drive/MyDrive/2ReadyForFineTuning/VLQAv1/Charts/images/PRE_7.png', 'question': 'Which country is similar to United States in production of Corn, assuming that all countries produce corn? The graph shows the percentage distribution of labor force by sector of occupation which is Agriculture. Agriculture includes farming, fishing and forestry. Countries which has more agricultural production will have more labor force and more likely to be top exporters.', 'question_id': 2441, 'answer_choices': ['India', 'Germany', 'Russia', 'China'], 'answer_id': 1}, {'image_id': '/content/drive/MyDrive/2ReadyForFineTuning/VLQAv1/Charts/images/PRE_7.png', 'question': 'How many countries are better in agriculture production when compared to Russia? The graph shows the percentage distribution of labor force by sector of occupation which is Agriculture. Agriculture includes farming, fishing and forestry. Countries which has more agricultural production will have more labor force and more likely to be top exporters.', 'question_id': 2442, 'answer_choices': [1, 2, 4, 3], 'answer_id': 3}, {'image_id': '/content/drive/MyDrive/2ReadyForFineTuning/VLQAv1/Charts/images/PRE_12.png', 'question': 'Which country is having more GDP per capita when compared to Russia? The plot shows the entries of total amount of carbon dioxide, measured in metric tons, released by burning fossil fuels  in the process of producing and consuming energy. There is a strong correlation between per capita CO2 emissions and GDP per capita. It is observed that on an average, we see low carbon intensities at low incomes; carbon intensity rises as countries transition from low-to-middle incomes, especially in rapidly growing industrial economies; and as countries move towards higher incomes, carbon intensity falls again.', 'question_id': 2443, 'answer_choices': [1, 2, 3, 4], 'answer_id': 2}, {'image_id': '/content/drive/MyDrive/2ReadyForFineTuning/VLQAv1/Charts/images/PRE_12.png', 'question': 'Which country is best described to have rapidly growing industrial economy? The plot shows the entries of total amount of carbon dioxide, measured in metric tons, released by burning fossil fuels  in the process of producing and consuming energy. There is a strong correlation between per capita CO2 emissions and GDP per capita. It is observed that on an average, we see low carbon intensities at low incomes; carbon intensity rises as countries transition from low-to-middle incomes, especially in rapidly growing industrial economies; and as countries move towards higher incomes, carbon intensity falls again.', 'question_id': 2444, 'answer_choices': ['India', 'China', 'Russia', 'Brazil'], 'answer_id': 1}, {'image_id': '/content/drive/MyDrive/2ReadyForFineTuning/VLQAv1/Charts/images/PRE_12.png', 'question': 'How many countries are less developed industrially when compared to Russia? The plot shows the entries of total amount of carbon dioxide, measured in metric tons, released by burning fossil fuels  in the process of producing and consuming energy. There is a strong correlation between per capita CO2 emissions and GDP per capita. It is observed that on an average, we see low carbon intensities at low incomes; carbon intensity rises as countries transition from low-to-middle incomes, especially in rapidly growing industrial economies; and as countries move towards higher incomes, carbon intensity falls again.', 'question_id': 2445, 'answer_choices': [2, 5, 3, 4], 'answer_id': 2}, {'image_id': '/content/drive/MyDrive/2ReadyForFineTuning/VLQAv1/Charts/images/PRE_13.png', 'question': 'Which country is most likely to produce most Cereal? The graph is plotted with countries in X-axis and percentage shares of total land area for Agriculture among agricultural land, forest, and other. Increasing yields reduces the pressure of expanding agricultural land. It is observed from a research that more the land usage more is the yield for example cereal.', 'question_id': 2446, 'answer_choices': ['India', 'China', 'Russia', 'United States'], 'answer_id': 0}, {'image_id': '/content/drive/MyDrive/2ReadyForFineTuning/VLQAv1/Charts/images/PRE_13.png', 'question': 'Which country stands 2nd next to India in producing Cereal? The graph is plotted with countries in X-axis and percentage shares of total land area for Agriculture among agricultural land, forest, and other. Increasing yields reduces the pressure of expanding agricultural land. It is observed from a research that more the land usage more is the yield for example cereal.', 'question_id': 2447, 'answer_choices': ['China', 'United States', 'Russia', 'Poland'], 'answer_id': 3}, {'image_id': '/content/drive/MyDrive/2ReadyForFineTuning/VLQAv1/Charts/images/PRE_13.png', 'question': 'Which country stands 3rd last in producing Cereal? The graph is plotted with countries in X-axis and percentage shares of total land area for Agriculture among agricultural land, forest, and other. Increasing yields reduces the pressure of expanding agricultural land. It is observed from a research that more the land usage more is the yield for example cereal.', 'question_id': 2448, 'answer_choices': ['China', 'Indonesia', 'Russia', 'Japan'], 'answer_id': 1}, {'image_id': '/content/drive/MyDrive/2ReadyForFineTuning/VLQAv1/Charts/images/PRE_16.png', 'question': \"Which country is more likely to health hazards due to Natural gas consumption? Natural gas - consumption compares the total natural gas consumed by different countries. Natural gas is a fossil energy source that formed deep beneath the earth's surface. The largest component of Natural gas is methane. Methane has adverse effect on health of people. Exposure of methane will cause Headaches, Nausea, Dizziness, etc. Natural gas is a fossil fuel which when combusted generates Global Warming emissions out of which CO2 is more than 50%. There have been documented cases of groundwater near oil and gas wells being used more than other places.\", 'question_id': 2449, 'answer_choices': ['India', 'Australia', 'Iran', 'Russia'], 'answer_id': 3}, {'image_id': '/content/drive/MyDrive/2ReadyForFineTuning/VLQAv1/Charts/images/PRE_16.png', 'question': \"Which country emits lesser CO2 compared to all the other countries in the plot? Natural gas - consumption compares the total natural gas consumed by different countries. Natural gas is a fossil energy source that formed deep beneath the earth's surface. The largest component of Natural gas is methane. Methane has adverse effect on health of people. Exposure of methane will cause Headaches, Nausea, Dizziness, etc. Natural gas is a fossil fuel which when combusted generates Global Warming emissions out of which CO2 is more than 50%. There have been documented cases of groundwater near oil and gas wells being used more than other places.\", 'question_id': 2450, 'answer_choices': ['India', 'Australia', 'Iran', 'Russia'], 'answer_id': 1}, {'image_id': '/content/drive/MyDrive/2ReadyForFineTuning/VLQAv1/Charts/images/PRE_16.png', 'question': \"Based on the above data, how many countries use lesser groundwater resource compared to India? Natural gas - consumption compares the total natural gas consumed by different countries. Natural gas is a fossil energy source that formed deep beneath the earth's surface. The largest component of Natural gas is methane. Methane has adverse effect on health of people. Exposure of methane will cause Headaches, Nausea, Dizziness, etc. Natural gas is a fossil fuel which when combusted generates Global Warming emissions out of which CO2 is more than 50%. There have been documented cases of groundwater near oil and gas wells being used more than other places.\", 'question_id': 2451, 'answer_choices': ['Three', 'Four', 'One', 'Two'], 'answer_id': 2}, {'image_id': '/content/drive/MyDrive/2ReadyForFineTuning/VLQAv1/Charts/images/2.png', 'question': 'Which country is most likely to import Fish? The agricultural produce of various countries is depicted in Figure 2. Y indicates Yes, N indicates No.', 'question_id': 2452, 'answer_choices': ['Canada', 'Argentina', 'Germany', 'India'], 'answer_id': 2}, {'image_id': '/content/drive/MyDrive/2ReadyForFineTuning/VLQAv1/Charts/images/2.png', 'question': 'Tea, Potatoes and Coffee thrive well in tropical climate. Which country produces coffee? The agricultural produce of various countries is depicted in Figure 2. Y indicates Yes, N indicates No.', 'question_id': 2453, 'answer_choices': ['Canada', 'Argentina', 'Germany', 'India'], 'answer_id': 3}, {'image_id': '/content/drive/MyDrive/2ReadyForFineTuning/VLQAv1/Charts/images/2.png', 'question': 'Countries which produce fish have a coastline. Which country is landlocked? The agricultural produce of various countries is depicted in Figure 2. Y indicates Yes, N indicates No.', 'question_id': 2454, 'answer_choices': ['Canada', 'Argentina', 'Germany', 'India'], 'answer_id': 2}, {'image_id': '/content/drive/MyDrive/2ReadyForFineTuning/VLQAv1/Charts/images/13.png', 'question': 'According to Eisenhower Decision Principle, which of the following task should be dropped? Using the Eisenhower Decision Principle, tasks are evaluated using the criteria important/unimportant and urgent/not urgent, and then placed in according quadrants in an Eisenhower Matrix. Tasks in Important/Urgent quadrant are done immediately and personally e.g. crises, deadlines, problems. Tasks in Important/Not Urgent quadrant get an end date and are done personally e.g. relationships, planning, recreation. Tasks in Unimportant/Urgent quadrant are delegated e.g. interruptions, meetings, activities. Tasks in Unimportant/Not Urgent quadrant are dropped e.g. time wasters, pleasant activities, trivia.', 'question_id': 2455, 'answer_choices': ['Crying baby', 'Exercise', 'Distractions', 'Trivia'], 'answer_id': 3}, {'image_id': '/content/drive/MyDrive/2ReadyForFineTuning/VLQAv1/Charts/images/13.png', 'question': 'According to Eisenhower Decision Principle, which of the following task should be delegated? Using the Eisenhower Decision Principle, tasks are evaluated using the criteria important/unimportant and urgent/not urgent, and then placed in according quadrants in an Eisenhower Matrix. Tasks in Important/Urgent quadrant are done immediately and personally e.g. crises, deadlines, problems. Tasks in Important/Not Urgent quadrant get an end date and are done personally e.g. relationships, planning, recreation. Tasks in Unimportant/Urgent quadrant are delegated e.g. interruptions, meetings, activities. Tasks in Unimportant/Not Urgent quadrant are dropped e.g. time wasters, pleasant activities, trivia.', 'question_id': 2456, 'answer_choices': ['Crying baby', 'Exercise', 'Distractions', 'Trivia'], 'answer_id': 2}, {'image_id': '/content/drive/MyDrive/2ReadyForFineTuning/VLQAv1/Charts/images/13.png', 'question': 'According to Eisenhower Decision Principle, which of the following task has an end date? Using the Eisenhower Decision Principle, tasks are evaluated using the criteria important/unimportant and urgent/not urgent, and then placed in according quadrants in an Eisenhower Matrix. Tasks in Important/Urgent quadrant are done immediately and personally e.g. crises, deadlines, problems. Tasks in Important/Not Urgent quadrant get an end date and are done personally e.g. relationships, planning, recreation. Tasks in Unimportant/Urgent quadrant are delegated e.g. interruptions, meetings, activities. Tasks in Unimportant/Not Urgent quadrant are dropped e.g. time wasters, pleasant activities, trivia.', 'question_id': 2457, 'answer_choices': ['Crying baby', 'Exercise', 'Distractions', 'Trivia'], 'answer_id': 1}, {'image_id': '/content/drive/MyDrive/2ReadyForFineTuning/VLQAv1/Charts/images/13.png', 'question': 'According to Eisenhower Decision Principle, which of the following task should be done immediately? Using the Eisenhower Decision Principle, tasks are evaluated using the criteria important/unimportant and urgent/not urgent, and then placed in according quadrants in an Eisenhower Matrix. Tasks in Important/Urgent quadrant are done immediately and personally e.g. crises, deadlines, problems. Tasks in Important/Not Urgent quadrant get an end date and are done personally e.g. relationships, planning, recreation. Tasks in Unimportant/Urgent quadrant are delegated e.g. interruptions, meetings, activities. Tasks in Unimportant/Not Urgent quadrant are dropped e.g. time wasters, pleasant activities, trivia.', 'question_id': 2458, 'answer_choices': ['Crying baby', 'Exercise', 'Distractions', 'Trivia'], 'answer_id': 0}, {'image_id': '/content/drive/MyDrive/2ReadyForFineTuning/VLQAv1/Charts/images/15.png', 'question': 'How many times does a note repeat within Fret Numbers 1-12 in all the 6 strings? Given chart is showing all of the notes on a guitar fretboard. The notes repeat after the 12th fret (e.g. the note at the 13th fret of the 1st string is an F). The notes of the sixth string and the first string are the same. Blues guitar generally follow a I-IV-V progression. For example, A-D-E, C-F-G, D-G-A are I-IV-V progressions.', 'question_id': 2459, 'answer_choices': [4, 5, 6, 7], 'answer_id': 2}, {'image_id': '/content/drive/MyDrive/2ReadyForFineTuning/VLQAv1/Charts/images/15.png', 'question': 'Which notes do not follow one of the example I-IV-V progressions? Given chart is showing all of the notes on a guitar fretboard. The notes repeat after the 12th fret (e.g. the note at the 13th fret of the 1st string is an F). The notes of the sixth string and the first string are the same. Blues guitar generally follow a I-IV-V progression. For example, A-D-E, C-F-G, D-G-A are I-IV-V progressions.', 'question_id': 2460, 'answer_choices': ['6 string - 5 fret, 5 string - 5 fret, 5 string - 7 fret', '5 string - 3 fret, 6 string - 1 fret, 6 string - 3 fret', '6 string - 10 fret, 5 string - 10 fret, 5 string - 12 fret', '5 string - 5 fret, 5 string - 3 fret, 6 string - 3 fret'], 'answer_id': 3}, {'image_id': '/content/drive/MyDrive/2ReadyForFineTuning/VLQAv1/Charts/images/16.png', 'question': 'Which of the following elements has low chemical reactivity? This given figure shows the periodic table with the location of the chemical elements. They are sorted by atomic number. The noble gases make up a group of chemical elements with similar properties; under standard conditions, they are all odorless, colorless, monatomic gases with very low chemical reactivity. The elements in the alkali metals group have their outermost electron in an s-orbital: this shared electron configuration results in their having very similar characteristic properties. The alkaline earth metals form group II of the periodic table. The elements are all shiny, silvery-white, somewhat reactive metals at standard temperature and pressure.', 'question_id': 2461, 'answer_choices': ['H', 'He', 'Li', 'Be'], 'answer_id': 1}, {'image_id': '/content/drive/MyDrive/2ReadyForFineTuning/VLQAv1/Charts/images/16.png', 'question': 'Which of the following elements has their outermost electron in the s-orbital? This given figure shows the periodic table with the location of the chemical elements. They are sorted by atomic number. The noble gases make up a group of chemical elements with similar properties; under standard conditions, they are all odorless, colorless, monatomic gases with very low chemical reactivity. The elements in the alkali metals group have their outermost electron in an s-orbital: this shared electron configuration results in their having very similar characteristic properties. The alkaline earth metals form group II of the periodic table. The elements are all shiny, silvery-white, somewhat reactive metals at standard temperature and pressure.', 'question_id': 2462, 'answer_choices': ['K', 'Ca', 'Br', 'Kr'], 'answer_id': 0}, {'image_id': '/content/drive/MyDrive/2ReadyForFineTuning/VLQAv1/Charts/images/16.png', 'question': 'Which of the following is both a transition metal and has no isotope older than the earth? This given figure shows the periodic table with the location of the chemical elements. They are sorted by atomic number. The noble gases make up a group of chemical elements with similar properties; under standard conditions, they are all odorless, colorless, monatomic gases with very low chemical reactivity. The elements in the alkali metals group have their outermost electron in an s-orbital: this shared electron configuration results in their having very similar characteristic properties. The alkaline earth metals form group II of the periodic table. The elements are all shiny, silvery-white, somewhat reactive metals at standard temperature and pressure.', 'question_id': 2463, 'answer_choices': ['Ca', 'Fe', 'Tc', 'Os'], 'answer_id': 2}, {'image_id': '/content/drive/MyDrive/2ReadyForFineTuning/VLQAv1/Charts/images/6.png', 'question': 'Which year did the economic downturn happen? The given figure shows the healthcare spending per person in UK for the year 2012. Percentage values show the growth rate compared to previous year. Healthcare spending per capita has increased every year since 1997 but growth rates have slowed considerably since the economic downturn.', 'question_id': 2464, 'answer_choices': ['2003', '2005', '2007', '2009'], 'answer_id': 3}, {'image_id': '/content/drive/MyDrive/2ReadyForFineTuning/VLQAv1/Charts/images/6.png', 'question': 'The growth rate of per-capita healthcare spending for which two years are equal? The given figure shows the healthcare spending per person in UK for the year 2012. Percentage values show the growth rate compared to previous year. Healthcare spending per capita has increased every year since 1997 but growth rates have slowed considerably since the economic downturn.', 'question_id': 2465, 'answer_choices': ['1998 and 2007', '2000 and 2009', '2002 and 2003', '2005 and 2006'], 'answer_id': 1}, {'image_id': '/content/drive/MyDrive/2ReadyForFineTuning/VLQAv1/Charts/images/12.png', 'question': 'In August 2004, which of the following iPod model was already manufactured? Ipod is a series of portable media players manufactured by Apple since 2001 . The standard model has a two-inch LCD screen and initially came with a storage capacity of 5 gigabytes . Later, it has been extended to 10, 15, 20, 30, 40, 60, 80, 120 and 160 gigabytes. All models originally use hard drives but the Ipod Shuffle , Ipod Touch and Ipod Nano instead have a built-in flash memory . The figure above shows the timeline of various iPod models manufactured by Apple. The solid vertical lines indicate the start of a year. The muted grey vertical lines indicate months.', 'question_id': 2466, 'answer_choices': ['iPod shuffle', 'iPod nano', 'iPod photo', 'iPod mini'], 'answer_id': 3}, {'image_id': '/content/drive/MyDrive/2ReadyForFineTuning/VLQAv1/Charts/images/12.png', 'question': 'The iPod nano is not available in which storage size? Ipod is a series of portable media players manufactured by Apple since 2001 . The standard model has a two-inch LCD screen and initially came with a storage capacity of 5 gigabytes . Later, it has been extended to 10, 15, 20, 30, 40, 60, 80, 120 and 160 gigabytes. All models originally use hard drives but the Ipod Shuffle , Ipod Touch and Ipod Nano instead have a built-in flash memory . The figure above shows the timeline of various iPod models manufactured by Apple. The solid vertical lines indicate the start of a year. The muted grey vertical lines indicate months.', 'question_id': 2467, 'answer_choices': ['1 GB', '2 GB', '3 GB', '4 GB'], 'answer_id': 2}, {'image_id': '/content/drive/MyDrive/2ReadyForFineTuning/VLQAv1/Charts/images/12.png', 'question': 'Which iPod flavor is only available in 512 MB storage size? Ipod is a series of portable media players manufactured by Apple since 2001 . The standard model has a two-inch LCD screen and initially came with a storage capacity of 5 gigabytes . Later, it has been extended to 10, 15, 20, 30, 40, 60, 80, 120 and 160 gigabytes. All models originally use hard drives but the Ipod Shuffle , Ipod Touch and Ipod Nano instead have a built-in flash memory . The figure above shows the timeline of various iPod models manufactured by Apple. The solid vertical lines indicate the start of a year. The muted grey vertical lines indicate months.', 'question_id': 2468, 'answer_choices': ['iPod shuffle', 'iPod nano', 'iPod photo', 'iPod mini'], 'answer_id': 0}]}\n"
          ]
        }
      ]
    },
    {
      "cell_type": "code",
      "source": [
        "import json\n",
        "f = open('/content/'+prefix+'_test.jsonl','r')\n",
        "test_data_questions = json.load(f)\n",
        "test_questions = test_data_questions['questions']\n",
        "\n",
        "print(test_data_questions.keys())\n",
        "print(\"Number of questions:\", len(test_questions))"
      ],
      "metadata": {
        "colab": {
          "base_uri": "https://localhost:8080/"
        },
        "id": "ARZqNrMurK_u",
        "outputId": "b8221f75-d2a7-4f6d-df0b-79b9b9d1e69a"
      },
      "execution_count": 47,
      "outputs": [
        {
          "output_type": "stream",
          "name": "stdout",
          "text": [
            "dict_keys(['info', 'task_type', 'data_type', 'license', 'data_subtype', 'questions'])\n",
            "Number of questions: 51\n"
          ]
        }
      ]
    },
    {
      "cell_type": "code",
      "source": [
        "test_dataset = VQADataset(questions=test_questions,processor=processor)"
      ],
      "metadata": {
        "id": "rsF0MMk5ryy7"
      },
      "execution_count": 48,
      "outputs": []
    },
    {
      "cell_type": "code",
      "source": [
        "len(test_dataset)"
      ],
      "metadata": {
        "colab": {
          "base_uri": "https://localhost:8080/"
        },
        "id": "uLK_Uqw4sQJl",
        "outputId": "d23b1a11-18fc-4030-fa80-da2412396750"
      },
      "execution_count": 49,
      "outputs": [
        {
          "output_type": "execute_result",
          "data": {
            "text/plain": [
              "51"
            ]
          },
          "metadata": {},
          "execution_count": 49
        }
      ]
    },
    {
      "cell_type": "markdown",
      "metadata": {
        "id": "4SkLrjIRCJhp"
      },
      "source": [
        "# Single Instance Inference"
      ]
    },
    {
      "cell_type": "code",
      "execution_count": 50,
      "metadata": {
        "id": "qG0UzoCfgpEF",
        "colab": {
          "base_uri": "https://localhost:8080/"
        },
        "outputId": "709dcee9-4a42-4952-eb59-3fe3fbac90e2"
      },
      "outputs": [
        {
          "output_type": "stream",
          "name": "stdout",
          "text": [
            "dict_keys(['input_ids', 'token_type_ids', 'attention_mask', 'pixel_values', 'pixel_mask', 'labels'])\n"
          ]
        }
      ],
      "source": [
        "exid = 1\n",
        "example = test_dataset[exid]\n",
        "print(example.keys())"
      ]
    },
    {
      "cell_type": "code",
      "execution_count": 51,
      "metadata": {
        "id": "eszu33n7yS4f"
      },
      "outputs": [],
      "source": [
        "# add batch dimension + move to GPU\n",
        "example = {k: v.unsqueeze(0).to(device) for k,v in example.items()}\n",
        "\n",
        "# forward pass\n",
        "outputs = model(**example)"
      ]
    },
    {
      "cell_type": "code",
      "execution_count": 52,
      "metadata": {
        "id": "xZ4_ceydyePt",
        "colab": {
          "base_uri": "https://localhost:8080/"
        },
        "outputId": "384a5f37-0ca6-4b1d-8112-54f2c491bf86"
      },
      "outputs": [
        {
          "output_type": "stream",
          "name": "stdout",
          "text": [
            "Predicted answer: 1\n",
            "Ground-truth answer: 3\n"
          ]
        }
      ],
      "source": [
        "logits = outputs.logits\n",
        "predicted_class = logits.argmax(-1).item()\n",
        "print(\"Predicted answer:\", predicted_class)\n",
        "print(\"Ground-truth answer:\", test_dataset[exid]['labels'].argmax(-1).item())"
      ]
    },
    {
      "cell_type": "markdown",
      "metadata": {
        "id": "u9KPb-kxCNC9"
      },
      "source": [
        "# Batch Inference"
      ]
    },
    {
      "cell_type": "code",
      "execution_count": 53,
      "metadata": {
        "id": "KOOVAOc5yvbT"
      },
      "outputs": [],
      "source": [
        "import csv\n",
        "filprefix = prefix+\"_result\"\n",
        "\n",
        "count = 0\n",
        "st = 0\n",
        "end = datalen-int(datalen*0.8)\n",
        "with open(filprefix+'.csv', 'w+') as k:\n",
        "  spamwriter = csv.writer(k)\n",
        "  spamwriter.writerow([\"qid\",\"pred_ans\",\"gt_ans\",\"correctness\"])\n",
        "  for exid in range(st,end):\n",
        "    correctness = 0\n",
        "    example = test_dataset[exid]\n",
        "    example = {k: v.unsqueeze(0).to(device) for k,v in example.items()}\n",
        "    outputs = model(**example)\n",
        "    logits = outputs.logits\n",
        "    predicted_class = logits.argmax(-1).item()\n",
        "    gtclass = test_dataset[exid]['labels'].argmax(-1).item()\n",
        "    if gtclass==predicted_class:\n",
        "      count+=1\n",
        "      correctness = 1\n",
        "    spamwriter.writerow([exid,predicted_class, gtclass,correctness])"
      ]
    }
  ],
  "metadata": {
    "colab": {
      "provenance": [],
      "gpuType": "T4"
    },
    "kernelspec": {
      "display_name": "Python 3",
      "name": "python3"
    },
    "language_info": {
      "name": "python"
    },
    "widgets": {
      "application/vnd.jupyter.widget-state+json": {
        "a5a8f838f8d645ca97d6a09a77b49a1a": {
          "model_module": "@jupyter-widgets/controls",
          "model_name": "HBoxModel",
          "model_module_version": "1.5.0",
          "state": {
            "_dom_classes": [],
            "_model_module": "@jupyter-widgets/controls",
            "_model_module_version": "1.5.0",
            "_model_name": "HBoxModel",
            "_view_count": null,
            "_view_module": "@jupyter-widgets/controls",
            "_view_module_version": "1.5.0",
            "_view_name": "HBoxView",
            "box_style": "",
            "children": [
              "IPY_MODEL_1c808720707847d9928f98311bfed69d",
              "IPY_MODEL_025a3d2685094c729559d28650fe09f9",
              "IPY_MODEL_f2ed56287e0e4e1284be3711a5d5fb01"
            ],
            "layout": "IPY_MODEL_708ba393bd5e4b14bc6f28d85e7a9915"
          }
        },
        "1c808720707847d9928f98311bfed69d": {
          "model_module": "@jupyter-widgets/controls",
          "model_name": "HTMLModel",
          "model_module_version": "1.5.0",
          "state": {
            "_dom_classes": [],
            "_model_module": "@jupyter-widgets/controls",
            "_model_module_version": "1.5.0",
            "_model_name": "HTMLModel",
            "_view_count": null,
            "_view_module": "@jupyter-widgets/controls",
            "_view_module_version": "1.5.0",
            "_view_name": "HTMLView",
            "description": "",
            "description_tooltip": null,
            "layout": "IPY_MODEL_d27adb9e18bf4a0fa7e87f038869786d",
            "placeholder": "​",
            "style": "IPY_MODEL_51ef769b23784bfd8ee35f769291474f",
            "value": "100%"
          }
        },
        "025a3d2685094c729559d28650fe09f9": {
          "model_module": "@jupyter-widgets/controls",
          "model_name": "FloatProgressModel",
          "model_module_version": "1.5.0",
          "state": {
            "_dom_classes": [],
            "_model_module": "@jupyter-widgets/controls",
            "_model_module_version": "1.5.0",
            "_model_name": "FloatProgressModel",
            "_view_count": null,
            "_view_module": "@jupyter-widgets/controls",
            "_view_module_version": "1.5.0",
            "_view_name": "ProgressView",
            "bar_style": "success",
            "description": "",
            "description_tooltip": null,
            "layout": "IPY_MODEL_06f3841123f74798bbd58e7bf5e3eda2",
            "max": 200,
            "min": 0,
            "orientation": "horizontal",
            "style": "IPY_MODEL_f6de26e95a98420786e24417475d770b",
            "value": 200
          }
        },
        "f2ed56287e0e4e1284be3711a5d5fb01": {
          "model_module": "@jupyter-widgets/controls",
          "model_name": "HTMLModel",
          "model_module_version": "1.5.0",
          "state": {
            "_dom_classes": [],
            "_model_module": "@jupyter-widgets/controls",
            "_model_module_version": "1.5.0",
            "_model_name": "HTMLModel",
            "_view_count": null,
            "_view_module": "@jupyter-widgets/controls",
            "_view_module_version": "1.5.0",
            "_view_name": "HTMLView",
            "description": "",
            "description_tooltip": null,
            "layout": "IPY_MODEL_34ef4d568a144d1289d154b60ab93568",
            "placeholder": "​",
            "style": "IPY_MODEL_4ae104e68c284c4b8a1bf7919b68d850",
            "value": " 200/200 [01:10&lt;00:00, 11.79it/s]"
          }
        },
        "708ba393bd5e4b14bc6f28d85e7a9915": {
          "model_module": "@jupyter-widgets/base",
          "model_name": "LayoutModel",
          "model_module_version": "1.2.0",
          "state": {
            "_model_module": "@jupyter-widgets/base",
            "_model_module_version": "1.2.0",
            "_model_name": "LayoutModel",
            "_view_count": null,
            "_view_module": "@jupyter-widgets/base",
            "_view_module_version": "1.2.0",
            "_view_name": "LayoutView",
            "align_content": null,
            "align_items": null,
            "align_self": null,
            "border": null,
            "bottom": null,
            "display": null,
            "flex": null,
            "flex_flow": null,
            "grid_area": null,
            "grid_auto_columns": null,
            "grid_auto_flow": null,
            "grid_auto_rows": null,
            "grid_column": null,
            "grid_gap": null,
            "grid_row": null,
            "grid_template_areas": null,
            "grid_template_columns": null,
            "grid_template_rows": null,
            "height": null,
            "justify_content": null,
            "justify_items": null,
            "left": null,
            "margin": null,
            "max_height": null,
            "max_width": null,
            "min_height": null,
            "min_width": null,
            "object_fit": null,
            "object_position": null,
            "order": null,
            "overflow": null,
            "overflow_x": null,
            "overflow_y": null,
            "padding": null,
            "right": null,
            "top": null,
            "visibility": null,
            "width": null
          }
        },
        "d27adb9e18bf4a0fa7e87f038869786d": {
          "model_module": "@jupyter-widgets/base",
          "model_name": "LayoutModel",
          "model_module_version": "1.2.0",
          "state": {
            "_model_module": "@jupyter-widgets/base",
            "_model_module_version": "1.2.0",
            "_model_name": "LayoutModel",
            "_view_count": null,
            "_view_module": "@jupyter-widgets/base",
            "_view_module_version": "1.2.0",
            "_view_name": "LayoutView",
            "align_content": null,
            "align_items": null,
            "align_self": null,
            "border": null,
            "bottom": null,
            "display": null,
            "flex": null,
            "flex_flow": null,
            "grid_area": null,
            "grid_auto_columns": null,
            "grid_auto_flow": null,
            "grid_auto_rows": null,
            "grid_column": null,
            "grid_gap": null,
            "grid_row": null,
            "grid_template_areas": null,
            "grid_template_columns": null,
            "grid_template_rows": null,
            "height": null,
            "justify_content": null,
            "justify_items": null,
            "left": null,
            "margin": null,
            "max_height": null,
            "max_width": null,
            "min_height": null,
            "min_width": null,
            "object_fit": null,
            "object_position": null,
            "order": null,
            "overflow": null,
            "overflow_x": null,
            "overflow_y": null,
            "padding": null,
            "right": null,
            "top": null,
            "visibility": null,
            "width": null
          }
        },
        "51ef769b23784bfd8ee35f769291474f": {
          "model_module": "@jupyter-widgets/controls",
          "model_name": "DescriptionStyleModel",
          "model_module_version": "1.5.0",
          "state": {
            "_model_module": "@jupyter-widgets/controls",
            "_model_module_version": "1.5.0",
            "_model_name": "DescriptionStyleModel",
            "_view_count": null,
            "_view_module": "@jupyter-widgets/base",
            "_view_module_version": "1.2.0",
            "_view_name": "StyleView",
            "description_width": ""
          }
        },
        "06f3841123f74798bbd58e7bf5e3eda2": {
          "model_module": "@jupyter-widgets/base",
          "model_name": "LayoutModel",
          "model_module_version": "1.2.0",
          "state": {
            "_model_module": "@jupyter-widgets/base",
            "_model_module_version": "1.2.0",
            "_model_name": "LayoutModel",
            "_view_count": null,
            "_view_module": "@jupyter-widgets/base",
            "_view_module_version": "1.2.0",
            "_view_name": "LayoutView",
            "align_content": null,
            "align_items": null,
            "align_self": null,
            "border": null,
            "bottom": null,
            "display": null,
            "flex": null,
            "flex_flow": null,
            "grid_area": null,
            "grid_auto_columns": null,
            "grid_auto_flow": null,
            "grid_auto_rows": null,
            "grid_column": null,
            "grid_gap": null,
            "grid_row": null,
            "grid_template_areas": null,
            "grid_template_columns": null,
            "grid_template_rows": null,
            "height": null,
            "justify_content": null,
            "justify_items": null,
            "left": null,
            "margin": null,
            "max_height": null,
            "max_width": null,
            "min_height": null,
            "min_width": null,
            "object_fit": null,
            "object_position": null,
            "order": null,
            "overflow": null,
            "overflow_x": null,
            "overflow_y": null,
            "padding": null,
            "right": null,
            "top": null,
            "visibility": null,
            "width": null
          }
        },
        "f6de26e95a98420786e24417475d770b": {
          "model_module": "@jupyter-widgets/controls",
          "model_name": "ProgressStyleModel",
          "model_module_version": "1.5.0",
          "state": {
            "_model_module": "@jupyter-widgets/controls",
            "_model_module_version": "1.5.0",
            "_model_name": "ProgressStyleModel",
            "_view_count": null,
            "_view_module": "@jupyter-widgets/base",
            "_view_module_version": "1.2.0",
            "_view_name": "StyleView",
            "bar_color": null,
            "description_width": ""
          }
        },
        "34ef4d568a144d1289d154b60ab93568": {
          "model_module": "@jupyter-widgets/base",
          "model_name": "LayoutModel",
          "model_module_version": "1.2.0",
          "state": {
            "_model_module": "@jupyter-widgets/base",
            "_model_module_version": "1.2.0",
            "_model_name": "LayoutModel",
            "_view_count": null,
            "_view_module": "@jupyter-widgets/base",
            "_view_module_version": "1.2.0",
            "_view_name": "LayoutView",
            "align_content": null,
            "align_items": null,
            "align_self": null,
            "border": null,
            "bottom": null,
            "display": null,
            "flex": null,
            "flex_flow": null,
            "grid_area": null,
            "grid_auto_columns": null,
            "grid_auto_flow": null,
            "grid_auto_rows": null,
            "grid_column": null,
            "grid_gap": null,
            "grid_row": null,
            "grid_template_areas": null,
            "grid_template_columns": null,
            "grid_template_rows": null,
            "height": null,
            "justify_content": null,
            "justify_items": null,
            "left": null,
            "margin": null,
            "max_height": null,
            "max_width": null,
            "min_height": null,
            "min_width": null,
            "object_fit": null,
            "object_position": null,
            "order": null,
            "overflow": null,
            "overflow_x": null,
            "overflow_y": null,
            "padding": null,
            "right": null,
            "top": null,
            "visibility": null,
            "width": null
          }
        },
        "4ae104e68c284c4b8a1bf7919b68d850": {
          "model_module": "@jupyter-widgets/controls",
          "model_name": "DescriptionStyleModel",
          "model_module_version": "1.5.0",
          "state": {
            "_model_module": "@jupyter-widgets/controls",
            "_model_module_version": "1.5.0",
            "_model_name": "DescriptionStyleModel",
            "_view_count": null,
            "_view_module": "@jupyter-widgets/base",
            "_view_module_version": "1.2.0",
            "_view_name": "StyleView",
            "description_width": ""
          }
        },
        "c32eccea1fd64483a759ccab91e678e0": {
          "model_module": "@jupyter-widgets/controls",
          "model_name": "HBoxModel",
          "model_module_version": "1.5.0",
          "state": {
            "_dom_classes": [],
            "_model_module": "@jupyter-widgets/controls",
            "_model_module_version": "1.5.0",
            "_model_name": "HBoxModel",
            "_view_count": null,
            "_view_module": "@jupyter-widgets/controls",
            "_view_module_version": "1.5.0",
            "_view_name": "HBoxView",
            "box_style": "",
            "children": [
              "IPY_MODEL_fc545a4c26df4dc98d59a587a12ff844",
              "IPY_MODEL_54a62c7ff6454ee4b1ea4ca2d86828bc",
              "IPY_MODEL_fc95193938494a55956931f802e49972"
            ],
            "layout": "IPY_MODEL_2022855d46594e45a42c592c7828ebf7"
          }
        },
        "fc545a4c26df4dc98d59a587a12ff844": {
          "model_module": "@jupyter-widgets/controls",
          "model_name": "HTMLModel",
          "model_module_version": "1.5.0",
          "state": {
            "_dom_classes": [],
            "_model_module": "@jupyter-widgets/controls",
            "_model_module_version": "1.5.0",
            "_model_name": "HTMLModel",
            "_view_count": null,
            "_view_module": "@jupyter-widgets/controls",
            "_view_module_version": "1.5.0",
            "_view_name": "HTMLView",
            "description": "",
            "description_tooltip": null,
            "layout": "IPY_MODEL_a02ea54477b34ca6b276b5b178d11f36",
            "placeholder": "​",
            "style": "IPY_MODEL_351dc05c1aaf4b8c8c3425f031ef6e0f",
            "value": "100%"
          }
        },
        "54a62c7ff6454ee4b1ea4ca2d86828bc": {
          "model_module": "@jupyter-widgets/controls",
          "model_name": "FloatProgressModel",
          "model_module_version": "1.5.0",
          "state": {
            "_dom_classes": [],
            "_model_module": "@jupyter-widgets/controls",
            "_model_module_version": "1.5.0",
            "_model_name": "FloatProgressModel",
            "_view_count": null,
            "_view_module": "@jupyter-widgets/controls",
            "_view_module_version": "1.5.0",
            "_view_name": "ProgressView",
            "bar_style": "success",
            "description": "",
            "description_tooltip": null,
            "layout": "IPY_MODEL_e2c39fa8f1ee48f7a4c916fd1fce54dd",
            "max": 200,
            "min": 0,
            "orientation": "horizontal",
            "style": "IPY_MODEL_aebccfa3a91045fba9f85094d5858e32",
            "value": 200
          }
        },
        "fc95193938494a55956931f802e49972": {
          "model_module": "@jupyter-widgets/controls",
          "model_name": "HTMLModel",
          "model_module_version": "1.5.0",
          "state": {
            "_dom_classes": [],
            "_model_module": "@jupyter-widgets/controls",
            "_model_module_version": "1.5.0",
            "_model_name": "HTMLModel",
            "_view_count": null,
            "_view_module": "@jupyter-widgets/controls",
            "_view_module_version": "1.5.0",
            "_view_name": "HTMLView",
            "description": "",
            "description_tooltip": null,
            "layout": "IPY_MODEL_275348ee52764e7392c87bdfd72dbc9b",
            "placeholder": "​",
            "style": "IPY_MODEL_5e4c5e0d9b0441278bdccdb8bf88d46e",
            "value": " 200/200 [00:17&lt;00:00, 11.83it/s]"
          }
        },
        "2022855d46594e45a42c592c7828ebf7": {
          "model_module": "@jupyter-widgets/base",
          "model_name": "LayoutModel",
          "model_module_version": "1.2.0",
          "state": {
            "_model_module": "@jupyter-widgets/base",
            "_model_module_version": "1.2.0",
            "_model_name": "LayoutModel",
            "_view_count": null,
            "_view_module": "@jupyter-widgets/base",
            "_view_module_version": "1.2.0",
            "_view_name": "LayoutView",
            "align_content": null,
            "align_items": null,
            "align_self": null,
            "border": null,
            "bottom": null,
            "display": null,
            "flex": null,
            "flex_flow": null,
            "grid_area": null,
            "grid_auto_columns": null,
            "grid_auto_flow": null,
            "grid_auto_rows": null,
            "grid_column": null,
            "grid_gap": null,
            "grid_row": null,
            "grid_template_areas": null,
            "grid_template_columns": null,
            "grid_template_rows": null,
            "height": null,
            "justify_content": null,
            "justify_items": null,
            "left": null,
            "margin": null,
            "max_height": null,
            "max_width": null,
            "min_height": null,
            "min_width": null,
            "object_fit": null,
            "object_position": null,
            "order": null,
            "overflow": null,
            "overflow_x": null,
            "overflow_y": null,
            "padding": null,
            "right": null,
            "top": null,
            "visibility": null,
            "width": null
          }
        },
        "a02ea54477b34ca6b276b5b178d11f36": {
          "model_module": "@jupyter-widgets/base",
          "model_name": "LayoutModel",
          "model_module_version": "1.2.0",
          "state": {
            "_model_module": "@jupyter-widgets/base",
            "_model_module_version": "1.2.0",
            "_model_name": "LayoutModel",
            "_view_count": null,
            "_view_module": "@jupyter-widgets/base",
            "_view_module_version": "1.2.0",
            "_view_name": "LayoutView",
            "align_content": null,
            "align_items": null,
            "align_self": null,
            "border": null,
            "bottom": null,
            "display": null,
            "flex": null,
            "flex_flow": null,
            "grid_area": null,
            "grid_auto_columns": null,
            "grid_auto_flow": null,
            "grid_auto_rows": null,
            "grid_column": null,
            "grid_gap": null,
            "grid_row": null,
            "grid_template_areas": null,
            "grid_template_columns": null,
            "grid_template_rows": null,
            "height": null,
            "justify_content": null,
            "justify_items": null,
            "left": null,
            "margin": null,
            "max_height": null,
            "max_width": null,
            "min_height": null,
            "min_width": null,
            "object_fit": null,
            "object_position": null,
            "order": null,
            "overflow": null,
            "overflow_x": null,
            "overflow_y": null,
            "padding": null,
            "right": null,
            "top": null,
            "visibility": null,
            "width": null
          }
        },
        "351dc05c1aaf4b8c8c3425f031ef6e0f": {
          "model_module": "@jupyter-widgets/controls",
          "model_name": "DescriptionStyleModel",
          "model_module_version": "1.5.0",
          "state": {
            "_model_module": "@jupyter-widgets/controls",
            "_model_module_version": "1.5.0",
            "_model_name": "DescriptionStyleModel",
            "_view_count": null,
            "_view_module": "@jupyter-widgets/base",
            "_view_module_version": "1.2.0",
            "_view_name": "StyleView",
            "description_width": ""
          }
        },
        "e2c39fa8f1ee48f7a4c916fd1fce54dd": {
          "model_module": "@jupyter-widgets/base",
          "model_name": "LayoutModel",
          "model_module_version": "1.2.0",
          "state": {
            "_model_module": "@jupyter-widgets/base",
            "_model_module_version": "1.2.0",
            "_model_name": "LayoutModel",
            "_view_count": null,
            "_view_module": "@jupyter-widgets/base",
            "_view_module_version": "1.2.0",
            "_view_name": "LayoutView",
            "align_content": null,
            "align_items": null,
            "align_self": null,
            "border": null,
            "bottom": null,
            "display": null,
            "flex": null,
            "flex_flow": null,
            "grid_area": null,
            "grid_auto_columns": null,
            "grid_auto_flow": null,
            "grid_auto_rows": null,
            "grid_column": null,
            "grid_gap": null,
            "grid_row": null,
            "grid_template_areas": null,
            "grid_template_columns": null,
            "grid_template_rows": null,
            "height": null,
            "justify_content": null,
            "justify_items": null,
            "left": null,
            "margin": null,
            "max_height": null,
            "max_width": null,
            "min_height": null,
            "min_width": null,
            "object_fit": null,
            "object_position": null,
            "order": null,
            "overflow": null,
            "overflow_x": null,
            "overflow_y": null,
            "padding": null,
            "right": null,
            "top": null,
            "visibility": null,
            "width": null
          }
        },
        "aebccfa3a91045fba9f85094d5858e32": {
          "model_module": "@jupyter-widgets/controls",
          "model_name": "ProgressStyleModel",
          "model_module_version": "1.5.0",
          "state": {
            "_model_module": "@jupyter-widgets/controls",
            "_model_module_version": "1.5.0",
            "_model_name": "ProgressStyleModel",
            "_view_count": null,
            "_view_module": "@jupyter-widgets/base",
            "_view_module_version": "1.2.0",
            "_view_name": "StyleView",
            "bar_color": null,
            "description_width": ""
          }
        },
        "275348ee52764e7392c87bdfd72dbc9b": {
          "model_module": "@jupyter-widgets/base",
          "model_name": "LayoutModel",
          "model_module_version": "1.2.0",
          "state": {
            "_model_module": "@jupyter-widgets/base",
            "_model_module_version": "1.2.0",
            "_model_name": "LayoutModel",
            "_view_count": null,
            "_view_module": "@jupyter-widgets/base",
            "_view_module_version": "1.2.0",
            "_view_name": "LayoutView",
            "align_content": null,
            "align_items": null,
            "align_self": null,
            "border": null,
            "bottom": null,
            "display": null,
            "flex": null,
            "flex_flow": null,
            "grid_area": null,
            "grid_auto_columns": null,
            "grid_auto_flow": null,
            "grid_auto_rows": null,
            "grid_column": null,
            "grid_gap": null,
            "grid_row": null,
            "grid_template_areas": null,
            "grid_template_columns": null,
            "grid_template_rows": null,
            "height": null,
            "justify_content": null,
            "justify_items": null,
            "left": null,
            "margin": null,
            "max_height": null,
            "max_width": null,
            "min_height": null,
            "min_width": null,
            "object_fit": null,
            "object_position": null,
            "order": null,
            "overflow": null,
            "overflow_x": null,
            "overflow_y": null,
            "padding": null,
            "right": null,
            "top": null,
            "visibility": null,
            "width": null
          }
        },
        "5e4c5e0d9b0441278bdccdb8bf88d46e": {
          "model_module": "@jupyter-widgets/controls",
          "model_name": "DescriptionStyleModel",
          "model_module_version": "1.5.0",
          "state": {
            "_model_module": "@jupyter-widgets/controls",
            "_model_module_version": "1.5.0",
            "_model_name": "DescriptionStyleModel",
            "_view_count": null,
            "_view_module": "@jupyter-widgets/base",
            "_view_module_version": "1.2.0",
            "_view_name": "StyleView",
            "description_width": ""
          }
        },
        "35d59f7f665842d280b55321e4aebcc5": {
          "model_module": "@jupyter-widgets/controls",
          "model_name": "HBoxModel",
          "model_module_version": "1.5.0",
          "state": {
            "_dom_classes": [],
            "_model_module": "@jupyter-widgets/controls",
            "_model_module_version": "1.5.0",
            "_model_name": "HBoxModel",
            "_view_count": null,
            "_view_module": "@jupyter-widgets/controls",
            "_view_module_version": "1.5.0",
            "_view_name": "HBoxView",
            "box_style": "",
            "children": [
              "IPY_MODEL_9a6102c01df741468f3b297a6060cbf4",
              "IPY_MODEL_b13c7f573730464ab6188e71f0e7cccc",
              "IPY_MODEL_90a0e51c2539457c85cca964d5e10b5b"
            ],
            "layout": "IPY_MODEL_71bcdfe0c606416791c22f2f7aacbcf0"
          }
        },
        "9a6102c01df741468f3b297a6060cbf4": {
          "model_module": "@jupyter-widgets/controls",
          "model_name": "HTMLModel",
          "model_module_version": "1.5.0",
          "state": {
            "_dom_classes": [],
            "_model_module": "@jupyter-widgets/controls",
            "_model_module_version": "1.5.0",
            "_model_name": "HTMLModel",
            "_view_count": null,
            "_view_module": "@jupyter-widgets/controls",
            "_view_module_version": "1.5.0",
            "_view_name": "HTMLView",
            "description": "",
            "description_tooltip": null,
            "layout": "IPY_MODEL_ff9909a6fd9c47bda9cfcf698086abaa",
            "placeholder": "​",
            "style": "IPY_MODEL_3742a725591a4dddbf1177aa4271f787",
            "value": "100%"
          }
        },
        "b13c7f573730464ab6188e71f0e7cccc": {
          "model_module": "@jupyter-widgets/controls",
          "model_name": "FloatProgressModel",
          "model_module_version": "1.5.0",
          "state": {
            "_dom_classes": [],
            "_model_module": "@jupyter-widgets/controls",
            "_model_module_version": "1.5.0",
            "_model_name": "FloatProgressModel",
            "_view_count": null,
            "_view_module": "@jupyter-widgets/controls",
            "_view_module_version": "1.5.0",
            "_view_name": "ProgressView",
            "bar_style": "success",
            "description": "",
            "description_tooltip": null,
            "layout": "IPY_MODEL_cde81d5b38a14b7798686c78b7c7f4f8",
            "max": 200,
            "min": 0,
            "orientation": "horizontal",
            "style": "IPY_MODEL_ea4db1bfb0b945cebe444d2a187d22ce",
            "value": 200
          }
        },
        "90a0e51c2539457c85cca964d5e10b5b": {
          "model_module": "@jupyter-widgets/controls",
          "model_name": "HTMLModel",
          "model_module_version": "1.5.0",
          "state": {
            "_dom_classes": [],
            "_model_module": "@jupyter-widgets/controls",
            "_model_module_version": "1.5.0",
            "_model_name": "HTMLModel",
            "_view_count": null,
            "_view_module": "@jupyter-widgets/controls",
            "_view_module_version": "1.5.0",
            "_view_name": "HTMLView",
            "description": "",
            "description_tooltip": null,
            "layout": "IPY_MODEL_849bdae311144b04b2d9858600d26f68",
            "placeholder": "​",
            "style": "IPY_MODEL_681915c8a2754b748c0809dec6c2211e",
            "value": " 200/200 [00:17&lt;00:00, 10.28it/s]"
          }
        },
        "71bcdfe0c606416791c22f2f7aacbcf0": {
          "model_module": "@jupyter-widgets/base",
          "model_name": "LayoutModel",
          "model_module_version": "1.2.0",
          "state": {
            "_model_module": "@jupyter-widgets/base",
            "_model_module_version": "1.2.0",
            "_model_name": "LayoutModel",
            "_view_count": null,
            "_view_module": "@jupyter-widgets/base",
            "_view_module_version": "1.2.0",
            "_view_name": "LayoutView",
            "align_content": null,
            "align_items": null,
            "align_self": null,
            "border": null,
            "bottom": null,
            "display": null,
            "flex": null,
            "flex_flow": null,
            "grid_area": null,
            "grid_auto_columns": null,
            "grid_auto_flow": null,
            "grid_auto_rows": null,
            "grid_column": null,
            "grid_gap": null,
            "grid_row": null,
            "grid_template_areas": null,
            "grid_template_columns": null,
            "grid_template_rows": null,
            "height": null,
            "justify_content": null,
            "justify_items": null,
            "left": null,
            "margin": null,
            "max_height": null,
            "max_width": null,
            "min_height": null,
            "min_width": null,
            "object_fit": null,
            "object_position": null,
            "order": null,
            "overflow": null,
            "overflow_x": null,
            "overflow_y": null,
            "padding": null,
            "right": null,
            "top": null,
            "visibility": null,
            "width": null
          }
        },
        "ff9909a6fd9c47bda9cfcf698086abaa": {
          "model_module": "@jupyter-widgets/base",
          "model_name": "LayoutModel",
          "model_module_version": "1.2.0",
          "state": {
            "_model_module": "@jupyter-widgets/base",
            "_model_module_version": "1.2.0",
            "_model_name": "LayoutModel",
            "_view_count": null,
            "_view_module": "@jupyter-widgets/base",
            "_view_module_version": "1.2.0",
            "_view_name": "LayoutView",
            "align_content": null,
            "align_items": null,
            "align_self": null,
            "border": null,
            "bottom": null,
            "display": null,
            "flex": null,
            "flex_flow": null,
            "grid_area": null,
            "grid_auto_columns": null,
            "grid_auto_flow": null,
            "grid_auto_rows": null,
            "grid_column": null,
            "grid_gap": null,
            "grid_row": null,
            "grid_template_areas": null,
            "grid_template_columns": null,
            "grid_template_rows": null,
            "height": null,
            "justify_content": null,
            "justify_items": null,
            "left": null,
            "margin": null,
            "max_height": null,
            "max_width": null,
            "min_height": null,
            "min_width": null,
            "object_fit": null,
            "object_position": null,
            "order": null,
            "overflow": null,
            "overflow_x": null,
            "overflow_y": null,
            "padding": null,
            "right": null,
            "top": null,
            "visibility": null,
            "width": null
          }
        },
        "3742a725591a4dddbf1177aa4271f787": {
          "model_module": "@jupyter-widgets/controls",
          "model_name": "DescriptionStyleModel",
          "model_module_version": "1.5.0",
          "state": {
            "_model_module": "@jupyter-widgets/controls",
            "_model_module_version": "1.5.0",
            "_model_name": "DescriptionStyleModel",
            "_view_count": null,
            "_view_module": "@jupyter-widgets/base",
            "_view_module_version": "1.2.0",
            "_view_name": "StyleView",
            "description_width": ""
          }
        },
        "cde81d5b38a14b7798686c78b7c7f4f8": {
          "model_module": "@jupyter-widgets/base",
          "model_name": "LayoutModel",
          "model_module_version": "1.2.0",
          "state": {
            "_model_module": "@jupyter-widgets/base",
            "_model_module_version": "1.2.0",
            "_model_name": "LayoutModel",
            "_view_count": null,
            "_view_module": "@jupyter-widgets/base",
            "_view_module_version": "1.2.0",
            "_view_name": "LayoutView",
            "align_content": null,
            "align_items": null,
            "align_self": null,
            "border": null,
            "bottom": null,
            "display": null,
            "flex": null,
            "flex_flow": null,
            "grid_area": null,
            "grid_auto_columns": null,
            "grid_auto_flow": null,
            "grid_auto_rows": null,
            "grid_column": null,
            "grid_gap": null,
            "grid_row": null,
            "grid_template_areas": null,
            "grid_template_columns": null,
            "grid_template_rows": null,
            "height": null,
            "justify_content": null,
            "justify_items": null,
            "left": null,
            "margin": null,
            "max_height": null,
            "max_width": null,
            "min_height": null,
            "min_width": null,
            "object_fit": null,
            "object_position": null,
            "order": null,
            "overflow": null,
            "overflow_x": null,
            "overflow_y": null,
            "padding": null,
            "right": null,
            "top": null,
            "visibility": null,
            "width": null
          }
        },
        "ea4db1bfb0b945cebe444d2a187d22ce": {
          "model_module": "@jupyter-widgets/controls",
          "model_name": "ProgressStyleModel",
          "model_module_version": "1.5.0",
          "state": {
            "_model_module": "@jupyter-widgets/controls",
            "_model_module_version": "1.5.0",
            "_model_name": "ProgressStyleModel",
            "_view_count": null,
            "_view_module": "@jupyter-widgets/base",
            "_view_module_version": "1.2.0",
            "_view_name": "StyleView",
            "bar_color": null,
            "description_width": ""
          }
        },
        "849bdae311144b04b2d9858600d26f68": {
          "model_module": "@jupyter-widgets/base",
          "model_name": "LayoutModel",
          "model_module_version": "1.2.0",
          "state": {
            "_model_module": "@jupyter-widgets/base",
            "_model_module_version": "1.2.0",
            "_model_name": "LayoutModel",
            "_view_count": null,
            "_view_module": "@jupyter-widgets/base",
            "_view_module_version": "1.2.0",
            "_view_name": "LayoutView",
            "align_content": null,
            "align_items": null,
            "align_self": null,
            "border": null,
            "bottom": null,
            "display": null,
            "flex": null,
            "flex_flow": null,
            "grid_area": null,
            "grid_auto_columns": null,
            "grid_auto_flow": null,
            "grid_auto_rows": null,
            "grid_column": null,
            "grid_gap": null,
            "grid_row": null,
            "grid_template_areas": null,
            "grid_template_columns": null,
            "grid_template_rows": null,
            "height": null,
            "justify_content": null,
            "justify_items": null,
            "left": null,
            "margin": null,
            "max_height": null,
            "max_width": null,
            "min_height": null,
            "min_width": null,
            "object_fit": null,
            "object_position": null,
            "order": null,
            "overflow": null,
            "overflow_x": null,
            "overflow_y": null,
            "padding": null,
            "right": null,
            "top": null,
            "visibility": null,
            "width": null
          }
        },
        "681915c8a2754b748c0809dec6c2211e": {
          "model_module": "@jupyter-widgets/controls",
          "model_name": "DescriptionStyleModel",
          "model_module_version": "1.5.0",
          "state": {
            "_model_module": "@jupyter-widgets/controls",
            "_model_module_version": "1.5.0",
            "_model_name": "DescriptionStyleModel",
            "_view_count": null,
            "_view_module": "@jupyter-widgets/base",
            "_view_module_version": "1.2.0",
            "_view_name": "StyleView",
            "description_width": ""
          }
        },
        "fc2f3c00a39f4fbb8fd82d47ba25e9d2": {
          "model_module": "@jupyter-widgets/controls",
          "model_name": "HBoxModel",
          "model_module_version": "1.5.0",
          "state": {
            "_dom_classes": [],
            "_model_module": "@jupyter-widgets/controls",
            "_model_module_version": "1.5.0",
            "_model_name": "HBoxModel",
            "_view_count": null,
            "_view_module": "@jupyter-widgets/controls",
            "_view_module_version": "1.5.0",
            "_view_name": "HBoxView",
            "box_style": "",
            "children": [
              "IPY_MODEL_d6d97ed1dc334832a6bf7090a52f9337",
              "IPY_MODEL_88c1cdd7a7e44d069109fcbcebc91412",
              "IPY_MODEL_bd8604faf4c84824905852243303d4e0"
            ],
            "layout": "IPY_MODEL_f8ce02d02a4d422b937788db9018f6a6"
          }
        },
        "d6d97ed1dc334832a6bf7090a52f9337": {
          "model_module": "@jupyter-widgets/controls",
          "model_name": "HTMLModel",
          "model_module_version": "1.5.0",
          "state": {
            "_dom_classes": [],
            "_model_module": "@jupyter-widgets/controls",
            "_model_module_version": "1.5.0",
            "_model_name": "HTMLModel",
            "_view_count": null,
            "_view_module": "@jupyter-widgets/controls",
            "_view_module_version": "1.5.0",
            "_view_name": "HTMLView",
            "description": "",
            "description_tooltip": null,
            "layout": "IPY_MODEL_fc63d2c600344e0a8e8191a1ca8ff56f",
            "placeholder": "​",
            "style": "IPY_MODEL_84afb6cbcac84f40976e564686cac38e",
            "value": "100%"
          }
        },
        "88c1cdd7a7e44d069109fcbcebc91412": {
          "model_module": "@jupyter-widgets/controls",
          "model_name": "FloatProgressModel",
          "model_module_version": "1.5.0",
          "state": {
            "_dom_classes": [],
            "_model_module": "@jupyter-widgets/controls",
            "_model_module_version": "1.5.0",
            "_model_name": "FloatProgressModel",
            "_view_count": null,
            "_view_module": "@jupyter-widgets/controls",
            "_view_module_version": "1.5.0",
            "_view_name": "ProgressView",
            "bar_style": "success",
            "description": "",
            "description_tooltip": null,
            "layout": "IPY_MODEL_3763df26cde042379e92d0f0aadbe185",
            "max": 200,
            "min": 0,
            "orientation": "horizontal",
            "style": "IPY_MODEL_a4b1e2a8fa5a4075b94b873fd5ff0c9c",
            "value": 200
          }
        },
        "bd8604faf4c84824905852243303d4e0": {
          "model_module": "@jupyter-widgets/controls",
          "model_name": "HTMLModel",
          "model_module_version": "1.5.0",
          "state": {
            "_dom_classes": [],
            "_model_module": "@jupyter-widgets/controls",
            "_model_module_version": "1.5.0",
            "_model_name": "HTMLModel",
            "_view_count": null,
            "_view_module": "@jupyter-widgets/controls",
            "_view_module_version": "1.5.0",
            "_view_name": "HTMLView",
            "description": "",
            "description_tooltip": null,
            "layout": "IPY_MODEL_f56b374d1b99485ea51bb5222c9375c8",
            "placeholder": "​",
            "style": "IPY_MODEL_407edfbf2e6f429494fae825f2d59c3a",
            "value": " 200/200 [00:17&lt;00:00, 11.61it/s]"
          }
        },
        "f8ce02d02a4d422b937788db9018f6a6": {
          "model_module": "@jupyter-widgets/base",
          "model_name": "LayoutModel",
          "model_module_version": "1.2.0",
          "state": {
            "_model_module": "@jupyter-widgets/base",
            "_model_module_version": "1.2.0",
            "_model_name": "LayoutModel",
            "_view_count": null,
            "_view_module": "@jupyter-widgets/base",
            "_view_module_version": "1.2.0",
            "_view_name": "LayoutView",
            "align_content": null,
            "align_items": null,
            "align_self": null,
            "border": null,
            "bottom": null,
            "display": null,
            "flex": null,
            "flex_flow": null,
            "grid_area": null,
            "grid_auto_columns": null,
            "grid_auto_flow": null,
            "grid_auto_rows": null,
            "grid_column": null,
            "grid_gap": null,
            "grid_row": null,
            "grid_template_areas": null,
            "grid_template_columns": null,
            "grid_template_rows": null,
            "height": null,
            "justify_content": null,
            "justify_items": null,
            "left": null,
            "margin": null,
            "max_height": null,
            "max_width": null,
            "min_height": null,
            "min_width": null,
            "object_fit": null,
            "object_position": null,
            "order": null,
            "overflow": null,
            "overflow_x": null,
            "overflow_y": null,
            "padding": null,
            "right": null,
            "top": null,
            "visibility": null,
            "width": null
          }
        },
        "fc63d2c600344e0a8e8191a1ca8ff56f": {
          "model_module": "@jupyter-widgets/base",
          "model_name": "LayoutModel",
          "model_module_version": "1.2.0",
          "state": {
            "_model_module": "@jupyter-widgets/base",
            "_model_module_version": "1.2.0",
            "_model_name": "LayoutModel",
            "_view_count": null,
            "_view_module": "@jupyter-widgets/base",
            "_view_module_version": "1.2.0",
            "_view_name": "LayoutView",
            "align_content": null,
            "align_items": null,
            "align_self": null,
            "border": null,
            "bottom": null,
            "display": null,
            "flex": null,
            "flex_flow": null,
            "grid_area": null,
            "grid_auto_columns": null,
            "grid_auto_flow": null,
            "grid_auto_rows": null,
            "grid_column": null,
            "grid_gap": null,
            "grid_row": null,
            "grid_template_areas": null,
            "grid_template_columns": null,
            "grid_template_rows": null,
            "height": null,
            "justify_content": null,
            "justify_items": null,
            "left": null,
            "margin": null,
            "max_height": null,
            "max_width": null,
            "min_height": null,
            "min_width": null,
            "object_fit": null,
            "object_position": null,
            "order": null,
            "overflow": null,
            "overflow_x": null,
            "overflow_y": null,
            "padding": null,
            "right": null,
            "top": null,
            "visibility": null,
            "width": null
          }
        },
        "84afb6cbcac84f40976e564686cac38e": {
          "model_module": "@jupyter-widgets/controls",
          "model_name": "DescriptionStyleModel",
          "model_module_version": "1.5.0",
          "state": {
            "_model_module": "@jupyter-widgets/controls",
            "_model_module_version": "1.5.0",
            "_model_name": "DescriptionStyleModel",
            "_view_count": null,
            "_view_module": "@jupyter-widgets/base",
            "_view_module_version": "1.2.0",
            "_view_name": "StyleView",
            "description_width": ""
          }
        },
        "3763df26cde042379e92d0f0aadbe185": {
          "model_module": "@jupyter-widgets/base",
          "model_name": "LayoutModel",
          "model_module_version": "1.2.0",
          "state": {
            "_model_module": "@jupyter-widgets/base",
            "_model_module_version": "1.2.0",
            "_model_name": "LayoutModel",
            "_view_count": null,
            "_view_module": "@jupyter-widgets/base",
            "_view_module_version": "1.2.0",
            "_view_name": "LayoutView",
            "align_content": null,
            "align_items": null,
            "align_self": null,
            "border": null,
            "bottom": null,
            "display": null,
            "flex": null,
            "flex_flow": null,
            "grid_area": null,
            "grid_auto_columns": null,
            "grid_auto_flow": null,
            "grid_auto_rows": null,
            "grid_column": null,
            "grid_gap": null,
            "grid_row": null,
            "grid_template_areas": null,
            "grid_template_columns": null,
            "grid_template_rows": null,
            "height": null,
            "justify_content": null,
            "justify_items": null,
            "left": null,
            "margin": null,
            "max_height": null,
            "max_width": null,
            "min_height": null,
            "min_width": null,
            "object_fit": null,
            "object_position": null,
            "order": null,
            "overflow": null,
            "overflow_x": null,
            "overflow_y": null,
            "padding": null,
            "right": null,
            "top": null,
            "visibility": null,
            "width": null
          }
        },
        "a4b1e2a8fa5a4075b94b873fd5ff0c9c": {
          "model_module": "@jupyter-widgets/controls",
          "model_name": "ProgressStyleModel",
          "model_module_version": "1.5.0",
          "state": {
            "_model_module": "@jupyter-widgets/controls",
            "_model_module_version": "1.5.0",
            "_model_name": "ProgressStyleModel",
            "_view_count": null,
            "_view_module": "@jupyter-widgets/base",
            "_view_module_version": "1.2.0",
            "_view_name": "StyleView",
            "bar_color": null,
            "description_width": ""
          }
        },
        "f56b374d1b99485ea51bb5222c9375c8": {
          "model_module": "@jupyter-widgets/base",
          "model_name": "LayoutModel",
          "model_module_version": "1.2.0",
          "state": {
            "_model_module": "@jupyter-widgets/base",
            "_model_module_version": "1.2.0",
            "_model_name": "LayoutModel",
            "_view_count": null,
            "_view_module": "@jupyter-widgets/base",
            "_view_module_version": "1.2.0",
            "_view_name": "LayoutView",
            "align_content": null,
            "align_items": null,
            "align_self": null,
            "border": null,
            "bottom": null,
            "display": null,
            "flex": null,
            "flex_flow": null,
            "grid_area": null,
            "grid_auto_columns": null,
            "grid_auto_flow": null,
            "grid_auto_rows": null,
            "grid_column": null,
            "grid_gap": null,
            "grid_row": null,
            "grid_template_areas": null,
            "grid_template_columns": null,
            "grid_template_rows": null,
            "height": null,
            "justify_content": null,
            "justify_items": null,
            "left": null,
            "margin": null,
            "max_height": null,
            "max_width": null,
            "min_height": null,
            "min_width": null,
            "object_fit": null,
            "object_position": null,
            "order": null,
            "overflow": null,
            "overflow_x": null,
            "overflow_y": null,
            "padding": null,
            "right": null,
            "top": null,
            "visibility": null,
            "width": null
          }
        },
        "407edfbf2e6f429494fae825f2d59c3a": {
          "model_module": "@jupyter-widgets/controls",
          "model_name": "DescriptionStyleModel",
          "model_module_version": "1.5.0",
          "state": {
            "_model_module": "@jupyter-widgets/controls",
            "_model_module_version": "1.5.0",
            "_model_name": "DescriptionStyleModel",
            "_view_count": null,
            "_view_module": "@jupyter-widgets/base",
            "_view_module_version": "1.2.0",
            "_view_name": "StyleView",
            "description_width": ""
          }
        },
        "63be95ec357c451f8e4668e53464dcc7": {
          "model_module": "@jupyter-widgets/controls",
          "model_name": "HBoxModel",
          "model_module_version": "1.5.0",
          "state": {
            "_dom_classes": [],
            "_model_module": "@jupyter-widgets/controls",
            "_model_module_version": "1.5.0",
            "_model_name": "HBoxModel",
            "_view_count": null,
            "_view_module": "@jupyter-widgets/controls",
            "_view_module_version": "1.5.0",
            "_view_name": "HBoxView",
            "box_style": "",
            "children": [
              "IPY_MODEL_b1af4e98dc7640918de27a75d7a33a89",
              "IPY_MODEL_fcc2adc6d46c4f6abafc1b3c330eb57e",
              "IPY_MODEL_bc903e35ab6946a6a4458ee5d8467b26"
            ],
            "layout": "IPY_MODEL_4834a55636ad484dbecb8df5bba42efb"
          }
        },
        "b1af4e98dc7640918de27a75d7a33a89": {
          "model_module": "@jupyter-widgets/controls",
          "model_name": "HTMLModel",
          "model_module_version": "1.5.0",
          "state": {
            "_dom_classes": [],
            "_model_module": "@jupyter-widgets/controls",
            "_model_module_version": "1.5.0",
            "_model_name": "HTMLModel",
            "_view_count": null,
            "_view_module": "@jupyter-widgets/controls",
            "_view_module_version": "1.5.0",
            "_view_name": "HTMLView",
            "description": "",
            "description_tooltip": null,
            "layout": "IPY_MODEL_a78cfd173937473ca687859e35a484c4",
            "placeholder": "​",
            "style": "IPY_MODEL_b993dff6ee5d4a7ba4b7e98d318898c0",
            "value": "100%"
          }
        },
        "fcc2adc6d46c4f6abafc1b3c330eb57e": {
          "model_module": "@jupyter-widgets/controls",
          "model_name": "FloatProgressModel",
          "model_module_version": "1.5.0",
          "state": {
            "_dom_classes": [],
            "_model_module": "@jupyter-widgets/controls",
            "_model_module_version": "1.5.0",
            "_model_name": "FloatProgressModel",
            "_view_count": null,
            "_view_module": "@jupyter-widgets/controls",
            "_view_module_version": "1.5.0",
            "_view_name": "ProgressView",
            "bar_style": "success",
            "description": "",
            "description_tooltip": null,
            "layout": "IPY_MODEL_7e82a48b895240858272514b58cee55b",
            "max": 200,
            "min": 0,
            "orientation": "horizontal",
            "style": "IPY_MODEL_a24aa769477b4194abc0586c27848bdb",
            "value": 200
          }
        },
        "bc903e35ab6946a6a4458ee5d8467b26": {
          "model_module": "@jupyter-widgets/controls",
          "model_name": "HTMLModel",
          "model_module_version": "1.5.0",
          "state": {
            "_dom_classes": [],
            "_model_module": "@jupyter-widgets/controls",
            "_model_module_version": "1.5.0",
            "_model_name": "HTMLModel",
            "_view_count": null,
            "_view_module": "@jupyter-widgets/controls",
            "_view_module_version": "1.5.0",
            "_view_name": "HTMLView",
            "description": "",
            "description_tooltip": null,
            "layout": "IPY_MODEL_0add6dfa14c44b4883fd8c3a707eb6d2",
            "placeholder": "​",
            "style": "IPY_MODEL_8bda270472934adeb124bd70ff75ba50",
            "value": " 200/200 [00:17&lt;00:00, 11.88it/s]"
          }
        },
        "4834a55636ad484dbecb8df5bba42efb": {
          "model_module": "@jupyter-widgets/base",
          "model_name": "LayoutModel",
          "model_module_version": "1.2.0",
          "state": {
            "_model_module": "@jupyter-widgets/base",
            "_model_module_version": "1.2.0",
            "_model_name": "LayoutModel",
            "_view_count": null,
            "_view_module": "@jupyter-widgets/base",
            "_view_module_version": "1.2.0",
            "_view_name": "LayoutView",
            "align_content": null,
            "align_items": null,
            "align_self": null,
            "border": null,
            "bottom": null,
            "display": null,
            "flex": null,
            "flex_flow": null,
            "grid_area": null,
            "grid_auto_columns": null,
            "grid_auto_flow": null,
            "grid_auto_rows": null,
            "grid_column": null,
            "grid_gap": null,
            "grid_row": null,
            "grid_template_areas": null,
            "grid_template_columns": null,
            "grid_template_rows": null,
            "height": null,
            "justify_content": null,
            "justify_items": null,
            "left": null,
            "margin": null,
            "max_height": null,
            "max_width": null,
            "min_height": null,
            "min_width": null,
            "object_fit": null,
            "object_position": null,
            "order": null,
            "overflow": null,
            "overflow_x": null,
            "overflow_y": null,
            "padding": null,
            "right": null,
            "top": null,
            "visibility": null,
            "width": null
          }
        },
        "a78cfd173937473ca687859e35a484c4": {
          "model_module": "@jupyter-widgets/base",
          "model_name": "LayoutModel",
          "model_module_version": "1.2.0",
          "state": {
            "_model_module": "@jupyter-widgets/base",
            "_model_module_version": "1.2.0",
            "_model_name": "LayoutModel",
            "_view_count": null,
            "_view_module": "@jupyter-widgets/base",
            "_view_module_version": "1.2.0",
            "_view_name": "LayoutView",
            "align_content": null,
            "align_items": null,
            "align_self": null,
            "border": null,
            "bottom": null,
            "display": null,
            "flex": null,
            "flex_flow": null,
            "grid_area": null,
            "grid_auto_columns": null,
            "grid_auto_flow": null,
            "grid_auto_rows": null,
            "grid_column": null,
            "grid_gap": null,
            "grid_row": null,
            "grid_template_areas": null,
            "grid_template_columns": null,
            "grid_template_rows": null,
            "height": null,
            "justify_content": null,
            "justify_items": null,
            "left": null,
            "margin": null,
            "max_height": null,
            "max_width": null,
            "min_height": null,
            "min_width": null,
            "object_fit": null,
            "object_position": null,
            "order": null,
            "overflow": null,
            "overflow_x": null,
            "overflow_y": null,
            "padding": null,
            "right": null,
            "top": null,
            "visibility": null,
            "width": null
          }
        },
        "b993dff6ee5d4a7ba4b7e98d318898c0": {
          "model_module": "@jupyter-widgets/controls",
          "model_name": "DescriptionStyleModel",
          "model_module_version": "1.5.0",
          "state": {
            "_model_module": "@jupyter-widgets/controls",
            "_model_module_version": "1.5.0",
            "_model_name": "DescriptionStyleModel",
            "_view_count": null,
            "_view_module": "@jupyter-widgets/base",
            "_view_module_version": "1.2.0",
            "_view_name": "StyleView",
            "description_width": ""
          }
        },
        "7e82a48b895240858272514b58cee55b": {
          "model_module": "@jupyter-widgets/base",
          "model_name": "LayoutModel",
          "model_module_version": "1.2.0",
          "state": {
            "_model_module": "@jupyter-widgets/base",
            "_model_module_version": "1.2.0",
            "_model_name": "LayoutModel",
            "_view_count": null,
            "_view_module": "@jupyter-widgets/base",
            "_view_module_version": "1.2.0",
            "_view_name": "LayoutView",
            "align_content": null,
            "align_items": null,
            "align_self": null,
            "border": null,
            "bottom": null,
            "display": null,
            "flex": null,
            "flex_flow": null,
            "grid_area": null,
            "grid_auto_columns": null,
            "grid_auto_flow": null,
            "grid_auto_rows": null,
            "grid_column": null,
            "grid_gap": null,
            "grid_row": null,
            "grid_template_areas": null,
            "grid_template_columns": null,
            "grid_template_rows": null,
            "height": null,
            "justify_content": null,
            "justify_items": null,
            "left": null,
            "margin": null,
            "max_height": null,
            "max_width": null,
            "min_height": null,
            "min_width": null,
            "object_fit": null,
            "object_position": null,
            "order": null,
            "overflow": null,
            "overflow_x": null,
            "overflow_y": null,
            "padding": null,
            "right": null,
            "top": null,
            "visibility": null,
            "width": null
          }
        },
        "a24aa769477b4194abc0586c27848bdb": {
          "model_module": "@jupyter-widgets/controls",
          "model_name": "ProgressStyleModel",
          "model_module_version": "1.5.0",
          "state": {
            "_model_module": "@jupyter-widgets/controls",
            "_model_module_version": "1.5.0",
            "_model_name": "ProgressStyleModel",
            "_view_count": null,
            "_view_module": "@jupyter-widgets/base",
            "_view_module_version": "1.2.0",
            "_view_name": "StyleView",
            "bar_color": null,
            "description_width": ""
          }
        },
        "0add6dfa14c44b4883fd8c3a707eb6d2": {
          "model_module": "@jupyter-widgets/base",
          "model_name": "LayoutModel",
          "model_module_version": "1.2.0",
          "state": {
            "_model_module": "@jupyter-widgets/base",
            "_model_module_version": "1.2.0",
            "_model_name": "LayoutModel",
            "_view_count": null,
            "_view_module": "@jupyter-widgets/base",
            "_view_module_version": "1.2.0",
            "_view_name": "LayoutView",
            "align_content": null,
            "align_items": null,
            "align_self": null,
            "border": null,
            "bottom": null,
            "display": null,
            "flex": null,
            "flex_flow": null,
            "grid_area": null,
            "grid_auto_columns": null,
            "grid_auto_flow": null,
            "grid_auto_rows": null,
            "grid_column": null,
            "grid_gap": null,
            "grid_row": null,
            "grid_template_areas": null,
            "grid_template_columns": null,
            "grid_template_rows": null,
            "height": null,
            "justify_content": null,
            "justify_items": null,
            "left": null,
            "margin": null,
            "max_height": null,
            "max_width": null,
            "min_height": null,
            "min_width": null,
            "object_fit": null,
            "object_position": null,
            "order": null,
            "overflow": null,
            "overflow_x": null,
            "overflow_y": null,
            "padding": null,
            "right": null,
            "top": null,
            "visibility": null,
            "width": null
          }
        },
        "8bda270472934adeb124bd70ff75ba50": {
          "model_module": "@jupyter-widgets/controls",
          "model_name": "DescriptionStyleModel",
          "model_module_version": "1.5.0",
          "state": {
            "_model_module": "@jupyter-widgets/controls",
            "_model_module_version": "1.5.0",
            "_model_name": "DescriptionStyleModel",
            "_view_count": null,
            "_view_module": "@jupyter-widgets/base",
            "_view_module_version": "1.2.0",
            "_view_name": "StyleView",
            "description_width": ""
          }
        }
      }
    },
    "accelerator": "GPU"
  },
  "nbformat": 4,
  "nbformat_minor": 0
}